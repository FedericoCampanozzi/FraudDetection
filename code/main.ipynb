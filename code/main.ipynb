{
 "cells": [
  {
   "cell_type": "markdown",
   "id": "36fef92c",
   "metadata": {},
   "source": [
    "# Federico Campanozzi - Progetto Data Intensive con Relazione\n",
    "                                                                                                             a.a. 2021/2022"
   ]
  },
  {
   "cell_type": "markdown",
   "id": "1b2f832f",
   "metadata": {},
   "source": [
    "## 1 - Descrizione del problema"
   ]
  },
  {
   "cell_type": "markdown",
   "id": "e1da3f3e",
   "metadata": {},
   "source": [
    "## 2- Analisi esplorativa"
   ]
  },
  {
   "cell_type": "code",
   "execution_count": 1,
   "id": "ca9a2c03",
   "metadata": {},
   "outputs": [],
   "source": [
    "import numpy as np\n",
    "import pandas as pd\n",
    "import matplotlib.pyplot as plt\n",
    "%matplotlib inline"
   ]
  },
  {
   "cell_type": "code",
   "execution_count": 2,
   "id": "0059e4b7",
   "metadata": {},
   "outputs": [
    {
     "data": {
      "text/html": [
       "<div>\n",
       "<style scoped>\n",
       "    .dataframe tbody tr th:only-of-type {\n",
       "        vertical-align: middle;\n",
       "    }\n",
       "\n",
       "    .dataframe tbody tr th {\n",
       "        vertical-align: top;\n",
       "    }\n",
       "\n",
       "    .dataframe thead th {\n",
       "        text-align: right;\n",
       "    }\n",
       "</style>\n",
       "<table border=\"1\" class=\"dataframe\">\n",
       "  <thead>\n",
       "    <tr style=\"text-align: right;\">\n",
       "      <th></th>\n",
       "      <th>step</th>\n",
       "      <th>type</th>\n",
       "      <th>amount</th>\n",
       "      <th>nameOrig</th>\n",
       "      <th>oldbalanceOrg</th>\n",
       "      <th>newbalanceOrig</th>\n",
       "      <th>nameDest</th>\n",
       "      <th>oldbalanceDest</th>\n",
       "      <th>newbalanceDest</th>\n",
       "      <th>isFraud</th>\n",
       "      <th>isFlaggedFraud</th>\n",
       "    </tr>\n",
       "  </thead>\n",
       "  <tbody>\n",
       "    <tr>\n",
       "      <th>0</th>\n",
       "      <td>1</td>\n",
       "      <td>PAYMENT</td>\n",
       "      <td>9839.64</td>\n",
       "      <td>C1231006815</td>\n",
       "      <td>170136.00</td>\n",
       "      <td>160296.36</td>\n",
       "      <td>M1979787155</td>\n",
       "      <td>0.0</td>\n",
       "      <td>0.00</td>\n",
       "      <td>0</td>\n",
       "      <td>0</td>\n",
       "    </tr>\n",
       "    <tr>\n",
       "      <th>1</th>\n",
       "      <td>1</td>\n",
       "      <td>PAYMENT</td>\n",
       "      <td>1864.28</td>\n",
       "      <td>C1666544295</td>\n",
       "      <td>21249.00</td>\n",
       "      <td>19384.72</td>\n",
       "      <td>M2044282225</td>\n",
       "      <td>0.0</td>\n",
       "      <td>0.00</td>\n",
       "      <td>0</td>\n",
       "      <td>0</td>\n",
       "    </tr>\n",
       "    <tr>\n",
       "      <th>2</th>\n",
       "      <td>1</td>\n",
       "      <td>TRANSFER</td>\n",
       "      <td>181.00</td>\n",
       "      <td>C1305486145</td>\n",
       "      <td>181.00</td>\n",
       "      <td>0.00</td>\n",
       "      <td>C553264065</td>\n",
       "      <td>0.0</td>\n",
       "      <td>0.00</td>\n",
       "      <td>1</td>\n",
       "      <td>0</td>\n",
       "    </tr>\n",
       "    <tr>\n",
       "      <th>3</th>\n",
       "      <td>1</td>\n",
       "      <td>CASH_OUT</td>\n",
       "      <td>181.00</td>\n",
       "      <td>C840083671</td>\n",
       "      <td>181.00</td>\n",
       "      <td>0.00</td>\n",
       "      <td>C38997010</td>\n",
       "      <td>21182.0</td>\n",
       "      <td>0.00</td>\n",
       "      <td>1</td>\n",
       "      <td>0</td>\n",
       "    </tr>\n",
       "    <tr>\n",
       "      <th>4</th>\n",
       "      <td>1</td>\n",
       "      <td>PAYMENT</td>\n",
       "      <td>11668.14</td>\n",
       "      <td>C2048537720</td>\n",
       "      <td>41554.00</td>\n",
       "      <td>29885.86</td>\n",
       "      <td>M1230701703</td>\n",
       "      <td>0.0</td>\n",
       "      <td>0.00</td>\n",
       "      <td>0</td>\n",
       "      <td>0</td>\n",
       "    </tr>\n",
       "    <tr>\n",
       "      <th>5</th>\n",
       "      <td>1</td>\n",
       "      <td>PAYMENT</td>\n",
       "      <td>7817.71</td>\n",
       "      <td>C90045638</td>\n",
       "      <td>53860.00</td>\n",
       "      <td>46042.29</td>\n",
       "      <td>M573487274</td>\n",
       "      <td>0.0</td>\n",
       "      <td>0.00</td>\n",
       "      <td>0</td>\n",
       "      <td>0</td>\n",
       "    </tr>\n",
       "    <tr>\n",
       "      <th>6</th>\n",
       "      <td>1</td>\n",
       "      <td>PAYMENT</td>\n",
       "      <td>7107.77</td>\n",
       "      <td>C154988899</td>\n",
       "      <td>183195.00</td>\n",
       "      <td>176087.23</td>\n",
       "      <td>M408069119</td>\n",
       "      <td>0.0</td>\n",
       "      <td>0.00</td>\n",
       "      <td>0</td>\n",
       "      <td>0</td>\n",
       "    </tr>\n",
       "    <tr>\n",
       "      <th>7</th>\n",
       "      <td>1</td>\n",
       "      <td>PAYMENT</td>\n",
       "      <td>7861.64</td>\n",
       "      <td>C1912850431</td>\n",
       "      <td>176087.23</td>\n",
       "      <td>168225.59</td>\n",
       "      <td>M633326333</td>\n",
       "      <td>0.0</td>\n",
       "      <td>0.00</td>\n",
       "      <td>0</td>\n",
       "      <td>0</td>\n",
       "    </tr>\n",
       "    <tr>\n",
       "      <th>8</th>\n",
       "      <td>1</td>\n",
       "      <td>PAYMENT</td>\n",
       "      <td>4024.36</td>\n",
       "      <td>C1265012928</td>\n",
       "      <td>2671.00</td>\n",
       "      <td>0.00</td>\n",
       "      <td>M1176932104</td>\n",
       "      <td>0.0</td>\n",
       "      <td>0.00</td>\n",
       "      <td>0</td>\n",
       "      <td>0</td>\n",
       "    </tr>\n",
       "    <tr>\n",
       "      <th>9</th>\n",
       "      <td>1</td>\n",
       "      <td>DEBIT</td>\n",
       "      <td>5337.77</td>\n",
       "      <td>C712410124</td>\n",
       "      <td>41720.00</td>\n",
       "      <td>36382.23</td>\n",
       "      <td>C195600860</td>\n",
       "      <td>41898.0</td>\n",
       "      <td>40348.79</td>\n",
       "      <td>0</td>\n",
       "      <td>0</td>\n",
       "    </tr>\n",
       "  </tbody>\n",
       "</table>\n",
       "</div>"
      ],
      "text/plain": [
       "   step      type    amount     nameOrig  oldbalanceOrg  newbalanceOrig  \\\n",
       "0     1   PAYMENT   9839.64  C1231006815      170136.00       160296.36   \n",
       "1     1   PAYMENT   1864.28  C1666544295       21249.00        19384.72   \n",
       "2     1  TRANSFER    181.00  C1305486145         181.00            0.00   \n",
       "3     1  CASH_OUT    181.00   C840083671         181.00            0.00   \n",
       "4     1   PAYMENT  11668.14  C2048537720       41554.00        29885.86   \n",
       "5     1   PAYMENT   7817.71    C90045638       53860.00        46042.29   \n",
       "6     1   PAYMENT   7107.77   C154988899      183195.00       176087.23   \n",
       "7     1   PAYMENT   7861.64  C1912850431      176087.23       168225.59   \n",
       "8     1   PAYMENT   4024.36  C1265012928        2671.00            0.00   \n",
       "9     1     DEBIT   5337.77   C712410124       41720.00        36382.23   \n",
       "\n",
       "      nameDest  oldbalanceDest  newbalanceDest  isFraud  isFlaggedFraud  \n",
       "0  M1979787155             0.0            0.00        0               0  \n",
       "1  M2044282225             0.0            0.00        0               0  \n",
       "2   C553264065             0.0            0.00        1               0  \n",
       "3    C38997010         21182.0            0.00        1               0  \n",
       "4  M1230701703             0.0            0.00        0               0  \n",
       "5   M573487274             0.0            0.00        0               0  \n",
       "6   M408069119             0.0            0.00        0               0  \n",
       "7   M633326333             0.0            0.00        0               0  \n",
       "8  M1176932104             0.0            0.00        0               0  \n",
       "9   C195600860         41898.0        40348.79        0               0  "
      ]
     },
     "execution_count": 2,
     "metadata": {},
     "output_type": "execute_result"
    }
   ],
   "source": [
    "transactions = pd.read_csv(\"../data/data.csv\")\n",
    "transactions[:10]"
   ]
  },
  {
   "cell_type": "markdown",
   "id": "2f089155",
   "metadata": {},
   "source": [
    "Estraiamo dal dataframe tutte le informazioni statistiche e gli aggiungiamo anche altre due informazione\n",
    "che possono essere utili per capire la distribuzione dei dati, ovvero il numero di valori distinti e il numero\n",
    "di valori nulli."
   ]
  },
  {
   "cell_type": "code",
   "execution_count": 9,
   "id": "7ff765b0",
   "metadata": {},
   "outputs": [
    {
     "data": {
      "text/html": [
       "<div>\n",
       "<style scoped>\n",
       "    .dataframe tbody tr th:only-of-type {\n",
       "        vertical-align: middle;\n",
       "    }\n",
       "\n",
       "    .dataframe tbody tr th {\n",
       "        vertical-align: top;\n",
       "    }\n",
       "\n",
       "    .dataframe thead th {\n",
       "        text-align: right;\n",
       "    }\n",
       "</style>\n",
       "<table border=\"1\" class=\"dataframe\">\n",
       "  <thead>\n",
       "    <tr style=\"text-align: right;\">\n",
       "      <th></th>\n",
       "      <th>step</th>\n",
       "      <th>amount</th>\n",
       "      <th>oldbalanceOrg</th>\n",
       "      <th>newbalanceOrig</th>\n",
       "      <th>oldbalanceDest</th>\n",
       "      <th>newbalanceDest</th>\n",
       "      <th>isFraud</th>\n",
       "      <th>isFlaggedFraud</th>\n",
       "    </tr>\n",
       "  </thead>\n",
       "  <tbody>\n",
       "    <tr>\n",
       "      <th>count</th>\n",
       "      <td>40000.000000</td>\n",
       "      <td>4.000000e+04</td>\n",
       "      <td>4.000000e+04</td>\n",
       "      <td>4.000000e+04</td>\n",
       "      <td>4.000000e+04</td>\n",
       "      <td>4.000000e+04</td>\n",
       "      <td>40000.00000</td>\n",
       "      <td>40000.0</td>\n",
       "    </tr>\n",
       "    <tr>\n",
       "      <th>mean</th>\n",
       "      <td>7.067250</td>\n",
       "      <td>1.472084e+05</td>\n",
       "      <td>7.872575e+05</td>\n",
       "      <td>8.019956e+05</td>\n",
       "      <td>8.516534e+05</td>\n",
       "      <td>1.170236e+06</td>\n",
       "      <td>0.00235</td>\n",
       "      <td>0.0</td>\n",
       "    </tr>\n",
       "    <tr>\n",
       "      <th>std</th>\n",
       "      <td>2.130749</td>\n",
       "      <td>3.127453e+05</td>\n",
       "      <td>2.312247e+06</td>\n",
       "      <td>2.350202e+06</td>\n",
       "      <td>2.488273e+06</td>\n",
       "      <td>2.994515e+06</td>\n",
       "      <td>0.04842</td>\n",
       "      <td>0.0</td>\n",
       "    </tr>\n",
       "    <tr>\n",
       "      <th>min</th>\n",
       "      <td>1.000000</td>\n",
       "      <td>1.770000e+00</td>\n",
       "      <td>0.000000e+00</td>\n",
       "      <td>0.000000e+00</td>\n",
       "      <td>0.000000e+00</td>\n",
       "      <td>0.000000e+00</td>\n",
       "      <td>0.00000</td>\n",
       "      <td>0.0</td>\n",
       "    </tr>\n",
       "    <tr>\n",
       "      <th>25%</th>\n",
       "      <td>7.000000</td>\n",
       "      <td>6.875930e+03</td>\n",
       "      <td>0.000000e+00</td>\n",
       "      <td>0.000000e+00</td>\n",
       "      <td>0.000000e+00</td>\n",
       "      <td>0.000000e+00</td>\n",
       "      <td>0.00000</td>\n",
       "      <td>0.0</td>\n",
       "    </tr>\n",
       "    <tr>\n",
       "      <th>50%</th>\n",
       "      <td>8.000000</td>\n",
       "      <td>2.654154e+04</td>\n",
       "      <td>1.931350e+04</td>\n",
       "      <td>1.356400e+03</td>\n",
       "      <td>0.000000e+00</td>\n",
       "      <td>0.000000e+00</td>\n",
       "      <td>0.00000</td>\n",
       "      <td>0.0</td>\n",
       "    </tr>\n",
       "    <tr>\n",
       "      <th>75%</th>\n",
       "      <td>8.000000</td>\n",
       "      <td>1.768193e+05</td>\n",
       "      <td>1.470935e+05</td>\n",
       "      <td>1.548563e+05</td>\n",
       "      <td>4.312061e+05</td>\n",
       "      <td>8.039084e+05</td>\n",
       "      <td>0.00000</td>\n",
       "      <td>0.0</td>\n",
       "    </tr>\n",
       "    <tr>\n",
       "      <th>max</th>\n",
       "      <td>9.000000</td>\n",
       "      <td>1.000000e+07</td>\n",
       "      <td>2.854724e+07</td>\n",
       "      <td>2.861740e+07</td>\n",
       "      <td>2.915609e+07</td>\n",
       "      <td>3.130692e+07</td>\n",
       "      <td>1.00000</td>\n",
       "      <td>0.0</td>\n",
       "    </tr>\n",
       "    <tr>\n",
       "      <th>valori distinti</th>\n",
       "      <td>9.000000</td>\n",
       "      <td>3.982600e+04</td>\n",
       "      <td>2.540900e+04</td>\n",
       "      <td>2.033900e+04</td>\n",
       "      <td>1.957900e+04</td>\n",
       "      <td>6.505000e+03</td>\n",
       "      <td>2.00000</td>\n",
       "      <td>1.0</td>\n",
       "    </tr>\n",
       "    <tr>\n",
       "      <th>valori nulli</th>\n",
       "      <td>0.000000</td>\n",
       "      <td>0.000000e+00</td>\n",
       "      <td>0.000000e+00</td>\n",
       "      <td>0.000000e+00</td>\n",
       "      <td>0.000000e+00</td>\n",
       "      <td>0.000000e+00</td>\n",
       "      <td>0.00000</td>\n",
       "      <td>0.0</td>\n",
       "    </tr>\n",
       "  </tbody>\n",
       "</table>\n",
       "</div>"
      ],
      "text/plain": [
       "                         step        amount  oldbalanceOrg  newbalanceOrig  \\\n",
       "count            40000.000000  4.000000e+04   4.000000e+04    4.000000e+04   \n",
       "mean                 7.067250  1.472084e+05   7.872575e+05    8.019956e+05   \n",
       "std                  2.130749  3.127453e+05   2.312247e+06    2.350202e+06   \n",
       "min                  1.000000  1.770000e+00   0.000000e+00    0.000000e+00   \n",
       "25%                  7.000000  6.875930e+03   0.000000e+00    0.000000e+00   \n",
       "50%                  8.000000  2.654154e+04   1.931350e+04    1.356400e+03   \n",
       "75%                  8.000000  1.768193e+05   1.470935e+05    1.548563e+05   \n",
       "max                  9.000000  1.000000e+07   2.854724e+07    2.861740e+07   \n",
       "valori distinti      9.000000  3.982600e+04   2.540900e+04    2.033900e+04   \n",
       "valori nulli         0.000000  0.000000e+00   0.000000e+00    0.000000e+00   \n",
       "\n",
       "                 oldbalanceDest  newbalanceDest      isFraud  isFlaggedFraud  \n",
       "count              4.000000e+04    4.000000e+04  40000.00000         40000.0  \n",
       "mean               8.516534e+05    1.170236e+06      0.00235             0.0  \n",
       "std                2.488273e+06    2.994515e+06      0.04842             0.0  \n",
       "min                0.000000e+00    0.000000e+00      0.00000             0.0  \n",
       "25%                0.000000e+00    0.000000e+00      0.00000             0.0  \n",
       "50%                0.000000e+00    0.000000e+00      0.00000             0.0  \n",
       "75%                4.312061e+05    8.039084e+05      0.00000             0.0  \n",
       "max                2.915609e+07    3.130692e+07      1.00000             0.0  \n",
       "valori distinti    1.957900e+04    6.505000e+03      2.00000             1.0  \n",
       "valori nulli       0.000000e+00    0.000000e+00      0.00000             0.0  "
      ]
     },
     "execution_count": 9,
     "metadata": {},
     "output_type": "execute_result"
    }
   ],
   "source": [
    "vMtx = transactions.describe().values\n",
    "vMtx = np.vstack([vMtx, [len(transactions[c].unique()) for c in [\"step\",\"amount\",\"oldbalanceOrg\",\n",
    "                                                                 \"newbalanceOrig\",\"oldbalanceDest\",\"newbalanceDest\",\n",
    "                                                                 \"isFraud\",\"isFlaggedFraud\"]]])\n",
    "vMtx = np.vstack([vMtx, transactions.describe().isna().sum().values])\n",
    "pd.DataFrame(data=vMtx,\n",
    "             index=['count','mean','std','min','25%','50%','75%','max','valori distinti','valori nulli'],\n",
    "             columns=transactions.describe().columns)"
   ]
  },
  {
   "cell_type": "markdown",
   "id": "a6271be2",
   "metadata": {},
   "source": [
    "### 2.1 - Grafici"
   ]
  },
  {
   "cell_type": "markdown",
   "id": "1cf1fdbd",
   "metadata": {},
   "source": [
    "Ho creato dei grafici per le transazioni fraudolente per far capire (graficamente) quanto il numero di istanze\n",
    "siano differenti e quanto il tipo di transazione (colonna \"type\") incida."
   ]
  },
  {
   "cell_type": "code",
   "execution_count": 10,
   "id": "bdbb25c0",
   "metadata": {},
   "outputs": [
    {
     "data": {
      "image/png": "[encoded data removed]",
      "text/plain": [
       "<Figure size 1152x720 with 3 Axes>"
      ]
     },
     "metadata": {},
     "output_type": "display_data"
    }
   ],
   "source": [
    "plt.figure(figsize=(16, 10))\n",
    "transactions[\"type\"].value_counts().plot.pie(ax=plt.subplot(1, 3, 1));\n",
    "transactions[\"isFraud\"].value_counts().plot.pie(ax=plt.subplot(1, 3, 2));\n",
    "transactions[transactions[\"isFraud\"] == 1][\"type\"].value_counts().plot.pie(ax=plt.subplot(1, 3,3));"
   ]
  },
  {
   "cell_type": "code",
   "execution_count": 5,
   "id": "e5574776",
   "metadata": {},
   "outputs": [],
   "source": [
    "feature_list = [\"type\",\"amount\",\"oldbalanceOrg\",\"newbalanceOrig\"]"
   ]
  },
  {
   "cell_type": "markdown",
   "id": "fb6d0db8",
   "metadata": {},
   "source": [
    "Per visualizzare le feauter si può procedere in diversi modi. Quello proposto in questo progetto è la creazione\n",
    "di n grafici che combina 2 feature alla volta. Questo approccio può andare bene se il numero di feature è ridotto (<10)\n",
    "altrimenti bisogna procedere a buon senso creando manualmente i grafici di quelle feature che potrebbero essere\n",
    "in qualche modo dipendente.\n",
    "\n",
    "Per fare questo esperimento usiamo un numero di istanze maggiori per avere una porzione di dataset più significativa."
   ]
  },
  {
   "cell_type": "code",
   "execution_count": 6,
   "id": "7ef03a4f",
   "metadata": {
    "scrolled": false
   },
   "outputs": [
    {
     "data": {
      "image/png": "[encoded data removed]",
      "text/plain": [
       "<Figure size 720x432 with 1 Axes>"
      ]
     },
     "metadata": {
      "needs_background": "light"
     },
     "output_type": "display_data"
    },
    {
     "data": {
      "image/png": "[encoded data removed]",
      "text/plain": [
       "<Figure size 720x432 with 1 Axes>"
      ]
     },
     "metadata": {
      "needs_background": "light"
     },
     "output_type": "display_data"
    },
    {
     "data": {
      "image/png": "[encoded data removed]",
      "text/plain": [
       "<Figure size 720x432 with 1 Axes>"
      ]
     },
     "metadata": {
      "needs_background": "light"
     },
     "output_type": "display_data"
    }
   ],
   "source": [
    "transactions = pd.read_csv(\"../data/data.csv\", nrows=40_000)\n",
    "tfraut_colors = transactions[\"isFraud\"].map({0: \"blue\", 1: \"red\"})\n",
    "for f_i in range(1,len(feature_list)):\n",
    "     for f_j in range(f_i + 1, len(feature_list)) :        \n",
    "        transactions.plot.scatter(feature_list[f_i], feature_list[f_j], c=tfraut_colors, figsize=(10, 6));"
   ]
  },
  {
   "cell_type": "markdown",
   "id": "1d62ab2a",
   "metadata": {},
   "source": [
    "## 3 - Normalizzazione dei dati"
   ]
  },
  {
   "cell_type": "markdown",
   "id": "86e1f71f",
   "metadata": {},
   "source": [
    "In questo progetto non abbiamo molte pre-elaborazioni da fare, dato il numero ridotto di feature.\n",
    "\n",
    "Per prima cosa dividiamo le feature in due categorie (perchè andranno poi trattate diversamente) :\n",
    "   - Feature Numeriche : Possiamo applicare una normalizzazione dei dati per avere la stessa scala\n",
    "   - Feature Categoriche : Applichiamo una categorizzazione. L'unica colonna da trattare in questo caso è \n",
    "       il tipo di transazione. Da questa operazioone de derivano altre 5."
   ]
  },
  {
   "cell_type": "code",
   "execution_count": 11,
   "id": "a417a9b3",
   "metadata": {},
   "outputs": [],
   "source": [
    "feature_numeric = [\"amount\",\"oldbalanceOrg\",\"newbalanceOrig\"]\n",
    "feature_categorical = [\"type\"]"
   ]
  },
  {
   "cell_type": "markdown",
   "id": "d5dffeaf",
   "metadata": {},
   "source": [
    "Grazie alla classe ColumnTransformer possiamo applica entrambe queste trasformazioni in modo semplice.\n",
    "L'oggeto ColumnTrasn lo memorizziamo in una variabile così lo possiamo riutilizzare anche per la creazione dei modelli nelle fasi successive"
   ]
  },
  {
   "cell_type": "code",
   "execution_count": 13,
   "id": "1366ae03",
   "metadata": {},
   "outputs": [],
   "source": [
    "from sklearn.model_selection import train_test_split\n",
    "from sklearn.compose import ColumnTransformer\n",
    "from sklearn.preprocessing import StandardScaler\n",
    "from sklearn.preprocessing import OneHotEncoder\n",
    "\n",
    "X = transactions[feature_list]\n",
    "y = transactions[[\"isFraud\"]]\n",
    "\n",
    "X_train, x_val, y_train, y_val = train_test_split(X, y, test_size=1/3, random_state=42)\n",
    "\n",
    "preproc = ColumnTransformer(\n",
    "    [\n",
    "        (\"numeric\",StandardScaler(),feature_numeric),\n",
    "        (\"categorical\",OneHotEncoder(),feature_categorical)\n",
    "    ],remainder=\"drop\")"
   ]
  },
  {
   "cell_type": "markdown",
   "id": "be195164",
   "metadata": {},
   "source": [
    "Il risultato saranno quindi le 3 colonne numeriche (\"amount\", \"oldbalanceOrg\", \"newbalanceOrig\") dove abbiamo applicato una normalizzazione e le 5 colonne derivate dalla trasformazione della variabile categorica type nelle sue n componenti binarie, una per ogni valore distinto di type (in questo dataset sono 5 : CASH_IN, CASH_OUT, DEBIT, PAYMENT, TRANSFER)"
   ]
  },
  {
   "cell_type": "code",
   "execution_count": 48,
   "id": "c3511f17",
   "metadata": {},
   "outputs": [
    {
     "data": {
      "text/html": [
       "<div>\n",
       "<style scoped>\n",
       "    .dataframe tbody tr th:only-of-type {\n",
       "        vertical-align: middle;\n",
       "    }\n",
       "\n",
       "    .dataframe tbody tr th {\n",
       "        vertical-align: top;\n",
       "    }\n",
       "\n",
       "    .dataframe thead th {\n",
       "        text-align: right;\n",
       "    }\n",
       "</style>\n",
       "<table border=\"1\" class=\"dataframe\">\n",
       "  <thead>\n",
       "    <tr style=\"text-align: right;\">\n",
       "      <th></th>\n",
       "      <th>amount</th>\n",
       "      <th>oldbalanceOrg</th>\n",
       "      <th>newbalanceOrig</th>\n",
       "      <th>x0_CASH_IN</th>\n",
       "      <th>x0_CASH_OUT</th>\n",
       "      <th>x0_DEBIT</th>\n",
       "      <th>x0_PAYMENT</th>\n",
       "      <th>x0_TRANSFER</th>\n",
       "    </tr>\n",
       "  </thead>\n",
       "  <tbody>\n",
       "    <tr>\n",
       "      <th>0</th>\n",
       "      <td>-0.391364</td>\n",
       "      <td>-0.286861</td>\n",
       "      <td>-0.293213</td>\n",
       "      <td>0.0</td>\n",
       "      <td>0.0</td>\n",
       "      <td>0.0</td>\n",
       "      <td>1.0</td>\n",
       "      <td>0.0</td>\n",
       "    </tr>\n",
       "    <tr>\n",
       "      <th>1</th>\n",
       "      <td>-0.418243</td>\n",
       "      <td>-0.354129</td>\n",
       "      <td>-0.355699</td>\n",
       "      <td>0.0</td>\n",
       "      <td>0.0</td>\n",
       "      <td>0.0</td>\n",
       "      <td>1.0</td>\n",
       "      <td>0.0</td>\n",
       "    </tr>\n",
       "    <tr>\n",
       "      <th>2</th>\n",
       "      <td>-0.423917</td>\n",
       "      <td>-0.363648</td>\n",
       "      <td>-0.364295</td>\n",
       "      <td>0.0</td>\n",
       "      <td>0.0</td>\n",
       "      <td>0.0</td>\n",
       "      <td>0.0</td>\n",
       "      <td>1.0</td>\n",
       "    </tr>\n",
       "    <tr>\n",
       "      <th>3</th>\n",
       "      <td>-0.423917</td>\n",
       "      <td>-0.363648</td>\n",
       "      <td>-0.364295</td>\n",
       "      <td>0.0</td>\n",
       "      <td>1.0</td>\n",
       "      <td>0.0</td>\n",
       "      <td>0.0</td>\n",
       "      <td>0.0</td>\n",
       "    </tr>\n",
       "    <tr>\n",
       "      <th>4</th>\n",
       "      <td>-0.385201</td>\n",
       "      <td>-0.344955</td>\n",
       "      <td>-0.351042</td>\n",
       "      <td>0.0</td>\n",
       "      <td>0.0</td>\n",
       "      <td>0.0</td>\n",
       "      <td>1.0</td>\n",
       "      <td>0.0</td>\n",
       "    </tr>\n",
       "    <tr>\n",
       "      <th>5</th>\n",
       "      <td>-0.398178</td>\n",
       "      <td>-0.339396</td>\n",
       "      <td>-0.343878</td>\n",
       "      <td>0.0</td>\n",
       "      <td>0.0</td>\n",
       "      <td>0.0</td>\n",
       "      <td>1.0</td>\n",
       "      <td>0.0</td>\n",
       "    </tr>\n",
       "    <tr>\n",
       "      <th>6</th>\n",
       "      <td>-0.400571</td>\n",
       "      <td>-0.280961</td>\n",
       "      <td>-0.286211</td>\n",
       "      <td>0.0</td>\n",
       "      <td>0.0</td>\n",
       "      <td>0.0</td>\n",
       "      <td>1.0</td>\n",
       "      <td>0.0</td>\n",
       "    </tr>\n",
       "    <tr>\n",
       "      <th>7</th>\n",
       "      <td>-0.398030</td>\n",
       "      <td>-0.284173</td>\n",
       "      <td>-0.289697</td>\n",
       "      <td>0.0</td>\n",
       "      <td>0.0</td>\n",
       "      <td>0.0</td>\n",
       "      <td>1.0</td>\n",
       "      <td>0.0</td>\n",
       "    </tr>\n",
       "    <tr>\n",
       "      <th>8</th>\n",
       "      <td>-0.410963</td>\n",
       "      <td>-0.362523</td>\n",
       "      <td>-0.364295</td>\n",
       "      <td>0.0</td>\n",
       "      <td>0.0</td>\n",
       "      <td>0.0</td>\n",
       "      <td>1.0</td>\n",
       "      <td>0.0</td>\n",
       "    </tr>\n",
       "    <tr>\n",
       "      <th>9</th>\n",
       "      <td>-0.406537</td>\n",
       "      <td>-0.344880</td>\n",
       "      <td>-0.348161</td>\n",
       "      <td>0.0</td>\n",
       "      <td>0.0</td>\n",
       "      <td>1.0</td>\n",
       "      <td>0.0</td>\n",
       "      <td>0.0</td>\n",
       "    </tr>\n",
       "  </tbody>\n",
       "</table>\n",
       "</div>"
      ],
      "text/plain": [
       "     amount  oldbalanceOrg  newbalanceOrig  x0_CASH_IN  x0_CASH_OUT  x0_DEBIT  \\\n",
       "0 -0.391364      -0.286861       -0.293213         0.0          0.0       0.0   \n",
       "1 -0.418243      -0.354129       -0.355699         0.0          0.0       0.0   \n",
       "2 -0.423917      -0.363648       -0.364295         0.0          0.0       0.0   \n",
       "3 -0.423917      -0.363648       -0.364295         0.0          1.0       0.0   \n",
       "4 -0.385201      -0.344955       -0.351042         0.0          0.0       0.0   \n",
       "5 -0.398178      -0.339396       -0.343878         0.0          0.0       0.0   \n",
       "6 -0.400571      -0.280961       -0.286211         0.0          0.0       0.0   \n",
       "7 -0.398030      -0.284173       -0.289697         0.0          0.0       0.0   \n",
       "8 -0.410963      -0.362523       -0.364295         0.0          0.0       0.0   \n",
       "9 -0.406537      -0.344880       -0.348161         0.0          0.0       1.0   \n",
       "\n",
       "   x0_PAYMENT  x0_TRANSFER  \n",
       "0         1.0          0.0  \n",
       "1         1.0          0.0  \n",
       "2         0.0          1.0  \n",
       "3         0.0          0.0  \n",
       "4         1.0          0.0  \n",
       "5         1.0          0.0  \n",
       "6         1.0          0.0  \n",
       "7         1.0          0.0  \n",
       "8         1.0          0.0  \n",
       "9         0.0          0.0  "
      ]
     },
     "execution_count": 48,
     "metadata": {},
     "output_type": "execute_result"
    }
   ],
   "source": [
    "X_sample = transactions[feature_numeric + feature_categorical]\n",
    "preproc.fit_transform(X_sample)\n",
    "f_names = feature_numeric + list(preproc.named_transformers_[\"categorical\"].get_feature_names())\n",
    "pd.DataFrame(\n",
    "    preproc.transform(X_sample),\n",
    "    columns = f_names\n",
    ").head(10)"
   ]
  },
  {
   "cell_type": "markdown",
   "id": "c86d495b",
   "metadata": {},
   "source": [
    "### 3.1 - PCA"
   ]
  },
  {
   "cell_type": "markdown",
   "id": "fc330cf3",
   "metadata": {},
   "source": [
    "Con la decomposizione SVD (Single Value Decomposition) possiamo riportare una spazio k-dimensionale in uno spazio n-dimensionale. In questo progetto le dimensioni originali sono il numero di feature dopo aver applicato il pre-processing, quindi 8, in uno spazio bidimensionale, per poter visualizzare i dati in un classico grafico cartesiano."
   ]
  },
  {
   "cell_type": "code",
   "execution_count": 14,
   "id": "f2c6c7d7",
   "metadata": {},
   "outputs": [
    {
     "data": {
      "image/png": "[encoded data removed]",
      "text/plain": [
       "<Figure size 432x288 with 1 Axes>"
      ]
     },
     "metadata": {
      "needs_background": "light"
     },
     "output_type": "display_data"
    }
   ],
   "source": [
    "from sklearn.decomposition import PCA\n",
    "\n",
    "pca = PCA(n_components=2)\n",
    "\n",
    "c_map = transactions[:X_train.values.shape[0]][\"isFraud\"].map({0: \"blue\", 1: \"red\"})\n",
    "x_preproc = pca.fit_transform(preproc.fit_transform(X_train))\n",
    "\n",
    "plt.scatter(x_preproc[:,0], x_preproc[:,1], c=c_map)\n",
    "plt.xlabel('Asse latente X')\n",
    "plt.ylabel('Asse latente Y')\n",
    "plt.show()"
   ]
  },
  {
   "cell_type": "markdown",
   "id": "f068d4c5",
   "metadata": {},
   "source": [
    "## 4 - Modelli Predittivi"
   ]
  },
  {
   "cell_type": "markdown",
   "id": "5eccaa59",
   "metadata": {},
   "source": [
    "Data il grande numero di istanze in questo dataset alcuni modelli potrebbe crashare. Quindi riduciamo il dataset."
   ]
  },
  {
   "cell_type": "code",
   "execution_count": 16,
   "id": "d0a8aac8",
   "metadata": {},
   "outputs": [],
   "source": [
    "from sklearn.pipeline import Pipeline\n",
    "transactions = pd.read_csv(\"../data/data.csv\", nrows=20_000)"
   ]
  },
  {
   "cell_type": "markdown",
   "id": "51381422",
   "metadata": {},
   "source": [
    "Predisponaimo alcune \"Utility Function\" che migliorano la leggibilità del codice e riusabilità.\n",
    "\n",
    "In particolare definiamo alcune funzioni per il calcolo delle accuratezze."
   ]
  },
  {
   "cell_type": "code",
   "execution_count": 27,
   "id": "6e1065e3",
   "metadata": {},
   "outputs": [],
   "source": [
    "from sklearn.metrics import precision_score, recall_score, f1_score, r2_score, confusion_matrix, mean_squared_error\n",
    "\n",
    "def print_matrix(classes, matrix, pad = 10):\n",
    "    '''This method prints a matrix with better formatting.\n",
    "    Is used for print n x n confusion matrix'''\n",
    "    for i in range(len(classes)):\n",
    "        if i == 0 : \n",
    "            for c in ([\" \"] + classes):\n",
    "                print(f\"{c.rjust(pad, ' ')}\",end=' ')\n",
    "            print()\n",
    "        for j in range(len(classes)):\n",
    "            if (j == 0) : \n",
    "                print(f\"{classes[i].rjust(pad, ' ')}\",end=' ')\n",
    "            print(f\"{str(matrix[i][j]).rjust(pad, ' ')}\",end=' ')\n",
    "        print()\n",
    "    return None\n",
    "\n",
    "def rmspe(y_real, y_pred):\n",
    "    '''Root Mean Squared Percentage Error'''\n",
    "    if not y_real.all() > 0 : return -1\n",
    "    return np.sqrt(np.mean((y_pred /y_real - 1) ** 2))\n",
    "\n",
    "def print_eval_regressor(X, y, model):\n",
    "    '''print eval for regression model'''\n",
    "    y_pred = model.predict(X)\n",
    "    print(f\"MSE   : {mean_squared_error(y, y_pred):12.4f}\")    \n",
    "    print(f\"RMSPE : {rmspe(y.values, y_pred):12.4f}\")\n",
    "    print_eval_base(X, y, model)\n",
    "    return None\n",
    "\n",
    "def print_eval_classify(X, y, model, classes):\n",
    "    '''print eval for classification model'''\n",
    "    y_pred = model.predict(X)    \n",
    "    cm = confusion_matrix(y, y_pred)\n",
    "    print(\"Confusion Matrix : \")\n",
    "    print_matrix(classes, cm)\n",
    "    print(f\"\\nPRECISION  : {precision_score(y, y_pred):12.4f}\")\n",
    "    print(f\"RECALL     : {recall_score(y, y_pred):12.4f}\")\n",
    "    print(f\"F1-MEASURE : {f1_score(y, y_pred, average='macro'):12.4f}\")\n",
    "    print_eval_base(X, y, model)\n",
    "    return None\n",
    "\n",
    "def print_eval_base(X, y, model):\n",
    "    '''print eval for all model, only R^2 score '''\n",
    "    y_pred = model.predict(X)\n",
    "    print(f\"R^2   : {r2_score(y, y_pred):12.4f}\")\n",
    "    return None\n",
    "\n",
    "def plot_separator_on_data(X, y, model=None):\n",
    "    '''plot data into 2d space'''\n",
    "    c_map = transactions[:X.values.shape[0]][\"isFraud\"].map({0: \"blue\", 1: \"red\"})\n",
    "    X = np.array(X)\n",
    "    plt.figure(figsize=(8, 6))\n",
    "    plt.scatter(X[:, 0], X[:, 1], c=c_map)\n",
    "    if model is not None:\n",
    "        xlim, ylim = plt.xlim(), plt.ylim()\n",
    "        sep_x = np.linspace(*xlim, 2)\n",
    "        sep_y = separator_2d(model, sep_x)\n",
    "        plt.plot(sep_x, sep_y, c=\"green\", linewidth=2)\n",
    "        plt.xlim(xlim); plt.ylim(ylim)\n",
    "    return None\n",
    "\n",
    "def separator_2d(model, x1):\n",
    "    '''draw a 2d line based his equation'''\n",
    "    w = model.coef_[0]\n",
    "    b = model.intercept_[0]\n",
    "    return -x1 * w[0] / w[1] - b / w[1]"
   ]
  },
  {
   "cell_type": "markdown",
   "id": "8746f122",
   "metadata": {},
   "source": [
    "## 4.1 - Modelli di Regressione "
   ]
  },
  {
   "cell_type": "markdown",
   "id": "c1963a91",
   "metadata": {},
   "source": [
    "In questa sezione proviamo ad addestrare modelli di regressione per risolvere il problema."
   ]
  },
  {
   "cell_type": "markdown",
   "id": "33cd24fb",
   "metadata": {},
   "source": [
    "Per usare il notebook bisogna aver installato le seguetni librerie. Se non si dispongono scommentare questa parte ed eseguire la cella."
   ]
  },
  {
   "cell_type": "code",
   "execution_count": 33,
   "id": "5762481c",
   "metadata": {},
   "outputs": [],
   "source": [
    "#%conda install XGBoost\n",
    "#%conda install Lightgbm\n",
    "#%conda install Catboost"
   ]
  },
  {
   "cell_type": "markdown",
   "id": "8125fb16",
   "metadata": {},
   "source": [
    "### 4.1.1 - Ridle Regression"
   ]
  },
  {
   "cell_type": "markdown",
   "id": "9487f11a",
   "metadata": {},
   "source": [
    "Come primo modello vediamo se una Regressione Lineare con regolarizzazione L1 e Kernel Trick può risolvere il problema."
   ]
  },
  {
   "cell_type": "code",
   "execution_count": 36,
   "id": "d7b83c17",
   "metadata": {},
   "outputs": [
    {
     "name": "stdout",
     "output_type": "stream",
     "text": [
      "MSE   :       0.0027\n",
      "RMSPE :      -1.0000\n",
      "R^2   :       0.0174\n"
     ]
    }
   ],
   "source": [
    "from sklearn.linear_model import Ridge\n",
    "\n",
    "model = Pipeline([\n",
    "    (\"preproc\", preproc),\n",
    "    (\"regRidge\", Ridge(alpha=1))\n",
    "])\n",
    "\n",
    "model.fit(X_train, y_train)\n",
    "print_eval_regressor(x_val, y_val, model)"
   ]
  },
  {
   "cell_type": "markdown",
   "id": "3358f479",
   "metadata": {},
   "source": [
    "Il modello da scarsi risultati perchè, anche con una funzione kernel, il problema non è linearmente separabile"
   ]
  },
  {
   "cell_type": "markdown",
   "id": "069da661",
   "metadata": {},
   "source": [
    "### 4.1.2 - Modelli di Regressione Avanzati"
   ]
  },
  {
   "cell_type": "markdown",
   "id": "1e3ac2c0",
   "metadata": {},
   "source": [
    "Tentiamo di creare degli alberi di regressione con le migliori tecnologie come XGBoost, LightBoost e Catboost"
   ]
  },
  {
   "cell_type": "code",
   "execution_count": 37,
   "id": "37f84ba0",
   "metadata": {},
   "outputs": [
    {
     "name": "stdout",
     "output_type": "stream",
     "text": [
      "[13:16:57] WARNING: C:/Users/Administrator/workspace/xgboost-win64_release_1.6.0/src/learner.cc:627: \n",
      "Parameters: { \"verbose_eval\" } might not be used.\n",
      "\n",
      "  This could be a false alarm, with some parameters getting used by language bindings but\n",
      "  then being mistakenly passed down to XGBoost core, or some parameter actually being used\n",
      "  but getting flagged wrongly here. Please open an issue if you find any such cases.\n",
      "\n",
      "\n",
      "MSE   :       0.0020\n",
      "RMSPE :      -1.0000\n",
      "R^2   :       0.2721\n"
     ]
    }
   ],
   "source": [
    "from xgboost import XGBRegressor\n",
    "\n",
    "xgbm = XGBRegressor(objective='reg:squarederror', \n",
    "                    learning_rate = 0.01577, \n",
    "                    reg_lambda=0.008, \n",
    "                    reg_alpha=0.0001, \n",
    "                    n_estimators=1025, \n",
    "                    verbose_eval=False)\n",
    "model = Pipeline([\n",
    "    (\"preproc\", preproc),\n",
    "    (\"XGBRegressor\", xgbm)\n",
    "])\n",
    "model.fit(X_train, y_train)\n",
    "print_eval_regressor(x_val, y_val, model)"
   ]
  },
  {
   "cell_type": "code",
   "execution_count": 41,
   "id": "ff323441",
   "metadata": {},
   "outputs": [
    {
     "name": "stdout",
     "output_type": "stream",
     "text": [
      "[LightGBM] [Warning] bagging_fraction is set=0.95, subsample=1.0 will be ignored. Current value: bagging_fraction=0.95\n",
      "[LightGBM] [Warning] bagging_freq is set=10, subsample_freq=0 will be ignored. Current value: bagging_freq=10\n",
      "MSE   :       0.0022\n",
      "RMSPE :      -1.0000\n",
      "R^2   :       0.2009\n"
     ]
    }
   ],
   "source": [
    "from lightgbm import LGBMRegressor\n",
    "\n",
    "model = Pipeline([\n",
    "    (\"preproc\",preproc),\n",
    "    (\"LGBM\", LGBMRegressor(boosting_type='rf',n_estimators=1000,max_depth=-1,bagging_freq =10,bagging_fraction=0.95))\n",
    "])\n",
    "\n",
    "model.fit(X_train, y_train.values.ravel())\n",
    "print_eval_regressor(x_val, y_val, model)"
   ]
  },
  {
   "cell_type": "code",
   "execution_count": 42,
   "id": "b9d42080",
   "metadata": {},
   "outputs": [
    {
     "name": "stdout",
     "output_type": "stream",
     "text": [
      "Learning rate set to 0.432862\n",
      "0:\tlearn: 0.0426549\ttotal: 3.4ms\tremaining: 306ms\n",
      "1:\tlearn: 0.0413614\ttotal: 6.36ms\tremaining: 283ms\n",
      "2:\tlearn: 0.0408786\ttotal: 9.23ms\tremaining: 271ms\n",
      "3:\tlearn: 0.0376980\ttotal: 12.3ms\tremaining: 267ms\n",
      "4:\tlearn: 0.0362080\ttotal: 15.3ms\tremaining: 264ms\n",
      "5:\tlearn: 0.0357071\ttotal: 18.2ms\tremaining: 257ms\n",
      "6:\tlearn: 0.0345664\ttotal: 21ms\tremaining: 252ms\n",
      "7:\tlearn: 0.0338962\ttotal: 23.9ms\tremaining: 248ms\n",
      "8:\tlearn: 0.0336486\ttotal: 26.8ms\tremaining: 244ms\n",
      "9:\tlearn: 0.0330622\ttotal: 29.8ms\tremaining: 242ms\n",
      "10:\tlearn: 0.0325795\ttotal: 33ms\tremaining: 240ms\n",
      "11:\tlearn: 0.0321710\ttotal: 36ms\tremaining: 237ms\n",
      "12:\tlearn: 0.0318235\ttotal: 39ms\tremaining: 234ms\n",
      "13:\tlearn: 0.0311395\ttotal: 41.8ms\tremaining: 230ms\n",
      "14:\tlearn: 0.0308918\ttotal: 44.8ms\tremaining: 227ms\n",
      "15:\tlearn: 0.0306324\ttotal: 47.6ms\tremaining: 223ms\n",
      "16:\tlearn: 0.0300806\ttotal: 50.8ms\tremaining: 221ms\n",
      "17:\tlearn: 0.0297263\ttotal: 53.6ms\tremaining: 217ms\n",
      "18:\tlearn: 0.0294781\ttotal: 56.4ms\tremaining: 214ms\n",
      "19:\tlearn: 0.0293576\ttotal: 59.5ms\tremaining: 211ms\n",
      "20:\tlearn: 0.0282554\ttotal: 62.7ms\tremaining: 209ms\n",
      "21:\tlearn: 0.0277118\ttotal: 65.7ms\tremaining: 206ms\n",
      "22:\tlearn: 0.0273655\ttotal: 68.5ms\tremaining: 202ms\n",
      "23:\tlearn: 0.0265259\ttotal: 71.4ms\tremaining: 199ms\n",
      "24:\tlearn: 0.0263679\ttotal: 74.3ms\tremaining: 196ms\n",
      "25:\tlearn: 0.0263156\ttotal: 77.2ms\tremaining: 193ms\n",
      "26:\tlearn: 0.0260736\ttotal: 80.2ms\tremaining: 190ms\n",
      "27:\tlearn: 0.0258117\ttotal: 83.1ms\tremaining: 187ms\n",
      "28:\tlearn: 0.0257632\ttotal: 86ms\tremaining: 184ms\n",
      "29:\tlearn: 0.0255920\ttotal: 89.1ms\tremaining: 181ms\n",
      "30:\tlearn: 0.0255552\ttotal: 91.9ms\tremaining: 178ms\n",
      "31:\tlearn: 0.0254613\ttotal: 94.9ms\tremaining: 175ms\n",
      "32:\tlearn: 0.0253689\ttotal: 97.9ms\tremaining: 172ms\n",
      "33:\tlearn: 0.0247848\ttotal: 101ms\tremaining: 169ms\n",
      "34:\tlearn: 0.0247307\ttotal: 104ms\tremaining: 166ms\n",
      "35:\tlearn: 0.0244132\ttotal: 107ms\tremaining: 163ms\n",
      "36:\tlearn: 0.0238583\ttotal: 110ms\tremaining: 160ms\n",
      "37:\tlearn: 0.0233947\ttotal: 113ms\tremaining: 157ms\n",
      "38:\tlearn: 0.0229027\ttotal: 116ms\tremaining: 154ms\n",
      "39:\tlearn: 0.0228359\ttotal: 118ms\tremaining: 151ms\n",
      "40:\tlearn: 0.0226447\ttotal: 121ms\tremaining: 148ms\n",
      "41:\tlearn: 0.0226017\ttotal: 124ms\tremaining: 145ms\n",
      "42:\tlearn: 0.0221781\ttotal: 127ms\tremaining: 142ms\n",
      "43:\tlearn: 0.0221413\ttotal: 130ms\tremaining: 139ms\n",
      "44:\tlearn: 0.0219373\ttotal: 133ms\tremaining: 136ms\n",
      "45:\tlearn: 0.0218974\ttotal: 136ms\tremaining: 133ms\n",
      "46:\tlearn: 0.0215677\ttotal: 139ms\tremaining: 130ms\n",
      "47:\tlearn: 0.0214731\ttotal: 142ms\tremaining: 127ms\n",
      "48:\tlearn: 0.0211097\ttotal: 145ms\tremaining: 124ms\n",
      "49:\tlearn: 0.0209586\ttotal: 148ms\tremaining: 121ms\n",
      "50:\tlearn: 0.0207306\ttotal: 151ms\tremaining: 118ms\n",
      "51:\tlearn: 0.0206200\ttotal: 154ms\tremaining: 115ms\n",
      "52:\tlearn: 0.0203366\ttotal: 157ms\tremaining: 112ms\n",
      "53:\tlearn: 0.0201338\ttotal: 160ms\tremaining: 110ms\n",
      "54:\tlearn: 0.0200152\ttotal: 163ms\tremaining: 107ms\n",
      "55:\tlearn: 0.0199261\ttotal: 166ms\tremaining: 104ms\n",
      "56:\tlearn: 0.0198405\ttotal: 170ms\tremaining: 101ms\n",
      "57:\tlearn: 0.0196641\ttotal: 173ms\tremaining: 98.3ms\n",
      "58:\tlearn: 0.0195868\ttotal: 176ms\tremaining: 95.6ms\n",
      "59:\tlearn: 0.0189420\ttotal: 180ms\tremaining: 92.8ms\n",
      "60:\tlearn: 0.0188395\ttotal: 183ms\tremaining: 89.9ms\n",
      "61:\tlearn: 0.0187629\ttotal: 185ms\tremaining: 86.6ms\n",
      "62:\tlearn: 0.0186892\ttotal: 189ms\tremaining: 83.8ms\n",
      "63:\tlearn: 0.0183744\ttotal: 191ms\tremaining: 80.8ms\n",
      "64:\tlearn: 0.0183627\ttotal: 194ms\tremaining: 77.8ms\n",
      "65:\tlearn: 0.0183002\ttotal: 197ms\tremaining: 74.8ms\n",
      "66:\tlearn: 0.0180591\ttotal: 200ms\tremaining: 71.8ms\n",
      "67:\tlearn: 0.0176249\ttotal: 204ms\tremaining: 68.9ms\n",
      "68:\tlearn: 0.0175512\ttotal: 207ms\tremaining: 65.8ms\n",
      "69:\tlearn: 0.0173370\ttotal: 210ms\tremaining: 62.9ms\n",
      "70:\tlearn: 0.0173276\ttotal: 212ms\tremaining: 59.8ms\n",
      "71:\tlearn: 0.0169284\ttotal: 216ms\tremaining: 56.9ms\n",
      "72:\tlearn: 0.0168341\ttotal: 218ms\tremaining: 53.9ms\n",
      "73:\tlearn: 0.0166956\ttotal: 222ms\tremaining: 50.9ms\n",
      "74:\tlearn: 0.0166763\ttotal: 225ms\tremaining: 47.9ms\n",
      "75:\tlearn: 0.0165902\ttotal: 228ms\tremaining: 44.9ms\n",
      "76:\tlearn: 0.0164348\ttotal: 231ms\tremaining: 42ms\n",
      "77:\tlearn: 0.0163932\ttotal: 234ms\tremaining: 39ms\n",
      "78:\tlearn: 0.0163853\ttotal: 237ms\tremaining: 35.9ms\n",
      "79:\tlearn: 0.0162846\ttotal: 240ms\tremaining: 33ms\n",
      "80:\tlearn: 0.0161875\ttotal: 243ms\tremaining: 30ms\n",
      "81:\tlearn: 0.0160526\ttotal: 246ms\tremaining: 26.9ms\n",
      "82:\tlearn: 0.0160187\ttotal: 248ms\tremaining: 23.9ms\n",
      "83:\tlearn: 0.0157585\ttotal: 251ms\tremaining: 20.9ms\n",
      "84:\tlearn: 0.0155284\ttotal: 254ms\tremaining: 18ms\n",
      "85:\tlearn: 0.0154153\ttotal: 257ms\tremaining: 15ms\n",
      "86:\tlearn: 0.0153652\ttotal: 260ms\tremaining: 12ms\n",
      "87:\tlearn: 0.0153385\ttotal: 263ms\tremaining: 8.98ms\n",
      "88:\tlearn: 0.0150347\ttotal: 266ms\tremaining: 5.98ms\n",
      "89:\tlearn: 0.0149957\ttotal: 269ms\tremaining: 2.99ms\n",
      "90:\tlearn: 0.0149053\ttotal: 272ms\tremaining: 0us\n",
      "MSE   :       0.0016\n",
      "RMSPE :      -1.0000\n",
      "R^2   :       0.4177\n"
     ]
    }
   ],
   "source": [
    "from catboost import CatBoostRegressor\n",
    "\n",
    "model = Pipeline([\n",
    "    (\"preproc\", preproc),\n",
    "    (\"CATBOOST\", CatBoostRegressor(n_estimators=91))\n",
    "])\n",
    "\n",
    "model.fit(X_train, y_train);\n",
    "print_eval_regressor(x_val, y_val, model)"
   ]
  },
  {
   "cell_type": "markdown",
   "id": "29401370",
   "metadata": {},
   "source": [
    "Come possiamo vedere anche gli alberi di regressione non funzionano bene."
   ]
  },
  {
   "cell_type": "markdown",
   "id": "3cf5daca",
   "metadata": {},
   "source": [
    "## 4.3 Modelli di Classificazione"
   ]
  },
  {
   "cell_type": "markdown",
   "id": "5d8819e7",
   "metadata": {},
   "source": [
    "Passiamo agli algoritmi di classificazione"
   ]
  },
  {
   "cell_type": "markdown",
   "id": "a296dc7e",
   "metadata": {},
   "source": [
    "### 4.3.1 Alberi Decisionali"
   ]
  },
  {
   "cell_type": "code",
   "execution_count": 43,
   "id": "9d4984b5",
   "metadata": {},
   "outputs": [
    {
     "name": "stdout",
     "output_type": "stream",
     "text": [
      "Confusion Matrix : \n",
      "              isFraud     Honest \n",
      "   isFraud      13291          6 \n",
      "    Honest         28          9 \n",
      "\n",
      "PRECISION  :       0.6000\n",
      "RECALL     :       0.2432\n",
      "F1-MEASURE :       0.6724\n",
      "R^2   :       0.0785\n"
     ]
    },
    {
     "data": {
      "image/png": "[encoded data removed]",
      "text/plain": [
       "<Figure size 1584x432 with 1 Axes>"
      ]
     },
     "metadata": {
      "needs_background": "light"
     },
     "output_type": "display_data"
    }
   ],
   "source": [
    "from sklearn.tree import DecisionTreeClassifier\n",
    "from sklearn.tree import plot_tree\n",
    "\n",
    "classes = [\"isFraud\", \"Honest\"]\n",
    "\n",
    "model = Pipeline([\n",
    "    (\"preproc\", preproc),\n",
    "    (\"decisionTree\", DecisionTreeClassifier(max_depth=5,random_state=43))\n",
    "])\n",
    "\n",
    "model.fit(X_train, y_train)\n",
    "print_eval_classify(x_val, y_val, model, classes)\n",
    "\n",
    "plt.figure(figsize=(22, 6))\n",
    "plot_tree(model.named_steps[\"decisionTree\"], max_depth=5, filled=True, fontsize=8);"
   ]
  },
  {
   "cell_type": "markdown",
   "id": "17f385ad",
   "metadata": {},
   "source": [
    "I DecisionTree funzionano molto meglio dei modelli di regressione."
   ]
  },
  {
   "cell_type": "markdown",
   "id": "34111a51",
   "metadata": {},
   "source": [
    "Vediamo quali spit fa stampando in maniera testuale l'albero di classificazione :"
   ]
  },
  {
   "cell_type": "code",
   "execution_count": 49,
   "id": "354874cf",
   "metadata": {},
   "outputs": [
    {
     "name": "stdout",
     "output_type": "stream",
     "text": [
      "|--- amount <= 15.00\n",
      "|   |--- x0_TRANSFER <= 0.50\n",
      "|   |   |--- amount <= 3.04\n",
      "|   |   |   |--- x0_CASH_OUT <= 0.50\n",
      "|   |   |   |   |--- class: 0\n",
      "|   |   |   |--- x0_CASH_OUT >  0.50\n",
      "|   |   |   |   |--- amount <= -0.47\n",
      "|   |   |   |   |   |--- class: 0\n",
      "|   |   |   |   |--- amount >  -0.47\n",
      "|   |   |   |   |   |--- class: 0\n",
      "|   |   |--- amount >  3.04\n",
      "|   |   |   |--- class: 1\n",
      "|   |--- x0_TRANSFER >  0.50\n",
      "|   |   |--- amount <= -0.36\n",
      "|   |   |   |--- oldbalanceOrg <= -0.33\n",
      "|   |   |   |   |--- amount <= -0.47\n",
      "|   |   |   |   |   |--- class: 1\n",
      "|   |   |   |   |--- amount >  -0.47\n",
      "|   |   |   |   |   |--- class: 0\n",
      "|   |   |   |--- oldbalanceOrg >  -0.33\n",
      "|   |   |   |   |--- newbalanceOrig <= -0.34\n",
      "|   |   |   |   |   |--- class: 1\n",
      "|   |   |   |   |--- newbalanceOrig >  -0.34\n",
      "|   |   |   |   |   |--- class: 0\n",
      "|   |   |--- amount >  -0.36\n",
      "|   |   |   |--- oldbalanceOrg <= 0.07\n",
      "|   |   |   |   |--- oldbalanceOrg <= -0.31\n",
      "|   |   |   |   |   |--- class: 0\n",
      "|   |   |   |   |--- oldbalanceOrg >  -0.31\n",
      "|   |   |   |   |   |--- class: 0\n",
      "|   |   |   |--- oldbalanceOrg >  0.07\n",
      "|   |   |   |   |--- newbalanceOrig <= -0.33\n",
      "|   |   |   |   |   |--- class: 0\n",
      "|   |   |   |   |--- newbalanceOrig >  -0.33\n",
      "|   |   |   |   |   |--- class: 0\n",
      "|--- amount >  15.00\n",
      "|   |--- oldbalanceOrg <= 0.84\n",
      "|   |   |--- class: 0\n",
      "|   |--- oldbalanceOrg >  0.84\n",
      "|   |   |--- class: 1\n",
      "\n"
     ]
    }
   ],
   "source": [
    "from sklearn.tree import export_text\n",
    "print(export_text(model.named_steps[\"decisionTree\"], feature_names=f_names))"
   ]
  },
  {
   "cell_type": "markdown",
   "id": "55201f52",
   "metadata": {},
   "source": [
    "### 4.3.2 - Logistic Loss"
   ]
  },
  {
   "cell_type": "code",
   "execution_count": null,
   "id": "6a7abe56",
   "metadata": {},
   "outputs": [],
   "source": [
    "from sklearn.linear_model import LogisticRegression\n",
    "\n",
    "model_RegLos = Pipeline([\n",
    "    (\"preproc\", preproc),\n",
    "    (\"RegLoss\", LogisticRegression(solver=\"saga\", random_state=11, class_weight={1:45}))\n",
    "])\n",
    "\n",
    "model_RegLos.fit(X_train, y_train)\n",
    "\n",
    "print_eval_classify(x_val, y_val, model, classes)"
   ]
  },
  {
   "cell_type": "markdown",
   "id": "71604880",
   "metadata": {},
   "source": [
    "Di seguito voglio creare un modello, uguale al precedente, con solo due feature per cercare di far capire\n",
    "come vengono fatti gli split e come l'algoritmo divide lo spazio.\n",
    "Non posso farlo con tutte le feature perchè sono > 2"
   ]
  },
  {
   "cell_type": "code",
   "execution_count": 56,
   "id": "3d0cd8d0",
   "metadata": {},
   "outputs": [
    {
     "name": "stderr",
     "output_type": "stream",
     "text": [
      "C:\\Users\\Federico\\anaconda3\\lib\\site-packages\\sklearn\\utils\\validation.py:63: DataConversionWarning: A column-vector y was passed when a 1d array was expected. Please change the shape of y to (n_samples, ), for example using ravel().\n",
      "  return f(*args, **kwargs)\n"
     ]
    },
    {
     "name": "stdout",
     "output_type": "stream",
     "text": [
      "Confusion Matrix : \n",
      "              isFraud     Honest \n",
      "   isFraud      13286         11 \n",
      "    Honest         35          2 \n",
      "\n",
      "PRECISION  :       0.1538\n",
      "RECALL     :       0.0541\n",
      "F1-MEASURE :       0.5391\n",
      "R^2 :      -0.2467\n"
     ]
    },
    {
     "name": "stderr",
     "output_type": "stream",
     "text": [
      "C:\\Users\\Federico\\anaconda3\\lib\\site-packages\\sklearn\\linear_model\\_sag.py:328: ConvergenceWarning: The max_iter was reached which means the coef_ did not converge\n",
      "  warnings.warn(\"The max_iter was reached which means \"\n"
     ]
    },
    {
     "data": {
      "text/plain": [
       "<Figure size 1584x432 with 0 Axes>"
      ]
     },
     "metadata": {},
     "output_type": "display_data"
    },
    {
     "data": {
      "image/png": "[encoded data removed]",
      "text/plain": [
       "<Figure size 576x432 with 1 Axes>"
      ]
     },
     "metadata": {
      "needs_background": "light"
     },
     "output_type": "display_data"
    }
   ],
   "source": [
    "X_dt = transactions[[\"oldbalanceOrg\",\"newbalanceOrig\"]]\n",
    "y_dt = transactions[[\"isFraud\"]]\n",
    "\n",
    "X_train_dt, x_val_dt, y_train_dt, y_val_dt = train_test_split(X_dt, y_dt, test_size=1/3, random_state=42)\n",
    "\n",
    "model_dt = Pipeline([\n",
    "    (\"preproc\", StandardScaler()),\n",
    "    (\"RegLoss\", LogisticRegression(solver=\"saga\", random_state=42, class_weight={1:45}))\n",
    "])\n",
    "\n",
    "model_dt.fit(X_train_dt, y_train_dt)\n",
    "print_eval_classify(x_val_dt, y_val_dt, model_dt, classes)\n",
    "\n",
    "plt.figure(figsize=(22, 6))\n",
    "\n",
    "plot_separator_on_data(x_val_dt, y_val_dt, model_dt.named_steps[\"RegLoss\"]);"
   ]
  },
  {
   "cell_type": "code",
   "execution_count": 63,
   "id": "0f8992eb",
   "metadata": {},
   "outputs": [
    {
     "data": {
      "image/png": "[encoded data removed]",
      "text/plain": [
       "<Figure size 648x432 with 2 Axes>"
      ]
     },
     "metadata": {
      "needs_background": "light"
     },
     "output_type": "display_data"
    }
   ],
   "source": [
    "mx1, mx2 = np.meshgrid(np.linspace(0, 2700, 100), np.linspace(0, 0.22, 100))\n",
    "my = model_dt.predict_proba(np.c_[mx1.ravel(), mx2.ravel()])[:, 1].reshape(mx1.shape)\n",
    "c_map = transactions[:X_train_dt.values.shape[0]][\"isFraud\"].map({0: \"blue\", 1: \"red\"})\n",
    "plt.figure(figsize=(9, 6))\n",
    "plt.contourf(mx1, mx2, my, cmap=\"summer\")\n",
    "plt.scatter(*X_train_dt.values.T, c=c_map, s=3)\n",
    "plt.colorbar();"
   ]
  },
  {
   "cell_type": "markdown",
   "id": "2834ecdd",
   "metadata": {},
   "source": [
    "### 4.3.3 XGBClassifier"
   ]
  },
  {
   "cell_type": "code",
   "execution_count": null,
   "id": "26e3f176",
   "metadata": {},
   "outputs": [],
   "source": [
    "from xgboost import XGBClassifier \n",
    "\n",
    "xgbm_c = XGBClassifier(objective='reg:squarederror', \n",
    "                    learning_rate = 0.01577, \n",
    "                    reg_lambda=0.008, \n",
    "                    reg_alpha=0.0001, \n",
    "                    n_estimators=1025, \n",
    "                    verbose_eval=False)\n",
    "model = Pipeline([\n",
    "    (\"preproc\", preproc),\n",
    "    (\"XGBClassifier\", xgbm_c)\n",
    "])\n",
    "model.fit(X_train, y_train)\n",
    "\n",
    "print_eval_classify(x_val, y_val, model, classes)"
   ]
  },
  {
   "cell_type": "markdown",
   "id": "81d120d9",
   "metadata": {},
   "source": [
    "### 4.3.4 Support Vector Machines (SVM)"
   ]
  },
  {
   "cell_type": "code",
   "execution_count": null,
   "id": "0d69b20c",
   "metadata": {},
   "outputs": [],
   "source": [
    "from sklearn.svm import SVC\n",
    "\n",
    "model_svm = Pipeline([\n",
    "    (\"preproc\", preproc),\n",
    "    (\"SVM\", SVC(kernel='rbf',random_state=42))\n",
    "])\n",
    "\n",
    "model_svm.fit(X_train, y_train)\n",
    "\n",
    "print_eval_classify(x_val, y_val, model, classes)"
   ]
  },
  {
   "cell_type": "markdown",
   "id": "90a70ceb",
   "metadata": {},
   "source": [
    "## 4.4 - Neural Network"
   ]
  },
  {
   "cell_type": "code",
   "execution_count": null,
   "id": "671a1621",
   "metadata": {},
   "outputs": [],
   "source": [
    "from tensorflow.keras.models import Sequential\n",
    "from tensorflow.keras.layers import Dense\n",
    "\n",
    "X_nn = transactions[[\"type\",\"amount\",\"oldbalanceOrg\",\"newbalanceOrig\"]]\n",
    "y_nn = transactions[[\"isFraud\"]]\n",
    "X_train_nn, x_val_nn, y_train_nn, y_val_nn = train_test_split(X_nn, y_nn, test_size=1/3, random_state=42)\n",
    "\n",
    "X_scaler = ColumnTransformer([\n",
    "        (\"numeric\",StandardScaler(),[\"amount\", \"oldbalanceOrg\", \"newbalanceOrig\"]),\n",
    "        (\"categorical\",OneHotEncoder(),[\"type\"])\n",
    "    ],remainder=\"drop\")\n",
    "\n",
    "Y_scaler = StandardScaler()\n",
    "\n",
    "X_train_nn = X_scaler.fit_transform(X_train)\n",
    "x_val_nn = X_scaler.transform(x_val)\n",
    "y_train_nn = Y_scaler.fit_transform(y_train)\n",
    "y_val_nn = Y_scaler.transform(y_val.values)\n",
    "\n",
    "model_nn = Sequential([\n",
    "    Dense(8, activation=\"relu\", input_dim=8),\n",
    "    Dense(1)\n",
    "])\n",
    "model_nn.summary()\n",
    "model_nn.compile(optimizer=\"adam\",loss=\"mean_squared_error\")\n",
    "fit_history = model_nn.fit(X_train_nn, y_train_nn, batch_size=10, epochs=15)\n",
    "print_eval_base(x_val_nn, y_val_nn, model_nn)"
   ]
  },
  {
   "cell_type": "code",
   "execution_count": null,
   "id": "16926ffd",
   "metadata": {},
   "outputs": [],
   "source": [
    "plt.plot(fit_history.history[\"loss\"], \"ro-\")\n",
    "plt.legend([\"Loss (Mean Square Error)\"])\n",
    "plt.xlabel(\"Epochs\");"
   ]
  },
  {
   "cell_type": "code",
   "execution_count": null,
   "id": "9938bd9c",
   "metadata": {},
   "outputs": [],
   "source": [
    "def build_nn(nodes, inpDim):\n",
    "    model = Sequential([\n",
    "        Dense(nodes, activation=\"relu\", input_dim=inpDim),\n",
    "        Dense(256, activation=\"softmax\"),\n",
    "        Dense(128, activation=\"relu\"),\n",
    "        Dense(64, activation=\"relu\"),\n",
    "        Dense(1)\n",
    "    ])\n",
    "    model.compile(optimizer=\"adam\", loss=\"mean_squared_error\")\n",
    "    model.summary()\n",
    "    return model"
   ]
  },
  {
   "cell_type": "code",
   "execution_count": null,
   "id": "e3134f34",
   "metadata": {},
   "outputs": [],
   "source": [
    "from tensorflow.keras.wrappers.scikit_learn import KerasRegressor\n",
    "\n",
    "model_nn = Pipeline([\n",
    "    (\"preproc\", preproc),\n",
    "    (\"NN\", KerasRegressor(build_fn=build_nn, nodes=512, inpDim=8, epochs=20, batch_size=1000))\n",
    "])\n",
    "model_nn.fit(X_train, y_train)\n",
    "print_eval_base(x_val, y_val, model_nn)"
   ]
  },
  {
   "cell_type": "markdown",
   "id": "fdc5cfbb",
   "metadata": {},
   "source": [
    "## 5 - Tuning degli Iperparametri"
   ]
  },
  {
   "cell_type": "markdown",
   "id": "60299a06",
   "metadata": {},
   "source": [
    "Per questa parte utilizziamo una porzione più ampia del datataset"
   ]
  },
  {
   "cell_type": "markdown",
   "id": "c5594978",
   "metadata": {},
   "source": [
    "In questa parte andremo ad suddividere il dataset in 3 parti e le useremo nel seguente modo :\n",
    "   - Training Set : Per addestrare i modelli\n",
    "   - Validation Set : Per vericare l'accuratteza dei modelli su dati mai visti in fase di training\n",
    "   - Test Set : Per calcolare la confidenza"
   ]
  },
  {
   "cell_type": "code",
   "execution_count": 60,
   "id": "0bfdc59f",
   "metadata": {},
   "outputs": [],
   "source": [
    "from sklearn.model_selection import GridSearchCV, KFold\n",
    "kf = KFold(3, shuffle=True, random_state=42)\n",
    "\n",
    "transactions = pd.read_csv(\"../data/data.csv\", nrows=200_000)\n",
    "X = transactions[feature_list]\n",
    "y = transactions[[\"isFraud\"]]\n",
    "\n",
    "X_train, X_val, y_train, y_val = train_test_split(X, y, test_size=1/3, random_state=42)\n",
    "X_train, X_test, y_train, y_test = train_test_split(X_train, y_train, test_size=1/3, random_state=42)"
   ]
  },
  {
   "cell_type": "markdown",
   "id": "605330c5",
   "metadata": {},
   "source": [
    "I modelli che meglio si sono comportati per questo esperimento sono stati, come ci si poteva aspettare,\n",
    "i modelli di classificazione. Andiamo quindi a cercare i migliori iperparametri per i seguenti modelli : \n",
    " - Alberi Decisionali\n",
    " - Logistic Loss\n",
    " - Support Vector Machines (SVM)"
   ]
  },
  {
   "cell_type": "code",
   "execution_count": null,
   "id": "91f62688",
   "metadata": {},
   "outputs": [],
   "source": [
    "grid = {\n",
    "    \"XGBoost__learning_rate\": [0.01577,0.001577,0.01477,0.04577]\n",
    "}\n",
    "\n",
    "gs = GridSearchCV(model_XGBoost, grid, cv=kf)\n",
    "gs.fit(X_train, y_train);"
   ]
  },
  {
   "cell_type": "code",
   "execution_count": null,
   "id": "21ff1be0",
   "metadata": {},
   "outputs": [],
   "source": [
    "grid = {\n",
    "    \"SVM__degree\": [3, 4],\n",
    "    \"SVM__kernel\": ['linear', 'poly', 'rbf']\n",
    "}\n",
    "\n",
    "gs = GridSearchCV(model_svm, grid, cv=kf)\n",
    "gs.fit(X_train, y_train);"
   ]
  },
  {
   "cell_type": "code",
   "execution_count": null,
   "id": "fe07d9a8",
   "metadata": {},
   "outputs": [],
   "source": [
    "grid = {\n",
    "    \"SVM__degree\": [3, 4],\n",
    "    \"SVM__kernel\": ['linear', 'poly', 'rbf']\n",
    "}\n",
    "\n",
    "gs = GridSearchCV(model_svm, grid, cv=kf)\n",
    "gs.fit(X_train, y_train);"
   ]
  },
  {
   "cell_type": "markdown",
   "id": "1780b2fe",
   "metadata": {},
   "source": [
    "## 6 - Conclusioni "
   ]
  },
  {
   "cell_type": "markdown",
   "id": "42aee6ef",
   "metadata": {},
   "source": [
    "Possiamo stimare l'accuratezza sui nuovi dati con un processo Bernoulliano :"
   ]
  },
  {
   "cell_type": "code",
   "execution_count": null,
   "id": "d4d380fc",
   "metadata": {},
   "outputs": [],
   "source": [
    "def bernoulli_process(confidence) :\n",
    "    z = \n",
    "    f = S / N\n",
    "    p_ub = (f + z**2/(2*N) + z*np.sqrt(f/N - f**2/N + z**2/4*N**2)) / (1+z**2/N)\n",
    "    p_lb = (f + z**2/(2*N) - z*np.sqrt(f/N - f**2/N + z**2/4*N**2)) / (1+z**2/N)\n",
    "    return p_ub, p_lb"
   ]
  },
  {
   "cell_type": "code",
   "execution_count": null,
   "id": "d71ebd96",
   "metadata": {},
   "outputs": [],
   "source": []
  },
  {
   "cell_type": "markdown",
   "id": "e6083703",
   "metadata": {},
   "source": [
    "## 7 - Deployment"
   ]
  },
  {
   "cell_type": "code",
   "execution_count": null,
   "id": "2be48e51",
   "metadata": {},
   "outputs": [],
   "source": [
    "Il modello poi può essere utilizzato da una web-app oppure una applicazione mobile "
   ]
  },
  {
   "cell_type": "markdown",
   "id": "9624a38a",
   "metadata": {},
   "source": [
    "## 8- Link alle risorse\n",
    "#### Link al dataset di kaggle\n",
    "https://www.kaggle.com/datasets/rupakroy/online-payments-fraud-detection-dataset"
   ]
  }
 ],
 "metadata": {
  "kernelspec": {
   "display_name": "Python 3 (ipykernel)",
   "language": "python",
   "name": "python3"
  },
  "language_info": {
   "codemirror_mode": {
    "name": "ipython",
    "version": 3
   },
   "file_extension": ".py",
   "mimetype": "text/x-python",
   "name": "python",
   "nbconvert_exporter": "python",
   "pygments_lexer": "ipython3",
   "version": "3.8.8"
  }
 },
 "nbformat": 4,
 "nbformat_minor": 5
}
