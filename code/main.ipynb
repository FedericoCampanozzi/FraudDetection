{
 "cells": [
  {
   "cell_type": "markdown",
   "id": "36fef92c",
   "metadata": {},
   "source": [
    "# Federico Campanozzi - Progetto Data Intensive con Relazione\n",
    "a.a. 2021/2022"
   ]
  },
  {
   "cell_type": "markdown",
   "id": "1b2f832f",
   "metadata": {},
   "source": [
    "## 1 - Descrizione del problema"
   ]
  },
  {
   "cell_type": "markdown",
   "id": "3bfd7287",
   "metadata": {},
   "source": [
    "L'obiettivo del progetto è quello di creare un modello predittivo che, data una transazione, determini se è lecita oppure no. Per fare ciò abbiamo a disposizione un dataset con circa $\\approx\\,6\\,\\cdot\\,10^6$ di esempi etichettati. \n",
    "\n",
    "Il modello da creare sarà quindi un modello di classificazione binario, cioè con sole due classi 1 se è una transazione illecita e 0 altrimenti."
   ]
  },
  {
   "cell_type": "markdown",
   "id": "1a8e2d07",
   "metadata": {},
   "source": [
    "### 1.1 - Descrizione del Dataset"
   ]
  },
  {
   "cell_type": "markdown",
   "id": "08ac2219",
   "metadata": {},
   "source": [
    "Le colonne del dataset sono così definite : \n",
    "- step: rappresenta un'unita di tempo 1 = 1 ora.\n",
    "- type: tipo di transazione.\n",
    "- amount: quanto denaro viene spostato.\n",
    "- nameOrig: codice del cliente che inizia l'operazione di transazione.\n",
    "- oldbalanceOrg: denaro nel cc del mittente.\n",
    "- newbalanceOrig: denaro nel cc del mittente alla fine della transazione.\n",
    "- nameDest: codice cliente del beneficiario.\n",
    "- oldbalanceDest: denaro nel cc del beneficiario prima che la transazione avesse inizio.\n",
    "- newbalanceDest: denaro nel cc del destinatario dopo la transazione.\n",
    "- isFraud: 1 se la transazione è stato etichettata come illecita 0 altrimenti.\n",
    "- isFlaggedFraud : il risultato del modello predittivo."
   ]
  },
  {
   "cell_type": "markdown",
   "id": "e1da3f3e",
   "metadata": {},
   "source": [
    "## 2- Analisi esplorativa"
   ]
  },
  {
   "cell_type": "markdown",
   "id": "814ca4c3",
   "metadata": {},
   "source": [
    "Importiamo le librerie di base."
   ]
  },
  {
   "cell_type": "code",
   "execution_count": 1,
   "id": "ca9a2c03",
   "metadata": {},
   "outputs": [],
   "source": [
    "import numpy as np\n",
    "import pandas as pd\n",
    "import matplotlib.pyplot as plt\n",
    "%matplotlib inline"
   ]
  },
  {
   "cell_type": "markdown",
   "id": "b7de6865",
   "metadata": {},
   "source": [
    "Partiamo con l'importare il dataset in un DataFrame pandas."
   ]
  },
  {
   "cell_type": "code",
   "execution_count": 2,
   "id": "0059e4b7",
   "metadata": {},
   "outputs": [
    {
     "name": "stdout",
     "output_type": "stream",
     "text": [
      "Dimensioni del dataset : (6362620, 11)\n"
     ]
    },
    {
     "data": {
      "text/html": [
       "<div>\n",
       "<style scoped>\n",
       "    .dataframe tbody tr th:only-of-type {\n",
       "        vertical-align: middle;\n",
       "    }\n",
       "\n",
       "    .dataframe tbody tr th {\n",
       "        vertical-align: top;\n",
       "    }\n",
       "\n",
       "    .dataframe thead th {\n",
       "        text-align: right;\n",
       "    }\n",
       "</style>\n",
       "<table border=\"1\" class=\"dataframe\">\n",
       "  <thead>\n",
       "    <tr style=\"text-align: right;\">\n",
       "      <th></th>\n",
       "      <th>step</th>\n",
       "      <th>type</th>\n",
       "      <th>amount</th>\n",
       "      <th>nameOrig</th>\n",
       "      <th>oldbalanceOrg</th>\n",
       "      <th>newbalanceOrig</th>\n",
       "      <th>nameDest</th>\n",
       "      <th>oldbalanceDest</th>\n",
       "      <th>newbalanceDest</th>\n",
       "      <th>isFraud</th>\n",
       "    </tr>\n",
       "  </thead>\n",
       "  <tbody>\n",
       "    <tr>\n",
       "      <th>0</th>\n",
       "      <td>1</td>\n",
       "      <td>PAYMENT</td>\n",
       "      <td>9839.64</td>\n",
       "      <td>C1231006815</td>\n",
       "      <td>170136.00</td>\n",
       "      <td>160296.36</td>\n",
       "      <td>M1979787155</td>\n",
       "      <td>0.0</td>\n",
       "      <td>0.00</td>\n",
       "      <td>0</td>\n",
       "    </tr>\n",
       "    <tr>\n",
       "      <th>1</th>\n",
       "      <td>1</td>\n",
       "      <td>PAYMENT</td>\n",
       "      <td>1864.28</td>\n",
       "      <td>C1666544295</td>\n",
       "      <td>21249.00</td>\n",
       "      <td>19384.72</td>\n",
       "      <td>M2044282225</td>\n",
       "      <td>0.0</td>\n",
       "      <td>0.00</td>\n",
       "      <td>0</td>\n",
       "    </tr>\n",
       "    <tr>\n",
       "      <th>2</th>\n",
       "      <td>1</td>\n",
       "      <td>TRANSFER</td>\n",
       "      <td>181.00</td>\n",
       "      <td>C1305486145</td>\n",
       "      <td>181.00</td>\n",
       "      <td>0.00</td>\n",
       "      <td>C553264065</td>\n",
       "      <td>0.0</td>\n",
       "      <td>0.00</td>\n",
       "      <td>1</td>\n",
       "    </tr>\n",
       "    <tr>\n",
       "      <th>3</th>\n",
       "      <td>1</td>\n",
       "      <td>CASH_OUT</td>\n",
       "      <td>181.00</td>\n",
       "      <td>C840083671</td>\n",
       "      <td>181.00</td>\n",
       "      <td>0.00</td>\n",
       "      <td>C38997010</td>\n",
       "      <td>21182.0</td>\n",
       "      <td>0.00</td>\n",
       "      <td>1</td>\n",
       "    </tr>\n",
       "    <tr>\n",
       "      <th>4</th>\n",
       "      <td>1</td>\n",
       "      <td>PAYMENT</td>\n",
       "      <td>11668.14</td>\n",
       "      <td>C2048537720</td>\n",
       "      <td>41554.00</td>\n",
       "      <td>29885.86</td>\n",
       "      <td>M1230701703</td>\n",
       "      <td>0.0</td>\n",
       "      <td>0.00</td>\n",
       "      <td>0</td>\n",
       "    </tr>\n",
       "    <tr>\n",
       "      <th>5</th>\n",
       "      <td>1</td>\n",
       "      <td>PAYMENT</td>\n",
       "      <td>7817.71</td>\n",
       "      <td>C90045638</td>\n",
       "      <td>53860.00</td>\n",
       "      <td>46042.29</td>\n",
       "      <td>M573487274</td>\n",
       "      <td>0.0</td>\n",
       "      <td>0.00</td>\n",
       "      <td>0</td>\n",
       "    </tr>\n",
       "    <tr>\n",
       "      <th>6</th>\n",
       "      <td>1</td>\n",
       "      <td>PAYMENT</td>\n",
       "      <td>7107.77</td>\n",
       "      <td>C154988899</td>\n",
       "      <td>183195.00</td>\n",
       "      <td>176087.23</td>\n",
       "      <td>M408069119</td>\n",
       "      <td>0.0</td>\n",
       "      <td>0.00</td>\n",
       "      <td>0</td>\n",
       "    </tr>\n",
       "    <tr>\n",
       "      <th>7</th>\n",
       "      <td>1</td>\n",
       "      <td>PAYMENT</td>\n",
       "      <td>7861.64</td>\n",
       "      <td>C1912850431</td>\n",
       "      <td>176087.23</td>\n",
       "      <td>168225.59</td>\n",
       "      <td>M633326333</td>\n",
       "      <td>0.0</td>\n",
       "      <td>0.00</td>\n",
       "      <td>0</td>\n",
       "    </tr>\n",
       "    <tr>\n",
       "      <th>8</th>\n",
       "      <td>1</td>\n",
       "      <td>PAYMENT</td>\n",
       "      <td>4024.36</td>\n",
       "      <td>C1265012928</td>\n",
       "      <td>2671.00</td>\n",
       "      <td>0.00</td>\n",
       "      <td>M1176932104</td>\n",
       "      <td>0.0</td>\n",
       "      <td>0.00</td>\n",
       "      <td>0</td>\n",
       "    </tr>\n",
       "    <tr>\n",
       "      <th>9</th>\n",
       "      <td>1</td>\n",
       "      <td>DEBIT</td>\n",
       "      <td>5337.77</td>\n",
       "      <td>C712410124</td>\n",
       "      <td>41720.00</td>\n",
       "      <td>36382.23</td>\n",
       "      <td>C195600860</td>\n",
       "      <td>41898.0</td>\n",
       "      <td>40348.79</td>\n",
       "      <td>0</td>\n",
       "    </tr>\n",
       "  </tbody>\n",
       "</table>\n",
       "</div>"
      ],
      "text/plain": [
       "   step      type    amount     nameOrig  oldbalanceOrg  newbalanceOrig  \\\n",
       "0     1   PAYMENT   9839.64  C1231006815      170136.00       160296.36   \n",
       "1     1   PAYMENT   1864.28  C1666544295       21249.00        19384.72   \n",
       "2     1  TRANSFER    181.00  C1305486145         181.00            0.00   \n",
       "3     1  CASH_OUT    181.00   C840083671         181.00            0.00   \n",
       "4     1   PAYMENT  11668.14  C2048537720       41554.00        29885.86   \n",
       "5     1   PAYMENT   7817.71    C90045638       53860.00        46042.29   \n",
       "6     1   PAYMENT   7107.77   C154988899      183195.00       176087.23   \n",
       "7     1   PAYMENT   7861.64  C1912850431      176087.23       168225.59   \n",
       "8     1   PAYMENT   4024.36  C1265012928        2671.00            0.00   \n",
       "9     1     DEBIT   5337.77   C712410124       41720.00        36382.23   \n",
       "\n",
       "      nameDest  oldbalanceDest  newbalanceDest  isFraud  \n",
       "0  M1979787155             0.0            0.00        0  \n",
       "1  M2044282225             0.0            0.00        0  \n",
       "2   C553264065             0.0            0.00        1  \n",
       "3    C38997010         21182.0            0.00        1  \n",
       "4  M1230701703             0.0            0.00        0  \n",
       "5   M573487274             0.0            0.00        0  \n",
       "6   M408069119             0.0            0.00        0  \n",
       "7   M633326333             0.0            0.00        0  \n",
       "8  M1176932104             0.0            0.00        0  \n",
       "9   C195600860         41898.0        40348.79        0  "
      ]
     },
     "execution_count": 2,
     "metadata": {},
     "output_type": "execute_result"
    }
   ],
   "source": [
    "transactions = pd.read_csv(\"../data/data.csv\")\n",
    "print(f\"Dimensioni del dataset : {transactions.values.shape}\")\n",
    "transactions.drop(columns=[\"isFlaggedFraud\"])[:10]"
   ]
  },
  {
   "cell_type": "markdown",
   "id": "eef91c1f",
   "metadata": {},
   "source": [
    "Estraiamo, con il metodo *describe*, dal DataFrame tutte le statistiche utili al fine di capire le feature che possiamo usare e le feature che è meglio \"accantonare\". Ho usato il parametro *include='all'* poichè nel dataset ci sono variabili categoriche (i.e. nameDest) e quindi pandas può non restituire alcune righe (i.e. unique, top e altre) che invece mi interessa sapere. *include='all'* permette appunto di includere i valori mancanti (NaN)."
   ]
  },
  {
   "cell_type": "code",
   "execution_count": 3,
   "id": "1b9f46ba",
   "metadata": {
    "scrolled": true
   },
   "outputs": [
    {
     "data": {
      "text/html": [
       "<div>\n",
       "<style scoped>\n",
       "    .dataframe tbody tr th:only-of-type {\n",
       "        vertical-align: middle;\n",
       "    }\n",
       "\n",
       "    .dataframe tbody tr th {\n",
       "        vertical-align: top;\n",
       "    }\n",
       "\n",
       "    .dataframe thead th {\n",
       "        text-align: right;\n",
       "    }\n",
       "</style>\n",
       "<table border=\"1\" class=\"dataframe\">\n",
       "  <thead>\n",
       "    <tr style=\"text-align: right;\">\n",
       "      <th></th>\n",
       "      <th>step</th>\n",
       "      <th>type</th>\n",
       "      <th>amount</th>\n",
       "      <th>nameOrig</th>\n",
       "      <th>oldbalanceOrg</th>\n",
       "      <th>newbalanceOrig</th>\n",
       "      <th>nameDest</th>\n",
       "      <th>oldbalanceDest</th>\n",
       "      <th>newbalanceDest</th>\n",
       "      <th>isFraud</th>\n",
       "    </tr>\n",
       "  </thead>\n",
       "  <tbody>\n",
       "    <tr>\n",
       "      <th>count</th>\n",
       "      <td>6.362620e+06</td>\n",
       "      <td>6362620</td>\n",
       "      <td>6.362620e+06</td>\n",
       "      <td>6362620</td>\n",
       "      <td>6.362620e+06</td>\n",
       "      <td>6.362620e+06</td>\n",
       "      <td>6362620</td>\n",
       "      <td>6.362620e+06</td>\n",
       "      <td>6.362620e+06</td>\n",
       "      <td>6.362620e+06</td>\n",
       "    </tr>\n",
       "    <tr>\n",
       "      <th>unique</th>\n",
       "      <td>NaN</td>\n",
       "      <td>5</td>\n",
       "      <td>NaN</td>\n",
       "      <td>6353307</td>\n",
       "      <td>NaN</td>\n",
       "      <td>NaN</td>\n",
       "      <td>2722362</td>\n",
       "      <td>NaN</td>\n",
       "      <td>NaN</td>\n",
       "      <td>NaN</td>\n",
       "    </tr>\n",
       "    <tr>\n",
       "      <th>top</th>\n",
       "      <td>NaN</td>\n",
       "      <td>CASH_OUT</td>\n",
       "      <td>NaN</td>\n",
       "      <td>C1902386530</td>\n",
       "      <td>NaN</td>\n",
       "      <td>NaN</td>\n",
       "      <td>C1286084959</td>\n",
       "      <td>NaN</td>\n",
       "      <td>NaN</td>\n",
       "      <td>NaN</td>\n",
       "    </tr>\n",
       "    <tr>\n",
       "      <th>freq</th>\n",
       "      <td>NaN</td>\n",
       "      <td>2237500</td>\n",
       "      <td>NaN</td>\n",
       "      <td>3</td>\n",
       "      <td>NaN</td>\n",
       "      <td>NaN</td>\n",
       "      <td>113</td>\n",
       "      <td>NaN</td>\n",
       "      <td>NaN</td>\n",
       "      <td>NaN</td>\n",
       "    </tr>\n",
       "    <tr>\n",
       "      <th>mean</th>\n",
       "      <td>2.433972e+02</td>\n",
       "      <td>NaN</td>\n",
       "      <td>1.798619e+05</td>\n",
       "      <td>NaN</td>\n",
       "      <td>8.338831e+05</td>\n",
       "      <td>8.551137e+05</td>\n",
       "      <td>NaN</td>\n",
       "      <td>1.100702e+06</td>\n",
       "      <td>1.224996e+06</td>\n",
       "      <td>1.290820e-03</td>\n",
       "    </tr>\n",
       "    <tr>\n",
       "      <th>std</th>\n",
       "      <td>1.423320e+02</td>\n",
       "      <td>NaN</td>\n",
       "      <td>6.038582e+05</td>\n",
       "      <td>NaN</td>\n",
       "      <td>2.888243e+06</td>\n",
       "      <td>2.924049e+06</td>\n",
       "      <td>NaN</td>\n",
       "      <td>3.399180e+06</td>\n",
       "      <td>3.674129e+06</td>\n",
       "      <td>3.590480e-02</td>\n",
       "    </tr>\n",
       "    <tr>\n",
       "      <th>min</th>\n",
       "      <td>1.000000e+00</td>\n",
       "      <td>NaN</td>\n",
       "      <td>0.000000e+00</td>\n",
       "      <td>NaN</td>\n",
       "      <td>0.000000e+00</td>\n",
       "      <td>0.000000e+00</td>\n",
       "      <td>NaN</td>\n",
       "      <td>0.000000e+00</td>\n",
       "      <td>0.000000e+00</td>\n",
       "      <td>0.000000e+00</td>\n",
       "    </tr>\n",
       "    <tr>\n",
       "      <th>25%</th>\n",
       "      <td>1.560000e+02</td>\n",
       "      <td>NaN</td>\n",
       "      <td>1.338957e+04</td>\n",
       "      <td>NaN</td>\n",
       "      <td>0.000000e+00</td>\n",
       "      <td>0.000000e+00</td>\n",
       "      <td>NaN</td>\n",
       "      <td>0.000000e+00</td>\n",
       "      <td>0.000000e+00</td>\n",
       "      <td>0.000000e+00</td>\n",
       "    </tr>\n",
       "    <tr>\n",
       "      <th>50%</th>\n",
       "      <td>2.390000e+02</td>\n",
       "      <td>NaN</td>\n",
       "      <td>7.487194e+04</td>\n",
       "      <td>NaN</td>\n",
       "      <td>1.420800e+04</td>\n",
       "      <td>0.000000e+00</td>\n",
       "      <td>NaN</td>\n",
       "      <td>1.327057e+05</td>\n",
       "      <td>2.146614e+05</td>\n",
       "      <td>0.000000e+00</td>\n",
       "    </tr>\n",
       "    <tr>\n",
       "      <th>75%</th>\n",
       "      <td>3.350000e+02</td>\n",
       "      <td>NaN</td>\n",
       "      <td>2.087215e+05</td>\n",
       "      <td>NaN</td>\n",
       "      <td>1.073152e+05</td>\n",
       "      <td>1.442584e+05</td>\n",
       "      <td>NaN</td>\n",
       "      <td>9.430367e+05</td>\n",
       "      <td>1.111909e+06</td>\n",
       "      <td>0.000000e+00</td>\n",
       "    </tr>\n",
       "    <tr>\n",
       "      <th>max</th>\n",
       "      <td>7.430000e+02</td>\n",
       "      <td>NaN</td>\n",
       "      <td>9.244552e+07</td>\n",
       "      <td>NaN</td>\n",
       "      <td>5.958504e+07</td>\n",
       "      <td>4.958504e+07</td>\n",
       "      <td>NaN</td>\n",
       "      <td>3.560159e+08</td>\n",
       "      <td>3.561793e+08</td>\n",
       "      <td>1.000000e+00</td>\n",
       "    </tr>\n",
       "  </tbody>\n",
       "</table>\n",
       "</div>"
      ],
      "text/plain": [
       "                step      type        amount     nameOrig  oldbalanceOrg  \\\n",
       "count   6.362620e+06   6362620  6.362620e+06      6362620   6.362620e+06   \n",
       "unique           NaN         5           NaN      6353307            NaN   \n",
       "top              NaN  CASH_OUT           NaN  C1902386530            NaN   \n",
       "freq             NaN   2237500           NaN            3            NaN   \n",
       "mean    2.433972e+02       NaN  1.798619e+05          NaN   8.338831e+05   \n",
       "std     1.423320e+02       NaN  6.038582e+05          NaN   2.888243e+06   \n",
       "min     1.000000e+00       NaN  0.000000e+00          NaN   0.000000e+00   \n",
       "25%     1.560000e+02       NaN  1.338957e+04          NaN   0.000000e+00   \n",
       "50%     2.390000e+02       NaN  7.487194e+04          NaN   1.420800e+04   \n",
       "75%     3.350000e+02       NaN  2.087215e+05          NaN   1.073152e+05   \n",
       "max     7.430000e+02       NaN  9.244552e+07          NaN   5.958504e+07   \n",
       "\n",
       "        newbalanceOrig     nameDest  oldbalanceDest  newbalanceDest  \\\n",
       "count     6.362620e+06      6362620    6.362620e+06    6.362620e+06   \n",
       "unique             NaN      2722362             NaN             NaN   \n",
       "top                NaN  C1286084959             NaN             NaN   \n",
       "freq               NaN          113             NaN             NaN   \n",
       "mean      8.551137e+05          NaN    1.100702e+06    1.224996e+06   \n",
       "std       2.924049e+06          NaN    3.399180e+06    3.674129e+06   \n",
       "min       0.000000e+00          NaN    0.000000e+00    0.000000e+00   \n",
       "25%       0.000000e+00          NaN    0.000000e+00    0.000000e+00   \n",
       "50%       0.000000e+00          NaN    1.327057e+05    2.146614e+05   \n",
       "75%       1.442584e+05          NaN    9.430367e+05    1.111909e+06   \n",
       "max       4.958504e+07          NaN    3.560159e+08    3.561793e+08   \n",
       "\n",
       "             isFraud  \n",
       "count   6.362620e+06  \n",
       "unique           NaN  \n",
       "top              NaN  \n",
       "freq             NaN  \n",
       "mean    1.290820e-03  \n",
       "std     3.590480e-02  \n",
       "min     0.000000e+00  \n",
       "25%     0.000000e+00  \n",
       "50%     0.000000e+00  \n",
       "75%     0.000000e+00  \n",
       "max     1.000000e+00  "
      ]
     },
     "execution_count": 3,
     "metadata": {},
     "output_type": "execute_result"
    }
   ],
   "source": [
    "transactions.drop(columns=[\"isFlaggedFraud\"]).describe(include='all')"
   ]
  },
  {
   "cell_type": "markdown",
   "id": "57b2b48e",
   "metadata": {},
   "source": [
    "Determiniamo, grazie al metodo *corr*, la matrice di correlazione per capire quali feature sono maggiormente correlate ad altre. A titolo di esempio usiamo la correlazione di pearson."
   ]
  },
  {
   "cell_type": "code",
   "execution_count": 4,
   "id": "414a7c0c",
   "metadata": {
    "scrolled": true
   },
   "outputs": [
    {
     "data": {
      "text/html": [
       "<div>\n",
       "<style scoped>\n",
       "    .dataframe tbody tr th:only-of-type {\n",
       "        vertical-align: middle;\n",
       "    }\n",
       "\n",
       "    .dataframe tbody tr th {\n",
       "        vertical-align: top;\n",
       "    }\n",
       "\n",
       "    .dataframe thead th {\n",
       "        text-align: right;\n",
       "    }\n",
       "</style>\n",
       "<table border=\"1\" class=\"dataframe\">\n",
       "  <thead>\n",
       "    <tr style=\"text-align: right;\">\n",
       "      <th></th>\n",
       "      <th>step</th>\n",
       "      <th>amount</th>\n",
       "      <th>oldbalanceOrg</th>\n",
       "      <th>newbalanceOrig</th>\n",
       "      <th>oldbalanceDest</th>\n",
       "      <th>newbalanceDest</th>\n",
       "      <th>isFraud</th>\n",
       "    </tr>\n",
       "  </thead>\n",
       "  <tbody>\n",
       "    <tr>\n",
       "      <th>step</th>\n",
       "      <td>1.000000</td>\n",
       "      <td>0.022373</td>\n",
       "      <td>-0.010058</td>\n",
       "      <td>-0.010299</td>\n",
       "      <td>0.027665</td>\n",
       "      <td>0.025888</td>\n",
       "      <td>0.031578</td>\n",
       "    </tr>\n",
       "    <tr>\n",
       "      <th>amount</th>\n",
       "      <td>0.022373</td>\n",
       "      <td>1.000000</td>\n",
       "      <td>-0.002762</td>\n",
       "      <td>-0.007861</td>\n",
       "      <td>0.294137</td>\n",
       "      <td>0.459304</td>\n",
       "      <td>0.076688</td>\n",
       "    </tr>\n",
       "    <tr>\n",
       "      <th>oldbalanceOrg</th>\n",
       "      <td>-0.010058</td>\n",
       "      <td>-0.002762</td>\n",
       "      <td>1.000000</td>\n",
       "      <td>0.998803</td>\n",
       "      <td>0.066243</td>\n",
       "      <td>0.042029</td>\n",
       "      <td>0.010154</td>\n",
       "    </tr>\n",
       "    <tr>\n",
       "      <th>newbalanceOrig</th>\n",
       "      <td>-0.010299</td>\n",
       "      <td>-0.007861</td>\n",
       "      <td>0.998803</td>\n",
       "      <td>1.000000</td>\n",
       "      <td>0.067812</td>\n",
       "      <td>0.041837</td>\n",
       "      <td>-0.008148</td>\n",
       "    </tr>\n",
       "    <tr>\n",
       "      <th>oldbalanceDest</th>\n",
       "      <td>0.027665</td>\n",
       "      <td>0.294137</td>\n",
       "      <td>0.066243</td>\n",
       "      <td>0.067812</td>\n",
       "      <td>1.000000</td>\n",
       "      <td>0.976569</td>\n",
       "      <td>-0.005885</td>\n",
       "    </tr>\n",
       "    <tr>\n",
       "      <th>newbalanceDest</th>\n",
       "      <td>0.025888</td>\n",
       "      <td>0.459304</td>\n",
       "      <td>0.042029</td>\n",
       "      <td>0.041837</td>\n",
       "      <td>0.976569</td>\n",
       "      <td>1.000000</td>\n",
       "      <td>0.000535</td>\n",
       "    </tr>\n",
       "    <tr>\n",
       "      <th>isFraud</th>\n",
       "      <td>0.031578</td>\n",
       "      <td>0.076688</td>\n",
       "      <td>0.010154</td>\n",
       "      <td>-0.008148</td>\n",
       "      <td>-0.005885</td>\n",
       "      <td>0.000535</td>\n",
       "      <td>1.000000</td>\n",
       "    </tr>\n",
       "  </tbody>\n",
       "</table>\n",
       "</div>"
      ],
      "text/plain": [
       "                    step    amount  oldbalanceOrg  newbalanceOrig  \\\n",
       "step            1.000000  0.022373      -0.010058       -0.010299   \n",
       "amount          0.022373  1.000000      -0.002762       -0.007861   \n",
       "oldbalanceOrg  -0.010058 -0.002762       1.000000        0.998803   \n",
       "newbalanceOrig -0.010299 -0.007861       0.998803        1.000000   \n",
       "oldbalanceDest  0.027665  0.294137       0.066243        0.067812   \n",
       "newbalanceDest  0.025888  0.459304       0.042029        0.041837   \n",
       "isFraud         0.031578  0.076688       0.010154       -0.008148   \n",
       "\n",
       "                oldbalanceDest  newbalanceDest   isFraud  \n",
       "step                  0.027665        0.025888  0.031578  \n",
       "amount                0.294137        0.459304  0.076688  \n",
       "oldbalanceOrg         0.066243        0.042029  0.010154  \n",
       "newbalanceOrig        0.067812        0.041837 -0.008148  \n",
       "oldbalanceDest        1.000000        0.976569 -0.005885  \n",
       "newbalanceDest        0.976569        1.000000  0.000535  \n",
       "isFraud              -0.005885        0.000535  1.000000  "
      ]
     },
     "execution_count": 4,
     "metadata": {},
     "output_type": "execute_result"
    }
   ],
   "source": [
    "transactions.drop(columns=[\"isFlaggedFraud\"]).corr(method='pearson')"
   ]
  },
  {
   "cell_type": "markdown",
   "id": "b075b28e",
   "metadata": {},
   "source": [
    "Possiamo notare che le feature maggiorment correlate sono :"
   ]
  },
  {
   "cell_type": "code",
   "execution_count": 5,
   "id": "d773f8f3",
   "metadata": {},
   "outputs": [],
   "source": [
    "feature_list = [\"type\",\"amount\",\"oldbalanceOrg\",\"newbalanceOrig\"]"
   ]
  },
  {
   "cell_type": "markdown",
   "id": "e52f3456",
   "metadata": {},
   "source": [
    "Purtroppo il metodo *corr* non supporta nativamente il calcolo della correlazione per le variabili categoriche, quindi ho aggiunto alla *feature_list* anche la variabile categorica \"type\" (vediamo dopo il perchè). "
   ]
  },
  {
   "cell_type": "markdown",
   "id": "1319bf08",
   "metadata": {},
   "source": [
    "Le variabili categoriche *nameOrig* e *nameDest* sono state scartate perchè altamente variabili e non continue, quindi non direttamente utilizzabili. Ho escluso la variabile *step* perchè difficilmente utilizzabile sia come var. categorica sia come var. numerica.\n",
    "\n",
    "In generale è sempre possibile utilizzare le variabili costruendo dei metodi \"ad hoc\" per raggrupparle, in questo progetto non ho trovato un metodo che facesse al caso mio."
   ]
  },
  {
   "cell_type": "markdown",
   "id": "a6271be2",
   "metadata": {},
   "source": [
    "### 2.1 - Grafici"
   ]
  },
  {
   "cell_type": "markdown",
   "id": "bf79949b",
   "metadata": {},
   "source": [
    "I seguenti grafici hanno lo scopo di far capire quanto il \"tipo transazione\" (variabile categorica \"type\") è importante nel nostro studio (quindi anche il perchè è stata inclusa nella *feature_list*) e lo sbilanciamento della var. binaria da predire *isFraud*."
   ]
  },
  {
   "cell_type": "code",
   "execution_count": 6,
   "id": "bdbb25c0",
   "metadata": {},
   "outputs": [
    {
     "data": {
      "image/png": "[encoded data removed]",
      "text/plain": [
       "<Figure size 1152x720 with 3 Axes>"
      ]
     },
     "metadata": {},
     "output_type": "display_data"
    }
   ],
   "source": [
    "plt.figure(figsize=(16, 10))\n",
    "transactions[\"type\"].value_counts().plot.pie(ax=plt.subplot(1, 3, 1));\n",
    "transactions[\"isFraud\"].value_counts().plot.pie(ax=plt.subplot(1, 3, 2));\n",
    "transactions[transactions[\"isFraud\"] == 1][\"type\"].value_counts().plot.pie(ax=plt.subplot(1, 3,3));"
   ]
  },
  {
   "cell_type": "markdown",
   "id": "78628669",
   "metadata": {},
   "source": [
    "Per visualizzare su un grafico a dispersione la correlazione delle feature si può procedere in diversi modi. Quello proposto in questo progetto è la creazione di n grafici che combinano 2 feature alla volta. Questo approccio può andare bene se il numero di feature è ridotto (<10) altrimenti bisogna procedere a buon senso (i.e. basandosi sulla matrice di correlazione) creando manualmente i grafici.\n",
    "\n",
    "Per questa parte uso un dataset ridotto per limitare il tempo di calcolo dei grafici e perchè quello che vogliamo è un'indicazione generale."
   ]
  },
  {
   "cell_type": "code",
   "execution_count": 7,
   "id": "7ef03a4f",
   "metadata": {
    "scrolled": false
   },
   "outputs": [
    {
     "data": {
      "image/png": "[encoded data removed]",
      "text/plain": [
       "<Figure size 720x432 with 1 Axes>"
      ]
     },
     "metadata": {
      "needs_background": "light"
     },
     "output_type": "display_data"
    },
    {
     "data": {
      "image/png": "[encoded data removed]",
      "text/plain": [
       "<Figure size 720x432 with 1 Axes>"
      ]
     },
     "metadata": {
      "needs_background": "light"
     },
     "output_type": "display_data"
    },
    {
     "data": {
      "image/png": "[encoded data removed]",
      "text/plain": [
       "<Figure size 720x432 with 1 Axes>"
      ]
     },
     "metadata": {
      "needs_background": "light"
     },
     "output_type": "display_data"
    }
   ],
   "source": [
    "transactions = pd.read_csv(\"../data/data.csv\", nrows=40_000)\n",
    "tfraut_colors = transactions[\"isFraud\"].map({0: \"blue\", 1: \"red\"})\n",
    "for f_i in range(1, len(feature_list)):\n",
    "     for f_j in range(f_i + 1, len(feature_list)) :        \n",
    "        transactions.plot.scatter(feature_list[f_i], feature_list[f_j], c=tfraut_colors, figsize=(10, 6));"
   ]
  },
  {
   "cell_type": "markdown",
   "id": "1d62ab2a",
   "metadata": {},
   "source": [
    "## 3 - Normalizzazione dei dati"
   ]
  },
  {
   "cell_type": "markdown",
   "id": "fce96a1d",
   "metadata": {},
   "source": [
    "Iniziamo col dividere le feature in due gruppi (perchè poi andranno trattate diversamente):\n",
    "   - Feature Numeriche : Applicheremo una **normalizzazione** per avere la stessa scala.\n",
    "   - Feature Categoriche : Applicheremo una **binarizzazione** che sotituisce ogni singola colonna categorica con n colonne binarie, dove n indica il numero distinto di valori. In questo dataset, come anche anticipato nel punto 1, l'unica var. facilmente utilizzabile è \"type\" che produrrà 5 var. binarie."
   ]
  },
  {
   "cell_type": "code",
   "execution_count": 8,
   "id": "3f507edf",
   "metadata": {},
   "outputs": [],
   "source": [
    "feature_numeric = [\"amount\",\"oldbalanceOrg\",\"newbalanceOrig\"]\n",
    "feature_categorical = [\"type\"]"
   ]
  },
  {
   "cell_type": "markdown",
   "id": "3d7d6195",
   "metadata": {},
   "source": [
    "Grazie alla classe *ColumnTransformer* possiamo applica entrambe queste trasformazioni in modo semplice e in *Pipeline*. Memorizzo l'oggeto in una variabile così lo posso riutilizzare successivamente per la creazione dei modelli di learning."
   ]
  },
  {
   "cell_type": "code",
   "execution_count": 9,
   "id": "1366ae03",
   "metadata": {},
   "outputs": [],
   "source": [
    "from sklearn.model_selection import train_test_split\n",
    "from sklearn.compose import ColumnTransformer\n",
    "from sklearn.preprocessing import StandardScaler\n",
    "from sklearn.preprocessing import OneHotEncoder\n",
    "\n",
    "X = transactions[feature_list]\n",
    "y = transactions[[\"isFraud\"]]\n",
    "\n",
    "X_train, X_val, y_train, y_val = train_test_split(X, y, test_size=1/3, random_state=43)\n",
    "\n",
    "preproc = ColumnTransformer([\n",
    "    (\"numeric\",StandardScaler(),feature_numeric),\n",
    "        (\"categorical\",OneHotEncoder(),feature_categorical)\n",
    "    ],remainder=\"drop\")"
   ]
  },
  {
   "cell_type": "markdown",
   "id": "d475df7d",
   "metadata": {},
   "source": [
    "Vediamo, a titolo di esmpio, come cambia il daset visualizzando i primi 10 record."
   ]
  },
  {
   "cell_type": "code",
   "execution_count": 10,
   "id": "dd94ed3c",
   "metadata": {},
   "outputs": [
    {
     "data": {
      "text/html": [
       "<div>\n",
       "<style scoped>\n",
       "    .dataframe tbody tr th:only-of-type {\n",
       "        vertical-align: middle;\n",
       "    }\n",
       "\n",
       "    .dataframe tbody tr th {\n",
       "        vertical-align: top;\n",
       "    }\n",
       "\n",
       "    .dataframe thead th {\n",
       "        text-align: right;\n",
       "    }\n",
       "</style>\n",
       "<table border=\"1\" class=\"dataframe\">\n",
       "  <thead>\n",
       "    <tr style=\"text-align: right;\">\n",
       "      <th></th>\n",
       "      <th>amount</th>\n",
       "      <th>oldbalanceOrg</th>\n",
       "      <th>newbalanceOrig</th>\n",
       "      <th>x0_CASH_IN</th>\n",
       "      <th>x0_CASH_OUT</th>\n",
       "      <th>x0_DEBIT</th>\n",
       "      <th>x0_PAYMENT</th>\n",
       "      <th>x0_TRANSFER</th>\n",
       "    </tr>\n",
       "  </thead>\n",
       "  <tbody>\n",
       "    <tr>\n",
       "      <th>0</th>\n",
       "      <td>-0.439241</td>\n",
       "      <td>-0.266896</td>\n",
       "      <td>-0.273043</td>\n",
       "      <td>0.0</td>\n",
       "      <td>0.0</td>\n",
       "      <td>0.0</td>\n",
       "      <td>1.0</td>\n",
       "      <td>0.0</td>\n",
       "    </tr>\n",
       "    <tr>\n",
       "      <th>1</th>\n",
       "      <td>-0.464742</td>\n",
       "      <td>-0.331287</td>\n",
       "      <td>-0.333001</td>\n",
       "      <td>0.0</td>\n",
       "      <td>0.0</td>\n",
       "      <td>0.0</td>\n",
       "      <td>1.0</td>\n",
       "      <td>0.0</td>\n",
       "    </tr>\n",
       "    <tr>\n",
       "      <th>2</th>\n",
       "      <td>-0.470125</td>\n",
       "      <td>-0.340399</td>\n",
       "      <td>-0.341250</td>\n",
       "      <td>0.0</td>\n",
       "      <td>0.0</td>\n",
       "      <td>0.0</td>\n",
       "      <td>0.0</td>\n",
       "      <td>1.0</td>\n",
       "    </tr>\n",
       "    <tr>\n",
       "      <th>3</th>\n",
       "      <td>-0.470125</td>\n",
       "      <td>-0.340399</td>\n",
       "      <td>-0.341250</td>\n",
       "      <td>0.0</td>\n",
       "      <td>1.0</td>\n",
       "      <td>0.0</td>\n",
       "      <td>0.0</td>\n",
       "      <td>0.0</td>\n",
       "    </tr>\n",
       "    <tr>\n",
       "      <th>4</th>\n",
       "      <td>-0.433394</td>\n",
       "      <td>-0.322506</td>\n",
       "      <td>-0.328533</td>\n",
       "      <td>0.0</td>\n",
       "      <td>0.0</td>\n",
       "      <td>0.0</td>\n",
       "      <td>1.0</td>\n",
       "      <td>0.0</td>\n",
       "    </tr>\n",
       "    <tr>\n",
       "      <th>5</th>\n",
       "      <td>-0.445706</td>\n",
       "      <td>-0.317184</td>\n",
       "      <td>-0.321659</td>\n",
       "      <td>0.0</td>\n",
       "      <td>0.0</td>\n",
       "      <td>0.0</td>\n",
       "      <td>1.0</td>\n",
       "      <td>0.0</td>\n",
       "    </tr>\n",
       "    <tr>\n",
       "      <th>6</th>\n",
       "      <td>-0.447976</td>\n",
       "      <td>-0.261248</td>\n",
       "      <td>-0.266324</td>\n",
       "      <td>0.0</td>\n",
       "      <td>0.0</td>\n",
       "      <td>0.0</td>\n",
       "      <td>1.0</td>\n",
       "      <td>0.0</td>\n",
       "    </tr>\n",
       "    <tr>\n",
       "      <th>7</th>\n",
       "      <td>-0.445566</td>\n",
       "      <td>-0.264322</td>\n",
       "      <td>-0.269670</td>\n",
       "      <td>0.0</td>\n",
       "      <td>0.0</td>\n",
       "      <td>0.0</td>\n",
       "      <td>1.0</td>\n",
       "      <td>0.0</td>\n",
       "    </tr>\n",
       "    <tr>\n",
       "      <th>8</th>\n",
       "      <td>-0.457835</td>\n",
       "      <td>-0.339322</td>\n",
       "      <td>-0.341250</td>\n",
       "      <td>0.0</td>\n",
       "      <td>0.0</td>\n",
       "      <td>0.0</td>\n",
       "      <td>1.0</td>\n",
       "      <td>0.0</td>\n",
       "    </tr>\n",
       "    <tr>\n",
       "      <th>9</th>\n",
       "      <td>-0.453636</td>\n",
       "      <td>-0.322434</td>\n",
       "      <td>-0.325769</td>\n",
       "      <td>0.0</td>\n",
       "      <td>0.0</td>\n",
       "      <td>1.0</td>\n",
       "      <td>0.0</td>\n",
       "      <td>0.0</td>\n",
       "    </tr>\n",
       "  </tbody>\n",
       "</table>\n",
       "</div>"
      ],
      "text/plain": [
       "     amount  oldbalanceOrg  newbalanceOrig  x0_CASH_IN  x0_CASH_OUT  x0_DEBIT  \\\n",
       "0 -0.439241      -0.266896       -0.273043         0.0          0.0       0.0   \n",
       "1 -0.464742      -0.331287       -0.333001         0.0          0.0       0.0   \n",
       "2 -0.470125      -0.340399       -0.341250         0.0          0.0       0.0   \n",
       "3 -0.470125      -0.340399       -0.341250         0.0          1.0       0.0   \n",
       "4 -0.433394      -0.322506       -0.328533         0.0          0.0       0.0   \n",
       "5 -0.445706      -0.317184       -0.321659         0.0          0.0       0.0   \n",
       "6 -0.447976      -0.261248       -0.266324         0.0          0.0       0.0   \n",
       "7 -0.445566      -0.264322       -0.269670         0.0          0.0       0.0   \n",
       "8 -0.457835      -0.339322       -0.341250         0.0          0.0       0.0   \n",
       "9 -0.453636      -0.322434       -0.325769         0.0          0.0       1.0   \n",
       "\n",
       "   x0_PAYMENT  x0_TRANSFER  \n",
       "0         1.0          0.0  \n",
       "1         1.0          0.0  \n",
       "2         0.0          1.0  \n",
       "3         0.0          0.0  \n",
       "4         1.0          0.0  \n",
       "5         1.0          0.0  \n",
       "6         1.0          0.0  \n",
       "7         1.0          0.0  \n",
       "8         1.0          0.0  \n",
       "9         0.0          0.0  "
      ]
     },
     "execution_count": 10,
     "metadata": {},
     "output_type": "execute_result"
    }
   ],
   "source": [
    "X_sample = transactions[feature_numeric + feature_categorical]\n",
    "preproc.fit_transform(X_sample)\n",
    "f_names = feature_numeric + list(preproc.named_transformers_[\"categorical\"].get_feature_names())\n",
    "pd.DataFrame(\n",
    "    preproc.transform(X_sample),\n",
    "    columns = f_names\n",
    ").head(10)"
   ]
  },
  {
   "cell_type": "markdown",
   "id": "c86d495b",
   "metadata": {},
   "source": [
    "### 3.1 - SVD"
   ]
  },
  {
   "cell_type": "markdown",
   "id": "da9ab70f",
   "metadata": {},
   "source": [
    "Per rappresentare tutte le feature in un unico grafico si può utilizzare la decomposizione **SVD** (Single Value Decomposition) che trasforma una spazio k-dimensionale in uno spazio n-dimensionale."
   ]
  },
  {
   "cell_type": "code",
   "execution_count": 11,
   "id": "f2c6c7d7",
   "metadata": {},
   "outputs": [
    {
     "data": {
      "image/png": "[encoded data removed]",
      "text/plain": [
       "<Figure size 432x288 with 1 Axes>"
      ]
     },
     "metadata": {
      "needs_background": "light"
     },
     "output_type": "display_data"
    }
   ],
   "source": [
    "from sklearn.decomposition import PCA\n",
    "\n",
    "pca = PCA()\n",
    "\n",
    "color_map = transactions[:X_train.values.shape[0]][\"isFraud\"].map({0: \"blue\", 1: \"red\"})\n",
    "size_map = transactions[:X_train.values.shape[0]][\"isFraud\"].map({0: 0.25, 1:5.0})\n",
    "alpha_blend_map = transactions[:X_train.values.shape[0]][\"isFraud\"].map({0: 0.1, 1:1})\n",
    "x_preproc = pca.fit_transform(preproc.fit_transform(X_train))\n",
    "\n",
    "plt.scatter(x_preproc[:,0], x_preproc[:,1], c=color_map, s=size_map, alpha=alpha_blend_map)\n",
    "plt.xlabel('Asse latente X')\n",
    "plt.ylabel('Asse latente Y')\n",
    "plt.show()"
   ]
  },
  {
   "cell_type": "markdown",
   "id": "f068d4c5",
   "metadata": {},
   "source": [
    "## 4 - Modelli di Learning"
   ]
  },
  {
   "cell_type": "markdown",
   "id": "aad23b20",
   "metadata": {},
   "source": [
    "Data il grande numero di istanze di questo dataset per contenere drasticamente i tempi di calcolo limito il dataset a $10^5$ istanze."
   ]
  },
  {
   "cell_type": "code",
   "execution_count": 12,
   "id": "d0a8aac8",
   "metadata": {},
   "outputs": [],
   "source": [
    "from sklearn.pipeline import Pipeline\n",
    "\n",
    "transactions = pd.read_csv(\"../data/data.csv\", nrows=100_000)\n",
    "classes = [\"isFraud\", \"Honest\"]\n",
    "\n",
    "X = transactions[feature_list]\n",
    "y = transactions[[\"isFraud\"]]\n",
    "\n",
    "X_train, X_val, y_train, y_val = train_test_split(X, y, test_size=1/3, random_state=43)"
   ]
  },
  {
   "cell_type": "markdown",
   "id": "51381422",
   "metadata": {},
   "source": [
    "Predisponiamo inoltre alcune \"utility function\" che migliorano la leggibilità del codice e la riusabilità."
   ]
  },
  {
   "cell_type": "code",
   "execution_count": 13,
   "id": "8a907b0b",
   "metadata": {},
   "outputs": [],
   "source": [
    "from sklearn.metrics import precision_score, recall_score, f1_score, confusion_matrix\n",
    "\n",
    "def print_eval(X, y, model, classes):\n",
    "    '''print eval for classification model'''\n",
    "    y_pred = model.predict(X)    \n",
    "    cm = confusion_matrix(y, y_pred)\n",
    "    print(\"Confusion Matrix : \")\n",
    "    print_matrix(classes, cm)\n",
    "    print(f\"\\nPRECISION  : {precision_score(y, y_pred):12.4f}\")\n",
    "    print(f\"RECALL     : {recall_score(y, y_pred):12.4f}\")\n",
    "    print(f\"F1-MEASURE : {f1_score(y, y_pred, average='macro'):12.4f}\")\n",
    "    print(f\"R^2        : {model.score(X,y):12.4f}\")\n",
    "    return None\n",
    "\n",
    "def print_matrix(classes, matrix, pad = 10):\n",
    "    '''This method prints a matrix with better formatting.\n",
    "    Is used for print n x n confusion matrix'''\n",
    "    for i in range(len(classes)):\n",
    "        if i == 0 : \n",
    "            for c in ([\" \"] + classes):\n",
    "                print(f\"{c.rjust(pad, ' ')}\",end=' ')\n",
    "            print()\n",
    "        for j in range(len(classes)):\n",
    "            if (j == 0) : \n",
    "                print(f\"{classes[i].rjust(pad, ' ')}\",end=' ')\n",
    "            print(f\"{str(matrix[i][j]).rjust(pad, ' ')}\",end=' ')\n",
    "        print()\n",
    "    return None"
   ]
  },
  {
   "cell_type": "markdown",
   "id": "20f3407d",
   "metadata": {},
   "source": [
    "### 4.1 Perceptron"
   ]
  },
  {
   "cell_type": "markdown",
   "id": "6ab57f18",
   "metadata": {},
   "source": [
    "Come primo modello analizziamo il *Perceptron*."
   ]
  },
  {
   "cell_type": "code",
   "execution_count": 14,
   "id": "3f2992d4",
   "metadata": {
    "scrolled": false
   },
   "outputs": [
    {
     "name": "stdout",
     "output_type": "stream",
     "text": [
      "Confusion Matrix : \n",
      "              isFraud     Honest \n",
      "   isFraud      33226         62 \n",
      "    Honest         37          9 \n",
      "\n",
      "PRECISION  :       0.1268\n",
      "RECALL     :       0.1957\n",
      "F1-MEASURE :       0.5762\n",
      "R^2        :       0.9970\n"
     ]
    }
   ],
   "source": [
    "from sklearn.linear_model import Perceptron\n",
    "model = Pipeline([\n",
    "    (\"preproc\", preproc),\n",
    "    (\"Perceptron\",  Perceptron(random_state=43,class_weight={1:45}))\n",
    "])\n",
    "model.fit(X_train, y_train.values.ravel())\n",
    "print_eval(X_val, y_val.values.ravel(), model, classes)"
   ]
  },
  {
   "cell_type": "markdown",
   "id": "12004f5d",
   "metadata": {},
   "source": [
    "Data la sua semplicità abbiamo una precisione molto bassa in quanto la F1-MEASURE è di circa il 57%. In questo caso $R^2$, altra misura di accuratezza, può trarre in inganna facendo pensare che il modello sia buono in realtà il suo valore è così alto in quanto, in questo progetto, siamo in presenza di un problema con classi fortemente sbilanciate, cioè il numero di istanze negative (transazioni lecite) è molto superiore al numero di istanze positive (transazioni illecite).\n",
    "\n",
    "E' incluso comunque nel metodo *print_eval* per completezza."
   ]
  },
  {
   "cell_type": "markdown",
   "id": "2b780a45",
   "metadata": {},
   "source": [
    "Detto ciò, vediamo quale iperpiano determina il *Perceptron* grazie al metodo *coef*."
   ]
  },
  {
   "cell_type": "code",
   "execution_count": 15,
   "id": "049bf7ca",
   "metadata": {},
   "outputs": [
    {
     "data": {
      "text/html": [
       "<div>\n",
       "<style scoped>\n",
       "    .dataframe tbody tr th:only-of-type {\n",
       "        vertical-align: middle;\n",
       "    }\n",
       "\n",
       "    .dataframe tbody tr th {\n",
       "        vertical-align: top;\n",
       "    }\n",
       "\n",
       "    .dataframe thead th {\n",
       "        text-align: right;\n",
       "    }\n",
       "</style>\n",
       "<table border=\"1\" class=\"dataframe\">\n",
       "  <thead>\n",
       "    <tr style=\"text-align: right;\">\n",
       "      <th></th>\n",
       "      <th>amount</th>\n",
       "      <th>oldbalanceOrg</th>\n",
       "      <th>newbalanceOrig</th>\n",
       "      <th>x0_CASH_IN</th>\n",
       "      <th>x0_CASH_OUT</th>\n",
       "      <th>x0_DEBIT</th>\n",
       "      <th>x0_PAYMENT</th>\n",
       "      <th>x0_TRANSFER</th>\n",
       "    </tr>\n",
       "  </thead>\n",
       "  <tbody>\n",
       "    <tr>\n",
       "      <th>value</th>\n",
       "      <td>13.33214</td>\n",
       "      <td>1319.683824</td>\n",
       "      <td>-1286.733775</td>\n",
       "      <td>-474.0</td>\n",
       "      <td>28.0</td>\n",
       "      <td>-18.0</td>\n",
       "      <td>-39.0</td>\n",
       "      <td>83.0</td>\n",
       "    </tr>\n",
       "  </tbody>\n",
       "</table>\n",
       "</div>"
      ],
      "text/plain": [
       "         amount  oldbalanceOrg  newbalanceOrig  x0_CASH_IN  x0_CASH_OUT  \\\n",
       "value  13.33214    1319.683824    -1286.733775      -474.0         28.0   \n",
       "\n",
       "       x0_DEBIT  x0_PAYMENT  x0_TRANSFER  \n",
       "value     -18.0       -39.0         83.0  "
      ]
     },
     "execution_count": 15,
     "metadata": {},
     "output_type": "execute_result"
    }
   ],
   "source": [
    "pd.DataFrame(model.named_steps[\"Perceptron\"].coef_[0],index=f_names,columns=[\"value\"]).T"
   ]
  },
  {
   "cell_type": "markdown",
   "id": "39a390cf",
   "metadata": {},
   "source": [
    "### 4.2 Logistic Regression"
   ]
  },
  {
   "cell_type": "markdown",
   "id": "261fd2b0",
   "metadata": {},
   "source": [
    "La regressione logistica è un modello di classificazione binaria basato sulla regressione lineare. Come il *Perceptron* anche la *Logistic Regression* crea un iperpiano."
   ]
  },
  {
   "cell_type": "code",
   "execution_count": 16,
   "id": "f680331b",
   "metadata": {},
   "outputs": [
    {
     "name": "stdout",
     "output_type": "stream",
     "text": [
      "Confusion Matrix : \n",
      "              isFraud     Honest \n",
      "   isFraud      33120        168 \n",
      "    Honest         25         21 \n",
      "\n",
      "PRECISION  :       0.1111\n",
      "RECALL     :       0.4565\n",
      "F1-MEASURE :       0.5879\n",
      "R^2        :       0.9942\n"
     ]
    }
   ],
   "source": [
    "from sklearn.linear_model import LogisticRegression\n",
    "\n",
    "model = Pipeline([\n",
    "    (\"preproc\", preproc),\n",
    "    (\"LogisticRegression\", LogisticRegression(solver=\"saga\", random_state=43, class_weight={1:45}, max_iter=100000))\n",
    "])\n",
    "\n",
    "model.fit(X_train, y_train.values.ravel())\n",
    "\n",
    "print_eval(X_val, y_val.values.ravel(), model, classes)"
   ]
  },
  {
   "cell_type": "markdown",
   "id": "d1d315e5",
   "metadata": {},
   "source": [
    "Possiamo dire che la regressione logistica è \"figlia\" del *Perceptron*. Vediamo quale iperpiano individua :"
   ]
  },
  {
   "cell_type": "code",
   "execution_count": 17,
   "id": "a3c84c07",
   "metadata": {},
   "outputs": [
    {
     "data": {
      "text/html": [
       "<div>\n",
       "<style scoped>\n",
       "    .dataframe tbody tr th:only-of-type {\n",
       "        vertical-align: middle;\n",
       "    }\n",
       "\n",
       "    .dataframe tbody tr th {\n",
       "        vertical-align: top;\n",
       "    }\n",
       "\n",
       "    .dataframe thead th {\n",
       "        text-align: right;\n",
       "    }\n",
       "</style>\n",
       "<table border=\"1\" class=\"dataframe\">\n",
       "  <thead>\n",
       "    <tr style=\"text-align: right;\">\n",
       "      <th></th>\n",
       "      <th>amount</th>\n",
       "      <th>oldbalanceOrg</th>\n",
       "      <th>newbalanceOrig</th>\n",
       "      <th>x0_CASH_IN</th>\n",
       "      <th>x0_CASH_OUT</th>\n",
       "      <th>x0_DEBIT</th>\n",
       "      <th>x0_PAYMENT</th>\n",
       "      <th>x0_TRANSFER</th>\n",
       "    </tr>\n",
       "  </thead>\n",
       "  <tbody>\n",
       "    <tr>\n",
       "      <th>value</th>\n",
       "      <td>-2.835328</td>\n",
       "      <td>24.627866</td>\n",
       "      <td>-29.347367</td>\n",
       "      <td>-1.997845</td>\n",
       "      <td>2.186662</td>\n",
       "      <td>-1.81975</td>\n",
       "      <td>-4.496964</td>\n",
       "      <td>4.250149</td>\n",
       "    </tr>\n",
       "  </tbody>\n",
       "</table>\n",
       "</div>"
      ],
      "text/plain": [
       "         amount  oldbalanceOrg  newbalanceOrig  x0_CASH_IN  x0_CASH_OUT  \\\n",
       "value -2.835328      24.627866      -29.347367   -1.997845     2.186662   \n",
       "\n",
       "       x0_DEBIT  x0_PAYMENT  x0_TRANSFER  \n",
       "value  -1.81975   -4.496964     4.250149  "
      ]
     },
     "execution_count": 17,
     "metadata": {},
     "output_type": "execute_result"
    }
   ],
   "source": [
    "pd.DataFrame(model.named_steps[\"LogisticRegression\"].coef_[0],index=f_names,columns=[\"value\"]).T"
   ]
  },
  {
   "cell_type": "markdown",
   "id": "a296dc7e",
   "metadata": {},
   "source": [
    "### 4.3 - Alberi Decisionali"
   ]
  },
  {
   "cell_type": "code",
   "execution_count": 18,
   "id": "9d4984b5",
   "metadata": {},
   "outputs": [
    {
     "name": "stdout",
     "output_type": "stream",
     "text": [
      "Confusion Matrix : \n",
      "              isFraud     Honest \n",
      "   isFraud      33281          7 \n",
      "    Honest         29         17 \n",
      "\n",
      "PRECISION  :       0.7083\n",
      "RECALL     :       0.3696\n",
      "F1-MEASURE :       0.7426\n",
      "R^2        :       0.9989\n"
     ]
    }
   ],
   "source": [
    "from sklearn.tree import DecisionTreeClassifier\n",
    "from sklearn.tree import plot_tree\n",
    "\n",
    "model_dt = Pipeline([\n",
    "    (\"preproc\", preproc),\n",
    "    (\"DecisionTreeClassifier\", DecisionTreeClassifier(random_state=43, class_weight={1:45}))\n",
    "])\n",
    "\n",
    "model_dt.fit(X_train, y_train)\n",
    "print_eval(X_val, y_val, model_dt, classes)"
   ]
  },
  {
   "cell_type": "markdown",
   "id": "c2684557",
   "metadata": {},
   "source": [
    "Gli alberi decisionali hanno la fantastica caratteristica di essere semplici da capire (anche da non esperti di Machine Learning) e possono essere analizzati con estrema facilità, infatti sono chiamato modelli \"white box\" al contrario delle rete neurale che vengono chiamati modelli \"black box\". \n",
    "\n",
    "Grazie al metodo *plot_tree* possiamo visualizzare l'albero graficamente ..."
   ]
  },
  {
   "cell_type": "code",
   "execution_count": 19,
   "id": "6b7b966c",
   "metadata": {},
   "outputs": [
    {
     "data": {
      "image/png": "[encoded data removed]",
      "text/plain": [
       "<Figure size 1584x432 with 1 Axes>"
      ]
     },
     "metadata": {
      "needs_background": "light"
     },
     "output_type": "display_data"
    }
   ],
   "source": [
    "plt.figure(figsize=(22, 6))\n",
    "plot_tree(model_dt.named_steps[\"DecisionTreeClassifier\"], max_depth=3, filled=True, fontsize=8, feature_names = f_names, \n",
    "          class_names=classes);"
   ]
  },
  {
   "cell_type": "markdown",
   "id": "7552fc56",
   "metadata": {},
   "source": [
    "... e con il metodo *export_text* testualmente."
   ]
  },
  {
   "cell_type": "code",
   "execution_count": 20,
   "id": "8c5cb9e8",
   "metadata": {
    "scrolled": true
   },
   "outputs": [
    {
     "name": "stdout",
     "output_type": "stream",
     "text": [
      "|--- x0_TRANSFER <= 0.50\n",
      "|   |--- amount <= 2.27\n",
      "|   |   |--- x0_CASH_OUT <= 0.50\n",
      "|   |   |   |--- class: 0\n",
      "|   |   |--- x0_CASH_OUT >  0.50\n",
      "|   |   |   |--- amount <= -0.41\n",
      "|   |   |   |   |--- oldbalanceOrg <= -0.33\n",
      "|   |   |   |   |   |--- class: 0\n",
      "|   |   |   |   |--- oldbalanceOrg >  -0.33\n",
      "|   |   |   |   |   |--- newbalanceOrig <= -0.33\n",
      "|   |   |   |   |   |   |--- oldbalanceOrg <= -0.32\n",
      "|   |   |   |   |   |   |   |--- amount <= -0.44\n",
      "|   |   |   |   |   |   |   |   |--- amount <= -0.49\n",
      "|   |   |   |   |   |   |   |   |   |--- oldbalanceOrg <= -0.33\n",
      "|   |   |   |   |   |   |   |   |   |   |--- class: 1\n",
      "|   |   |   |   |   |   |   |   |   |--- oldbalanceOrg >  -0.33\n",
      "|   |   |   |   |   |   |   |   |   |   |--- amount <= -0.50\n",
      "|   |   |   |   |   |   |   |   |   |   |   |--- class: 0\n",
      "|   |   |   |   |   |   |   |   |   |   |--- amount >  -0.50\n",
      "|   |   |   |   |   |   |   |   |   |   |   |--- class: 1\n",
      "|   |   |   |   |   |   |   |   |--- amount >  -0.49\n",
      "|   |   |   |   |   |   |   |   |   |--- oldbalanceOrg <= -0.32\n",
      "|   |   |   |   |   |   |   |   |   |   |--- class: 0\n",
      "|   |   |   |   |   |   |   |   |   |--- oldbalanceOrg >  -0.32\n",
      "|   |   |   |   |   |   |   |   |   |   |--- amount <= -0.47\n",
      "|   |   |   |   |   |   |   |   |   |   |   |--- class: 1\n",
      "|   |   |   |   |   |   |   |   |   |   |--- amount >  -0.47\n",
      "|   |   |   |   |   |   |   |   |   |   |   |--- truncated branch of depth 2\n",
      "|   |   |   |   |   |   |   |--- amount >  -0.44\n",
      "|   |   |   |   |   |   |   |   |--- class: 0\n",
      "|   |   |   |   |   |   |--- oldbalanceOrg >  -0.32\n",
      "|   |   |   |   |   |   |   |--- oldbalanceOrg <= -0.32\n",
      "|   |   |   |   |   |   |   |   |--- amount <= -0.43\n",
      "|   |   |   |   |   |   |   |   |   |--- class: 1\n",
      "|   |   |   |   |   |   |   |   |--- amount >  -0.43\n",
      "|   |   |   |   |   |   |   |   |   |--- class: 0\n",
      "|   |   |   |   |   |   |   |--- oldbalanceOrg >  -0.32\n",
      "|   |   |   |   |   |   |   |   |--- class: 1\n",
      "|   |   |   |   |   |--- newbalanceOrig >  -0.33\n",
      "|   |   |   |   |   |   |--- class: 0\n",
      "|   |   |   |--- amount >  -0.41\n",
      "|   |   |   |   |--- oldbalanceOrg <= -0.31\n",
      "|   |   |   |   |   |--- class: 0\n",
      "|   |   |   |   |--- oldbalanceOrg >  -0.31\n",
      "|   |   |   |   |   |--- newbalanceOrig <= -0.33\n",
      "|   |   |   |   |   |   |--- amount <= -0.23\n",
      "|   |   |   |   |   |   |   |--- oldbalanceOrg <= -0.30\n",
      "|   |   |   |   |   |   |   |   |--- amount <= -0.38\n",
      "|   |   |   |   |   |   |   |   |   |--- amount <= -0.40\n",
      "|   |   |   |   |   |   |   |   |   |   |--- class: 1\n",
      "|   |   |   |   |   |   |   |   |   |--- amount >  -0.40\n",
      "|   |   |   |   |   |   |   |   |   |   |--- amount <= -0.39\n",
      "|   |   |   |   |   |   |   |   |   |   |   |--- class: 0\n",
      "|   |   |   |   |   |   |   |   |   |   |--- amount >  -0.39\n",
      "|   |   |   |   |   |   |   |   |   |   |   |--- class: 1\n",
      "|   |   |   |   |   |   |   |   |--- amount >  -0.38\n",
      "|   |   |   |   |   |   |   |   |   |--- class: 0\n",
      "|   |   |   |   |   |   |   |--- oldbalanceOrg >  -0.30\n",
      "|   |   |   |   |   |   |   |   |--- oldbalanceOrg <= -0.29\n",
      "|   |   |   |   |   |   |   |   |   |--- amount <= -0.33\n",
      "|   |   |   |   |   |   |   |   |   |   |--- class: 1\n",
      "|   |   |   |   |   |   |   |   |   |--- amount >  -0.33\n",
      "|   |   |   |   |   |   |   |   |   |   |--- class: 0\n",
      "|   |   |   |   |   |   |   |   |--- oldbalanceOrg >  -0.29\n",
      "|   |   |   |   |   |   |   |   |   |--- class: 1\n",
      "|   |   |   |   |   |   |--- amount >  -0.23\n",
      "|   |   |   |   |   |   |   |--- oldbalanceOrg <= -0.24\n",
      "|   |   |   |   |   |   |   |   |--- amount <= -0.16\n",
      "|   |   |   |   |   |   |   |   |   |--- amount <= -0.16\n",
      "|   |   |   |   |   |   |   |   |   |   |--- class: 0\n",
      "|   |   |   |   |   |   |   |   |   |--- amount >  -0.16\n",
      "|   |   |   |   |   |   |   |   |   |   |--- class: 1\n",
      "|   |   |   |   |   |   |   |   |--- amount >  -0.16\n",
      "|   |   |   |   |   |   |   |   |   |--- class: 0\n",
      "|   |   |   |   |   |   |   |--- oldbalanceOrg >  -0.24\n",
      "|   |   |   |   |   |   |   |   |--- amount <= 0.26\n",
      "|   |   |   |   |   |   |   |   |   |--- oldbalanceOrg <= -0.24\n",
      "|   |   |   |   |   |   |   |   |   |   |--- amount <= 0.13\n",
      "|   |   |   |   |   |   |   |   |   |   |   |--- class: 1\n",
      "|   |   |   |   |   |   |   |   |   |   |--- amount >  0.13\n",
      "|   |   |   |   |   |   |   |   |   |   |   |--- class: 0\n",
      "|   |   |   |   |   |   |   |   |   |--- oldbalanceOrg >  -0.24\n",
      "|   |   |   |   |   |   |   |   |   |   |--- amount <= 0.20\n",
      "|   |   |   |   |   |   |   |   |   |   |   |--- truncated branch of depth 3\n",
      "|   |   |   |   |   |   |   |   |   |   |--- amount >  0.20\n",
      "|   |   |   |   |   |   |   |   |   |   |   |--- truncated branch of depth 2\n",
      "|   |   |   |   |   |   |   |   |--- amount >  0.26\n",
      "|   |   |   |   |   |   |   |   |   |--- oldbalanceOrg <= -0.19\n",
      "|   |   |   |   |   |   |   |   |   |   |--- class: 0\n",
      "|   |   |   |   |   |   |   |   |   |--- oldbalanceOrg >  -0.19\n",
      "|   |   |   |   |   |   |   |   |   |   |--- oldbalanceOrg <= -0.14\n",
      "|   |   |   |   |   |   |   |   |   |   |   |--- truncated branch of depth 2\n",
      "|   |   |   |   |   |   |   |   |   |   |--- oldbalanceOrg >  -0.14\n",
      "|   |   |   |   |   |   |   |   |   |   |   |--- truncated branch of depth 4\n",
      "|   |   |   |   |   |--- newbalanceOrig >  -0.33\n",
      "|   |   |   |   |   |   |--- class: 0\n",
      "|   |--- amount >  2.27\n",
      "|   |   |--- x0_CASH_IN <= 0.50\n",
      "|   |   |   |--- oldbalanceOrg <= -0.15\n",
      "|   |   |   |   |--- class: 0\n",
      "|   |   |   |--- oldbalanceOrg >  -0.15\n",
      "|   |   |   |   |--- class: 1\n",
      "|   |   |--- x0_CASH_IN >  0.50\n",
      "|   |   |   |--- class: 0\n",
      "|--- x0_TRANSFER >  0.50\n",
      "|   |--- amount <= -0.41\n",
      "|   |   |--- oldbalanceOrg <= -0.33\n",
      "|   |   |   |--- class: 0\n",
      "|   |   |--- oldbalanceOrg >  -0.33\n",
      "|   |   |   |--- newbalanceOrig <= -0.33\n",
      "|   |   |   |   |--- amount <= -0.42\n",
      "|   |   |   |   |   |--- oldbalanceOrg <= -0.32\n",
      "|   |   |   |   |   |   |--- amount <= -0.49\n",
      "|   |   |   |   |   |   |   |--- class: 1\n",
      "|   |   |   |   |   |   |--- amount >  -0.49\n",
      "|   |   |   |   |   |   |   |--- class: 0\n",
      "|   |   |   |   |   |--- oldbalanceOrg >  -0.32\n",
      "|   |   |   |   |   |   |--- amount <= -0.46\n",
      "|   |   |   |   |   |   |   |--- class: 1\n",
      "|   |   |   |   |   |   |--- amount >  -0.46\n",
      "|   |   |   |   |   |   |   |--- oldbalanceOrg <= -0.32\n",
      "|   |   |   |   |   |   |   |   |--- class: 0\n",
      "|   |   |   |   |   |   |   |--- oldbalanceOrg >  -0.32\n",
      "|   |   |   |   |   |   |   |   |--- amount <= -0.43\n",
      "|   |   |   |   |   |   |   |   |   |--- class: 1\n",
      "|   |   |   |   |   |   |   |   |--- amount >  -0.43\n",
      "|   |   |   |   |   |   |   |   |   |--- amount <= -0.43\n",
      "|   |   |   |   |   |   |   |   |   |   |--- class: 0\n",
      "|   |   |   |   |   |   |   |   |   |--- amount >  -0.43\n",
      "|   |   |   |   |   |   |   |   |   |   |--- class: 1\n",
      "|   |   |   |   |--- amount >  -0.42\n",
      "|   |   |   |   |   |--- amount <= -0.41\n",
      "|   |   |   |   |   |   |--- class: 0\n",
      "|   |   |   |   |   |--- amount >  -0.41\n",
      "|   |   |   |   |   |   |--- class: 1\n",
      "|   |   |   |--- newbalanceOrig >  -0.33\n",
      "|   |   |   |   |--- class: 0\n",
      "|   |--- amount >  -0.41\n",
      "|   |   |--- oldbalanceOrg <= -0.30\n",
      "|   |   |   |--- amount <= -0.38\n",
      "|   |   |   |   |--- amount <= -0.38\n",
      "|   |   |   |   |   |--- class: 0\n",
      "|   |   |   |   |--- amount >  -0.38\n",
      "|   |   |   |   |   |--- class: 1\n",
      "|   |   |   |--- amount >  -0.38\n",
      "|   |   |   |   |--- class: 0\n",
      "|   |   |--- oldbalanceOrg >  -0.30\n",
      "|   |   |   |--- amount <= 0.55\n",
      "|   |   |   |   |--- newbalanceOrig <= -0.33\n",
      "|   |   |   |   |   |--- amount <= -0.23\n",
      "|   |   |   |   |   |   |--- oldbalanceOrg <= -0.30\n",
      "|   |   |   |   |   |   |   |--- amount <= -0.32\n",
      "|   |   |   |   |   |   |   |   |--- class: 1\n",
      "|   |   |   |   |   |   |   |--- amount >  -0.32\n",
      "|   |   |   |   |   |   |   |   |--- class: 0\n",
      "|   |   |   |   |   |   |--- oldbalanceOrg >  -0.30\n",
      "|   |   |   |   |   |   |   |--- amount <= -0.24\n",
      "|   |   |   |   |   |   |   |   |--- class: 1\n",
      "|   |   |   |   |   |   |   |--- amount >  -0.24\n",
      "|   |   |   |   |   |   |   |   |--- oldbalanceOrg <= -0.29\n",
      "|   |   |   |   |   |   |   |   |   |--- class: 0\n",
      "|   |   |   |   |   |   |   |   |--- oldbalanceOrg >  -0.29\n",
      "|   |   |   |   |   |   |   |   |   |--- class: 1\n",
      "|   |   |   |   |   |--- amount >  -0.23\n",
      "|   |   |   |   |   |   |--- oldbalanceOrg <= -0.26\n",
      "|   |   |   |   |   |   |   |--- class: 0\n",
      "|   |   |   |   |   |   |--- oldbalanceOrg >  -0.26\n",
      "|   |   |   |   |   |   |   |--- amount <= 0.26\n",
      "|   |   |   |   |   |   |   |   |--- oldbalanceOrg <= -0.25\n",
      "|   |   |   |   |   |   |   |   |   |--- amount <= 0.06\n",
      "|   |   |   |   |   |   |   |   |   |   |--- class: 1\n",
      "|   |   |   |   |   |   |   |   |   |--- amount >  0.06\n",
      "|   |   |   |   |   |   |   |   |   |   |--- class: 0\n",
      "|   |   |   |   |   |   |   |   |--- oldbalanceOrg >  -0.25\n",
      "|   |   |   |   |   |   |   |   |   |--- class: 1\n",
      "|   |   |   |   |   |   |   |--- amount >  0.26\n",
      "|   |   |   |   |   |   |   |   |--- amount <= 0.50\n",
      "|   |   |   |   |   |   |   |   |   |--- class: 0\n",
      "|   |   |   |   |   |   |   |   |--- amount >  0.50\n",
      "|   |   |   |   |   |   |   |   |   |--- class: 1\n",
      "|   |   |   |   |--- newbalanceOrig >  -0.33\n",
      "|   |   |   |   |   |--- class: 0\n",
      "|   |   |   |--- amount >  0.55\n",
      "|   |   |   |   |--- oldbalanceOrg <= 0.03\n",
      "|   |   |   |   |   |--- amount <= 0.95\n",
      "|   |   |   |   |   |   |--- amount <= 0.95\n",
      "|   |   |   |   |   |   |   |--- class: 0\n",
      "|   |   |   |   |   |   |--- amount >  0.95\n",
      "|   |   |   |   |   |   |   |--- class: 1\n",
      "|   |   |   |   |   |--- amount >  0.95\n",
      "|   |   |   |   |   |   |--- class: 0\n",
      "|   |   |   |   |--- oldbalanceOrg >  0.03\n",
      "|   |   |   |   |   |--- amount <= 2.26\n",
      "|   |   |   |   |   |   |--- class: 0\n",
      "|   |   |   |   |   |--- amount >  2.26\n",
      "|   |   |   |   |   |   |--- amount <= 2.84\n",
      "|   |   |   |   |   |   |   |--- oldbalanceOrg <= 0.15\n",
      "|   |   |   |   |   |   |   |   |--- oldbalanceOrg <= 0.04\n",
      "|   |   |   |   |   |   |   |   |   |--- class: 1\n",
      "|   |   |   |   |   |   |   |   |--- oldbalanceOrg >  0.04\n",
      "|   |   |   |   |   |   |   |   |   |--- amount <= 2.82\n",
      "|   |   |   |   |   |   |   |   |   |   |--- class: 0\n",
      "|   |   |   |   |   |   |   |   |   |--- amount >  2.82\n",
      "|   |   |   |   |   |   |   |   |   |   |--- class: 1\n",
      "|   |   |   |   |   |   |   |--- oldbalanceOrg >  0.15\n",
      "|   |   |   |   |   |   |   |   |--- class: 0\n",
      "|   |   |   |   |   |   |--- amount >  2.84\n",
      "|   |   |   |   |   |   |   |--- amount <= 6.82\n",
      "|   |   |   |   |   |   |   |   |--- class: 0\n",
      "|   |   |   |   |   |   |   |--- amount >  6.82\n",
      "|   |   |   |   |   |   |   |   |--- oldbalanceOrg <= 0.59\n",
      "|   |   |   |   |   |   |   |   |   |--- class: 0\n",
      "|   |   |   |   |   |   |   |   |--- oldbalanceOrg >  0.59\n",
      "|   |   |   |   |   |   |   |   |   |--- amount <= 6.91\n",
      "|   |   |   |   |   |   |   |   |   |   |--- class: 1\n",
      "|   |   |   |   |   |   |   |   |   |--- amount >  6.91\n",
      "|   |   |   |   |   |   |   |   |   |   |--- newbalanceOrig <= 0.36\n",
      "|   |   |   |   |   |   |   |   |   |   |   |--- class: 0\n",
      "|   |   |   |   |   |   |   |   |   |   |--- newbalanceOrig >  0.36\n",
      "|   |   |   |   |   |   |   |   |   |   |   |--- class: 1\n",
      "\n"
     ]
    }
   ],
   "source": [
    "from sklearn.tree import export_text\n",
    "print(export_text(model_dt.named_steps[\"DecisionTreeClassifier\"], feature_names=f_names))"
   ]
  },
  {
   "cell_type": "markdown",
   "id": "2834ecdd",
   "metadata": {},
   "source": [
    "### 4.4 - XGBClassifier"
   ]
  },
  {
   "cell_type": "markdown",
   "id": "14cf3601",
   "metadata": {},
   "source": [
    "Vediamo se XGBoost, libreria avanzata per fare regressione e classificazione, con la sua classe XGBClassifier può aumentare la precisione del classico modello DecisionTreeClassifier."
   ]
  },
  {
   "cell_type": "code",
   "execution_count": 21,
   "id": "fa448937",
   "metadata": {},
   "outputs": [],
   "source": [
    "#%conda install XGBoost"
   ]
  },
  {
   "cell_type": "code",
   "execution_count": 22,
   "id": "26e3f176",
   "metadata": {},
   "outputs": [
    {
     "name": "stdout",
     "output_type": "stream",
     "text": [
      "Confusion Matrix : \n",
      "              isFraud     Honest \n",
      "   isFraud      33286          2 \n",
      "    Honest         30         16 \n",
      "\n",
      "PRECISION  :       0.8889\n",
      "RECALL     :       0.3478\n",
      "F1-MEASURE :       0.7498\n",
      "R^2        :       0.9990\n"
     ]
    }
   ],
   "source": [
    "from xgboost import XGBClassifier \n",
    "\n",
    "model_xgb = Pipeline([\n",
    "    (\"preproc\", preproc),\n",
    "    (\"XGBClassifier\",XGBClassifier(objective='reg:squarederror',n_estimators=50,use_label_encoder = False,random_state=43))\n",
    "])\n",
    "\n",
    "model_xgb.fit(X_train, y_train.values.ravel())\n",
    "print_eval(X_val, y_val, model_xgb, classes)"
   ]
  },
  {
   "cell_type": "markdown",
   "id": "6467de16",
   "metadata": {},
   "source": [
    "Al punto 5 (Tuning degli Iperparametri) darà, con un pò di lavoro, risultati più soddisfacenti."
   ]
  },
  {
   "cell_type": "markdown",
   "id": "90a70ceb",
   "metadata": {},
   "source": [
    "## 4.5 - Neural Network"
   ]
  },
  {
   "cell_type": "markdown",
   "id": "a58fa22e",
   "metadata": {},
   "source": [
    "A scopo puramente didattico ho implementato anche una rete neurale per vedere se può risolvere anch'essa il problema di classificazione."
   ]
  },
  {
   "cell_type": "code",
   "execution_count": 23,
   "id": "6338f45b",
   "metadata": {},
   "outputs": [],
   "source": [
    "#%conda install TensorFlow"
   ]
  },
  {
   "cell_type": "code",
   "execution_count": 24,
   "id": "671a1621",
   "metadata": {
    "scrolled": true
   },
   "outputs": [
    {
     "name": "stdout",
     "output_type": "stream",
     "text": [
      "Model: \"sequential\"\n",
      "_________________________________________________________________\n",
      " Layer (type)                Output Shape              Param #   \n",
      "=================================================================\n",
      " dense (Dense)               (None, 32)                288       \n",
      "                                                                 \n",
      " dense_1 (Dense)             (None, 8)                 264       \n",
      "                                                                 \n",
      " dense_2 (Dense)             (None, 1)                 9         \n",
      "                                                                 \n",
      "=================================================================\n",
      "Total params: 561\n",
      "Trainable params: 561\n",
      "Non-trainable params: 0\n",
      "_________________________________________________________________\n",
      "Epoch 1/10\n",
      "667/667 [==============================] - 1s 1ms/step - loss: 0.0023 - accuracy: 0.9986\n",
      "Epoch 2/10\n",
      "667/667 [==============================] - 1s 1ms/step - loss: 0.0011 - accuracy: 0.9990\n",
      "Epoch 3/10\n",
      "667/667 [==============================] - 1s 1ms/step - loss: 0.0010 - accuracy: 0.9990\n",
      "Epoch 4/10\n",
      "667/667 [==============================] - 1s 1ms/step - loss: 0.0010 - accuracy: 0.9990\n",
      "Epoch 5/10\n",
      "667/667 [==============================] - 1s 1ms/step - loss: 0.0010 - accuracy: 0.9990\n",
      "Epoch 6/10\n",
      "667/667 [==============================] - 1s 1ms/step - loss: 0.0010 - accuracy: 0.9990\n",
      "Epoch 7/10\n",
      "667/667 [==============================] - 1s 1ms/step - loss: 0.0010 - accuracy: 0.9990\n",
      "Epoch 8/10\n",
      "667/667 [==============================] - 1s 1ms/step - loss: 0.0010 - accuracy: 0.9990\n",
      "Epoch 9/10\n",
      "667/667 [==============================] - 1s 1ms/step - loss: 0.0010 - accuracy: 0.9990\n",
      "Epoch 10/10\n",
      "667/667 [==============================] - 1s 1ms/step - loss: 0.0010 - accuracy: 0.9990\n"
     ]
    }
   ],
   "source": [
    "from tensorflow.keras.models import Sequential\n",
    "from tensorflow.keras.layers import Dense\n",
    "from tensorflow.keras.metrics import Precision\n",
    "from tensorflow.keras.metrics import Recall\n",
    "from sklearn.metrics import r2_score\n",
    "from tensorflow.keras.layers import Dropout\n",
    "\n",
    "X_train_nn = preproc.fit_transform(X_train)\n",
    "X_val_nn = preproc.transform(X_val)\n",
    "\n",
    "model_nn = Sequential([\n",
    "    Dense(32, activation=\"relu\", input_dim=len(f_names)),\n",
    "    Dense(8, activation=\"relu\"),\n",
    "    Dense(1)\n",
    "])\n",
    "model_nn.summary()\n",
    "model_nn.compile(optimizer=\"adam\", loss=\"mse\",  metrics=[\"accuracy\"])\n",
    "fit_history = model_nn.fit(X_train_nn, y_train, batch_size=100, epochs=10)"
   ]
  },
  {
   "cell_type": "code",
   "execution_count": 25,
   "id": "a3423a3f",
   "metadata": {},
   "outputs": [
    {
     "name": "stdout",
     "output_type": "stream",
     "text": [
      "1042/1042 [==============================] - 1s 987us/step - loss: 0.0014 - accuracy: 0.9986\n",
      "Loss (MSE) : 0.0014\n",
      "Accurancy  : 0.9986\n"
     ]
    }
   ],
   "source": [
    "loss, acc = model_nn.evaluate(X_val_nn, y_val)\n",
    "print(f\"Loss (MSE) : {loss:5.4f}\")\n",
    "print(f\"Accurancy  : {acc:5.4f}\")"
   ]
  },
  {
   "cell_type": "markdown",
   "id": "0d2aa43d",
   "metadata": {},
   "source": [
    "Vediamo, in due grafici separati, come varia la loss e l'accuracy al passare delle epoche (iterazioni)."
   ]
  },
  {
   "cell_type": "code",
   "execution_count": 26,
   "id": "16926ffd",
   "metadata": {},
   "outputs": [
    {
     "data": {
      "image/png": "[encoded data removed]",
      "text/plain": [
       "<Figure size 432x288 with 1 Axes>"
      ]
     },
     "metadata": {
      "needs_background": "light"
     },
     "output_type": "display_data"
    }
   ],
   "source": [
    "plt.plot(fit_history.history[\"loss\"], \"ro-\")\n",
    "plt.legend([\"Loss (MSE)\"])\n",
    "plt.xlabel(\"Epochs\");\n",
    "plt.show();"
   ]
  },
  {
   "cell_type": "code",
   "execution_count": 27,
   "id": "163b3285",
   "metadata": {},
   "outputs": [
    {
     "data": {
      "image/png": "[encoded data removed]",
      "text/plain": [
       "<Figure size 432x288 with 1 Axes>"
      ]
     },
     "metadata": {
      "needs_background": "light"
     },
     "output_type": "display_data"
    }
   ],
   "source": [
    "plt.plot(fit_history.history[\"accuracy\"], \"bo-\")\n",
    "plt.legend([\"Accuracy\"])\n",
    "plt.xlabel(\"Epochs\");\n",
    "plt.show();"
   ]
  },
  {
   "cell_type": "markdown",
   "id": "517dde04",
   "metadata": {},
   "source": [
    "Con la classe di *scikit_learn*, *KerasRegressor*, possiamo usare le potenzialità di Kerar all'interno di una *Pipeline*. Questo ci permette, con qualche accorgimento, di utilizzare *GridSearchCV* e *KFold* per fare *fine-tuning* degli iperparametri di una rete neurali (i.e numero di nodi, batch size, epoche, ecc...)."
   ]
  },
  {
   "cell_type": "code",
   "execution_count": 28,
   "id": "9938bd9c",
   "metadata": {},
   "outputs": [],
   "source": [
    "def build_nn(firstLayerNodes, inpDim):\n",
    "    model = Sequential([\n",
    "        Dense(firstLayerNodes, activation=\"relu\", input_dim=len(f_names)),\n",
    "        Dense(8, activation=\"relu\"),\n",
    "        Dense(1)\n",
    "    ])\n",
    "    model.summary()\n",
    "    model.compile(optimizer=\"adam\", loss=\"mse\",  metrics=[\"accuracy\"])\n",
    "    return model"
   ]
  },
  {
   "cell_type": "code",
   "execution_count": 29,
   "id": "e3134f34",
   "metadata": {
    "scrolled": true
   },
   "outputs": [
    {
     "name": "stdout",
     "output_type": "stream",
     "text": [
      "Model: \"sequential_1\"\n",
      "_________________________________________________________________\n",
      " Layer (type)                Output Shape              Param #   \n",
      "=================================================================\n",
      " dense_3 (Dense)             (None, 16)                144       \n",
      "                                                                 \n",
      " dense_4 (Dense)             (None, 8)                 136       \n",
      "                                                                 \n",
      " dense_5 (Dense)             (None, 1)                 9         \n",
      "                                                                 \n",
      "=================================================================\n",
      "Total params: 289\n",
      "Trainable params: 289\n",
      "Non-trainable params: 0\n",
      "_________________________________________________________________\n",
      "Epoch 1/10\n"
     ]
    },
    {
     "name": "stderr",
     "output_type": "stream",
     "text": [
      "C:\\Users\\Federico\\AppData\\Local\\Temp/ipykernel_12744/1925510235.py:8: DeprecationWarning: KerasRegressor is deprecated, use Sci-Keras (https://github.com/adriangb/scikeras) instead. See https://www.adriangb.com/scikeras/stable/migration.html for help migrating.\n",
      "  (\"KerasRegressor\", KerasRegressor(build_fn=build_nn,\n"
     ]
    },
    {
     "name": "stdout",
     "output_type": "stream",
     "text": [
      "445/445 [==============================] - 1s 1ms/step - loss: 0.0043 - accuracy: 0.9982\n",
      "Epoch 2/10\n",
      "445/445 [==============================] - 1s 1ms/step - loss: 0.0010 - accuracy: 0.9990\n",
      "Epoch 3/10\n",
      "445/445 [==============================] - 1s 1ms/step - loss: 0.0010 - accuracy: 0.9990\n",
      "Epoch 4/10\n",
      "445/445 [==============================] - 1s 1ms/step - loss: 9.9545e-04 - accuracy: 0.9990\n",
      "Epoch 5/10\n",
      "445/445 [==============================] - 1s 1ms/step - loss: 9.8665e-04 - accuracy: 0.9990\n",
      "Epoch 6/10\n",
      "445/445 [==============================] - 1s 1ms/step - loss: 9.8039e-04 - accuracy: 0.9990\n",
      "Epoch 7/10\n",
      "445/445 [==============================] - 1s 1ms/step - loss: 9.7346e-04 - accuracy: 0.9990\n",
      "Epoch 8/10\n",
      "445/445 [==============================] - 1s 1ms/step - loss: 9.7053e-04 - accuracy: 0.9990\n",
      "Epoch 9/10\n",
      "445/445 [==============================] - 1s 1ms/step - loss: 9.6355e-04 - accuracy: 0.9990\n",
      "Epoch 10/10\n",
      "445/445 [==============================] - 1s 1ms/step - loss: 9.5822e-04 - accuracy: 0.9990\n",
      "223/223 [==============================] - 0s 1ms/step - loss: 0.0011 - accuracy: 0.9989\n",
      "Model: \"sequential_2\"\n",
      "_________________________________________________________________\n",
      " Layer (type)                Output Shape              Param #   \n",
      "=================================================================\n",
      " dense_6 (Dense)             (None, 16)                144       \n",
      "                                                                 \n",
      " dense_7 (Dense)             (None, 8)                 136       \n",
      "                                                                 \n",
      " dense_8 (Dense)             (None, 1)                 9         \n",
      "                                                                 \n",
      "=================================================================\n",
      "Total params: 289\n",
      "Trainable params: 289\n",
      "Non-trainable params: 0\n",
      "_________________________________________________________________\n",
      "Epoch 1/10\n",
      "445/445 [==============================] - 1s 1ms/step - loss: 0.0047 - accuracy: 0.9989\n",
      "Epoch 2/10\n",
      "445/445 [==============================] - 0s 1ms/step - loss: 0.0011 - accuracy: 0.9989\n",
      "Epoch 3/10\n",
      "445/445 [==============================] - 0s 1ms/step - loss: 0.0011 - accuracy: 0.9989\n",
      "Epoch 4/10\n",
      "445/445 [==============================] - 1s 1ms/step - loss: 0.0011 - accuracy: 0.9989\n",
      "Epoch 5/10\n",
      "445/445 [==============================] - 1s 1ms/step - loss: 0.0011 - accuracy: 0.9989\n",
      "Epoch 6/10\n",
      "445/445 [==============================] - 1s 1ms/step - loss: 0.0011 - accuracy: 0.9989\n",
      "Epoch 7/10\n",
      "445/445 [==============================] - 1s 1ms/step - loss: 0.0011 - accuracy: 0.9989\n",
      "Epoch 8/10\n",
      "445/445 [==============================] - 1s 1ms/step - loss: 0.0011 - accuracy: 0.9989\n",
      "Epoch 9/10\n",
      "445/445 [==============================] - 1s 1ms/step - loss: 0.0010 - accuracy: 0.9989\n",
      "Epoch 10/10\n",
      "445/445 [==============================] - 1s 1ms/step - loss: 0.0010 - accuracy: 0.9989\n",
      "223/223 [==============================] - 0s 1ms/step - loss: 9.4765e-04 - accuracy: 0.9991\n",
      "Model: \"sequential_3\"\n",
      "_________________________________________________________________\n",
      " Layer (type)                Output Shape              Param #   \n",
      "=================================================================\n",
      " dense_9 (Dense)             (None, 16)                144       \n",
      "                                                                 \n",
      " dense_10 (Dense)            (None, 8)                 136       \n",
      "                                                                 \n",
      " dense_11 (Dense)            (None, 1)                 9         \n",
      "                                                                 \n",
      "=================================================================\n",
      "Total params: 289\n",
      "Trainable params: 289\n",
      "Non-trainable params: 0\n",
      "_________________________________________________________________\n",
      "Epoch 1/10\n",
      "445/445 [==============================] - 1s 1ms/step - loss: 0.0020 - accuracy: 0.9987\n",
      "Epoch 2/10\n",
      "445/445 [==============================] - 1s 1ms/step - loss: 0.0011 - accuracy: 0.9989\n",
      "Epoch 3/10\n",
      "445/445 [==============================] - 1s 1ms/step - loss: 0.0011 - accuracy: 0.9989\n",
      "Epoch 4/10\n",
      "445/445 [==============================] - 1s 1ms/step - loss: 0.0010 - accuracy: 0.9989\n",
      "Epoch 5/10\n",
      "445/445 [==============================] - 1s 1ms/step - loss: 0.0010 - accuracy: 0.9989\n",
      "Epoch 6/10\n",
      "445/445 [==============================] - 1s 1ms/step - loss: 0.0010 - accuracy: 0.9989\n",
      "Epoch 7/10\n",
      "445/445 [==============================] - 1s 1ms/step - loss: 0.0010 - accuracy: 0.9989\n",
      "Epoch 8/10\n",
      "445/445 [==============================] - 1s 1ms/step - loss: 0.0010 - accuracy: 0.9989\n",
      "Epoch 9/10\n",
      "445/445 [==============================] - 1s 1ms/step - loss: 0.0010 - accuracy: 0.9990\n",
      "Epoch 10/10\n",
      "445/445 [==============================] - 1s 1ms/step - loss: 0.0010 - accuracy: 0.9989\n",
      "223/223 [==============================] - 0s 2ms/step - loss: 9.8978e-04 - accuracy: 0.9990\n",
      "Model: \"sequential_4\"\n",
      "_________________________________________________________________\n",
      " Layer (type)                Output Shape              Param #   \n",
      "=================================================================\n",
      " dense_12 (Dense)            (None, 64)                576       \n",
      "                                                                 \n",
      " dense_13 (Dense)            (None, 8)                 520       \n",
      "                                                                 \n",
      " dense_14 (Dense)            (None, 1)                 9         \n",
      "                                                                 \n",
      "=================================================================\n",
      "Total params: 1,105\n",
      "Trainable params: 1,105\n",
      "Non-trainable params: 0\n",
      "_________________________________________________________________\n",
      "Epoch 1/10\n",
      "445/445 [==============================] - 1s 1ms/step - loss: 0.0024 - accuracy: 0.9980\n",
      "Epoch 2/10\n",
      "445/445 [==============================] - 1s 1ms/step - loss: 0.0010 - accuracy: 0.9990\n",
      "Epoch 3/10\n",
      "445/445 [==============================] - 1s 1ms/step - loss: 9.9398e-04 - accuracy: 0.9990\n",
      "Epoch 4/10\n",
      "445/445 [==============================] - 1s 1ms/step - loss: 9.9422e-04 - accuracy: 0.9990\n",
      "Epoch 5/10\n",
      "445/445 [==============================] - 1s 1ms/step - loss: 9.9707e-04 - accuracy: 0.9990\n",
      "Epoch 6/10\n",
      "445/445 [==============================] - 1s 1ms/step - loss: 9.9262e-04 - accuracy: 0.9990\n",
      "Epoch 7/10\n",
      "445/445 [==============================] - 1s 1ms/step - loss: 9.9370e-04 - accuracy: 0.9990\n",
      "Epoch 8/10\n",
      "445/445 [==============================] - 1s 1ms/step - loss: 9.9185e-04 - accuracy: 0.9990\n",
      "Epoch 9/10\n",
      "445/445 [==============================] - 1s 1ms/step - loss: 9.9218e-04 - accuracy: 0.9990\n",
      "Epoch 10/10\n",
      "445/445 [==============================] - 1s 1ms/step - loss: 0.0010 - accuracy: 0.9990\n",
      "223/223 [==============================] - 0s 1ms/step - loss: 0.0011 - accuracy: 0.9989\n",
      "Model: \"sequential_5\"\n",
      "_________________________________________________________________\n",
      " Layer (type)                Output Shape              Param #   \n",
      "=================================================================\n",
      " dense_15 (Dense)            (None, 64)                576       \n",
      "                                                                 \n",
      " dense_16 (Dense)            (None, 8)                 520       \n",
      "                                                                 \n",
      " dense_17 (Dense)            (None, 1)                 9         \n",
      "                                                                 \n",
      "=================================================================\n",
      "Total params: 1,105\n",
      "Trainable params: 1,105\n",
      "Non-trainable params: 0\n",
      "_________________________________________________________________\n",
      "Epoch 1/10\n",
      "445/445 [==============================] - 1s 1ms/step - loss: 0.0044 - accuracy: 0.9966\n",
      "Epoch 2/10\n",
      "445/445 [==============================] - 1s 1ms/step - loss: 0.0011 - accuracy: 0.9989\n",
      "Epoch 3/10\n",
      "445/445 [==============================] - 1s 1ms/step - loss: 0.0011 - accuracy: 0.9989\n",
      "Epoch 4/10\n",
      "445/445 [==============================] - 1s 1ms/step - loss: 0.0010 - accuracy: 0.9989\n",
      "Epoch 5/10\n",
      "445/445 [==============================] - 1s 1ms/step - loss: 0.0010 - accuracy: 0.9989\n",
      "Epoch 6/10\n"
     ]
    },
    {
     "name": "stdout",
     "output_type": "stream",
     "text": [
      "445/445 [==============================] - 1s 1ms/step - loss: 0.0010 - accuracy: 0.9989\n",
      "Epoch 7/10\n",
      "445/445 [==============================] - 1s 1ms/step - loss: 0.0011 - accuracy: 0.9990\n",
      "Epoch 8/10\n",
      "445/445 [==============================] - 1s 1ms/step - loss: 0.0010 - accuracy: 0.9990\n",
      "Epoch 9/10\n",
      "445/445 [==============================] - 0s 1ms/step - loss: 0.0010 - accuracy: 0.9989\n",
      "Epoch 10/10\n",
      "445/445 [==============================] - 0s 1ms/step - loss: 0.0010 - accuracy: 0.9990\n",
      "223/223 [==============================] - 0s 1ms/step - loss: 9.4994e-04 - accuracy: 0.9991\n",
      "Model: \"sequential_6\"\n",
      "_________________________________________________________________\n",
      " Layer (type)                Output Shape              Param #   \n",
      "=================================================================\n",
      " dense_18 (Dense)            (None, 64)                576       \n",
      "                                                                 \n",
      " dense_19 (Dense)            (None, 8)                 520       \n",
      "                                                                 \n",
      " dense_20 (Dense)            (None, 1)                 9         \n",
      "                                                                 \n",
      "=================================================================\n",
      "Total params: 1,105\n",
      "Trainable params: 1,105\n",
      "Non-trainable params: 0\n",
      "_________________________________________________________________\n",
      "Epoch 1/10\n",
      "445/445 [==============================] - 1s 1ms/step - loss: 0.0017 - accuracy: 0.9990\n",
      "Epoch 2/10\n",
      "445/445 [==============================] - 1s 1ms/step - loss: 0.0011 - accuracy: 0.9990\n",
      "Epoch 3/10\n",
      "445/445 [==============================] - 1s 1ms/step - loss: 0.0011 - accuracy: 0.9990\n",
      "Epoch 4/10\n",
      "445/445 [==============================] - 1s 1ms/step - loss: 0.0011 - accuracy: 0.9990\n",
      "Epoch 5/10\n",
      "445/445 [==============================] - 1s 1ms/step - loss: 0.0010 - accuracy: 0.9990\n",
      "Epoch 6/10\n",
      "445/445 [==============================] - 1s 1ms/step - loss: 0.0010 - accuracy: 0.9990\n",
      "Epoch 7/10\n",
      "445/445 [==============================] - 1s 1ms/step - loss: 0.0010 - accuracy: 0.9990\n",
      "Epoch 8/10\n",
      "445/445 [==============================] - 1s 1ms/step - loss: 0.0010 - accuracy: 0.9990\n",
      "Epoch 9/10\n",
      "445/445 [==============================] - 1s 1ms/step - loss: 0.0010 - accuracy: 0.9990\n",
      "Epoch 10/10\n",
      "445/445 [==============================] - 1s 1ms/step - loss: 0.0010 - accuracy: 0.9990\n",
      "223/223 [==============================] - 0s 1ms/step - loss: 0.0010 - accuracy: 0.9990\n",
      "Model: \"sequential_7\"\n",
      "_________________________________________________________________\n",
      " Layer (type)                Output Shape              Param #   \n",
      "=================================================================\n",
      " dense_21 (Dense)            (None, 128)               1152      \n",
      "                                                                 \n",
      " dense_22 (Dense)            (None, 8)                 1032      \n",
      "                                                                 \n",
      " dense_23 (Dense)            (None, 1)                 9         \n",
      "                                                                 \n",
      "=================================================================\n",
      "Total params: 2,193\n",
      "Trainable params: 2,193\n",
      "Non-trainable params: 0\n",
      "_________________________________________________________________\n",
      "Epoch 1/10\n",
      "445/445 [==============================] - 1s 1ms/step - loss: 0.0018 - accuracy: 0.9982\n",
      "Epoch 2/10\n",
      "445/445 [==============================] - 1s 2ms/step - loss: 9.9979e-04 - accuracy: 0.9990\n",
      "Epoch 3/10\n",
      "445/445 [==============================] - 1s 1ms/step - loss: 9.9732e-04 - accuracy: 0.9990\n",
      "Epoch 4/10\n",
      "445/445 [==============================] - 1s 2ms/step - loss: 9.9516e-04 - accuracy: 0.9990\n",
      "Epoch 5/10\n",
      "445/445 [==============================] - 1s 1ms/step - loss: 9.9318e-04 - accuracy: 0.9990\n",
      "Epoch 6/10\n",
      "445/445 [==============================] - 0s 1ms/step - loss: 9.9816e-04 - accuracy: 0.9990\n",
      "Epoch 7/10\n",
      "445/445 [==============================] - 1s 1ms/step - loss: 9.9536e-04 - accuracy: 0.9990\n",
      "Epoch 8/10\n",
      "445/445 [==============================] - 1s 1ms/step - loss: 9.9390e-04 - accuracy: 0.9990\n",
      "Epoch 9/10\n",
      "445/445 [==============================] - 1s 1ms/step - loss: 9.9865e-04 - accuracy: 0.9990\n",
      "Epoch 10/10\n",
      "445/445 [==============================] - 1s 1ms/step - loss: 9.9707e-04 - accuracy: 0.9990\n",
      "223/223 [==============================] - 0s 939us/step - loss: 0.0011 - accuracy: 0.9989\n",
      "Model: \"sequential_8\"\n",
      "_________________________________________________________________\n",
      " Layer (type)                Output Shape              Param #   \n",
      "=================================================================\n",
      " dense_24 (Dense)            (None, 128)               1152      \n",
      "                                                                 \n",
      " dense_25 (Dense)            (None, 8)                 1032      \n",
      "                                                                 \n",
      " dense_26 (Dense)            (None, 1)                 9         \n",
      "                                                                 \n",
      "=================================================================\n",
      "Total params: 2,193\n",
      "Trainable params: 2,193\n",
      "Non-trainable params: 0\n",
      "_________________________________________________________________\n",
      "Epoch 1/10\n",
      "445/445 [==============================] - 1s 1ms/step - loss: 0.0015 - accuracy: 0.9987\n",
      "Epoch 2/10\n",
      "445/445 [==============================] - 1s 1ms/step - loss: 0.0011 - accuracy: 0.9989\n",
      "Epoch 3/10\n",
      "445/445 [==============================] - 1s 2ms/step - loss: 0.0011 - accuracy: 0.9989\n",
      "Epoch 4/10\n",
      "445/445 [==============================] - 1s 2ms/step - loss: 0.0011 - accuracy: 0.9989\n",
      "Epoch 5/10\n",
      "445/445 [==============================] - 1s 2ms/step - loss: 0.0011 - accuracy: 0.9989\n",
      "Epoch 6/10\n",
      "445/445 [==============================] - 1s 2ms/step - loss: 0.0010 - accuracy: 0.9989\n",
      "Epoch 7/10\n",
      "445/445 [==============================] - 1s 2ms/step - loss: 0.0011 - accuracy: 0.9989\n",
      "Epoch 8/10\n",
      "445/445 [==============================] - 1s 2ms/step - loss: 0.0010 - accuracy: 0.9989\n",
      "Epoch 9/10\n",
      "445/445 [==============================] - 1s 2ms/step - loss: 0.0010 - accuracy: 0.9989\n",
      "Epoch 10/10\n",
      "445/445 [==============================] - 1s 2ms/step - loss: 0.0010 - accuracy: 0.9989\n",
      "223/223 [==============================] - 0s 941us/step - loss: 9.7693e-04 - accuracy: 0.9990\n",
      "Model: \"sequential_9\"\n",
      "_________________________________________________________________\n",
      " Layer (type)                Output Shape              Param #   \n",
      "=================================================================\n",
      " dense_27 (Dense)            (None, 128)               1152      \n",
      "                                                                 \n",
      " dense_28 (Dense)            (None, 8)                 1032      \n",
      "                                                                 \n",
      " dense_29 (Dense)            (None, 1)                 9         \n",
      "                                                                 \n",
      "=================================================================\n",
      "Total params: 2,193\n",
      "Trainable params: 2,193\n",
      "Non-trainable params: 0\n",
      "_________________________________________________________________\n",
      "Epoch 1/10\n",
      "445/445 [==============================] - 1s 1ms/step - loss: 0.0017 - accuracy: 0.9989\n",
      "Epoch 2/10\n",
      "445/445 [==============================] - 0s 1ms/step - loss: 0.0011 - accuracy: 0.9990\n",
      "Epoch 3/10\n",
      "445/445 [==============================] - 1s 2ms/step - loss: 0.0011 - accuracy: 0.9990\n",
      "Epoch 4/10\n",
      "445/445 [==============================] - 1s 1ms/step - loss: 0.0011 - accuracy: 0.9989\n",
      "Epoch 5/10\n",
      "445/445 [==============================] - 1s 1ms/step - loss: 0.0010 - accuracy: 0.9990\n",
      "Epoch 6/10\n",
      "445/445 [==============================] - 1s 2ms/step - loss: 0.0010 - accuracy: 0.9990\n",
      "Epoch 7/10\n",
      "445/445 [==============================] - 1s 1ms/step - loss: 0.0010 - accuracy: 0.9990\n",
      "Epoch 8/10\n",
      "445/445 [==============================] - 1s 1ms/step - loss: 0.0010 - accuracy: 0.9990\n",
      "Epoch 9/10\n",
      "445/445 [==============================] - 1s 2ms/step - loss: 0.0010 - accuracy: 0.9990\n",
      "Epoch 10/10\n",
      "445/445 [==============================] - 1s 2ms/step - loss: 0.0010 - accuracy: 0.9990\n"
     ]
    },
    {
     "name": "stdout",
     "output_type": "stream",
     "text": [
      "223/223 [==============================] - 0s 1ms/step - loss: 9.9905e-04 - accuracy: 0.9990\n",
      "Model: \"sequential_10\"\n",
      "_________________________________________________________________\n",
      " Layer (type)                Output Shape              Param #   \n",
      "=================================================================\n",
      " dense_30 (Dense)            (None, 16)                144       \n",
      "                                                                 \n",
      " dense_31 (Dense)            (None, 8)                 136       \n",
      "                                                                 \n",
      " dense_32 (Dense)            (None, 1)                 9         \n",
      "                                                                 \n",
      "=================================================================\n",
      "Total params: 289\n",
      "Trainable params: 289\n",
      "Non-trainable params: 0\n",
      "_________________________________________________________________\n",
      "Epoch 1/10\n",
      "667/667 [==============================] - 1s 1ms/step - loss: 0.0025 - accuracy: 0.9989\n",
      "Epoch 2/10\n",
      "667/667 [==============================] - 1s 1ms/step - loss: 0.0011 - accuracy: 0.9990\n",
      "Epoch 3/10\n",
      "667/667 [==============================] - 1s 1ms/step - loss: 0.0010 - accuracy: 0.9990\n",
      "Epoch 4/10\n",
      "667/667 [==============================] - 1s 1ms/step - loss: 0.0010 - accuracy: 0.9990\n",
      "Epoch 5/10\n",
      "667/667 [==============================] - 1s 1ms/step - loss: 0.0010 - accuracy: 0.9990\n",
      "Epoch 6/10\n",
      "667/667 [==============================] - 1s 1ms/step - loss: 0.0010 - accuracy: 0.9990\n",
      "Epoch 7/10\n",
      "667/667 [==============================] - 1s 1ms/step - loss: 0.0010 - accuracy: 0.9990\n",
      "Epoch 8/10\n",
      "667/667 [==============================] - 1s 1ms/step - loss: 0.0010 - accuracy: 0.9990\n",
      "Epoch 9/10\n",
      "667/667 [==============================] - 1s 1ms/step - loss: 0.0010 - accuracy: 0.9990\n",
      "Epoch 10/10\n",
      "667/667 [==============================] - 1s 1ms/step - loss: 0.0010 - accuracy: 0.9990\n"
     ]
    }
   ],
   "source": [
    "from tensorflow.keras.wrappers.scikit_learn import KerasRegressor\n",
    "from sklearn.model_selection import GridSearchCV, KFold\n",
    "\n",
    "kf = KFold(3, shuffle=True, random_state=42)\n",
    "\n",
    "model = Pipeline([\n",
    "    (\"preproc\", preproc),\n",
    "    (\"KerasRegressor\", KerasRegressor(build_fn=build_nn,\n",
    "                                      batch_size=100, \n",
    "                                      epochs=10,\n",
    "                                      firstLayerNodes=128, \n",
    "                                      inpDim=len(f_names),\n",
    "                                     )\n",
    "    )\n",
    "])\n",
    "\n",
    "grid = {\n",
    "    \"KerasRegressor__firstLayerNodes\": [16, 64, 128]\n",
    "}\n",
    "\n",
    "gs = GridSearchCV(model, grid, cv=kf)\n",
    "gs.fit(X_train, y_train);"
   ]
  },
  {
   "cell_type": "code",
   "execution_count": 30,
   "id": "98cd146c",
   "metadata": {},
   "outputs": [
    {
     "data": {
      "text/html": [
       "<div>\n",
       "<style scoped>\n",
       "    .dataframe tbody tr th:only-of-type {\n",
       "        vertical-align: middle;\n",
       "    }\n",
       "\n",
       "    .dataframe tbody tr th {\n",
       "        vertical-align: top;\n",
       "    }\n",
       "\n",
       "    .dataframe thead th {\n",
       "        text-align: right;\n",
       "    }\n",
       "</style>\n",
       "<table border=\"1\" class=\"dataframe\">\n",
       "  <thead>\n",
       "    <tr style=\"text-align: right;\">\n",
       "      <th></th>\n",
       "      <th>mean_fit_time</th>\n",
       "      <th>std_fit_time</th>\n",
       "      <th>mean_score_time</th>\n",
       "      <th>std_score_time</th>\n",
       "      <th>param_KerasRegressor__firstLayerNodes</th>\n",
       "      <th>params</th>\n",
       "      <th>split0_test_score</th>\n",
       "      <th>split1_test_score</th>\n",
       "      <th>split2_test_score</th>\n",
       "      <th>mean_test_score</th>\n",
       "      <th>std_test_score</th>\n",
       "      <th>rank_test_score</th>\n",
       "    </tr>\n",
       "  </thead>\n",
       "  <tbody>\n",
       "    <tr>\n",
       "      <th>0</th>\n",
       "      <td>5.718995</td>\n",
       "      <td>0.101149</td>\n",
       "      <td>0.441182</td>\n",
       "      <td>0.060846</td>\n",
       "      <td>16</td>\n",
       "      <td>{'KerasRegressor__firstLayerNodes': 16}</td>\n",
       "      <td>-0.001119</td>\n",
       "      <td>-0.000948</td>\n",
       "      <td>-0.000990</td>\n",
       "      <td>-0.001019</td>\n",
       "      <td>0.000073</td>\n",
       "      <td>1</td>\n",
       "    </tr>\n",
       "    <tr>\n",
       "      <th>1</th>\n",
       "      <td>6.240037</td>\n",
       "      <td>0.201849</td>\n",
       "      <td>0.414920</td>\n",
       "      <td>0.040095</td>\n",
       "      <td>64</td>\n",
       "      <td>{'KerasRegressor__firstLayerNodes': 64}</td>\n",
       "      <td>-0.001119</td>\n",
       "      <td>-0.000950</td>\n",
       "      <td>-0.001010</td>\n",
       "      <td>-0.001026</td>\n",
       "      <td>0.000070</td>\n",
       "      <td>2</td>\n",
       "    </tr>\n",
       "    <tr>\n",
       "      <th>2</th>\n",
       "      <td>6.971444</td>\n",
       "      <td>0.793029</td>\n",
       "      <td>0.349672</td>\n",
       "      <td>0.030111</td>\n",
       "      <td>128</td>\n",
       "      <td>{'KerasRegressor__firstLayerNodes': 128}</td>\n",
       "      <td>-0.001108</td>\n",
       "      <td>-0.000977</td>\n",
       "      <td>-0.000999</td>\n",
       "      <td>-0.001028</td>\n",
       "      <td>0.000057</td>\n",
       "      <td>3</td>\n",
       "    </tr>\n",
       "  </tbody>\n",
       "</table>\n",
       "</div>"
      ],
      "text/plain": [
       "   mean_fit_time  std_fit_time  mean_score_time  std_score_time  \\\n",
       "0       5.718995      0.101149         0.441182        0.060846   \n",
       "1       6.240037      0.201849         0.414920        0.040095   \n",
       "2       6.971444      0.793029         0.349672        0.030111   \n",
       "\n",
       "  param_KerasRegressor__firstLayerNodes  \\\n",
       "0                                    16   \n",
       "1                                    64   \n",
       "2                                   128   \n",
       "\n",
       "                                     params  split0_test_score  \\\n",
       "0   {'KerasRegressor__firstLayerNodes': 16}          -0.001119   \n",
       "1   {'KerasRegressor__firstLayerNodes': 64}          -0.001119   \n",
       "2  {'KerasRegressor__firstLayerNodes': 128}          -0.001108   \n",
       "\n",
       "   split1_test_score  split2_test_score  mean_test_score  std_test_score  \\\n",
       "0          -0.000948          -0.000990        -0.001019        0.000073   \n",
       "1          -0.000950          -0.001010        -0.001026        0.000070   \n",
       "2          -0.000977          -0.000999        -0.001028        0.000057   \n",
       "\n",
       "   rank_test_score  \n",
       "0                1  \n",
       "1                2  \n",
       "2                3  "
      ]
     },
     "execution_count": 30,
     "metadata": {},
     "output_type": "execute_result"
    }
   ],
   "source": [
    "pd.DataFrame(gs.cv_results_).sort_values(\"rank_test_score\")"
   ]
  },
  {
   "cell_type": "markdown",
   "id": "ab5f2193",
   "metadata": {},
   "source": [
    "## 5 - Tuning degli Iperparametri"
   ]
  },
  {
   "cell_type": "markdown",
   "id": "33ff65b3",
   "metadata": {},
   "source": [
    "Per questa parte utilizziamo una porzione più ampia del datataset e lo suddividiamo in 3 parti e le useremo nel seguente modo :\n",
    "   - Training Set : Per addestrare i modelli.\n",
    "   - Validation Set : Per vericare l'accuratteza dei modelli su dati mai visti in fase di training.\n",
    "   - Test Set : Per calcolare la confidenza."
   ]
  },
  {
   "cell_type": "code",
   "execution_count": 31,
   "id": "6b28cd10",
   "metadata": {},
   "outputs": [],
   "source": [
    "from sklearn.model_selection import GridSearchCV, KFold\n",
    "kf = KFold(3, shuffle=True, random_state=42)\n",
    "\n",
    "transactions = pd.read_csv(\"../data/data.csv\", nrows=1_000_000)\n",
    "X = transactions[feature_list]\n",
    "y = transactions[[\"isFraud\"]]\n",
    "\n",
    "X_train, X_val, y_train, y_val = train_test_split(X, y, test_size=1/3, random_state=42)\n",
    "X_train, X_test, y_train, y_test = train_test_split(X_train, y_train, test_size=1/3, random_state=42)"
   ]
  },
  {
   "cell_type": "markdown",
   "id": "1ec12d65",
   "metadata": {},
   "source": [
    "Tra i modelli implementati faccio il \"fine-tuning\" dei seguenti: \n",
    " - Alberi Decisionali\n",
    " - XGBClassifier"
   ]
  },
  {
   "cell_type": "markdown",
   "id": "41d19f3a",
   "metadata": {},
   "source": [
    "Partiamo dal DecisionTreeClassifier e andiamo ad aggiustare i seguenti iperparametri :\n",
    " - max_depth : La profondità regola la complessità di un albero, quindi variadola cambia anche l' accuratezza dell'intero modello.\n",
    " - min_samples_split : E' usato per regolare il numero minimo di istanze necessarie per uno spit. Anche in questo caso l'iperparametro cambia (indirettamente) la profondità di un albero."
   ]
  },
  {
   "cell_type": "code",
   "execution_count": 32,
   "id": "34d0ec6a",
   "metadata": {
    "scrolled": true
   },
   "outputs": [
    {
     "data": {
      "text/html": [
       "<div>\n",
       "<style scoped>\n",
       "    .dataframe tbody tr th:only-of-type {\n",
       "        vertical-align: middle;\n",
       "    }\n",
       "\n",
       "    .dataframe tbody tr th {\n",
       "        vertical-align: top;\n",
       "    }\n",
       "\n",
       "    .dataframe thead th {\n",
       "        text-align: right;\n",
       "    }\n",
       "</style>\n",
       "<table border=\"1\" class=\"dataframe\">\n",
       "  <thead>\n",
       "    <tr style=\"text-align: right;\">\n",
       "      <th></th>\n",
       "      <th>mean_fit_time</th>\n",
       "      <th>std_fit_time</th>\n",
       "      <th>mean_score_time</th>\n",
       "      <th>std_score_time</th>\n",
       "      <th>param_DecisionTreeClassifier__max_depth</th>\n",
       "      <th>param_DecisionTreeClassifier__min_samples_split</th>\n",
       "      <th>params</th>\n",
       "      <th>split0_test_score</th>\n",
       "      <th>split1_test_score</th>\n",
       "      <th>split2_test_score</th>\n",
       "      <th>mean_test_score</th>\n",
       "      <th>std_test_score</th>\n",
       "      <th>rank_test_score</th>\n",
       "    </tr>\n",
       "  </thead>\n",
       "  <tbody>\n",
       "    <tr>\n",
       "      <th>4</th>\n",
       "      <td>0.966851</td>\n",
       "      <td>0.038925</td>\n",
       "      <td>0.063496</td>\n",
       "      <td>0.009437</td>\n",
       "      <td>20</td>\n",
       "      <td>5</td>\n",
       "      <td>{'DecisionTreeClassifier__max_depth': 20, 'Dec...</td>\n",
       "      <td>0.999406</td>\n",
       "      <td>0.999440</td>\n",
       "      <td>0.999359</td>\n",
       "      <td>0.999401</td>\n",
       "      <td>0.000033</td>\n",
       "      <td>1</td>\n",
       "    </tr>\n",
       "    <tr>\n",
       "      <th>2</th>\n",
       "      <td>1.018475</td>\n",
       "      <td>0.060194</td>\n",
       "      <td>0.068816</td>\n",
       "      <td>0.011016</td>\n",
       "      <td>15</td>\n",
       "      <td>5</td>\n",
       "      <td>{'DecisionTreeClassifier__max_depth': 15, 'Dec...</td>\n",
       "      <td>0.999372</td>\n",
       "      <td>0.999440</td>\n",
       "      <td>0.999345</td>\n",
       "      <td>0.999386</td>\n",
       "      <td>0.000040</td>\n",
       "      <td>2</td>\n",
       "    </tr>\n",
       "    <tr>\n",
       "      <th>5</th>\n",
       "      <td>1.041500</td>\n",
       "      <td>0.028900</td>\n",
       "      <td>0.057514</td>\n",
       "      <td>0.000471</td>\n",
       "      <td>20</td>\n",
       "      <td>10</td>\n",
       "      <td>{'DecisionTreeClassifier__max_depth': 20, 'Dec...</td>\n",
       "      <td>0.999257</td>\n",
       "      <td>0.999352</td>\n",
       "      <td>0.999230</td>\n",
       "      <td>0.999280</td>\n",
       "      <td>0.000052</td>\n",
       "      <td>3</td>\n",
       "    </tr>\n",
       "    <tr>\n",
       "      <th>3</th>\n",
       "      <td>0.947787</td>\n",
       "      <td>0.058639</td>\n",
       "      <td>0.055860</td>\n",
       "      <td>0.000013</td>\n",
       "      <td>15</td>\n",
       "      <td>10</td>\n",
       "      <td>{'DecisionTreeClassifier__max_depth': 15, 'Dec...</td>\n",
       "      <td>0.999224</td>\n",
       "      <td>0.999352</td>\n",
       "      <td>0.999224</td>\n",
       "      <td>0.999266</td>\n",
       "      <td>0.000060</td>\n",
       "      <td>4</td>\n",
       "    </tr>\n",
       "    <tr>\n",
       "      <th>0</th>\n",
       "      <td>1.127412</td>\n",
       "      <td>0.052519</td>\n",
       "      <td>0.065159</td>\n",
       "      <td>0.009646</td>\n",
       "      <td>10</td>\n",
       "      <td>5</td>\n",
       "      <td>{'DecisionTreeClassifier__max_depth': 10, 'Dec...</td>\n",
       "      <td>0.996605</td>\n",
       "      <td>0.998299</td>\n",
       "      <td>0.997104</td>\n",
       "      <td>0.997336</td>\n",
       "      <td>0.000711</td>\n",
       "      <td>5</td>\n",
       "    </tr>\n",
       "  </tbody>\n",
       "</table>\n",
       "</div>"
      ],
      "text/plain": [
       "   mean_fit_time  std_fit_time  mean_score_time  std_score_time  \\\n",
       "4       0.966851      0.038925         0.063496        0.009437   \n",
       "2       1.018475      0.060194         0.068816        0.011016   \n",
       "5       1.041500      0.028900         0.057514        0.000471   \n",
       "3       0.947787      0.058639         0.055860        0.000013   \n",
       "0       1.127412      0.052519         0.065159        0.009646   \n",
       "\n",
       "  param_DecisionTreeClassifier__max_depth  \\\n",
       "4                                      20   \n",
       "2                                      15   \n",
       "5                                      20   \n",
       "3                                      15   \n",
       "0                                      10   \n",
       "\n",
       "  param_DecisionTreeClassifier__min_samples_split  \\\n",
       "4                                               5   \n",
       "2                                               5   \n",
       "5                                              10   \n",
       "3                                              10   \n",
       "0                                               5   \n",
       "\n",
       "                                              params  split0_test_score  \\\n",
       "4  {'DecisionTreeClassifier__max_depth': 20, 'Dec...           0.999406   \n",
       "2  {'DecisionTreeClassifier__max_depth': 15, 'Dec...           0.999372   \n",
       "5  {'DecisionTreeClassifier__max_depth': 20, 'Dec...           0.999257   \n",
       "3  {'DecisionTreeClassifier__max_depth': 15, 'Dec...           0.999224   \n",
       "0  {'DecisionTreeClassifier__max_depth': 10, 'Dec...           0.996605   \n",
       "\n",
       "   split1_test_score  split2_test_score  mean_test_score  std_test_score  \\\n",
       "4           0.999440           0.999359         0.999401        0.000033   \n",
       "2           0.999440           0.999345         0.999386        0.000040   \n",
       "5           0.999352           0.999230         0.999280        0.000052   \n",
       "3           0.999352           0.999224         0.999266        0.000060   \n",
       "0           0.998299           0.997104         0.997336        0.000711   \n",
       "\n",
       "   rank_test_score  \n",
       "4                1  \n",
       "2                2  \n",
       "5                3  \n",
       "3                4  \n",
       "0                5  "
      ]
     },
     "execution_count": 32,
     "metadata": {},
     "output_type": "execute_result"
    }
   ],
   "source": [
    "grid = {\n",
    "    \"DecisionTreeClassifier__max_depth\": [10, 15, 20],\n",
    "    \"DecisionTreeClassifier__min_samples_split\": [5, 10],\n",
    "}\n",
    "gs = GridSearchCV(model_dt, grid, cv=kf)\n",
    "gs.fit(X_train, y_train)\n",
    "pd.DataFrame(gs.cv_results_).sort_values(\"rank_test_score\").head(5)"
   ]
  },
  {
   "cell_type": "code",
   "execution_count": 33,
   "id": "477fee6d",
   "metadata": {},
   "outputs": [
    {
     "data": {
      "text/plain": [
       "{'DecisionTreeClassifier__max_depth': 20,\n",
       " 'DecisionTreeClassifier__min_samples_split': 5}"
      ]
     },
     "execution_count": 33,
     "metadata": {},
     "output_type": "execute_result"
    }
   ],
   "source": [
    "gs.best_params_"
   ]
  },
  {
   "cell_type": "code",
   "execution_count": 34,
   "id": "8a1e28bb",
   "metadata": {},
   "outputs": [
    {
     "name": "stdout",
     "output_type": "stream",
     "text": [
      "Confusion Matrix : \n",
      "              isFraud     Honest \n",
      "   isFraud     333073         97 \n",
      "    Honest         85         79 \n",
      "\n",
      "PRECISION  :       0.4489\n",
      "RECALL     :       0.4817\n",
      "F1-MEASURE :       0.7322\n",
      "R^2        :       0.9995\n"
     ]
    }
   ],
   "source": [
    "print_eval(X_val, y_val, gs.best_estimator_, classes)"
   ]
  },
  {
   "cell_type": "markdown",
   "id": "ac23242f",
   "metadata": {},
   "source": [
    "Continuamo con XGBClassifier e ottimizziamo i seguenti iperparametri :\n",
    "- max_depth : Valgono le stesse considerazioni fatte per il DecisionTreeClassifier .\n",
    "- reg_lambda : Ho applicato la regolarizzazione L2 delle feature.\n",
    "- learning_rate $\\in$ [0,1] : In questo caso aumentatndo lo step del gradiente raggiungiamo un minimo locale migliore."
   ]
  },
  {
   "cell_type": "code",
   "execution_count": 35,
   "id": "6d8bca5a",
   "metadata": {},
   "outputs": [
    {
     "data": {
      "text/html": [
       "<div>\n",
       "<style scoped>\n",
       "    .dataframe tbody tr th:only-of-type {\n",
       "        vertical-align: middle;\n",
       "    }\n",
       "\n",
       "    .dataframe tbody tr th {\n",
       "        vertical-align: top;\n",
       "    }\n",
       "\n",
       "    .dataframe thead th {\n",
       "        text-align: right;\n",
       "    }\n",
       "</style>\n",
       "<table border=\"1\" class=\"dataframe\">\n",
       "  <thead>\n",
       "    <tr style=\"text-align: right;\">\n",
       "      <th></th>\n",
       "      <th>mean_fit_time</th>\n",
       "      <th>std_fit_time</th>\n",
       "      <th>mean_score_time</th>\n",
       "      <th>std_score_time</th>\n",
       "      <th>param_XGBClassifier__learning_rate</th>\n",
       "      <th>param_XGBClassifier__max_depth</th>\n",
       "      <th>param_XGBClassifier__reg_lambda</th>\n",
       "      <th>params</th>\n",
       "      <th>split0_test_score</th>\n",
       "      <th>split1_test_score</th>\n",
       "      <th>split2_test_score</th>\n",
       "      <th>mean_test_score</th>\n",
       "      <th>std_test_score</th>\n",
       "      <th>rank_test_score</th>\n",
       "    </tr>\n",
       "  </thead>\n",
       "  <tbody>\n",
       "    <tr>\n",
       "      <th>0</th>\n",
       "      <td>9.178045</td>\n",
       "      <td>0.517258</td>\n",
       "      <td>0.093072</td>\n",
       "      <td>0.003100</td>\n",
       "      <td>0.6</td>\n",
       "      <td>10</td>\n",
       "      <td>0.5</td>\n",
       "      <td>{'XGBClassifier__learning_rate': 0.6, 'XGBClas...</td>\n",
       "      <td>0.999527</td>\n",
       "      <td>0.999527</td>\n",
       "      <td>0.999480</td>\n",
       "      <td>0.999512</td>\n",
       "      <td>0.000022</td>\n",
       "      <td>1</td>\n",
       "    </tr>\n",
       "    <tr>\n",
       "      <th>4</th>\n",
       "      <td>8.062139</td>\n",
       "      <td>0.149209</td>\n",
       "      <td>0.092091</td>\n",
       "      <td>0.002451</td>\n",
       "      <td>0.7</td>\n",
       "      <td>10</td>\n",
       "      <td>0.5</td>\n",
       "      <td>{'XGBClassifier__learning_rate': 0.7, 'XGBClas...</td>\n",
       "      <td>0.999487</td>\n",
       "      <td>0.999521</td>\n",
       "      <td>0.999521</td>\n",
       "      <td>0.999509</td>\n",
       "      <td>0.000016</td>\n",
       "      <td>2</td>\n",
       "    </tr>\n",
       "    <tr>\n",
       "      <th>1</th>\n",
       "      <td>8.599290</td>\n",
       "      <td>0.563979</td>\n",
       "      <td>0.091145</td>\n",
       "      <td>0.002309</td>\n",
       "      <td>0.6</td>\n",
       "      <td>10</td>\n",
       "      <td>0.4</td>\n",
       "      <td>{'XGBClassifier__learning_rate': 0.6, 'XGBClas...</td>\n",
       "      <td>0.999480</td>\n",
       "      <td>0.999575</td>\n",
       "      <td>0.999460</td>\n",
       "      <td>0.999505</td>\n",
       "      <td>0.000050</td>\n",
       "      <td>3</td>\n",
       "    </tr>\n",
       "    <tr>\n",
       "      <th>2</th>\n",
       "      <td>5.211956</td>\n",
       "      <td>0.367057</td>\n",
       "      <td>0.103886</td>\n",
       "      <td>0.002054</td>\n",
       "      <td>0.6</td>\n",
       "      <td>15</td>\n",
       "      <td>0.5</td>\n",
       "      <td>{'XGBClassifier__learning_rate': 0.6, 'XGBClas...</td>\n",
       "      <td>0.999453</td>\n",
       "      <td>0.999527</td>\n",
       "      <td>0.999453</td>\n",
       "      <td>0.999478</td>\n",
       "      <td>0.000035</td>\n",
       "      <td>4</td>\n",
       "    </tr>\n",
       "    <tr>\n",
       "      <th>6</th>\n",
       "      <td>4.433237</td>\n",
       "      <td>0.229011</td>\n",
       "      <td>0.101515</td>\n",
       "      <td>0.001642</td>\n",
       "      <td>0.7</td>\n",
       "      <td>15</td>\n",
       "      <td>0.5</td>\n",
       "      <td>{'XGBClassifier__learning_rate': 0.7, 'XGBClas...</td>\n",
       "      <td>0.999473</td>\n",
       "      <td>0.999527</td>\n",
       "      <td>0.999386</td>\n",
       "      <td>0.999462</td>\n",
       "      <td>0.000058</td>\n",
       "      <td>5</td>\n",
       "    </tr>\n",
       "  </tbody>\n",
       "</table>\n",
       "</div>"
      ],
      "text/plain": [
       "   mean_fit_time  std_fit_time  mean_score_time  std_score_time  \\\n",
       "0       9.178045      0.517258         0.093072        0.003100   \n",
       "4       8.062139      0.149209         0.092091        0.002451   \n",
       "1       8.599290      0.563979         0.091145        0.002309   \n",
       "2       5.211956      0.367057         0.103886        0.002054   \n",
       "6       4.433237      0.229011         0.101515        0.001642   \n",
       "\n",
       "  param_XGBClassifier__learning_rate param_XGBClassifier__max_depth  \\\n",
       "0                                0.6                             10   \n",
       "4                                0.7                             10   \n",
       "1                                0.6                             10   \n",
       "2                                0.6                             15   \n",
       "6                                0.7                             15   \n",
       "\n",
       "  param_XGBClassifier__reg_lambda  \\\n",
       "0                             0.5   \n",
       "4                             0.5   \n",
       "1                             0.4   \n",
       "2                             0.5   \n",
       "6                             0.5   \n",
       "\n",
       "                                              params  split0_test_score  \\\n",
       "0  {'XGBClassifier__learning_rate': 0.6, 'XGBClas...           0.999527   \n",
       "4  {'XGBClassifier__learning_rate': 0.7, 'XGBClas...           0.999487   \n",
       "1  {'XGBClassifier__learning_rate': 0.6, 'XGBClas...           0.999480   \n",
       "2  {'XGBClassifier__learning_rate': 0.6, 'XGBClas...           0.999453   \n",
       "6  {'XGBClassifier__learning_rate': 0.7, 'XGBClas...           0.999473   \n",
       "\n",
       "   split1_test_score  split2_test_score  mean_test_score  std_test_score  \\\n",
       "0           0.999527           0.999480         0.999512        0.000022   \n",
       "4           0.999521           0.999521         0.999509        0.000016   \n",
       "1           0.999575           0.999460         0.999505        0.000050   \n",
       "2           0.999527           0.999453         0.999478        0.000035   \n",
       "6           0.999527           0.999386         0.999462        0.000058   \n",
       "\n",
       "   rank_test_score  \n",
       "0                1  \n",
       "4                2  \n",
       "1                3  \n",
       "2                4  \n",
       "6                5  "
      ]
     },
     "execution_count": 35,
     "metadata": {},
     "output_type": "execute_result"
    }
   ],
   "source": [
    "grid = [\n",
    "    {\n",
    "        \"XGBClassifier__learning_rate\":[0.6,0.7],\n",
    "        \"XGBClassifier__reg_lambda\":[0.5,0.4],\n",
    "        \"XGBClassifier__max_depth\":[10,15]\n",
    "    }\n",
    "]\n",
    "gs = GridSearchCV(model_xgb, grid, cv=kf)\n",
    "gs.fit(X_train, y_train.values.ravel())\n",
    "pd.DataFrame(gs.cv_results_).sort_values(\"rank_test_score\").head(5)"
   ]
  },
  {
   "cell_type": "code",
   "execution_count": 36,
   "id": "8b42939a",
   "metadata": {},
   "outputs": [
    {
     "data": {
      "text/plain": [
       "{'XGBClassifier__learning_rate': 0.6,\n",
       " 'XGBClassifier__max_depth': 10,\n",
       " 'XGBClassifier__reg_lambda': 0.5}"
      ]
     },
     "execution_count": 36,
     "metadata": {},
     "output_type": "execute_result"
    }
   ],
   "source": [
    "gs.best_params_"
   ]
  },
  {
   "cell_type": "code",
   "execution_count": 37,
   "id": "c1050452",
   "metadata": {},
   "outputs": [
    {
     "name": "stdout",
     "output_type": "stream",
     "text": [
      "Confusion Matrix : \n",
      "              isFraud     Honest \n",
      "   isFraud     333124         46 \n",
      "    Honest         74         90 \n",
      "\n",
      "PRECISION  :       0.6618\n",
      "RECALL     :       0.5488\n",
      "F1-MEASURE :       0.7999\n",
      "R^2        :       0.9996\n"
     ]
    }
   ],
   "source": [
    "print_eval(X_val, y_val, gs.best_estimator_, classes)"
   ]
  },
  {
   "cell_type": "markdown",
   "id": "a0027779",
   "metadata": {},
   "source": [
    "Come possiamo notare la F1-MEASURE è quasi 80%, abbiamo migliorato del $\\approx$ 5% il modello XGBClassifier precedente."
   ]
  },
  {
   "cell_type": "markdown",
   "id": "1c1d4d9a",
   "metadata": {},
   "source": [
    "## 6 -  Valutazione"
   ]
  },
  {
   "cell_type": "markdown",
   "id": "7cfb41b1",
   "metadata": {},
   "source": [
    "Possiamo stimare l'accuratezza sui nuovi dati con il Processo Bernoulliano."
   ]
  },
  {
   "cell_type": "markdown",
   "id": "91c69375",
   "metadata": {},
   "source": [
    "Per trovare $Z_{\\alpha/2}$, data una certa confidenza, inizializziamo una mappa dove la chiave è la confidenza e il valore è l'area sottostante la curva di distribuzione normale standard."
   ]
  },
  {
   "cell_type": "code",
   "execution_count": 41,
   "id": "37a5db1e",
   "metadata": {},
   "outputs": [],
   "source": [
    "Za2_map = {0.99:2.58,0.98:2.33,0.95:1.96,0.90:1.65}"
   ]
  },
  {
   "cell_type": "markdown",
   "id": "6686c264",
   "metadata": {},
   "source": [
    "Implementiamo una funzione per calcolare l'intervallo di confidenza."
   ]
  },
  {
   "cell_type": "code",
   "execution_count": 42,
   "id": "37b339a3",
   "metadata": {},
   "outputs": [],
   "source": [
    "def bernoulli_process(acc, p_value, N) :\n",
    "    '''this method calculate the interval confidence based on Bernoulli Process'''\n",
    "    Za2 = Za2_map[p_value]\n",
    "    \n",
    "    num = 2*N*acc+Za2**2\n",
    "    sqrt = np.sqrt(Za2**2+4*N*acc-4*N*acc**2)\n",
    "    den = 2*(N+Za2**2)\n",
    "    \n",
    "    return (num - Za2*sqrt) / den, (num + Za2*sqrt) / den"
   ]
  },
  {
   "cell_type": "markdown",
   "id": "92ac87aa",
   "metadata": {},
   "source": [
    "Data la confidenza del 95% vediamo l'accuratezza del modello."
   ]
  },
  {
   "cell_type": "code",
   "execution_count": 43,
   "id": "8fec68cf",
   "metadata": {},
   "outputs": [
    {
     "name": "stdout",
     "output_type": "stream",
     "text": [
      "L'accuratezza del modello migliore è :\n",
      "79.16 % ± [78.99 %, 79.32 %]\n"
     ]
    }
   ],
   "source": [
    "accurancy = f1_score(y_test, gs.best_estimator_.predict(X_test), average='macro')\n",
    "N = X_test.shape[0]\n",
    "confidence = 0.95\n",
    "p_min, p_max = bernoulli_process(accurancy, confidence, N)\n",
    "p_min, p_max, accurancy = p_min * 100, p_max * 100, accurancy * 100\n",
    "print(f\"L'accuratezza del modello migliore è :\\n{accurancy:2.2f} % \\u00B1 [{p_min:2.2f} %, {p_max:2.2f} %]\")"
   ]
  },
  {
   "cell_type": "markdown",
   "id": "8fb881d5",
   "metadata": {},
   "source": [
    "## 7 - Resources\n",
    "Link al dataset di kaggle : https://www.kaggle.com/datasets/rupakroy/online-payments-fraud-detection-dataset"
   ]
  }
 ],
 "metadata": {
  "kernelspec": {
   "display_name": "Python 3 (ipykernel)",
   "language": "python",
   "name": "python3"
  },
  "language_info": {
   "codemirror_mode": {
    "name": "ipython",
    "version": 3
   },
   "file_extension": ".py",
   "mimetype": "text/x-python",
   "name": "python",
   "nbconvert_exporter": "python",
   "pygments_lexer": "ipython3",
   "version": "3.9.7"
  }
 },
 "nbformat": 4,
 "nbformat_minor": 5
}
