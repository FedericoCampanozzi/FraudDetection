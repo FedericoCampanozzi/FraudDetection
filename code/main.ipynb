{
 "cells": [
  {
   "cell_type": "markdown",
   "id": "36fef92c",
   "metadata": {},
   "source": [
    "# Federico Campanozzi - Progetto Data Intensive con Relazione\n",
    "                                                                                                             a.a. 2021/2022"
   ]
  },
  {
   "cell_type": "markdown",
   "id": "1b2f832f",
   "metadata": {},
   "source": [
    "## 1 - Descrizione del problema"
   ]
  },
  {
   "cell_type": "markdown",
   "id": "e1da3f3e",
   "metadata": {},
   "source": [
    "## 2- Analisi esplorativa"
   ]
  },
  {
   "cell_type": "code",
   "execution_count": 36,
   "id": "ca9a2c03",
   "metadata": {},
   "outputs": [],
   "source": [
    "import numpy as np\n",
    "import pandas as pd\n",
    "import matplotlib.pyplot as plt\n",
    "%matplotlib inline"
   ]
  },
  {
   "cell_type": "code",
   "execution_count": 37,
   "id": "0059e4b7",
   "metadata": {},
   "outputs": [
    {
     "data": {
      "text/html": [
       "<div>\n",
       "<style scoped>\n",
       "    .dataframe tbody tr th:only-of-type {\n",
       "        vertical-align: middle;\n",
       "    }\n",
       "\n",
       "    .dataframe tbody tr th {\n",
       "        vertical-align: top;\n",
       "    }\n",
       "\n",
       "    .dataframe thead th {\n",
       "        text-align: right;\n",
       "    }\n",
       "</style>\n",
       "<table border=\"1\" class=\"dataframe\">\n",
       "  <thead>\n",
       "    <tr style=\"text-align: right;\">\n",
       "      <th></th>\n",
       "      <th>step</th>\n",
       "      <th>type</th>\n",
       "      <th>amount</th>\n",
       "      <th>nameOrig</th>\n",
       "      <th>oldbalanceOrg</th>\n",
       "      <th>newbalanceOrig</th>\n",
       "      <th>nameDest</th>\n",
       "      <th>oldbalanceDest</th>\n",
       "      <th>newbalanceDest</th>\n",
       "      <th>isFraud</th>\n",
       "      <th>isFlaggedFraud</th>\n",
       "    </tr>\n",
       "  </thead>\n",
       "  <tbody>\n",
       "    <tr>\n",
       "      <th>0</th>\n",
       "      <td>1</td>\n",
       "      <td>PAYMENT</td>\n",
       "      <td>9839.64</td>\n",
       "      <td>C1231006815</td>\n",
       "      <td>170136.00</td>\n",
       "      <td>160296.36</td>\n",
       "      <td>M1979787155</td>\n",
       "      <td>0.0</td>\n",
       "      <td>0.00</td>\n",
       "      <td>0</td>\n",
       "      <td>0</td>\n",
       "    </tr>\n",
       "    <tr>\n",
       "      <th>1</th>\n",
       "      <td>1</td>\n",
       "      <td>PAYMENT</td>\n",
       "      <td>1864.28</td>\n",
       "      <td>C1666544295</td>\n",
       "      <td>21249.00</td>\n",
       "      <td>19384.72</td>\n",
       "      <td>M2044282225</td>\n",
       "      <td>0.0</td>\n",
       "      <td>0.00</td>\n",
       "      <td>0</td>\n",
       "      <td>0</td>\n",
       "    </tr>\n",
       "    <tr>\n",
       "      <th>2</th>\n",
       "      <td>1</td>\n",
       "      <td>TRANSFER</td>\n",
       "      <td>181.00</td>\n",
       "      <td>C1305486145</td>\n",
       "      <td>181.00</td>\n",
       "      <td>0.00</td>\n",
       "      <td>C553264065</td>\n",
       "      <td>0.0</td>\n",
       "      <td>0.00</td>\n",
       "      <td>1</td>\n",
       "      <td>0</td>\n",
       "    </tr>\n",
       "    <tr>\n",
       "      <th>3</th>\n",
       "      <td>1</td>\n",
       "      <td>CASH_OUT</td>\n",
       "      <td>181.00</td>\n",
       "      <td>C840083671</td>\n",
       "      <td>181.00</td>\n",
       "      <td>0.00</td>\n",
       "      <td>C38997010</td>\n",
       "      <td>21182.0</td>\n",
       "      <td>0.00</td>\n",
       "      <td>1</td>\n",
       "      <td>0</td>\n",
       "    </tr>\n",
       "    <tr>\n",
       "      <th>4</th>\n",
       "      <td>1</td>\n",
       "      <td>PAYMENT</td>\n",
       "      <td>11668.14</td>\n",
       "      <td>C2048537720</td>\n",
       "      <td>41554.00</td>\n",
       "      <td>29885.86</td>\n",
       "      <td>M1230701703</td>\n",
       "      <td>0.0</td>\n",
       "      <td>0.00</td>\n",
       "      <td>0</td>\n",
       "      <td>0</td>\n",
       "    </tr>\n",
       "    <tr>\n",
       "      <th>5</th>\n",
       "      <td>1</td>\n",
       "      <td>PAYMENT</td>\n",
       "      <td>7817.71</td>\n",
       "      <td>C90045638</td>\n",
       "      <td>53860.00</td>\n",
       "      <td>46042.29</td>\n",
       "      <td>M573487274</td>\n",
       "      <td>0.0</td>\n",
       "      <td>0.00</td>\n",
       "      <td>0</td>\n",
       "      <td>0</td>\n",
       "    </tr>\n",
       "    <tr>\n",
       "      <th>6</th>\n",
       "      <td>1</td>\n",
       "      <td>PAYMENT</td>\n",
       "      <td>7107.77</td>\n",
       "      <td>C154988899</td>\n",
       "      <td>183195.00</td>\n",
       "      <td>176087.23</td>\n",
       "      <td>M408069119</td>\n",
       "      <td>0.0</td>\n",
       "      <td>0.00</td>\n",
       "      <td>0</td>\n",
       "      <td>0</td>\n",
       "    </tr>\n",
       "    <tr>\n",
       "      <th>7</th>\n",
       "      <td>1</td>\n",
       "      <td>PAYMENT</td>\n",
       "      <td>7861.64</td>\n",
       "      <td>C1912850431</td>\n",
       "      <td>176087.23</td>\n",
       "      <td>168225.59</td>\n",
       "      <td>M633326333</td>\n",
       "      <td>0.0</td>\n",
       "      <td>0.00</td>\n",
       "      <td>0</td>\n",
       "      <td>0</td>\n",
       "    </tr>\n",
       "    <tr>\n",
       "      <th>8</th>\n",
       "      <td>1</td>\n",
       "      <td>PAYMENT</td>\n",
       "      <td>4024.36</td>\n",
       "      <td>C1265012928</td>\n",
       "      <td>2671.00</td>\n",
       "      <td>0.00</td>\n",
       "      <td>M1176932104</td>\n",
       "      <td>0.0</td>\n",
       "      <td>0.00</td>\n",
       "      <td>0</td>\n",
       "      <td>0</td>\n",
       "    </tr>\n",
       "    <tr>\n",
       "      <th>9</th>\n",
       "      <td>1</td>\n",
       "      <td>DEBIT</td>\n",
       "      <td>5337.77</td>\n",
       "      <td>C712410124</td>\n",
       "      <td>41720.00</td>\n",
       "      <td>36382.23</td>\n",
       "      <td>C195600860</td>\n",
       "      <td>41898.0</td>\n",
       "      <td>40348.79</td>\n",
       "      <td>0</td>\n",
       "      <td>0</td>\n",
       "    </tr>\n",
       "  </tbody>\n",
       "</table>\n",
       "</div>"
      ],
      "text/plain": [
       "   step      type    amount     nameOrig  oldbalanceOrg  newbalanceOrig  \\\n",
       "0     1   PAYMENT   9839.64  C1231006815      170136.00       160296.36   \n",
       "1     1   PAYMENT   1864.28  C1666544295       21249.00        19384.72   \n",
       "2     1  TRANSFER    181.00  C1305486145         181.00            0.00   \n",
       "3     1  CASH_OUT    181.00   C840083671         181.00            0.00   \n",
       "4     1   PAYMENT  11668.14  C2048537720       41554.00        29885.86   \n",
       "5     1   PAYMENT   7817.71    C90045638       53860.00        46042.29   \n",
       "6     1   PAYMENT   7107.77   C154988899      183195.00       176087.23   \n",
       "7     1   PAYMENT   7861.64  C1912850431      176087.23       168225.59   \n",
       "8     1   PAYMENT   4024.36  C1265012928        2671.00            0.00   \n",
       "9     1     DEBIT   5337.77   C712410124       41720.00        36382.23   \n",
       "\n",
       "      nameDest  oldbalanceDest  newbalanceDest  isFraud  isFlaggedFraud  \n",
       "0  M1979787155             0.0            0.00        0               0  \n",
       "1  M2044282225             0.0            0.00        0               0  \n",
       "2   C553264065             0.0            0.00        1               0  \n",
       "3    C38997010         21182.0            0.00        1               0  \n",
       "4  M1230701703             0.0            0.00        0               0  \n",
       "5   M573487274             0.0            0.00        0               0  \n",
       "6   M408069119             0.0            0.00        0               0  \n",
       "7   M633326333             0.0            0.00        0               0  \n",
       "8  M1176932104             0.0            0.00        0               0  \n",
       "9   C195600860         41898.0        40348.79        0               0  "
      ]
     },
     "execution_count": 37,
     "metadata": {},
     "output_type": "execute_result"
    }
   ],
   "source": [
    "transactions = pd.read_csv(\"../data/data.csv\")\n",
    "transactions[:10]"
   ]
  },
  {
   "cell_type": "code",
   "execution_count": 38,
   "id": "7ff765b0",
   "metadata": {},
   "outputs": [
    {
     "data": {
      "text/html": [
       "<div>\n",
       "<style scoped>\n",
       "    .dataframe tbody tr th:only-of-type {\n",
       "        vertical-align: middle;\n",
       "    }\n",
       "\n",
       "    .dataframe tbody tr th {\n",
       "        vertical-align: top;\n",
       "    }\n",
       "\n",
       "    .dataframe thead th {\n",
       "        text-align: right;\n",
       "    }\n",
       "</style>\n",
       "<table border=\"1\" class=\"dataframe\">\n",
       "  <thead>\n",
       "    <tr style=\"text-align: right;\">\n",
       "      <th></th>\n",
       "      <th>step</th>\n",
       "      <th>amount</th>\n",
       "      <th>oldbalanceOrg</th>\n",
       "      <th>newbalanceOrig</th>\n",
       "      <th>oldbalanceDest</th>\n",
       "      <th>newbalanceDest</th>\n",
       "      <th>isFraud</th>\n",
       "      <th>isFlaggedFraud</th>\n",
       "    </tr>\n",
       "  </thead>\n",
       "  <tbody>\n",
       "    <tr>\n",
       "      <th>count</th>\n",
       "      <td>6.362620e+06</td>\n",
       "      <td>6.362620e+06</td>\n",
       "      <td>6.362620e+06</td>\n",
       "      <td>6.362620e+06</td>\n",
       "      <td>6.362620e+06</td>\n",
       "      <td>6.362620e+06</td>\n",
       "      <td>6.362620e+06</td>\n",
       "      <td>6.362620e+06</td>\n",
       "    </tr>\n",
       "    <tr>\n",
       "      <th>mean</th>\n",
       "      <td>2.433972e+02</td>\n",
       "      <td>1.798619e+05</td>\n",
       "      <td>8.338831e+05</td>\n",
       "      <td>8.551137e+05</td>\n",
       "      <td>1.100702e+06</td>\n",
       "      <td>1.224996e+06</td>\n",
       "      <td>1.290820e-03</td>\n",
       "      <td>2.514687e-06</td>\n",
       "    </tr>\n",
       "    <tr>\n",
       "      <th>std</th>\n",
       "      <td>1.423320e+02</td>\n",
       "      <td>6.038582e+05</td>\n",
       "      <td>2.888243e+06</td>\n",
       "      <td>2.924049e+06</td>\n",
       "      <td>3.399180e+06</td>\n",
       "      <td>3.674129e+06</td>\n",
       "      <td>3.590480e-02</td>\n",
       "      <td>1.585775e-03</td>\n",
       "    </tr>\n",
       "    <tr>\n",
       "      <th>min</th>\n",
       "      <td>1.000000e+00</td>\n",
       "      <td>0.000000e+00</td>\n",
       "      <td>0.000000e+00</td>\n",
       "      <td>0.000000e+00</td>\n",
       "      <td>0.000000e+00</td>\n",
       "      <td>0.000000e+00</td>\n",
       "      <td>0.000000e+00</td>\n",
       "      <td>0.000000e+00</td>\n",
       "    </tr>\n",
       "    <tr>\n",
       "      <th>25%</th>\n",
       "      <td>1.560000e+02</td>\n",
       "      <td>1.338957e+04</td>\n",
       "      <td>0.000000e+00</td>\n",
       "      <td>0.000000e+00</td>\n",
       "      <td>0.000000e+00</td>\n",
       "      <td>0.000000e+00</td>\n",
       "      <td>0.000000e+00</td>\n",
       "      <td>0.000000e+00</td>\n",
       "    </tr>\n",
       "    <tr>\n",
       "      <th>50%</th>\n",
       "      <td>2.390000e+02</td>\n",
       "      <td>7.487194e+04</td>\n",
       "      <td>1.420800e+04</td>\n",
       "      <td>0.000000e+00</td>\n",
       "      <td>1.327057e+05</td>\n",
       "      <td>2.146614e+05</td>\n",
       "      <td>0.000000e+00</td>\n",
       "      <td>0.000000e+00</td>\n",
       "    </tr>\n",
       "    <tr>\n",
       "      <th>75%</th>\n",
       "      <td>3.350000e+02</td>\n",
       "      <td>2.087215e+05</td>\n",
       "      <td>1.073152e+05</td>\n",
       "      <td>1.442584e+05</td>\n",
       "      <td>9.430367e+05</td>\n",
       "      <td>1.111909e+06</td>\n",
       "      <td>0.000000e+00</td>\n",
       "      <td>0.000000e+00</td>\n",
       "    </tr>\n",
       "    <tr>\n",
       "      <th>max</th>\n",
       "      <td>7.430000e+02</td>\n",
       "      <td>9.244552e+07</td>\n",
       "      <td>5.958504e+07</td>\n",
       "      <td>4.958504e+07</td>\n",
       "      <td>3.560159e+08</td>\n",
       "      <td>3.561793e+08</td>\n",
       "      <td>1.000000e+00</td>\n",
       "      <td>1.000000e+00</td>\n",
       "    </tr>\n",
       "    <tr>\n",
       "      <th>valori distinti</th>\n",
       "      <td>7.430000e+02</td>\n",
       "      <td>5.316900e+06</td>\n",
       "      <td>1.845844e+06</td>\n",
       "      <td>2.682586e+06</td>\n",
       "      <td>3.614697e+06</td>\n",
       "      <td>3.555499e+06</td>\n",
       "      <td>2.000000e+00</td>\n",
       "      <td>2.000000e+00</td>\n",
       "    </tr>\n",
       "    <tr>\n",
       "      <th>valori nulli</th>\n",
       "      <td>0.000000e+00</td>\n",
       "      <td>0.000000e+00</td>\n",
       "      <td>0.000000e+00</td>\n",
       "      <td>0.000000e+00</td>\n",
       "      <td>0.000000e+00</td>\n",
       "      <td>0.000000e+00</td>\n",
       "      <td>0.000000e+00</td>\n",
       "      <td>0.000000e+00</td>\n",
       "    </tr>\n",
       "  </tbody>\n",
       "</table>\n",
       "</div>"
      ],
      "text/plain": [
       "                         step        amount  oldbalanceOrg  newbalanceOrig  \\\n",
       "count            6.362620e+06  6.362620e+06   6.362620e+06    6.362620e+06   \n",
       "mean             2.433972e+02  1.798619e+05   8.338831e+05    8.551137e+05   \n",
       "std              1.423320e+02  6.038582e+05   2.888243e+06    2.924049e+06   \n",
       "min              1.000000e+00  0.000000e+00   0.000000e+00    0.000000e+00   \n",
       "25%              1.560000e+02  1.338957e+04   0.000000e+00    0.000000e+00   \n",
       "50%              2.390000e+02  7.487194e+04   1.420800e+04    0.000000e+00   \n",
       "75%              3.350000e+02  2.087215e+05   1.073152e+05    1.442584e+05   \n",
       "max              7.430000e+02  9.244552e+07   5.958504e+07    4.958504e+07   \n",
       "valori distinti  7.430000e+02  5.316900e+06   1.845844e+06    2.682586e+06   \n",
       "valori nulli     0.000000e+00  0.000000e+00   0.000000e+00    0.000000e+00   \n",
       "\n",
       "                 oldbalanceDest  newbalanceDest       isFraud  isFlaggedFraud  \n",
       "count              6.362620e+06    6.362620e+06  6.362620e+06    6.362620e+06  \n",
       "mean               1.100702e+06    1.224996e+06  1.290820e-03    2.514687e-06  \n",
       "std                3.399180e+06    3.674129e+06  3.590480e-02    1.585775e-03  \n",
       "min                0.000000e+00    0.000000e+00  0.000000e+00    0.000000e+00  \n",
       "25%                0.000000e+00    0.000000e+00  0.000000e+00    0.000000e+00  \n",
       "50%                1.327057e+05    2.146614e+05  0.000000e+00    0.000000e+00  \n",
       "75%                9.430367e+05    1.111909e+06  0.000000e+00    0.000000e+00  \n",
       "max                3.560159e+08    3.561793e+08  1.000000e+00    1.000000e+00  \n",
       "valori distinti    3.614697e+06    3.555499e+06  2.000000e+00    2.000000e+00  \n",
       "valori nulli       0.000000e+00    0.000000e+00  0.000000e+00    0.000000e+00  "
      ]
     },
     "execution_count": 38,
     "metadata": {},
     "output_type": "execute_result"
    }
   ],
   "source": [
    "vMtx = transactions.describe().values\n",
    "vMtx = np.vstack([vMtx, [len(transactions[c].unique()) for c in [\"step\",\"amount\",\"oldbalanceOrg\",\n",
    "                                                                 \"newbalanceOrig\",\"oldbalanceDest\",\"newbalanceDest\",\n",
    "                                                                 \"isFraud\",\"isFlaggedFraud\"]]])\n",
    "vMtx = np.vstack([vMtx, transactions.describe().isna().sum().values])\n",
    "pd.DataFrame(data=vMtx,\n",
    "             index=['count','mean','std','min','25%','50%','75%','max','valori distinti','valori nulli'],\n",
    "             columns=transactions.describe().columns)"
   ]
  },
  {
   "cell_type": "markdown",
   "id": "a6271be2",
   "metadata": {},
   "source": [
    "### 2.1 - Grafici"
   ]
  },
  {
   "cell_type": "code",
   "execution_count": 39,
   "id": "bdbb25c0",
   "metadata": {},
   "outputs": [
    {
     "data": {
      "image/png": "[encoded data removed]",
      "text/plain": [
       "<Figure size 1152x720 with 3 Axes>"
      ]
     },
     "metadata": {},
     "output_type": "display_data"
    }
   ],
   "source": [
    "plt.figure(figsize=(16, 10))\n",
    "transactions[\"type\"].value_counts().plot.pie(ax=plt.subplot(1, 3, 1));\n",
    "transactions[\"isFraud\"].value_counts().plot.pie(ax=plt.subplot(1, 3, 2));\n",
    "transactions[transactions[\"isFraud\"] == 1][\"type\"].value_counts().plot.pie(ax=plt.subplot(1, 3,3));"
   ]
  },
  {
   "cell_type": "code",
   "execution_count": 40,
   "id": "e5574776",
   "metadata": {},
   "outputs": [],
   "source": [
    "feature_list = [\"type\",\"amount\",\"oldbalanceOrg\",\"newbalanceOrig\"]\n",
    "feature_numeric = [\"amount\",\"oldbalanceOrg\",\"newbalanceOrig\"]\n",
    "feature_categorical = [\"type\"]"
   ]
  },
  {
   "cell_type": "code",
   "execution_count": 41,
   "id": "7ef03a4f",
   "metadata": {
    "scrolled": false
   },
   "outputs": [
    {
     "data": {
      "image/png": "[encoded data removed]",
      "text/plain": [
       "<Figure size 720x432 with 1 Axes>"
      ]
     },
     "metadata": {
      "needs_background": "light"
     },
     "output_type": "display_data"
    },
    {
     "data": {
      "image/png": "[encoded data removed]",
      "text/plain": [
       "<Figure size 720x432 with 1 Axes>"
      ]
     },
     "metadata": {
      "needs_background": "light"
     },
     "output_type": "display_data"
    },
    {
     "data": {
      "image/png": "[encoded data removed]",
      "text/plain": [
       "<Figure size 720x432 with 1 Axes>"
      ]
     },
     "metadata": {
      "needs_background": "light"
     },
     "output_type": "display_data"
    }
   ],
   "source": [
    "transactions = pd.read_csv(\"../data/data.csv\", nrows=40_000)\n",
    "tfraut_colors = transactions[\"isFraud\"].map({0: \"blue\", 1: \"red\"})\n",
    "for f_i in range(1,len(feature_list)):\n",
    "    for f_j in range(f_i + 1, len(feature_list)) :        \n",
    "        transactions.plot.scatter(feature_list[f_i], feature_list[f_j], c=tfraut_colors, figsize=(10, 6));"
   ]
  },
  {
   "cell_type": "markdown",
   "id": "1d62ab2a",
   "metadata": {},
   "source": [
    "## 3 - Normalizzazione dei dati"
   ]
  },
  {
   "cell_type": "code",
   "execution_count": 42,
   "id": "1366ae03",
   "metadata": {},
   "outputs": [
    {
     "data": {
      "text/html": [
       "<div>\n",
       "<style scoped>\n",
       "    .dataframe tbody tr th:only-of-type {\n",
       "        vertical-align: middle;\n",
       "    }\n",
       "\n",
       "    .dataframe tbody tr th {\n",
       "        vertical-align: top;\n",
       "    }\n",
       "\n",
       "    .dataframe thead th {\n",
       "        text-align: right;\n",
       "    }\n",
       "</style>\n",
       "<table border=\"1\" class=\"dataframe\">\n",
       "  <thead>\n",
       "    <tr style=\"text-align: right;\">\n",
       "      <th></th>\n",
       "      <th>amount</th>\n",
       "      <th>oldbalanceOrg</th>\n",
       "      <th>newbalanceOrig</th>\n",
       "      <th>x0_CASH_IN</th>\n",
       "      <th>x0_CASH_OUT</th>\n",
       "      <th>x0_DEBIT</th>\n",
       "      <th>x0_PAYMENT</th>\n",
       "      <th>x0_TRANSFER</th>\n",
       "    </tr>\n",
       "  </thead>\n",
       "  <tbody>\n",
       "    <tr>\n",
       "      <th>0</th>\n",
       "      <td>-0.439241</td>\n",
       "      <td>-0.266896</td>\n",
       "      <td>-0.273043</td>\n",
       "      <td>0.0</td>\n",
       "      <td>0.0</td>\n",
       "      <td>0.0</td>\n",
       "      <td>1.0</td>\n",
       "      <td>0.0</td>\n",
       "    </tr>\n",
       "    <tr>\n",
       "      <th>1</th>\n",
       "      <td>-0.464742</td>\n",
       "      <td>-0.331287</td>\n",
       "      <td>-0.333001</td>\n",
       "      <td>0.0</td>\n",
       "      <td>0.0</td>\n",
       "      <td>0.0</td>\n",
       "      <td>1.0</td>\n",
       "      <td>0.0</td>\n",
       "    </tr>\n",
       "    <tr>\n",
       "      <th>2</th>\n",
       "      <td>-0.470125</td>\n",
       "      <td>-0.340399</td>\n",
       "      <td>-0.341250</td>\n",
       "      <td>0.0</td>\n",
       "      <td>0.0</td>\n",
       "      <td>0.0</td>\n",
       "      <td>0.0</td>\n",
       "      <td>1.0</td>\n",
       "    </tr>\n",
       "    <tr>\n",
       "      <th>3</th>\n",
       "      <td>-0.470125</td>\n",
       "      <td>-0.340399</td>\n",
       "      <td>-0.341250</td>\n",
       "      <td>0.0</td>\n",
       "      <td>1.0</td>\n",
       "      <td>0.0</td>\n",
       "      <td>0.0</td>\n",
       "      <td>0.0</td>\n",
       "    </tr>\n",
       "    <tr>\n",
       "      <th>4</th>\n",
       "      <td>-0.433394</td>\n",
       "      <td>-0.322506</td>\n",
       "      <td>-0.328533</td>\n",
       "      <td>0.0</td>\n",
       "      <td>0.0</td>\n",
       "      <td>0.0</td>\n",
       "      <td>1.0</td>\n",
       "      <td>0.0</td>\n",
       "    </tr>\n",
       "    <tr>\n",
       "      <th>5</th>\n",
       "      <td>-0.445706</td>\n",
       "      <td>-0.317184</td>\n",
       "      <td>-0.321659</td>\n",
       "      <td>0.0</td>\n",
       "      <td>0.0</td>\n",
       "      <td>0.0</td>\n",
       "      <td>1.0</td>\n",
       "      <td>0.0</td>\n",
       "    </tr>\n",
       "    <tr>\n",
       "      <th>6</th>\n",
       "      <td>-0.447976</td>\n",
       "      <td>-0.261248</td>\n",
       "      <td>-0.266324</td>\n",
       "      <td>0.0</td>\n",
       "      <td>0.0</td>\n",
       "      <td>0.0</td>\n",
       "      <td>1.0</td>\n",
       "      <td>0.0</td>\n",
       "    </tr>\n",
       "    <tr>\n",
       "      <th>7</th>\n",
       "      <td>-0.445566</td>\n",
       "      <td>-0.264322</td>\n",
       "      <td>-0.269670</td>\n",
       "      <td>0.0</td>\n",
       "      <td>0.0</td>\n",
       "      <td>0.0</td>\n",
       "      <td>1.0</td>\n",
       "      <td>0.0</td>\n",
       "    </tr>\n",
       "    <tr>\n",
       "      <th>8</th>\n",
       "      <td>-0.457835</td>\n",
       "      <td>-0.339322</td>\n",
       "      <td>-0.341250</td>\n",
       "      <td>0.0</td>\n",
       "      <td>0.0</td>\n",
       "      <td>0.0</td>\n",
       "      <td>1.0</td>\n",
       "      <td>0.0</td>\n",
       "    </tr>\n",
       "    <tr>\n",
       "      <th>9</th>\n",
       "      <td>-0.453636</td>\n",
       "      <td>-0.322434</td>\n",
       "      <td>-0.325769</td>\n",
       "      <td>0.0</td>\n",
       "      <td>0.0</td>\n",
       "      <td>1.0</td>\n",
       "      <td>0.0</td>\n",
       "      <td>0.0</td>\n",
       "    </tr>\n",
       "  </tbody>\n",
       "</table>\n",
       "</div>"
      ],
      "text/plain": [
       "     amount  oldbalanceOrg  newbalanceOrig  x0_CASH_IN  x0_CASH_OUT  x0_DEBIT  \\\n",
       "0 -0.439241      -0.266896       -0.273043         0.0          0.0       0.0   \n",
       "1 -0.464742      -0.331287       -0.333001         0.0          0.0       0.0   \n",
       "2 -0.470125      -0.340399       -0.341250         0.0          0.0       0.0   \n",
       "3 -0.470125      -0.340399       -0.341250         0.0          1.0       0.0   \n",
       "4 -0.433394      -0.322506       -0.328533         0.0          0.0       0.0   \n",
       "5 -0.445706      -0.317184       -0.321659         0.0          0.0       0.0   \n",
       "6 -0.447976      -0.261248       -0.266324         0.0          0.0       0.0   \n",
       "7 -0.445566      -0.264322       -0.269670         0.0          0.0       0.0   \n",
       "8 -0.457835      -0.339322       -0.341250         0.0          0.0       0.0   \n",
       "9 -0.453636      -0.322434       -0.325769         0.0          0.0       1.0   \n",
       "\n",
       "   x0_PAYMENT  x0_TRANSFER  \n",
       "0         1.0          0.0  \n",
       "1         1.0          0.0  \n",
       "2         0.0          1.0  \n",
       "3         0.0          0.0  \n",
       "4         1.0          0.0  \n",
       "5         1.0          0.0  \n",
       "6         1.0          0.0  \n",
       "7         1.0          0.0  \n",
       "8         1.0          0.0  \n",
       "9         0.0          0.0  "
      ]
     },
     "execution_count": 42,
     "metadata": {},
     "output_type": "execute_result"
    }
   ],
   "source": [
    "from sklearn.model_selection import train_test_split\n",
    "from sklearn.compose import ColumnTransformer\n",
    "from sklearn.preprocessing import StandardScaler\n",
    "from sklearn.preprocessing import OneHotEncoder\n",
    "\n",
    "X = transactions[feature_list]\n",
    "y = transactions[[\"isFraud\"]]\n",
    "\n",
    "X_train, x_val, y_train, y_val = train_test_split(X, y, test_size=1/3, random_state=42)\n",
    "\n",
    "preproc = ColumnTransformer(\n",
    "    [\n",
    "        (\"numeric\",StandardScaler(),feature_numeric),\n",
    "        (\"categorical\",OneHotEncoder(),feature_categorical)\n",
    "    ],remainder=\"drop\")\n",
    "\n",
    "X_sample = transactions[feature_numeric + feature_categorical]\n",
    "preproc.fit_transform(X_sample)\n",
    "pd.DataFrame(\n",
    "    preproc.transform(X_sample),\n",
    "    columns = feature_numeric + list(preproc.named_transformers_[\"categorical\"].get_feature_names())\n",
    ").head(10)"
   ]
  },
  {
   "cell_type": "markdown",
   "id": "c86d495b",
   "metadata": {},
   "source": [
    "### 3.1 - PCA"
   ]
  },
  {
   "cell_type": "code",
   "execution_count": 43,
   "id": "f2c6c7d7",
   "metadata": {},
   "outputs": [
    {
     "data": {
      "image/png": "[encoded data removed]",
      "text/plain": [
       "<Figure size 432x288 with 1 Axes>"
      ]
     },
     "metadata": {
      "needs_background": "light"
     },
     "output_type": "display_data"
    }
   ],
   "source": [
    "from sklearn.decomposition import PCA\n",
    "\n",
    "pca = PCA(n_components=2)\n",
    "\n",
    "c_map = transactions[:X_train.values.shape[0]][\"isFraud\"].map({0: \"blue\", 1: \"red\"})\n",
    "x_preproc = pca.fit_transform(preproc.fit_transform(X_train))\n",
    "\n",
    "plt.scatter(x_preproc[:,0], x_preproc[:,1], c=c_map)\n",
    "plt.xlabel('Asse latente X')\n",
    "plt.ylabel('Asse latente Y')\n",
    "plt.show()"
   ]
  },
  {
   "cell_type": "markdown",
   "id": "f068d4c5",
   "metadata": {},
   "source": [
    "## 4 - Modelli Predittivi"
   ]
  },
  {
   "cell_type": "code",
   "execution_count": 44,
   "id": "d0a8aac8",
   "metadata": {},
   "outputs": [],
   "source": [
    "from sklearn.pipeline import Pipeline\n",
    "transactions = pd.read_csv(\"../data/data.csv\", nrows=20_000)"
   ]
  },
  {
   "cell_type": "markdown",
   "id": "51381422",
   "metadata": {},
   "source": [
    "Funzioni di base per il calcolo delle accuratezze"
   ]
  },
  {
   "cell_type": "code",
   "execution_count": 66,
   "id": "6e1065e3",
   "metadata": {},
   "outputs": [],
   "source": [
    "from sklearn.metrics import precision_score, recall_score, f1_score, r2_score, confusion_matrix, mean_squared_error\n",
    "\n",
    "def print_matrix(classes, matrix, pad = 10):\n",
    "    for i in range(len(classes)):\n",
    "        if i == 0 : \n",
    "            for c in ([\" \"] + classes):\n",
    "                print(f\"{c.rjust(pad, ' ')}\",end=' ')\n",
    "            print()\n",
    "        for j in range(len(classes)):\n",
    "            if (j == 0) : \n",
    "                print(f\"{classes[i].rjust(pad, ' ')}\",end=' ')\n",
    "            print(f\"{str(matrix[i][j]).rjust(pad, ' ')}\",end=' ')\n",
    "        print()\n",
    "    return None\n",
    "\n",
    "def rmspe(y_real, y_pred):\n",
    "    '''ROOT MEAN SQUARE PERTANGE ERROR'''\n",
    "    return np.sqrt(np.mean((y_pred /y_real - 1) ** 2))\n",
    "\n",
    "def print_eval_regressor(X, y, model):\n",
    "    '''print eval for regression model'''\n",
    "    y_pred = model.predict(X)\n",
    "    print(f\"MSE       : {mean_squared_error(y, y_pred):12.4f}\")    \n",
    "    print(f\"RMSPE     : {rmspe(y.values, y_pred):12.4f}\")\n",
    "    print_eval_base(X, y, model)\n",
    "    return None\n",
    "\n",
    "def print_eval_classify(X, y, model, classes):\n",
    "    '''print eval for classification model'''\n",
    "    y_pred = model.predict(X)    \n",
    "    cm = confusion_matrix(y, y_pred)\n",
    "    print(\"Confusion Matrix : \")\n",
    "    print_matrix(classes, cm)\n",
    "    print(f\"\\nPRECISION  : {precision_score(y, y_pred):12.4f}\")\n",
    "    print(f\"RECALL     : {recall_score(y, y_pred):12.4f}\")\n",
    "    print(f\"F1-MEASURE : {f1_score(y, y_pred, average='macro'):12.4f}\")\n",
    "    print_eval_base(X, y, model)\n",
    "    return None\n",
    "\n",
    "def print_eval_base(X, y, model):\n",
    "    '''print eval for all model, only R^2 score '''\n",
    "    y_pred = model.predict(X)\n",
    "    print(f\"R^2 : {r2_score(y, y_pred):12.4f}\")\n",
    "    return None"
   ]
  },
  {
   "cell_type": "markdown",
   "id": "8746f122",
   "metadata": {},
   "source": [
    "## 4.1 - Modelli di Regressione "
   ]
  },
  {
   "cell_type": "markdown",
   "id": "8125fb16",
   "metadata": {},
   "source": [
    "### 4.1.1 - Ridle Regression"
   ]
  },
  {
   "cell_type": "code",
   "execution_count": 51,
   "id": "d7b83c17",
   "metadata": {},
   "outputs": [
    {
     "name": "stdout",
     "output_type": "stream",
     "text": [
      "MSE       :       0.0027\n",
      "RMSPE     :          inf\n",
      "R^2 =       0.0174\n"
     ]
    },
    {
     "name": "stderr",
     "output_type": "stream",
     "text": [
      "C:\\Users\\Federico\\AppData\\Local\\Temp/ipykernel_296/2357500274.py:18: RuntimeWarning: divide by zero encountered in true_divide\n",
      "  return np.sqrt(np.mean((y_pred /y_real - 1) ** 2))\n"
     ]
    }
   ],
   "source": [
    "from sklearn.linear_model import Ridge\n",
    "\n",
    "model = Pipeline([\n",
    "    (\"preproc\", preproc),\n",
    "    (\"regRidge\", Ridge(alpha=1))\n",
    "])\n",
    "\n",
    "model.fit(X_train, y_train)\n",
    "print_eval_regressor(x_val, y_val, model)"
   ]
  },
  {
   "cell_type": "markdown",
   "id": "069da661",
   "metadata": {},
   "source": [
    "## 4.2 Alberi di Regressione"
   ]
  },
  {
   "cell_type": "markdown",
   "id": "7bbf9016",
   "metadata": {},
   "source": [
    "### 4.2.1 - XGBRegressor"
   ]
  },
  {
   "cell_type": "code",
   "execution_count": 52,
   "id": "37f84ba0",
   "metadata": {},
   "outputs": [
    {
     "name": "stdout",
     "output_type": "stream",
     "text": [
      "[22:15:32] WARNING: ..\\src\\learner.cc:576: \n",
      "Parameters: { \"verbose_eval\" } might not be used.\n",
      "\n",
      "  This could be a false alarm, with some parameters getting used by language bindings but\n",
      "  then being mistakenly passed down to XGBoost core, or some parameter actually being used\n",
      "  but getting flagged wrongly here. Please open an issue if you find any such cases.\n",
      "\n",
      "\n",
      "MSE       :       0.0020\n"
     ]
    },
    {
     "name": "stderr",
     "output_type": "stream",
     "text": [
      "C:\\Users\\Federico\\AppData\\Local\\Temp/ipykernel_296/2357500274.py:18: RuntimeWarning: divide by zero encountered in true_divide\n",
      "  return np.sqrt(np.mean((y_pred /y_real - 1) ** 2))\n"
     ]
    },
    {
     "name": "stdout",
     "output_type": "stream",
     "text": [
      "RMSPE     :          inf\n",
      "R^2 =       0.2721\n"
     ]
    }
   ],
   "source": [
    "from xgboost import XGBRegressor\n",
    "\n",
    "xgbm = XGBRegressor(objective='reg:squarederror', \n",
    "                    learning_rate = 0.01577, \n",
    "                    reg_lambda=0.008, \n",
    "                    reg_alpha=0.0001, \n",
    "                    n_estimators=1025, \n",
    "                    verbose_eval=False)\n",
    "model = Pipeline([\n",
    "    (\"preproc\", preproc),\n",
    "    (\"XGBRegressor\", xgbm)\n",
    "])\n",
    "model.fit(X_train, y_train)\n",
    "print_eval_regressor(x_val, y_val, model)"
   ]
  },
  {
   "cell_type": "markdown",
   "id": "685082ed",
   "metadata": {},
   "source": [
    "### 4.2.2 - Lightgbm (Random Forest)"
   ]
  },
  {
   "cell_type": "code",
   "execution_count": 53,
   "id": "ff323441",
   "metadata": {},
   "outputs": [
    {
     "name": "stderr",
     "output_type": "stream",
     "text": [
      "C:\\Users\\Federico\\anaconda3\\lib\\site-packages\\sklearn\\utils\\validation.py:63: DataConversionWarning: A column-vector y was passed when a 1d array was expected. Please change the shape of y to (n_samples, ), for example using ravel().\n",
      "  return f(*args, **kwargs)\n"
     ]
    },
    {
     "name": "stdout",
     "output_type": "stream",
     "text": [
      "[LightGBM] [Warning] bagging_fraction is set=0.95, subsample=1.0 will be ignored. Current value: bagging_fraction=0.95\n",
      "[LightGBM] [Warning] bagging_freq is set=10, subsample_freq=0 will be ignored. Current value: bagging_freq=10\n",
      "MSE       :       0.0022\n"
     ]
    },
    {
     "name": "stderr",
     "output_type": "stream",
     "text": [
      "C:\\Users\\Federico\\AppData\\Local\\Temp/ipykernel_296/2357500274.py:18: RuntimeWarning: divide by zero encountered in true_divide\n",
      "  return np.sqrt(np.mean((y_pred /y_real - 1) ** 2))\n"
     ]
    },
    {
     "name": "stdout",
     "output_type": "stream",
     "text": [
      "RMSPE     :          inf\n",
      "R^2 =       0.2009\n"
     ]
    }
   ],
   "source": [
    "from lightgbm import LGBMRegressor\n",
    "\n",
    "model = Pipeline([\n",
    "    (\"preproc\",preproc),\n",
    "    (\"LGBM\", LGBMRegressor(boosting_type='rf',n_estimators=1000,max_depth=-1,bagging_freq =10,bagging_fraction=0.95))\n",
    "])\n",
    "\n",
    "model.fit(X_train, y_train)\n",
    "print_eval_regressor(x_val, y_val, model)"
   ]
  },
  {
   "cell_type": "markdown",
   "id": "9788deca",
   "metadata": {},
   "source": [
    "### 4.3.3 - Catboost"
   ]
  },
  {
   "cell_type": "code",
   "execution_count": 54,
   "id": "b9d42080",
   "metadata": {},
   "outputs": [
    {
     "name": "stdout",
     "output_type": "stream",
     "text": [
      "Learning rate set to 0.432862\n",
      "0:\tlearn: 0.0426549\ttotal: 59ms\tremaining: 5.31s\n",
      "1:\tlearn: 0.0413614\ttotal: 63.9ms\tremaining: 2.84s\n",
      "2:\tlearn: 0.0408786\ttotal: 68.6ms\tremaining: 2.01s\n",
      "3:\tlearn: 0.0376980\ttotal: 73.5ms\tremaining: 1.6s\n",
      "4:\tlearn: 0.0362080\ttotal: 78ms\tremaining: 1.34s\n",
      "5:\tlearn: 0.0357071\ttotal: 82.3ms\tremaining: 1.17s\n",
      "6:\tlearn: 0.0345664\ttotal: 86.6ms\tremaining: 1.04s\n",
      "7:\tlearn: 0.0338962\ttotal: 91.1ms\tremaining: 946ms\n",
      "8:\tlearn: 0.0336486\ttotal: 95.6ms\tremaining: 871ms\n",
      "9:\tlearn: 0.0330622\ttotal: 100ms\tremaining: 810ms\n",
      "10:\tlearn: 0.0325795\ttotal: 105ms\tremaining: 760ms\n",
      "11:\tlearn: 0.0321710\ttotal: 109ms\tremaining: 717ms\n",
      "12:\tlearn: 0.0318235\ttotal: 113ms\tremaining: 680ms\n",
      "13:\tlearn: 0.0311395\ttotal: 118ms\tremaining: 647ms\n",
      "14:\tlearn: 0.0308918\ttotal: 122ms\tremaining: 618ms\n",
      "15:\tlearn: 0.0306324\ttotal: 126ms\tremaining: 592ms\n",
      "16:\tlearn: 0.0300806\ttotal: 131ms\tremaining: 571ms\n",
      "17:\tlearn: 0.0297263\ttotal: 135ms\tremaining: 549ms\n",
      "18:\tlearn: 0.0294781\ttotal: 140ms\tremaining: 529ms\n",
      "19:\tlearn: 0.0293576\ttotal: 144ms\tremaining: 511ms\n",
      "20:\tlearn: 0.0282554\ttotal: 149ms\tremaining: 495ms\n",
      "21:\tlearn: 0.0277118\ttotal: 153ms\tremaining: 480ms\n",
      "22:\tlearn: 0.0273655\ttotal: 157ms\tremaining: 465ms\n",
      "23:\tlearn: 0.0265259\ttotal: 162ms\tremaining: 453ms\n",
      "24:\tlearn: 0.0263679\ttotal: 167ms\tremaining: 440ms\n",
      "25:\tlearn: 0.0263156\ttotal: 171ms\tremaining: 427ms\n",
      "26:\tlearn: 0.0260736\ttotal: 176ms\tremaining: 417ms\n",
      "27:\tlearn: 0.0258117\ttotal: 180ms\tremaining: 406ms\n",
      "28:\tlearn: 0.0257632\ttotal: 185ms\tremaining: 395ms\n",
      "29:\tlearn: 0.0255920\ttotal: 189ms\tremaining: 385ms\n",
      "30:\tlearn: 0.0255552\ttotal: 194ms\tremaining: 375ms\n",
      "31:\tlearn: 0.0254613\ttotal: 198ms\tremaining: 366ms\n",
      "32:\tlearn: 0.0253689\ttotal: 202ms\tremaining: 356ms\n",
      "33:\tlearn: 0.0247848\ttotal: 207ms\tremaining: 346ms\n",
      "34:\tlearn: 0.0247307\ttotal: 211ms\tremaining: 337ms\n",
      "35:\tlearn: 0.0244132\ttotal: 215ms\tremaining: 329ms\n",
      "36:\tlearn: 0.0238583\ttotal: 219ms\tremaining: 320ms\n",
      "37:\tlearn: 0.0233947\ttotal: 224ms\tremaining: 312ms\n",
      "38:\tlearn: 0.0229027\ttotal: 228ms\tremaining: 305ms\n",
      "39:\tlearn: 0.0228359\ttotal: 233ms\tremaining: 297ms\n",
      "40:\tlearn: 0.0226447\ttotal: 237ms\tremaining: 289ms\n",
      "41:\tlearn: 0.0226017\ttotal: 241ms\tremaining: 281ms\n",
      "42:\tlearn: 0.0221781\ttotal: 246ms\tremaining: 274ms\n",
      "43:\tlearn: 0.0221413\ttotal: 250ms\tremaining: 267ms\n",
      "44:\tlearn: 0.0219373\ttotal: 255ms\tremaining: 260ms\n",
      "45:\tlearn: 0.0218974\ttotal: 259ms\tremaining: 253ms\n",
      "46:\tlearn: 0.0215677\ttotal: 263ms\tremaining: 246ms\n",
      "47:\tlearn: 0.0214731\ttotal: 267ms\tremaining: 240ms\n",
      "48:\tlearn: 0.0211097\ttotal: 272ms\tremaining: 233ms\n",
      "49:\tlearn: 0.0209586\ttotal: 276ms\tremaining: 226ms\n",
      "50:\tlearn: 0.0207306\ttotal: 280ms\tremaining: 220ms\n",
      "51:\tlearn: 0.0206200\ttotal: 285ms\tremaining: 214ms\n",
      "52:\tlearn: 0.0203366\ttotal: 289ms\tremaining: 207ms\n",
      "53:\tlearn: 0.0201338\ttotal: 293ms\tremaining: 201ms\n",
      "54:\tlearn: 0.0200152\ttotal: 298ms\tremaining: 195ms\n",
      "55:\tlearn: 0.0199261\ttotal: 302ms\tremaining: 189ms\n",
      "56:\tlearn: 0.0198405\ttotal: 307ms\tremaining: 183ms\n",
      "57:\tlearn: 0.0196641\ttotal: 310ms\tremaining: 177ms\n",
      "58:\tlearn: 0.0195868\ttotal: 315ms\tremaining: 171ms\n",
      "59:\tlearn: 0.0189420\ttotal: 319ms\tremaining: 165ms\n",
      "60:\tlearn: 0.0188395\ttotal: 323ms\tremaining: 159ms\n",
      "61:\tlearn: 0.0187629\ttotal: 327ms\tremaining: 153ms\n",
      "62:\tlearn: 0.0186892\ttotal: 332ms\tremaining: 147ms\n",
      "63:\tlearn: 0.0183744\ttotal: 336ms\tremaining: 142ms\n",
      "64:\tlearn: 0.0183627\ttotal: 340ms\tremaining: 136ms\n",
      "65:\tlearn: 0.0183002\ttotal: 345ms\tremaining: 131ms\n",
      "66:\tlearn: 0.0180591\ttotal: 349ms\tremaining: 125ms\n",
      "67:\tlearn: 0.0176249\ttotal: 354ms\tremaining: 120ms\n",
      "68:\tlearn: 0.0175512\ttotal: 358ms\tremaining: 114ms\n",
      "69:\tlearn: 0.0173370\ttotal: 363ms\tremaining: 109ms\n",
      "70:\tlearn: 0.0173276\ttotal: 368ms\tremaining: 104ms\n",
      "71:\tlearn: 0.0169284\ttotal: 373ms\tremaining: 98.3ms\n",
      "72:\tlearn: 0.0168341\ttotal: 377ms\tremaining: 93ms\n",
      "73:\tlearn: 0.0166956\ttotal: 381ms\tremaining: 87.6ms\n",
      "74:\tlearn: 0.0166763\ttotal: 386ms\tremaining: 82.3ms\n",
      "75:\tlearn: 0.0165902\ttotal: 390ms\tremaining: 76.9ms\n",
      "76:\tlearn: 0.0164348\ttotal: 394ms\tremaining: 71.7ms\n",
      "77:\tlearn: 0.0163932\ttotal: 399ms\tremaining: 66.5ms\n",
      "78:\tlearn: 0.0163853\ttotal: 403ms\tremaining: 61.2ms\n",
      "79:\tlearn: 0.0162846\ttotal: 408ms\tremaining: 56.1ms\n",
      "80:\tlearn: 0.0161875\ttotal: 412ms\tremaining: 50.8ms\n",
      "81:\tlearn: 0.0160526\ttotal: 416ms\tremaining: 45.7ms\n",
      "82:\tlearn: 0.0160187\ttotal: 420ms\tremaining: 40.5ms\n",
      "83:\tlearn: 0.0157585\ttotal: 425ms\tremaining: 35.4ms\n",
      "84:\tlearn: 0.0155284\ttotal: 429ms\tremaining: 30.3ms\n",
      "85:\tlearn: 0.0154153\ttotal: 433ms\tremaining: 25.2ms\n",
      "86:\tlearn: 0.0153652\ttotal: 438ms\tremaining: 20.1ms\n",
      "87:\tlearn: 0.0153385\ttotal: 442ms\tremaining: 15.1ms\n",
      "88:\tlearn: 0.0150347\ttotal: 446ms\tremaining: 10ms\n",
      "89:\tlearn: 0.0149957\ttotal: 450ms\tremaining: 5ms\n",
      "90:\tlearn: 0.0149053\ttotal: 455ms\tremaining: 0us\n",
      "MSE       :       0.0016\n"
     ]
    },
    {
     "name": "stderr",
     "output_type": "stream",
     "text": [
      "C:\\Users\\Federico\\AppData\\Local\\Temp/ipykernel_296/2357500274.py:18: RuntimeWarning: divide by zero encountered in true_divide\n",
      "  return np.sqrt(np.mean((y_pred /y_real - 1) ** 2))\n"
     ]
    },
    {
     "name": "stdout",
     "output_type": "stream",
     "text": [
      "RMSPE     :          inf\n",
      "R^2 =       0.4177\n"
     ]
    }
   ],
   "source": [
    "from catboost import CatBoostRegressor\n",
    "\n",
    "model = Pipeline([\n",
    "    (\"preproc\", preproc),\n",
    "    (\"CATBOOST\", CatBoostRegressor(n_estimators=91))\n",
    "])\n",
    "\n",
    "model.fit(X_train, y_train);\n",
    "print_eval_regressor(x_val, y_val, model)"
   ]
  },
  {
   "cell_type": "markdown",
   "id": "3cf5daca",
   "metadata": {},
   "source": [
    "## 4.3 Modelli di Classificazione"
   ]
  },
  {
   "cell_type": "markdown",
   "id": "a296dc7e",
   "metadata": {},
   "source": [
    "### 4.3.1 Alberi Decisionali"
   ]
  },
  {
   "cell_type": "code",
   "execution_count": 67,
   "id": "9d4984b5",
   "metadata": {},
   "outputs": [
    {
     "name": "stdout",
     "output_type": "stream",
     "text": [
      "Confusion Matrix : \n",
      "              isFraud     Honest \n",
      "   isFraud      13291          6 \n",
      "    Honest         28          9 \n",
      "\n",
      "PRECISION  :       0.6000\n",
      "RECALL     :       0.2432\n",
      "F1-MEASURE :       0.6724\n"
     ]
    },
    {
     "data": {
      "image/png": "[encoded data removed]",
      "text/plain": [
       "<Figure size 1584x432 with 1 Axes>"
      ]
     },
     "metadata": {
      "needs_background": "light"
     },
     "output_type": "display_data"
    }
   ],
   "source": [
    "from sklearn.tree import DecisionTreeClassifier\n",
    "from sklearn.tree import plot_tree\n",
    "\n",
    "classes = [\"isFraud\", \"Honest\"]\n",
    "\n",
    "model = Pipeline([\n",
    "    (\"preproc\", preproc),\n",
    "    (\"decisionTree\", DecisionTreeClassifier(max_depth=5,random_state=43))\n",
    "])\n",
    "\n",
    "model.fit(X_train, y_train)\n",
    "print_eval_classify(x_val, y_val, model, classes)\n",
    "\n",
    "plt.figure(figsize=(22, 6))\n",
    "plot_tree(model.named_steps[\"decisionTree\"], max_depth=5, filled=True, fontsize=8);"
   ]
  },
  {
   "cell_type": "markdown",
   "id": "55201f52",
   "metadata": {},
   "source": [
    "### 4.3.2 - Logistic Loss"
   ]
  },
  {
   "cell_type": "code",
   "execution_count": 68,
   "id": "6a7abe56",
   "metadata": {},
   "outputs": [
    {
     "name": "stderr",
     "output_type": "stream",
     "text": [
      "C:\\Users\\Federico\\anaconda3\\lib\\site-packages\\sklearn\\utils\\validation.py:63: DataConversionWarning: A column-vector y was passed when a 1d array was expected. Please change the shape of y to (n_samples, ), for example using ravel().\n",
      "  return f(*args, **kwargs)\n"
     ]
    },
    {
     "name": "stdout",
     "output_type": "stream",
     "text": [
      "Confusion Matrix : \n",
      "              isFraud     Honest \n",
      "   isFraud      13291          6 \n",
      "    Honest         28          9 \n",
      "\n",
      "PRECISION  :       0.6000\n",
      "RECALL     :       0.2432\n",
      "F1-MEASURE :       0.6724\n"
     ]
    },
    {
     "name": "stderr",
     "output_type": "stream",
     "text": [
      "C:\\Users\\Federico\\anaconda3\\lib\\site-packages\\sklearn\\linear_model\\_sag.py:328: ConvergenceWarning: The max_iter was reached which means the coef_ did not converge\n",
      "  warnings.warn(\"The max_iter was reached which means \"\n"
     ]
    }
   ],
   "source": [
    "from sklearn.linear_model import LogisticRegression\n",
    "\n",
    "model_RegLos = Pipeline([\n",
    "    (\"preproc\", preproc),\n",
    "    (\"RegLoss\", LogisticRegression(solver=\"saga\", random_state=11,class_weight={1:45}))\n",
    "])\n",
    "\n",
    "model_RegLos.fit(X_train, y_train)\n",
    "\n",
    "print_eval_classify(x_val, y_val, model, classes)"
   ]
  },
  {
   "cell_type": "markdown",
   "id": "2834ecdd",
   "metadata": {},
   "source": [
    "### 4.3.3 XGBClassifier"
   ]
  },
  {
   "cell_type": "code",
   "execution_count": 69,
   "id": "26e3f176",
   "metadata": {},
   "outputs": [
    {
     "name": "stderr",
     "output_type": "stream",
     "text": [
      "C:\\Users\\Federico\\anaconda3\\lib\\site-packages\\xgboost\\sklearn.py:1224: UserWarning: The use of label encoder in XGBClassifier is deprecated and will be removed in a future release. To remove this warning, do the following: 1) Pass option use_label_encoder=False when constructing XGBClassifier object; and 2) Encode your labels (y) as integers starting with 0, i.e. 0, 1, 2, ..., [num_class - 1].\n",
      "  warnings.warn(label_encoder_deprecation_msg, UserWarning)\n",
      "C:\\Users\\Federico\\anaconda3\\lib\\site-packages\\sklearn\\utils\\validation.py:63: DataConversionWarning: A column-vector y was passed when a 1d array was expected. Please change the shape of y to (n_samples, ), for example using ravel().\n",
      "  return f(*args, **kwargs)\n"
     ]
    },
    {
     "name": "stdout",
     "output_type": "stream",
     "text": [
      "[22:19:11] WARNING: ..\\src\\learner.cc:576: \n",
      "Parameters: { \"verbose_eval\" } might not be used.\n",
      "\n",
      "  This could be a false alarm, with some parameters getting used by language bindings but\n",
      "  then being mistakenly passed down to XGBoost core, or some parameter actually being used\n",
      "  but getting flagged wrongly here. Please open an issue if you find any such cases.\n",
      "\n",
      "\n",
      "Confusion Matrix : \n",
      "              isFraud     Honest \n",
      "   isFraud      13292          5 \n",
      "    Honest         25         12 \n",
      "\n",
      "PRECISION  :       0.7059\n",
      "RECALL     :       0.3243\n",
      "F1-MEASURE :       0.7217\n"
     ]
    }
   ],
   "source": [
    "from xgboost import XGBClassifier \n",
    "\n",
    "xgbm_c = XGBClassifier(objective='reg:squarederror', \n",
    "                    learning_rate = 0.01577, \n",
    "                    reg_lambda=0.008, \n",
    "                    reg_alpha=0.0001, \n",
    "                    n_estimators=1025, \n",
    "                    verbose_eval=False)\n",
    "model = Pipeline([\n",
    "    (\"preproc\", preproc),\n",
    "    (\"XGBClassifier\", xgbm_c)\n",
    "])\n",
    "model.fit(X_train, y_train)\n",
    "\n",
    "print_eval_classify(x_val, y_val, model, classes)"
   ]
  },
  {
   "cell_type": "markdown",
   "id": "81d120d9",
   "metadata": {},
   "source": [
    "### 4.3.4 Support Vector Machines (SVM)"
   ]
  },
  {
   "cell_type": "code",
   "execution_count": 70,
   "id": "0d69b20c",
   "metadata": {},
   "outputs": [
    {
     "name": "stderr",
     "output_type": "stream",
     "text": [
      "C:\\Users\\Federico\\anaconda3\\lib\\site-packages\\sklearn\\utils\\validation.py:63: DataConversionWarning: A column-vector y was passed when a 1d array was expected. Please change the shape of y to (n_samples, ), for example using ravel().\n",
      "  return f(*args, **kwargs)\n"
     ]
    },
    {
     "name": "stdout",
     "output_type": "stream",
     "text": [
      "Confusion Matrix : \n",
      "              isFraud     Honest \n",
      "   isFraud      13292          5 \n",
      "    Honest         25         12 \n",
      "\n",
      "PRECISION  :       0.7059\n",
      "RECALL     :       0.3243\n",
      "F1-MEASURE :       0.7217\n"
     ]
    }
   ],
   "source": [
    "from sklearn.svm import SVC\n",
    "\n",
    "model_svm = Pipeline([\n",
    "    (\"preproc\", preproc),\n",
    "    (\"SVM\", SVC(kernel='rbf',random_state=42))\n",
    "])\n",
    "\n",
    "model_svm.fit(X_train, y_train)\n",
    "\n",
    "print_eval_classify(x_val, y_val, model, classes)"
   ]
  },
  {
   "cell_type": "markdown",
   "id": "90a70ceb",
   "metadata": {},
   "source": [
    "## 4.4 - Neural Network"
   ]
  },
  {
   "cell_type": "code",
   "execution_count": 73,
   "id": "671a1621",
   "metadata": {},
   "outputs": [
    {
     "name": "stdout",
     "output_type": "stream",
     "text": [
      "Model: \"sequential\"\n",
      "_________________________________________________________________\n",
      " Layer (type)                Output Shape              Param #   \n",
      "=================================================================\n",
      " dense (Dense)               (None, 8)                 72        \n",
      "                                                                 \n",
      " dense_1 (Dense)             (None, 1)                 9         \n",
      "                                                                 \n",
      "=================================================================\n",
      "Total params: 81\n",
      "Trainable params: 81\n",
      "Non-trainable params: 0\n",
      "_________________________________________________________________\n",
      "Epoch 1/15\n",
      "2667/2667 [==============================] - 3s 1ms/step - loss: 1.0678\n",
      "Epoch 2/15\n",
      "2667/2667 [==============================] - 3s 1ms/step - loss: 0.9984\n",
      "Epoch 3/15\n",
      "2667/2667 [==============================] - 3s 1ms/step - loss: 0.9909\n",
      "Epoch 4/15\n",
      "2667/2667 [==============================] - 3s 1ms/step - loss: 0.9789\n",
      "Epoch 5/15\n",
      "2667/2667 [==============================] - 3s 1ms/step - loss: 0.9695\n",
      "Epoch 6/15\n",
      "2667/2667 [==============================] - 3s 1ms/step - loss: 0.9624\n",
      "Epoch 7/15\n",
      "2667/2667 [==============================] - 3s 1ms/step - loss: 0.9527\n",
      "Epoch 8/15\n",
      "2667/2667 [==============================] - 3s 1ms/step - loss: 0.9457\n",
      "Epoch 9/15\n",
      "2667/2667 [==============================] - 3s 1ms/step - loss: 0.9405\n",
      "Epoch 10/15\n",
      "2667/2667 [==============================] - 3s 1ms/step - loss: 0.9346\n",
      "Epoch 11/15\n",
      "2667/2667 [==============================] - 3s 1ms/step - loss: 0.9307\n",
      "Epoch 12/15\n",
      "2667/2667 [==============================] - 3s 1ms/step - loss: 0.9270\n",
      "Epoch 13/15\n",
      "2667/2667 [==============================] - 3s 1ms/step - loss: 0.9244\n",
      "Epoch 14/15\n",
      "2667/2667 [==============================] - 3s 1ms/step - loss: 0.9238\n",
      "Epoch 15/15\n",
      "2667/2667 [==============================] - 3s 1ms/step - loss: 0.9225\n",
      "417/417 [==============================] - 1s 2ms/step\n",
      "R^2 :       0.0243\n"
     ]
    }
   ],
   "source": [
    "from tensorflow.keras.models import Sequential\n",
    "from tensorflow.keras.layers import Dense\n",
    "\n",
    "X_nn = transactions[[\"type\",\"amount\",\"oldbalanceOrg\",\"newbalanceOrig\"]]\n",
    "y_nn = transactions[[\"isFraud\"]]\n",
    "X_train_nn, x_val_nn, y_train_nn, y_val_nn = train_test_split(X_nn, y_nn, test_size=1/3, random_state=42)\n",
    "\n",
    "X_scaler = ColumnTransformer([\n",
    "        (\"numeric\",StandardScaler(),[\"amount\", \"oldbalanceOrg\", \"newbalanceOrig\"]),\n",
    "        (\"categorical\",OneHotEncoder(),[\"type\"])\n",
    "    ],remainder=\"drop\")\n",
    "\n",
    "Y_scaler = StandardScaler()\n",
    "\n",
    "X_train_nn = X_scaler.fit_transform(X_train)\n",
    "x_val_nn = X_scaler.transform(x_val)\n",
    "y_train_nn = Y_scaler.fit_transform(y_train)\n",
    "y_val_nn = Y_scaler.transform(y_val.values)\n",
    "\n",
    "model_nn = Sequential([\n",
    "    Dense(8, activation=\"relu\", input_dim=8),\n",
    "    Dense(1)\n",
    "])\n",
    "model_nn.summary()\n",
    "model_nn.compile(optimizer=\"adam\",loss=\"mean_squared_error\")\n",
    "fit_history = model_nn.fit(X_train_nn, y_train_nn, batch_size=10, epochs=15)\n",
    "print_eval_base(x_val_nn, y_val_nn, model_nn)"
   ]
  },
  {
   "cell_type": "code",
   "execution_count": 74,
   "id": "16926ffd",
   "metadata": {},
   "outputs": [
    {
     "data": {
      "image/png": "[encoded data removed]",
      "text/plain": [
       "<Figure size 432x288 with 1 Axes>"
      ]
     },
     "metadata": {
      "needs_background": "light"
     },
     "output_type": "display_data"
    }
   ],
   "source": [
    "plt.plot(fit_history.history[\"loss\"], \"ro-\")\n",
    "plt.legend([\"Loss (Mean Square Error)\"])\n",
    "plt.xlabel(\"Epochs\");"
   ]
  },
  {
   "cell_type": "code",
   "execution_count": 75,
   "id": "9938bd9c",
   "metadata": {},
   "outputs": [],
   "source": [
    "def build_nn(nodes, inpDim):\n",
    "    model = Sequential([\n",
    "        Dense(nodes, activation=\"relu\", input_dim=inpDim),\n",
    "        Dense(256, activation=\"softmax\"),\n",
    "        Dense(128, activation=\"relu\"),\n",
    "        Dense(64, activation=\"relu\"),\n",
    "        Dense(1)\n",
    "    ])\n",
    "    model.compile(optimizer=\"adam\", loss=\"mean_squared_error\")\n",
    "    model.summary()\n",
    "    return model"
   ]
  },
  {
   "cell_type": "code",
   "execution_count": 76,
   "id": "e3134f34",
   "metadata": {},
   "outputs": [
    {
     "name": "stdout",
     "output_type": "stream",
     "text": [
      "Model: \"sequential_1\"\n",
      "_________________________________________________________________\n",
      " Layer (type)                Output Shape              Param #   \n",
      "=================================================================\n",
      " dense_2 (Dense)             (None, 512)               4608      \n",
      "                                                                 \n",
      " dense_3 (Dense)             (None, 256)               131328    \n",
      "                                                                 \n",
      " dense_4 (Dense)             (None, 128)               32896     \n",
      "                                                                 \n",
      " dense_5 (Dense)             (None, 64)                8256      \n",
      "                                                                 \n",
      " dense_6 (Dense)             (None, 1)                 65        \n",
      "                                                                 \n",
      "=================================================================\n",
      "Total params: 177,153\n",
      "Trainable params: 177,153\n",
      "Non-trainable params: 0\n",
      "_________________________________________________________________\n",
      "Epoch 1/20\n"
     ]
    },
    {
     "name": "stderr",
     "output_type": "stream",
     "text": [
      "C:\\Users\\Federico\\AppData\\Local\\Temp/ipykernel_296/1185641780.py:6: DeprecationWarning: KerasRegressor is deprecated, use Sci-Keras (https://github.com/adriangb/scikeras) instead. See https://www.adriangb.com/scikeras/stable/migration.html for help migrating.\n",
      "  (\"NN\", KerasRegressor(build_fn=build_nn, nodes=512, inpDim=8, epochs=20, batch_size=1000))\n"
     ]
    },
    {
     "name": "stdout",
     "output_type": "stream",
     "text": [
      "27/27 [==============================] - 1s 8ms/step - loss: 0.0021\n",
      "Epoch 2/20\n",
      "27/27 [==============================] - 0s 8ms/step - loss: 0.0021\n",
      "Epoch 3/20\n",
      "27/27 [==============================] - 0s 7ms/step - loss: 0.0021\n",
      "Epoch 4/20\n",
      "27/27 [==============================] - 0s 8ms/step - loss: 0.0021\n",
      "Epoch 5/20\n",
      "27/27 [==============================] - 0s 7ms/step - loss: 0.0021\n",
      "Epoch 6/20\n",
      "27/27 [==============================] - 0s 8ms/step - loss: 0.0021\n",
      "Epoch 7/20\n",
      "27/27 [==============================] - 0s 8ms/step - loss: 0.0020\n",
      "Epoch 8/20\n",
      "27/27 [==============================] - 0s 8ms/step - loss: 0.0020\n",
      "Epoch 9/20\n",
      "27/27 [==============================] - 0s 7ms/step - loss: 0.0020\n",
      "Epoch 10/20\n",
      "27/27 [==============================] - 0s 7ms/step - loss: 0.0020\n",
      "Epoch 11/20\n",
      "27/27 [==============================] - 0s 8ms/step - loss: 0.0020\n",
      "Epoch 12/20\n",
      "27/27 [==============================] - 0s 8ms/step - loss: 0.0019\n",
      "Epoch 13/20\n",
      "27/27 [==============================] - 0s 7ms/step - loss: 0.0019\n",
      "Epoch 14/20\n",
      "27/27 [==============================] - 0s 8ms/step - loss: 0.0019\n",
      "Epoch 15/20\n",
      "27/27 [==============================] - 0s 8ms/step - loss: 0.0019\n",
      "Epoch 16/20\n",
      "27/27 [==============================] - 0s 8ms/step - loss: 0.0019\n",
      "Epoch 17/20\n",
      "27/27 [==============================] - 0s 8ms/step - loss: 0.0019\n",
      "Epoch 18/20\n",
      "27/27 [==============================] - 0s 8ms/step - loss: 0.0019\n",
      "Epoch 19/20\n",
      "27/27 [==============================] - 0s 7ms/step - loss: 0.0019\n",
      "Epoch 20/20\n",
      "27/27 [==============================] - 0s 7ms/step - loss: 0.0018\n",
      "14/14 [==============================] - 0s 5ms/step\n",
      "R^2 :       0.0598\n"
     ]
    }
   ],
   "source": [
    "from tensorflow.keras.wrappers.scikit_learn import KerasRegressor\n",
    "\n",
    "model_nn = Pipeline([\n",
    "    (\"preproc\", preproc),\n",
    "    (\"NN\", KerasRegressor(build_fn=build_nn, nodes=512, inpDim=8, epochs=20, batch_size=1000))\n",
    "])\n",
    "model_nn.fit(X_train, y_train)\n",
    "print_eval_base(x_val, y_val, model_nn)"
   ]
  },
  {
   "cell_type": "markdown",
   "id": "fdc5cfbb",
   "metadata": {},
   "source": [
    "## 5 - Tuning degli Iperparametri"
   ]
  },
  {
   "cell_type": "markdown",
   "id": "1780b2fe",
   "metadata": {},
   "source": [
    "## 6 - Conclusioni "
   ]
  },
  {
   "cell_type": "code",
   "execution_count": 77,
   "id": "d4d380fc",
   "metadata": {},
   "outputs": [],
   "source": [
    "def bernoulli_process() :\n",
    "    return None"
   ]
  },
  {
   "cell_type": "markdown",
   "id": "9624a38a",
   "metadata": {},
   "source": [
    "## 7- Link alle risorse\n",
    "#### Link al dataset di kaggle\n",
    "https://www.kaggle.com/datasets/rupakroy/online-payments-fraud-detection-dataset"
   ]
  }
 ],
 "metadata": {
  "kernelspec": {
   "display_name": "Python 3 (ipykernel)",
   "language": "python",
   "name": "python3"
  },
  "language_info": {
   "codemirror_mode": {
    "name": "ipython",
    "version": 3
   },
   "file_extension": ".py",
   "mimetype": "text/x-python",
   "name": "python",
   "nbconvert_exporter": "python",
   "pygments_lexer": "ipython3",
   "version": "3.9.7"
  }
 },
 "nbformat": 4,
 "nbformat_minor": 5
}
