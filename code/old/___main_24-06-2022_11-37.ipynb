{
 "cells": [
  {
   "cell_type": "markdown",
   "id": "36fef92c",
   "metadata": {},
   "source": [
    "# Federico Campanozzi - Progetto Data Intensive con Relazione\n",
    "                                                                                                             a.a. 2021/2022"
   ]
  },
  {
   "cell_type": "markdown",
   "id": "1b2f832f",
   "metadata": {},
   "source": [
    "## 1 - Descrizione del problema"
   ]
  },
  {
   "cell_type": "markdown",
   "id": "723d7c94",
   "metadata": {},
   "source": [
    "L'obiettivo del progetto è quello di creare un modello predittivo che, data una transazione, determini se è lecita oppure no. Abbiamo a disposizione un enorme dataset con circa $\\approx\\,6\\,\\cdot\\,10^6$ record. \n",
    "\n",
    "Il modello da creare sarà quindi un modello di classificazione binario, cioè con sole due classi 1 se è una transazione illecita e 0 altrimenti."
   ]
  },
  {
   "cell_type": "markdown",
   "id": "1a8e2d07",
   "metadata": {},
   "source": [
    "### 1.1 - Descrizione del Dataset"
   ]
  },
  {
   "cell_type": "markdown",
   "id": "08ac2219",
   "metadata": {},
   "source": [
    "Le colonne del dataset sono così definite : \n",
    "- step: rappresenta un'unita di tempo 1 = 1 ora.\n",
    "- type: tipo di transazione.\n",
    "- amount: quanto denaro sto spostando.\n",
    "- nameOrig: codice cliente di chi fa lo spostamento.\n",
    "- oldbalanceOrg: soldi nel conto corrente del mittente.\n",
    "- newbalanceOrig: soldi nel conto corrente del mittente, dopo la transazione.\n",
    "- nameDest: codice cliente del beneficiario.\n",
    "- oldbalanceDest: soldi nel conto corrente del destinatario.\n",
    "- newbalanceDest: soldi nel conto corrente del destinatario, dopo la transazione.\n",
    "- isFraud: 1 se la transazione è stato etichettata come illecita 0 altrimenti.\n",
    "- isFlaggedFraud : il risultato del modello predittivo."
   ]
  },
  {
   "cell_type": "markdown",
   "id": "e1da3f3e",
   "metadata": {},
   "source": [
    "## 2- Analisi esplorativa"
   ]
  },
  {
   "cell_type": "code",
   "execution_count": 3,
   "id": "ca9a2c03",
   "metadata": {},
   "outputs": [],
   "source": [
    "import numpy as np\n",
    "import pandas as pd\n",
    "import matplotlib.pyplot as plt\n",
    "%matplotlib inline"
   ]
  },
  {
   "cell_type": "markdown",
   "id": "b7de6865",
   "metadata": {},
   "source": [
    "Partiamo con l'importare il dataset in un DataFrame pandas."
   ]
  },
  {
   "cell_type": "code",
   "execution_count": 4,
   "id": "0059e4b7",
   "metadata": {},
   "outputs": [
    {
     "name": "stdout",
     "output_type": "stream",
     "text": [
      "Dimensioni del dataset : (6362620, 11)\n"
     ]
    },
    {
     "data": {
      "text/html": [
       "<div>\n",
       "<style scoped>\n",
       "    .dataframe tbody tr th:only-of-type {\n",
       "        vertical-align: middle;\n",
       "    }\n",
       "\n",
       "    .dataframe tbody tr th {\n",
       "        vertical-align: top;\n",
       "    }\n",
       "\n",
       "    .dataframe thead th {\n",
       "        text-align: right;\n",
       "    }\n",
       "</style>\n",
       "<table border=\"1\" class=\"dataframe\">\n",
       "  <thead>\n",
       "    <tr style=\"text-align: right;\">\n",
       "      <th></th>\n",
       "      <th>step</th>\n",
       "      <th>type</th>\n",
       "      <th>amount</th>\n",
       "      <th>nameOrig</th>\n",
       "      <th>oldbalanceOrg</th>\n",
       "      <th>newbalanceOrig</th>\n",
       "      <th>nameDest</th>\n",
       "      <th>oldbalanceDest</th>\n",
       "      <th>newbalanceDest</th>\n",
       "      <th>isFraud</th>\n",
       "    </tr>\n",
       "  </thead>\n",
       "  <tbody>\n",
       "    <tr>\n",
       "      <th>0</th>\n",
       "      <td>1</td>\n",
       "      <td>PAYMENT</td>\n",
       "      <td>9839.64</td>\n",
       "      <td>C1231006815</td>\n",
       "      <td>170136.00</td>\n",
       "      <td>160296.36</td>\n",
       "      <td>M1979787155</td>\n",
       "      <td>0.0</td>\n",
       "      <td>0.00</td>\n",
       "      <td>0</td>\n",
       "    </tr>\n",
       "    <tr>\n",
       "      <th>1</th>\n",
       "      <td>1</td>\n",
       "      <td>PAYMENT</td>\n",
       "      <td>1864.28</td>\n",
       "      <td>C1666544295</td>\n",
       "      <td>21249.00</td>\n",
       "      <td>19384.72</td>\n",
       "      <td>M2044282225</td>\n",
       "      <td>0.0</td>\n",
       "      <td>0.00</td>\n",
       "      <td>0</td>\n",
       "    </tr>\n",
       "    <tr>\n",
       "      <th>2</th>\n",
       "      <td>1</td>\n",
       "      <td>TRANSFER</td>\n",
       "      <td>181.00</td>\n",
       "      <td>C1305486145</td>\n",
       "      <td>181.00</td>\n",
       "      <td>0.00</td>\n",
       "      <td>C553264065</td>\n",
       "      <td>0.0</td>\n",
       "      <td>0.00</td>\n",
       "      <td>1</td>\n",
       "    </tr>\n",
       "    <tr>\n",
       "      <th>3</th>\n",
       "      <td>1</td>\n",
       "      <td>CASH_OUT</td>\n",
       "      <td>181.00</td>\n",
       "      <td>C840083671</td>\n",
       "      <td>181.00</td>\n",
       "      <td>0.00</td>\n",
       "      <td>C38997010</td>\n",
       "      <td>21182.0</td>\n",
       "      <td>0.00</td>\n",
       "      <td>1</td>\n",
       "    </tr>\n",
       "    <tr>\n",
       "      <th>4</th>\n",
       "      <td>1</td>\n",
       "      <td>PAYMENT</td>\n",
       "      <td>11668.14</td>\n",
       "      <td>C2048537720</td>\n",
       "      <td>41554.00</td>\n",
       "      <td>29885.86</td>\n",
       "      <td>M1230701703</td>\n",
       "      <td>0.0</td>\n",
       "      <td>0.00</td>\n",
       "      <td>0</td>\n",
       "    </tr>\n",
       "    <tr>\n",
       "      <th>5</th>\n",
       "      <td>1</td>\n",
       "      <td>PAYMENT</td>\n",
       "      <td>7817.71</td>\n",
       "      <td>C90045638</td>\n",
       "      <td>53860.00</td>\n",
       "      <td>46042.29</td>\n",
       "      <td>M573487274</td>\n",
       "      <td>0.0</td>\n",
       "      <td>0.00</td>\n",
       "      <td>0</td>\n",
       "    </tr>\n",
       "    <tr>\n",
       "      <th>6</th>\n",
       "      <td>1</td>\n",
       "      <td>PAYMENT</td>\n",
       "      <td>7107.77</td>\n",
       "      <td>C154988899</td>\n",
       "      <td>183195.00</td>\n",
       "      <td>176087.23</td>\n",
       "      <td>M408069119</td>\n",
       "      <td>0.0</td>\n",
       "      <td>0.00</td>\n",
       "      <td>0</td>\n",
       "    </tr>\n",
       "    <tr>\n",
       "      <th>7</th>\n",
       "      <td>1</td>\n",
       "      <td>PAYMENT</td>\n",
       "      <td>7861.64</td>\n",
       "      <td>C1912850431</td>\n",
       "      <td>176087.23</td>\n",
       "      <td>168225.59</td>\n",
       "      <td>M633326333</td>\n",
       "      <td>0.0</td>\n",
       "      <td>0.00</td>\n",
       "      <td>0</td>\n",
       "    </tr>\n",
       "    <tr>\n",
       "      <th>8</th>\n",
       "      <td>1</td>\n",
       "      <td>PAYMENT</td>\n",
       "      <td>4024.36</td>\n",
       "      <td>C1265012928</td>\n",
       "      <td>2671.00</td>\n",
       "      <td>0.00</td>\n",
       "      <td>M1176932104</td>\n",
       "      <td>0.0</td>\n",
       "      <td>0.00</td>\n",
       "      <td>0</td>\n",
       "    </tr>\n",
       "    <tr>\n",
       "      <th>9</th>\n",
       "      <td>1</td>\n",
       "      <td>DEBIT</td>\n",
       "      <td>5337.77</td>\n",
       "      <td>C712410124</td>\n",
       "      <td>41720.00</td>\n",
       "      <td>36382.23</td>\n",
       "      <td>C195600860</td>\n",
       "      <td>41898.0</td>\n",
       "      <td>40348.79</td>\n",
       "      <td>0</td>\n",
       "    </tr>\n",
       "  </tbody>\n",
       "</table>\n",
       "</div>"
      ],
      "text/plain": [
       "   step      type    amount     nameOrig  oldbalanceOrg  newbalanceOrig  \\\n",
       "0     1   PAYMENT   9839.64  C1231006815      170136.00       160296.36   \n",
       "1     1   PAYMENT   1864.28  C1666544295       21249.00        19384.72   \n",
       "2     1  TRANSFER    181.00  C1305486145         181.00            0.00   \n",
       "3     1  CASH_OUT    181.00   C840083671         181.00            0.00   \n",
       "4     1   PAYMENT  11668.14  C2048537720       41554.00        29885.86   \n",
       "5     1   PAYMENT   7817.71    C90045638       53860.00        46042.29   \n",
       "6     1   PAYMENT   7107.77   C154988899      183195.00       176087.23   \n",
       "7     1   PAYMENT   7861.64  C1912850431      176087.23       168225.59   \n",
       "8     1   PAYMENT   4024.36  C1265012928        2671.00            0.00   \n",
       "9     1     DEBIT   5337.77   C712410124       41720.00        36382.23   \n",
       "\n",
       "      nameDest  oldbalanceDest  newbalanceDest  isFraud  \n",
       "0  M1979787155             0.0            0.00        0  \n",
       "1  M2044282225             0.0            0.00        0  \n",
       "2   C553264065             0.0            0.00        1  \n",
       "3    C38997010         21182.0            0.00        1  \n",
       "4  M1230701703             0.0            0.00        0  \n",
       "5   M573487274             0.0            0.00        0  \n",
       "6   M408069119             0.0            0.00        0  \n",
       "7   M633326333             0.0            0.00        0  \n",
       "8  M1176932104             0.0            0.00        0  \n",
       "9   C195600860         41898.0        40348.79        0  "
      ]
     },
     "execution_count": 4,
     "metadata": {},
     "output_type": "execute_result"
    }
   ],
   "source": [
    "transactions = pd.read_csv(\"../data/data.csv\")\n",
    "print(f\"Dimensioni del dataset : {transactions.values.shape}\")\n",
    "transactions.drop(columns=[\"isFlaggedFraud\"])[:10]"
   ]
  },
  {
   "cell_type": "markdown",
   "id": "eef91c1f",
   "metadata": {},
   "source": [
    "Estraiamo, con il metodo *describe*, dal DataFrame tutte le statistiche utili al fine di capire le feature che possiamo usare e le feature che è meglio \"accantonare\". Ho usato il parametro *include='all'* poichè nel dataset ci sono variabili categoriche (i.e. nameDest) e quindi pandas può non restituire alcune righe (i.e. unique, top e altre) che invece mi interessa sapere. *include='all'* permette appunto di includere i valori mancanti (NaN)."
   ]
  },
  {
   "cell_type": "code",
   "execution_count": 5,
   "id": "1b9f46ba",
   "metadata": {
    "scrolled": true
   },
   "outputs": [
    {
     "data": {
      "text/html": [
       "<div>\n",
       "<style scoped>\n",
       "    .dataframe tbody tr th:only-of-type {\n",
       "        vertical-align: middle;\n",
       "    }\n",
       "\n",
       "    .dataframe tbody tr th {\n",
       "        vertical-align: top;\n",
       "    }\n",
       "\n",
       "    .dataframe thead th {\n",
       "        text-align: right;\n",
       "    }\n",
       "</style>\n",
       "<table border=\"1\" class=\"dataframe\">\n",
       "  <thead>\n",
       "    <tr style=\"text-align: right;\">\n",
       "      <th></th>\n",
       "      <th>step</th>\n",
       "      <th>type</th>\n",
       "      <th>amount</th>\n",
       "      <th>nameOrig</th>\n",
       "      <th>oldbalanceOrg</th>\n",
       "      <th>newbalanceOrig</th>\n",
       "      <th>nameDest</th>\n",
       "      <th>oldbalanceDest</th>\n",
       "      <th>newbalanceDest</th>\n",
       "      <th>isFraud</th>\n",
       "    </tr>\n",
       "  </thead>\n",
       "  <tbody>\n",
       "    <tr>\n",
       "      <th>count</th>\n",
       "      <td>6.362620e+06</td>\n",
       "      <td>6362620</td>\n",
       "      <td>6.362620e+06</td>\n",
       "      <td>6362620</td>\n",
       "      <td>6.362620e+06</td>\n",
       "      <td>6.362620e+06</td>\n",
       "      <td>6362620</td>\n",
       "      <td>6.362620e+06</td>\n",
       "      <td>6.362620e+06</td>\n",
       "      <td>6.362620e+06</td>\n",
       "    </tr>\n",
       "    <tr>\n",
       "      <th>unique</th>\n",
       "      <td>NaN</td>\n",
       "      <td>5</td>\n",
       "      <td>NaN</td>\n",
       "      <td>6353307</td>\n",
       "      <td>NaN</td>\n",
       "      <td>NaN</td>\n",
       "      <td>2722362</td>\n",
       "      <td>NaN</td>\n",
       "      <td>NaN</td>\n",
       "      <td>NaN</td>\n",
       "    </tr>\n",
       "    <tr>\n",
       "      <th>top</th>\n",
       "      <td>NaN</td>\n",
       "      <td>CASH_OUT</td>\n",
       "      <td>NaN</td>\n",
       "      <td>C1902386530</td>\n",
       "      <td>NaN</td>\n",
       "      <td>NaN</td>\n",
       "      <td>C1286084959</td>\n",
       "      <td>NaN</td>\n",
       "      <td>NaN</td>\n",
       "      <td>NaN</td>\n",
       "    </tr>\n",
       "    <tr>\n",
       "      <th>freq</th>\n",
       "      <td>NaN</td>\n",
       "      <td>2237500</td>\n",
       "      <td>NaN</td>\n",
       "      <td>3</td>\n",
       "      <td>NaN</td>\n",
       "      <td>NaN</td>\n",
       "      <td>113</td>\n",
       "      <td>NaN</td>\n",
       "      <td>NaN</td>\n",
       "      <td>NaN</td>\n",
       "    </tr>\n",
       "    <tr>\n",
       "      <th>mean</th>\n",
       "      <td>2.433972e+02</td>\n",
       "      <td>NaN</td>\n",
       "      <td>1.798619e+05</td>\n",
       "      <td>NaN</td>\n",
       "      <td>8.338831e+05</td>\n",
       "      <td>8.551137e+05</td>\n",
       "      <td>NaN</td>\n",
       "      <td>1.100702e+06</td>\n",
       "      <td>1.224996e+06</td>\n",
       "      <td>1.290820e-03</td>\n",
       "    </tr>\n",
       "    <tr>\n",
       "      <th>std</th>\n",
       "      <td>1.423320e+02</td>\n",
       "      <td>NaN</td>\n",
       "      <td>6.038582e+05</td>\n",
       "      <td>NaN</td>\n",
       "      <td>2.888243e+06</td>\n",
       "      <td>2.924049e+06</td>\n",
       "      <td>NaN</td>\n",
       "      <td>3.399180e+06</td>\n",
       "      <td>3.674129e+06</td>\n",
       "      <td>3.590480e-02</td>\n",
       "    </tr>\n",
       "    <tr>\n",
       "      <th>min</th>\n",
       "      <td>1.000000e+00</td>\n",
       "      <td>NaN</td>\n",
       "      <td>0.000000e+00</td>\n",
       "      <td>NaN</td>\n",
       "      <td>0.000000e+00</td>\n",
       "      <td>0.000000e+00</td>\n",
       "      <td>NaN</td>\n",
       "      <td>0.000000e+00</td>\n",
       "      <td>0.000000e+00</td>\n",
       "      <td>0.000000e+00</td>\n",
       "    </tr>\n",
       "    <tr>\n",
       "      <th>25%</th>\n",
       "      <td>1.560000e+02</td>\n",
       "      <td>NaN</td>\n",
       "      <td>1.338957e+04</td>\n",
       "      <td>NaN</td>\n",
       "      <td>0.000000e+00</td>\n",
       "      <td>0.000000e+00</td>\n",
       "      <td>NaN</td>\n",
       "      <td>0.000000e+00</td>\n",
       "      <td>0.000000e+00</td>\n",
       "      <td>0.000000e+00</td>\n",
       "    </tr>\n",
       "    <tr>\n",
       "      <th>50%</th>\n",
       "      <td>2.390000e+02</td>\n",
       "      <td>NaN</td>\n",
       "      <td>7.487194e+04</td>\n",
       "      <td>NaN</td>\n",
       "      <td>1.420800e+04</td>\n",
       "      <td>0.000000e+00</td>\n",
       "      <td>NaN</td>\n",
       "      <td>1.327057e+05</td>\n",
       "      <td>2.146614e+05</td>\n",
       "      <td>0.000000e+00</td>\n",
       "    </tr>\n",
       "    <tr>\n",
       "      <th>75%</th>\n",
       "      <td>3.350000e+02</td>\n",
       "      <td>NaN</td>\n",
       "      <td>2.087215e+05</td>\n",
       "      <td>NaN</td>\n",
       "      <td>1.073152e+05</td>\n",
       "      <td>1.442584e+05</td>\n",
       "      <td>NaN</td>\n",
       "      <td>9.430367e+05</td>\n",
       "      <td>1.111909e+06</td>\n",
       "      <td>0.000000e+00</td>\n",
       "    </tr>\n",
       "    <tr>\n",
       "      <th>max</th>\n",
       "      <td>7.430000e+02</td>\n",
       "      <td>NaN</td>\n",
       "      <td>9.244552e+07</td>\n",
       "      <td>NaN</td>\n",
       "      <td>5.958504e+07</td>\n",
       "      <td>4.958504e+07</td>\n",
       "      <td>NaN</td>\n",
       "      <td>3.560159e+08</td>\n",
       "      <td>3.561793e+08</td>\n",
       "      <td>1.000000e+00</td>\n",
       "    </tr>\n",
       "  </tbody>\n",
       "</table>\n",
       "</div>"
      ],
      "text/plain": [
       "                step      type        amount     nameOrig  oldbalanceOrg  \\\n",
       "count   6.362620e+06   6362620  6.362620e+06      6362620   6.362620e+06   \n",
       "unique           NaN         5           NaN      6353307            NaN   \n",
       "top              NaN  CASH_OUT           NaN  C1902386530            NaN   \n",
       "freq             NaN   2237500           NaN            3            NaN   \n",
       "mean    2.433972e+02       NaN  1.798619e+05          NaN   8.338831e+05   \n",
       "std     1.423320e+02       NaN  6.038582e+05          NaN   2.888243e+06   \n",
       "min     1.000000e+00       NaN  0.000000e+00          NaN   0.000000e+00   \n",
       "25%     1.560000e+02       NaN  1.338957e+04          NaN   0.000000e+00   \n",
       "50%     2.390000e+02       NaN  7.487194e+04          NaN   1.420800e+04   \n",
       "75%     3.350000e+02       NaN  2.087215e+05          NaN   1.073152e+05   \n",
       "max     7.430000e+02       NaN  9.244552e+07          NaN   5.958504e+07   \n",
       "\n",
       "        newbalanceOrig     nameDest  oldbalanceDest  newbalanceDest  \\\n",
       "count     6.362620e+06      6362620    6.362620e+06    6.362620e+06   \n",
       "unique             NaN      2722362             NaN             NaN   \n",
       "top                NaN  C1286084959             NaN             NaN   \n",
       "freq               NaN          113             NaN             NaN   \n",
       "mean      8.551137e+05          NaN    1.100702e+06    1.224996e+06   \n",
       "std       2.924049e+06          NaN    3.399180e+06    3.674129e+06   \n",
       "min       0.000000e+00          NaN    0.000000e+00    0.000000e+00   \n",
       "25%       0.000000e+00          NaN    0.000000e+00    0.000000e+00   \n",
       "50%       0.000000e+00          NaN    1.327057e+05    2.146614e+05   \n",
       "75%       1.442584e+05          NaN    9.430367e+05    1.111909e+06   \n",
       "max       4.958504e+07          NaN    3.560159e+08    3.561793e+08   \n",
       "\n",
       "             isFraud  \n",
       "count   6.362620e+06  \n",
       "unique           NaN  \n",
       "top              NaN  \n",
       "freq             NaN  \n",
       "mean    1.290820e-03  \n",
       "std     3.590480e-02  \n",
       "min     0.000000e+00  \n",
       "25%     0.000000e+00  \n",
       "50%     0.000000e+00  \n",
       "75%     0.000000e+00  \n",
       "max     1.000000e+00  "
      ]
     },
     "execution_count": 5,
     "metadata": {},
     "output_type": "execute_result"
    }
   ],
   "source": [
    "transactions.drop(columns=[\"isFlaggedFraud\"]).describe(include='all')"
   ]
  },
  {
   "cell_type": "markdown",
   "id": "57b2b48e",
   "metadata": {},
   "source": [
    "Determiniamo, grazie al metodo *corr*, la matrice di correlazione per capire quali feature sono maggiormente correlate ad altre. A titolo di esempio usiamo la correlazione di pearson."
   ]
  },
  {
   "cell_type": "code",
   "execution_count": 6,
   "id": "414a7c0c",
   "metadata": {
    "scrolled": true
   },
   "outputs": [
    {
     "data": {
      "text/html": [
       "<div>\n",
       "<style scoped>\n",
       "    .dataframe tbody tr th:only-of-type {\n",
       "        vertical-align: middle;\n",
       "    }\n",
       "\n",
       "    .dataframe tbody tr th {\n",
       "        vertical-align: top;\n",
       "    }\n",
       "\n",
       "    .dataframe thead th {\n",
       "        text-align: right;\n",
       "    }\n",
       "</style>\n",
       "<table border=\"1\" class=\"dataframe\">\n",
       "  <thead>\n",
       "    <tr style=\"text-align: right;\">\n",
       "      <th></th>\n",
       "      <th>step</th>\n",
       "      <th>amount</th>\n",
       "      <th>oldbalanceOrg</th>\n",
       "      <th>newbalanceOrig</th>\n",
       "      <th>oldbalanceDest</th>\n",
       "      <th>newbalanceDest</th>\n",
       "      <th>isFraud</th>\n",
       "    </tr>\n",
       "  </thead>\n",
       "  <tbody>\n",
       "    <tr>\n",
       "      <th>step</th>\n",
       "      <td>1.000000</td>\n",
       "      <td>0.022373</td>\n",
       "      <td>-0.010058</td>\n",
       "      <td>-0.010299</td>\n",
       "      <td>0.027665</td>\n",
       "      <td>0.025888</td>\n",
       "      <td>0.031578</td>\n",
       "    </tr>\n",
       "    <tr>\n",
       "      <th>amount</th>\n",
       "      <td>0.022373</td>\n",
       "      <td>1.000000</td>\n",
       "      <td>-0.002762</td>\n",
       "      <td>-0.007861</td>\n",
       "      <td>0.294137</td>\n",
       "      <td>0.459304</td>\n",
       "      <td>0.076688</td>\n",
       "    </tr>\n",
       "    <tr>\n",
       "      <th>oldbalanceOrg</th>\n",
       "      <td>-0.010058</td>\n",
       "      <td>-0.002762</td>\n",
       "      <td>1.000000</td>\n",
       "      <td>0.998803</td>\n",
       "      <td>0.066243</td>\n",
       "      <td>0.042029</td>\n",
       "      <td>0.010154</td>\n",
       "    </tr>\n",
       "    <tr>\n",
       "      <th>newbalanceOrig</th>\n",
       "      <td>-0.010299</td>\n",
       "      <td>-0.007861</td>\n",
       "      <td>0.998803</td>\n",
       "      <td>1.000000</td>\n",
       "      <td>0.067812</td>\n",
       "      <td>0.041837</td>\n",
       "      <td>-0.008148</td>\n",
       "    </tr>\n",
       "    <tr>\n",
       "      <th>oldbalanceDest</th>\n",
       "      <td>0.027665</td>\n",
       "      <td>0.294137</td>\n",
       "      <td>0.066243</td>\n",
       "      <td>0.067812</td>\n",
       "      <td>1.000000</td>\n",
       "      <td>0.976569</td>\n",
       "      <td>-0.005885</td>\n",
       "    </tr>\n",
       "    <tr>\n",
       "      <th>newbalanceDest</th>\n",
       "      <td>0.025888</td>\n",
       "      <td>0.459304</td>\n",
       "      <td>0.042029</td>\n",
       "      <td>0.041837</td>\n",
       "      <td>0.976569</td>\n",
       "      <td>1.000000</td>\n",
       "      <td>0.000535</td>\n",
       "    </tr>\n",
       "    <tr>\n",
       "      <th>isFraud</th>\n",
       "      <td>0.031578</td>\n",
       "      <td>0.076688</td>\n",
       "      <td>0.010154</td>\n",
       "      <td>-0.008148</td>\n",
       "      <td>-0.005885</td>\n",
       "      <td>0.000535</td>\n",
       "      <td>1.000000</td>\n",
       "    </tr>\n",
       "  </tbody>\n",
       "</table>\n",
       "</div>"
      ],
      "text/plain": [
       "                    step    amount  oldbalanceOrg  newbalanceOrig  \\\n",
       "step            1.000000  0.022373      -0.010058       -0.010299   \n",
       "amount          0.022373  1.000000      -0.002762       -0.007861   \n",
       "oldbalanceOrg  -0.010058 -0.002762       1.000000        0.998803   \n",
       "newbalanceOrig -0.010299 -0.007861       0.998803        1.000000   \n",
       "oldbalanceDest  0.027665  0.294137       0.066243        0.067812   \n",
       "newbalanceDest  0.025888  0.459304       0.042029        0.041837   \n",
       "isFraud         0.031578  0.076688       0.010154       -0.008148   \n",
       "\n",
       "                oldbalanceDest  newbalanceDest   isFraud  \n",
       "step                  0.027665        0.025888  0.031578  \n",
       "amount                0.294137        0.459304  0.076688  \n",
       "oldbalanceOrg         0.066243        0.042029  0.010154  \n",
       "newbalanceOrig        0.067812        0.041837 -0.008148  \n",
       "oldbalanceDest        1.000000        0.976569 -0.005885  \n",
       "newbalanceDest        0.976569        1.000000  0.000535  \n",
       "isFraud              -0.005885        0.000535  1.000000  "
      ]
     },
     "execution_count": 6,
     "metadata": {},
     "output_type": "execute_result"
    }
   ],
   "source": [
    "transactions.drop(columns=[\"isFlaggedFraud\"]).corr(method='pearson')"
   ]
  },
  {
   "cell_type": "markdown",
   "id": "b075b28e",
   "metadata": {},
   "source": [
    "Possiamo notare che le feature maggiorment correlate sono :"
   ]
  },
  {
   "cell_type": "code",
   "execution_count": 7,
   "id": "d773f8f3",
   "metadata": {},
   "outputs": [],
   "source": [
    "feature_list = [\"type\",\"amount\",\"oldbalanceOrg\",\"newbalanceOrig\"]"
   ]
  },
  {
   "cell_type": "markdown",
   "id": "e52f3456",
   "metadata": {},
   "source": [
    "purtroppo il metodo *corr* non supporta nativamente il calcolo della correlazione per le variabili categoriche, quindi ho aggiunto alla *feature_list* anche la variabile categorica \"type\". "
   ]
  },
  {
   "cell_type": "markdown",
   "id": "1319bf08",
   "metadata": {},
   "source": [
    "Le variabili categoriche *nameOrig* e *nameDest* sono state scartate perchè altamente variabili e non continue, quindi non direttamente utilizzabili. Ho escluso la variabile *step* perchè difficilmente utilizzabile sia come var. categorica sia come var. numerica.\n",
    "\n",
    "In generale è sempre possibile utilizzare le variabili costruendo dei metodi \"ad hoc\" per raggrupparle, in questo progetto non ho trovato un metodo che facesse al caso mio."
   ]
  },
  {
   "cell_type": "markdown",
   "id": "a6271be2",
   "metadata": {},
   "source": [
    "### 2.1 - Grafici"
   ]
  },
  {
   "cell_type": "markdown",
   "id": "bf79949b",
   "metadata": {},
   "source": [
    "I seguenti grafici hanno lo scopo di far capire quanto il \"tipo transazione\" (variabile categorica \"type\") è importante nel nostro studio (quindi anche il perchè è stata inclusa nella *feature_list*) e lo sbilanciamento della var. binaria da predire *isFraud*."
   ]
  },
  {
   "cell_type": "code",
   "execution_count": 8,
   "id": "bdbb25c0",
   "metadata": {},
   "outputs": [
    {
     "data": {
      "image/png": "[encoded data removed]",
      "text/plain": [
       "<Figure size 1152x720 with 3 Axes>"
      ]
     },
     "metadata": {},
     "output_type": "display_data"
    }
   ],
   "source": [
    "plt.figure(figsize=(16, 10))\n",
    "transactions[\"type\"].value_counts().plot.pie(ax=plt.subplot(1, 3, 1));\n",
    "transactions[\"isFraud\"].value_counts().plot.pie(ax=plt.subplot(1, 3, 2));\n",
    "transactions[transactions[\"isFraud\"] == 1][\"type\"].value_counts().plot.pie(ax=plt.subplot(1, 3,3));"
   ]
  },
  {
   "cell_type": "markdown",
   "id": "78628669",
   "metadata": {},
   "source": [
    "Per visualizzare su un grafico a dispersione la correlazione delle feature si può procedere in diversi modi. Quello proposto in questo progetto è la creazione di n grafici che combinano 2 feature alla volta. Questo approccio può andare bene se il numero di feature è ridotto (<10) altrimenti bisogna procedere a buon senso (i.e. basandosi sulla matrice di correlazione) creando manualmente i grafici.\n",
    "\n",
    "Per questa parte uso un dataset ridotto per limitare il tempo di calcolo dei grafici e perchè quello che vogliamo è un'indicazione qualitativa."
   ]
  },
  {
   "cell_type": "code",
   "execution_count": 9,
   "id": "7ef03a4f",
   "metadata": {
    "scrolled": false
   },
   "outputs": [
    {
     "data": {
      "image/png": "[encoded data removed]",
      "text/plain": [
       "<Figure size 720x432 with 1 Axes>"
      ]
     },
     "metadata": {
      "needs_background": "light"
     },
     "output_type": "display_data"
    },
    {
     "data": {
      "image/png": "[encoded data removed]",
      "text/plain": [
       "<Figure size 720x432 with 1 Axes>"
      ]
     },
     "metadata": {
      "needs_background": "light"
     },
     "output_type": "display_data"
    },
    {
     "data": {
      "image/png": "[encoded data removed]",
      "text/plain": [
       "<Figure size 720x432 with 1 Axes>"
      ]
     },
     "metadata": {
      "needs_background": "light"
     },
     "output_type": "display_data"
    }
   ],
   "source": [
    "transactions = pd.read_csv(\"../data/data.csv\", nrows=40_000)\n",
    "tfraut_colors = transactions[\"isFraud\"].map({0: \"blue\", 1: \"red\"})\n",
    "for f_i in range(1, len(feature_list)):\n",
    "     for f_j in range(f_i + 1, len(feature_list)) :        \n",
    "        transactions.plot.scatter(feature_list[f_i], feature_list[f_j], c=tfraut_colors, figsize=(10, 6));"
   ]
  },
  {
   "cell_type": "markdown",
   "id": "1d62ab2a",
   "metadata": {},
   "source": [
    "## 3 - Normalizzazione dei dati"
   ]
  },
  {
   "cell_type": "markdown",
   "id": "fce96a1d",
   "metadata": {},
   "source": [
    "Iniziamo col dividere le feature in due gruppi (perchè poi andranno trattate diversamente):\n",
    "   - Feature Numeriche : Applicheremo una **normalizzazione** per avere la stessa scala.\n",
    "   - Feature Categoriche : Applicheremo una **binarizzazione** che sotituisce ogni singola colonna categorica con n colonne binarie, dove n indica il numero distinto di valori. In questo dataset, come anche anticipato nel punto 1, l'unica var. facilmente utilizzabile è \"type\" che produrrà 5 var. binarie."
   ]
  },
  {
   "cell_type": "code",
   "execution_count": 10,
   "id": "3f507edf",
   "metadata": {},
   "outputs": [],
   "source": [
    "feature_numeric = [\"amount\",\"oldbalanceOrg\",\"newbalanceOrig\"]\n",
    "feature_categorical = [\"type\"]"
   ]
  },
  {
   "cell_type": "markdown",
   "id": "3d7d6195",
   "metadata": {},
   "source": [
    "Grazie alla classe *ColumnTransformer* possiamo applica entrambe queste trasformazioni in modo semplice e in *Pipeline*. Memorizzo l'oggeto in una variabile così lo posso riutilizzare successivamente per la creazione dei modelli di learning."
   ]
  },
  {
   "cell_type": "code",
   "execution_count": 11,
   "id": "1366ae03",
   "metadata": {},
   "outputs": [],
   "source": [
    "from sklearn.model_selection import train_test_split\n",
    "from sklearn.compose import ColumnTransformer\n",
    "from sklearn.preprocessing import StandardScaler\n",
    "from sklearn.preprocessing import OneHotEncoder\n",
    "\n",
    "X = transactions[feature_list]\n",
    "y = transactions[[\"isFraud\"]]\n",
    "\n",
    "X_train, X_val, y_train, y_val = train_test_split(X, y, test_size=1/3, random_state=43)\n",
    "\n",
    "preproc = ColumnTransformer([\n",
    "    (\"numeric\",StandardScaler(),feature_numeric),\n",
    "        (\"categorical\",OneHotEncoder(),feature_categorical)\n",
    "    ],remainder=\"drop\")"
   ]
  },
  {
   "cell_type": "markdown",
   "id": "d475df7d",
   "metadata": {},
   "source": [
    "Vediamo, a titolo di esmpio, come cambia il daset visualizzando i primi 10 record."
   ]
  },
  {
   "cell_type": "code",
   "execution_count": 12,
   "id": "dd94ed3c",
   "metadata": {},
   "outputs": [
    {
     "data": {
      "text/html": [
       "<div>\n",
       "<style scoped>\n",
       "    .dataframe tbody tr th:only-of-type {\n",
       "        vertical-align: middle;\n",
       "    }\n",
       "\n",
       "    .dataframe tbody tr th {\n",
       "        vertical-align: top;\n",
       "    }\n",
       "\n",
       "    .dataframe thead th {\n",
       "        text-align: right;\n",
       "    }\n",
       "</style>\n",
       "<table border=\"1\" class=\"dataframe\">\n",
       "  <thead>\n",
       "    <tr style=\"text-align: right;\">\n",
       "      <th></th>\n",
       "      <th>amount</th>\n",
       "      <th>oldbalanceOrg</th>\n",
       "      <th>newbalanceOrig</th>\n",
       "      <th>x0_CASH_IN</th>\n",
       "      <th>x0_CASH_OUT</th>\n",
       "      <th>x0_DEBIT</th>\n",
       "      <th>x0_PAYMENT</th>\n",
       "      <th>x0_TRANSFER</th>\n",
       "    </tr>\n",
       "  </thead>\n",
       "  <tbody>\n",
       "    <tr>\n",
       "      <th>0</th>\n",
       "      <td>-0.439241</td>\n",
       "      <td>-0.266896</td>\n",
       "      <td>-0.273043</td>\n",
       "      <td>0.0</td>\n",
       "      <td>0.0</td>\n",
       "      <td>0.0</td>\n",
       "      <td>1.0</td>\n",
       "      <td>0.0</td>\n",
       "    </tr>\n",
       "    <tr>\n",
       "      <th>1</th>\n",
       "      <td>-0.464742</td>\n",
       "      <td>-0.331287</td>\n",
       "      <td>-0.333001</td>\n",
       "      <td>0.0</td>\n",
       "      <td>0.0</td>\n",
       "      <td>0.0</td>\n",
       "      <td>1.0</td>\n",
       "      <td>0.0</td>\n",
       "    </tr>\n",
       "    <tr>\n",
       "      <th>2</th>\n",
       "      <td>-0.470125</td>\n",
       "      <td>-0.340399</td>\n",
       "      <td>-0.341250</td>\n",
       "      <td>0.0</td>\n",
       "      <td>0.0</td>\n",
       "      <td>0.0</td>\n",
       "      <td>0.0</td>\n",
       "      <td>1.0</td>\n",
       "    </tr>\n",
       "    <tr>\n",
       "      <th>3</th>\n",
       "      <td>-0.470125</td>\n",
       "      <td>-0.340399</td>\n",
       "      <td>-0.341250</td>\n",
       "      <td>0.0</td>\n",
       "      <td>1.0</td>\n",
       "      <td>0.0</td>\n",
       "      <td>0.0</td>\n",
       "      <td>0.0</td>\n",
       "    </tr>\n",
       "    <tr>\n",
       "      <th>4</th>\n",
       "      <td>-0.433394</td>\n",
       "      <td>-0.322506</td>\n",
       "      <td>-0.328533</td>\n",
       "      <td>0.0</td>\n",
       "      <td>0.0</td>\n",
       "      <td>0.0</td>\n",
       "      <td>1.0</td>\n",
       "      <td>0.0</td>\n",
       "    </tr>\n",
       "    <tr>\n",
       "      <th>5</th>\n",
       "      <td>-0.445706</td>\n",
       "      <td>-0.317184</td>\n",
       "      <td>-0.321659</td>\n",
       "      <td>0.0</td>\n",
       "      <td>0.0</td>\n",
       "      <td>0.0</td>\n",
       "      <td>1.0</td>\n",
       "      <td>0.0</td>\n",
       "    </tr>\n",
       "    <tr>\n",
       "      <th>6</th>\n",
       "      <td>-0.447976</td>\n",
       "      <td>-0.261248</td>\n",
       "      <td>-0.266324</td>\n",
       "      <td>0.0</td>\n",
       "      <td>0.0</td>\n",
       "      <td>0.0</td>\n",
       "      <td>1.0</td>\n",
       "      <td>0.0</td>\n",
       "    </tr>\n",
       "    <tr>\n",
       "      <th>7</th>\n",
       "      <td>-0.445566</td>\n",
       "      <td>-0.264322</td>\n",
       "      <td>-0.269670</td>\n",
       "      <td>0.0</td>\n",
       "      <td>0.0</td>\n",
       "      <td>0.0</td>\n",
       "      <td>1.0</td>\n",
       "      <td>0.0</td>\n",
       "    </tr>\n",
       "    <tr>\n",
       "      <th>8</th>\n",
       "      <td>-0.457835</td>\n",
       "      <td>-0.339322</td>\n",
       "      <td>-0.341250</td>\n",
       "      <td>0.0</td>\n",
       "      <td>0.0</td>\n",
       "      <td>0.0</td>\n",
       "      <td>1.0</td>\n",
       "      <td>0.0</td>\n",
       "    </tr>\n",
       "    <tr>\n",
       "      <th>9</th>\n",
       "      <td>-0.453636</td>\n",
       "      <td>-0.322434</td>\n",
       "      <td>-0.325769</td>\n",
       "      <td>0.0</td>\n",
       "      <td>0.0</td>\n",
       "      <td>1.0</td>\n",
       "      <td>0.0</td>\n",
       "      <td>0.0</td>\n",
       "    </tr>\n",
       "  </tbody>\n",
       "</table>\n",
       "</div>"
      ],
      "text/plain": [
       "     amount  oldbalanceOrg  newbalanceOrig  x0_CASH_IN  x0_CASH_OUT  x0_DEBIT  \\\n",
       "0 -0.439241      -0.266896       -0.273043         0.0          0.0       0.0   \n",
       "1 -0.464742      -0.331287       -0.333001         0.0          0.0       0.0   \n",
       "2 -0.470125      -0.340399       -0.341250         0.0          0.0       0.0   \n",
       "3 -0.470125      -0.340399       -0.341250         0.0          1.0       0.0   \n",
       "4 -0.433394      -0.322506       -0.328533         0.0          0.0       0.0   \n",
       "5 -0.445706      -0.317184       -0.321659         0.0          0.0       0.0   \n",
       "6 -0.447976      -0.261248       -0.266324         0.0          0.0       0.0   \n",
       "7 -0.445566      -0.264322       -0.269670         0.0          0.0       0.0   \n",
       "8 -0.457835      -0.339322       -0.341250         0.0          0.0       0.0   \n",
       "9 -0.453636      -0.322434       -0.325769         0.0          0.0       1.0   \n",
       "\n",
       "   x0_PAYMENT  x0_TRANSFER  \n",
       "0         1.0          0.0  \n",
       "1         1.0          0.0  \n",
       "2         0.0          1.0  \n",
       "3         0.0          0.0  \n",
       "4         1.0          0.0  \n",
       "5         1.0          0.0  \n",
       "6         1.0          0.0  \n",
       "7         1.0          0.0  \n",
       "8         1.0          0.0  \n",
       "9         0.0          0.0  "
      ]
     },
     "execution_count": 12,
     "metadata": {},
     "output_type": "execute_result"
    }
   ],
   "source": [
    "X_sample = transactions[feature_numeric + feature_categorical]\n",
    "preproc.fit_transform(X_sample)\n",
    "f_names = feature_numeric + list(preproc.named_transformers_[\"categorical\"].get_feature_names())\n",
    "pd.DataFrame(\n",
    "    preproc.transform(X_sample),\n",
    "    columns = f_names\n",
    ").head(10)"
   ]
  },
  {
   "cell_type": "markdown",
   "id": "c86d495b",
   "metadata": {},
   "source": [
    "### 3.1 - SVD"
   ]
  },
  {
   "cell_type": "markdown",
   "id": "da9ab70f",
   "metadata": {},
   "source": [
    "Per rappresentare tutte le feature in un unico grafico si può utilizzare la decomposizione **SVD** (Single Value Decomposition) che trasforma (appunto decompone) una spazio k-dimensionale in uno spazio n-dimensionale."
   ]
  },
  {
   "cell_type": "code",
   "execution_count": 13,
   "id": "f2c6c7d7",
   "metadata": {},
   "outputs": [
    {
     "data": {
      "image/png": "[encoded data removed]",
      "text/plain": [
       "<Figure size 432x288 with 1 Axes>"
      ]
     },
     "metadata": {
      "needs_background": "light"
     },
     "output_type": "display_data"
    }
   ],
   "source": [
    "from sklearn.decomposition import PCA\n",
    "\n",
    "pca = PCA()\n",
    "\n",
    "color_map = transactions[:X_train.values.shape[0]][\"isFraud\"].map({0: \"blue\", 1: \"red\"})\n",
    "size_map = transactions[:X_train.values.shape[0]][\"isFraud\"].map({0: 0.25, 1:5.0})\n",
    "alpha_blend_map = transactions[:X_train.values.shape[0]][\"isFraud\"].map({0: 0.1, 1:1})\n",
    "x_preproc = pca.fit_transform(preproc.fit_transform(X_train))\n",
    "\n",
    "plt.scatter(x_preproc[:,0], x_preproc[:,1], c=color_map, s=size_map, alpha=alpha_blend_map)\n",
    "plt.xlabel('Asse latente X')\n",
    "plt.ylabel('Asse latente Y')\n",
    "plt.show()"
   ]
  },
  {
   "cell_type": "markdown",
   "id": "f068d4c5",
   "metadata": {},
   "source": [
    "## 4 - Modelli di Learning"
   ]
  },
  {
   "cell_type": "markdown",
   "id": "aad23b20",
   "metadata": {},
   "source": [
    "Data il grande numero di istanze di questo dataset per contenere drasticamente i tempi di calcolo (vista la natura di questo progetto) limitiamo il dataset a $10^5$ istanze"
   ]
  },
  {
   "cell_type": "code",
   "execution_count": 14,
   "id": "d0a8aac8",
   "metadata": {},
   "outputs": [],
   "source": [
    "from sklearn.pipeline import Pipeline\n",
    "\n",
    "transactions = pd.read_csv(\"../data/data.csv\", nrows=100_000)\n",
    "classes = [\"isFraud\", \"Honest\"]\n",
    "\n",
    "X = transactions[feature_list]\n",
    "y = transactions[[\"isFraud\"]]\n",
    "\n",
    "X_train, X_val, y_train, y_val = train_test_split(X, y, test_size=1/3, random_state=43)"
   ]
  },
  {
   "cell_type": "markdown",
   "id": "51381422",
   "metadata": {},
   "source": [
    "Predisponiamo inoltre alcune \"utility function\" che migliorano la leggibilità del codice e la riusabilità."
   ]
  },
  {
   "cell_type": "code",
   "execution_count": 72,
   "id": "85be11f4",
   "metadata": {},
   "outputs": [],
   "source": [
    "# Plotting Functions\n",
    "def plot_separator_on_data(X, y, model=None):\n",
    "    '''plot data into 2d space'''\n",
    "    c_map = transactions[:X.values.shape[0]][\"isFraud\"].map({0: \"blue\", 1: \"red\"})\n",
    "    X = np.array(X)\n",
    "    plt.figure(figsize=(8, 6));\n",
    "    plt.scatter(X[:, 0], X[:, 1], c=c_map)\n",
    "    if model is not None:\n",
    "        xlim, ylim = plt.xlim(), plt.ylim()\n",
    "        sep_x = np.linspace(*xlim, 2)\n",
    "        sep_y = separator_2d(model, sep_x)\n",
    "        plt.plot(sep_x, sep_y, c=\"green\", linewidth=2)\n",
    "        plt.xlim(xlim)\n",
    "        plt.ylim(ylim)\n",
    "    return None\n",
    "\n",
    "def separator_2d(model, x1):\n",
    "    '''draw a 2d line based his equation'''\n",
    "    w = model.coef_[0]\n",
    "    b = model.intercept_[0]\n",
    "    return -x1 * w[0] / w[1] - b / w[1]"
   ]
  },
  {
   "cell_type": "code",
   "execution_count": 73,
   "id": "8a907b0b",
   "metadata": {},
   "outputs": [],
   "source": [
    "# Accurancy Functions\n",
    "from sklearn.metrics import precision_score, recall_score, f1_score, confusion_matrix, mean_squared_error\n",
    "\n",
    "def rmspe(y_real, y_pred):\n",
    "    '''Root Mean Squared Percentage Error'''\n",
    "    return np.sqrt(np.mean((y_pred / y_real - 1)**2))\n",
    "\n",
    "def print_eval_regressor_tree(X, y, model, print_base=True):\n",
    "    '''print eval for all regression tree model'''\n",
    "    y_pred = model.predict(X)\n",
    "    print(f\"MSE   : {mean_squared_error(y, y_pred):12.4f}\")\n",
    "    #print(f\"RMSPE : {rmspe(y, y_pred):12.4f}\")\n",
    "    if print_base : print_eval_base(X,y,model)\n",
    "    return None\n",
    "\n",
    "def print_eval_base(X, y, model, pad = 3):\n",
    "    '''print eval for all model, only R^2 score '''\n",
    "    print(f\"R^2{''.rjust(pad, ' ')}: {model.score(X,y):12.4f}\")\n",
    "    return None\n",
    "\n",
    "def print_eval_classify(X, y, model, classes, print_base=True):\n",
    "    '''print eval for classification model'''\n",
    "    y_pred = model.predict(X)    \n",
    "    cm = confusion_matrix(y, y_pred)\n",
    "    print(\"Confusion Matrix : \")\n",
    "    print_matrix(classes, cm)\n",
    "    print(f\"\\nPRECISION  : {precision_score(y, y_pred):12.4f}\")\n",
    "    print(f\"RECALL     : {recall_score(y, y_pred):12.4f}\")\n",
    "    print(f\"F1-MEASURE : {f1_score(y, y_pred, average='macro'):12.4f}\")\n",
    "    if print_base : print_eval_base(X, y, model, 8)\n",
    "    return None\n",
    "\n",
    "def verify(value, const, delta=0):\n",
    "    if (value >= const-delta and value <= const+delta):\n",
    "        print(\"ASSERT OK\")\n",
    "    else:\n",
    "        print(\"ASSERT FAIL\")"
   ]
  },
  {
   "cell_type": "code",
   "execution_count": 74,
   "id": "3ddd07eb",
   "metadata": {},
   "outputs": [],
   "source": [
    "# Others Functions\n",
    "def print_matrix(classes, matrix, pad = 10):\n",
    "    '''This method prints a matrix with better formatting.\n",
    "    Is used for print n x n confusion matrix'''\n",
    "    for i in range(len(classes)):\n",
    "        if i == 0 : \n",
    "            for c in ([\" \"] + classes):\n",
    "                print(f\"{c.rjust(pad, ' ')}\",end=' ')\n",
    "            print()\n",
    "        for j in range(len(classes)):\n",
    "            if (j == 0) : \n",
    "                print(f\"{classes[i].rjust(pad, ' ')}\",end=' ')\n",
    "            print(f\"{str(matrix[i][j]).rjust(pad, ' ')}\",end=' ')\n",
    "        print()\n",
    "    return None"
   ]
  },
  {
   "cell_type": "markdown",
   "id": "00beca2a",
   "metadata": {},
   "source": [
    "Di seguito sono implementati alcuni modelli di learning con i metodi tradizionali di \"shallow learning\"."
   ]
  },
  {
   "cell_type": "markdown",
   "id": "d58911ed",
   "metadata": {},
   "source": [
    "## 4.1 - Modelli di Regressione"
   ]
  },
  {
   "cell_type": "markdown",
   "id": "58bd1ae0",
   "metadata": {},
   "source": [
    "I primi modelli che ho provato sono gli alberi di regressione."
   ]
  },
  {
   "cell_type": "markdown",
   "id": "2e68312c",
   "metadata": {},
   "source": [
    "Per usare questa parte bisogna aver intallato le seguenti librerie :"
   ]
  },
  {
   "cell_type": "code",
   "execution_count": 18,
   "id": "04bf9803",
   "metadata": {},
   "outputs": [],
   "source": [
    "#%conda install XGBoost\n",
    "#%conda install Lightgbm\n",
    "#%conda install Catboost"
   ]
  },
  {
   "cell_type": "markdown",
   "id": "d6596caf",
   "metadata": {},
   "source": [
    "Di seguito sono implementati i seguenti algoritmi:\n",
    "   - Random Forest\n",
    "   - XGBRegressor\n",
    "   - LightGBM\n",
    "   - Logistic Loss"
   ]
  },
  {
   "cell_type": "markdown",
   "id": "ea23e1d7",
   "metadata": {},
   "source": [
    "### 4.1.1 - Random Forest"
   ]
  },
  {
   "cell_type": "code",
   "execution_count": 67,
   "id": "1ec1a411",
   "metadata": {},
   "outputs": [
    {
     "name": "stdout",
     "output_type": "stream",
     "text": [
      "MSE   :       0.0006\n",
      "R^2   :       0.2361\n"
     ]
    }
   ],
   "source": [
    "from sklearn.ensemble import RandomForestRegressor\n",
    "\n",
    "model = Pipeline([\n",
    "    (\"preproc\", preproc),\n",
    "    (\"RandomForestRegressor\", RandomForestRegressor(n_estimators=500, \n",
    "                                                    max_samples=0.2, \n",
    "                                                    random_state=43,\n",
    "                                                    max_features=\"sqrt\"))\n",
    "])\n",
    "model.fit(X_train, y_train.values.ravel())\n",
    "print_eval_regressor_tree(X_val, y_val.values.ravel(), model)"
   ]
  },
  {
   "cell_type": "markdown",
   "id": "0b841061",
   "metadata": {},
   "source": [
    "Possiamo vedere l'importanza delle feature grazie alla proprietà *feature_importances_* "
   ]
  },
  {
   "cell_type": "code",
   "execution_count": 20,
   "id": "800439ac",
   "metadata": {},
   "outputs": [
    {
     "data": {
      "text/html": [
       "<div>\n",
       "<style scoped>\n",
       "    .dataframe tbody tr th:only-of-type {\n",
       "        vertical-align: middle;\n",
       "    }\n",
       "\n",
       "    .dataframe tbody tr th {\n",
       "        vertical-align: top;\n",
       "    }\n",
       "\n",
       "    .dataframe thead th {\n",
       "        text-align: right;\n",
       "    }\n",
       "</style>\n",
       "<table border=\"1\" class=\"dataframe\">\n",
       "  <thead>\n",
       "    <tr style=\"text-align: right;\">\n",
       "      <th></th>\n",
       "      <th>amount</th>\n",
       "      <th>oldbalanceOrg</th>\n",
       "      <th>newbalanceOrig</th>\n",
       "      <th>x0_CASH_IN</th>\n",
       "      <th>x0_CASH_OUT</th>\n",
       "      <th>x0_DEBIT</th>\n",
       "      <th>x0_PAYMENT</th>\n",
       "      <th>x0_TRANSFER</th>\n",
       "    </tr>\n",
       "  </thead>\n",
       "  <tbody>\n",
       "    <tr>\n",
       "      <th>value</th>\n",
       "      <td>0.49592</td>\n",
       "      <td>0.452824</td>\n",
       "      <td>0.025989</td>\n",
       "      <td>0.001135</td>\n",
       "      <td>0.010253</td>\n",
       "      <td>0.000659</td>\n",
       "      <td>0.001086</td>\n",
       "      <td>0.012134</td>\n",
       "    </tr>\n",
       "  </tbody>\n",
       "</table>\n",
       "</div>"
      ],
      "text/plain": [
       "        amount  oldbalanceOrg  newbalanceOrig  x0_CASH_IN  x0_CASH_OUT  \\\n",
       "value  0.49592       0.452824        0.025989    0.001135     0.010253   \n",
       "\n",
       "       x0_DEBIT  x0_PAYMENT  x0_TRANSFER  \n",
       "value  0.000659    0.001086     0.012134  "
      ]
     },
     "execution_count": 20,
     "metadata": {},
     "output_type": "execute_result"
    }
   ],
   "source": [
    "pd.DataFrame(model.named_steps[\"RandomForestRegressor\"].feature_importances_,index=f_names,columns=[\"value\"]).T"
   ]
  },
  {
   "cell_type": "markdown",
   "id": "940c58f3",
   "metadata": {},
   "source": [
    "### 4.1.2 - XGBoost"
   ]
  },
  {
   "cell_type": "code",
   "execution_count": 71,
   "id": "d0643d55",
   "metadata": {},
   "outputs": [
    {
     "name": "stdout",
     "output_type": "stream",
     "text": [
      "MSE   :       0.0005\n",
      "R^2   :       0.3259\n"
     ]
    },
    {
     "data": {
      "text/html": [
       "<div>\n",
       "<style scoped>\n",
       "    .dataframe tbody tr th:only-of-type {\n",
       "        vertical-align: middle;\n",
       "    }\n",
       "\n",
       "    .dataframe tbody tr th {\n",
       "        vertical-align: top;\n",
       "    }\n",
       "\n",
       "    .dataframe thead th {\n",
       "        text-align: right;\n",
       "    }\n",
       "</style>\n",
       "<table border=\"1\" class=\"dataframe\">\n",
       "  <thead>\n",
       "    <tr style=\"text-align: right;\">\n",
       "      <th></th>\n",
       "      <th>amount</th>\n",
       "      <th>oldbalanceOrg</th>\n",
       "      <th>newbalanceOrig</th>\n",
       "      <th>x0_CASH_IN</th>\n",
       "      <th>x0_CASH_OUT</th>\n",
       "      <th>x0_DEBIT</th>\n",
       "      <th>x0_PAYMENT</th>\n",
       "      <th>x0_TRANSFER</th>\n",
       "    </tr>\n",
       "  </thead>\n",
       "  <tbody>\n",
       "    <tr>\n",
       "      <th>value</th>\n",
       "      <td>0.176989</td>\n",
       "      <td>0.122397</td>\n",
       "      <td>0.108512</td>\n",
       "      <td>0.000048</td>\n",
       "      <td>0.047564</td>\n",
       "      <td>0.000231</td>\n",
       "      <td>0.532877</td>\n",
       "      <td>0.011382</td>\n",
       "    </tr>\n",
       "  </tbody>\n",
       "</table>\n",
       "</div>"
      ],
      "text/plain": [
       "         amount  oldbalanceOrg  newbalanceOrig  x0_CASH_IN  x0_CASH_OUT  \\\n",
       "value  0.176989       0.122397        0.108512    0.000048     0.047564   \n",
       "\n",
       "       x0_DEBIT  x0_PAYMENT  x0_TRANSFER  \n",
       "value  0.000231    0.532877     0.011382  "
      ]
     },
     "execution_count": 71,
     "metadata": {},
     "output_type": "execute_result"
    }
   ],
   "source": [
    "from xgboost import XGBRegressor\n",
    "\n",
    "xgbm = XGBRegressor(objective='reg:squarederror', \n",
    "                    learning_rate = 0.01577, \n",
    "                    reg_lambda=0.008, \n",
    "                    reg_alpha=0.0001, \n",
    "                    n_estimators=1025, \n",
    "                    random_state=43)\n",
    "model = Pipeline([\n",
    "    (\"preproc\", preproc),\n",
    "    (\"XGBRegressor\", xgbm)\n",
    "])\n",
    "model.fit(X_train, y_train)\n",
    "print_eval_regressor_tree(X_val, y_val.values.ravel(), model)\n",
    "pd.DataFrame(model.named_steps[\"XGBRegressor\"].feature_importances_,index=f_names,columns=[\"value\"]).T"
   ]
  },
  {
   "cell_type": "markdown",
   "id": "d7a21154",
   "metadata": {},
   "source": [
    "### 4.1.3 - LightGBM"
   ]
  },
  {
   "cell_type": "code",
   "execution_count": 22,
   "id": "62ef7c1f",
   "metadata": {},
   "outputs": [
    {
     "name": "stdout",
     "output_type": "stream",
     "text": [
      "MSE   :       0.0006\n",
      "R^2   :       0.4526\n"
     ]
    }
   ],
   "source": [
    "from lightgbm import LGBMRegressor\n",
    "\n",
    "model = Pipeline([\n",
    "    (\"preproc\",preproc),\n",
    "    (\"LGBM\", LGBMRegressor(n_estimators=1200, random_state=43))\n",
    "])\n",
    "\n",
    "model.fit(X_train, y_train.values.ravel())\n",
    "print_eval_regressor_tree(X_val, y_val.values.ravel(), model)"
   ]
  },
  {
   "cell_type": "markdown",
   "id": "3377d662",
   "metadata": {},
   "source": [
    "### 4.1.4 - Logistic Regression"
   ]
  },
  {
   "cell_type": "code",
   "execution_count": 23,
   "id": "26be6a1d",
   "metadata": {
    "scrolled": true
   },
   "outputs": [
    {
     "name": "stdout",
     "output_type": "stream",
     "text": [
      "MSE   :       0.0028\n",
      "Confusion Matrix : \n",
      "              isFraud     Honest \n",
      "   isFraud      33231         69 \n",
      "    Honest         24         10 \n",
      "\n",
      "PRECISION  :       0.1266\n",
      "RECALL     :       0.2941\n",
      "F1-MEASURE :       0.5878\n",
      "R^2        :       0.9972\n"
     ]
    }
   ],
   "source": [
    "from sklearn.linear_model import LogisticRegression\n",
    "\n",
    "model_lr = Pipeline([\n",
    "    (\"preproc\", preproc),\n",
    "    (\"LogisticRegression\", LogisticRegression(solver=\"saga\", random_state=43, class_weight={1:45}, max_iter=100000))\n",
    "])\n",
    "\n",
    "model_lr.fit(X_train, y_train.values.ravel())\n",
    "\n",
    "print_eval_regressor_tree(X_val, y_val.values.ravel(), model_lr, False)\n",
    "print_eval_classify(X_val, y_val.values.ravel(), model_lr, classes, True)"
   ]
  },
  {
   "cell_type": "markdown",
   "id": "51bfc43d",
   "metadata": {},
   "source": [
    "Analizziamo, limitando a 2 il numero di feature, come la regressione logistica separa i dati."
   ]
  },
  {
   "cell_type": "code",
   "execution_count": 75,
   "id": "378e9551",
   "metadata": {},
   "outputs": [
    {
     "name": "stdout",
     "output_type": "stream",
     "text": [
      "MSE   :       0.0014\n",
      "Confusion Matrix : \n",
      "              isFraud     Honest \n",
      "   isFraud      66566         51 \n",
      "    Honest         44          6 \n",
      "\n",
      "PRECISION  :       0.1053\n",
      "RECALL     :       0.1200\n",
      "F1-MEASURE :       0.5557\n",
      "R^2        :       0.9986\n"
     ]
    },
    {
     "data": {
      "image/png": "[encoded data removed]",
      "text/plain": [
       "<Figure size 576x432 with 1 Axes>"
      ]
     },
     "metadata": {
      "needs_background": "light"
     },
     "output_type": "display_data"
    }
   ],
   "source": [
    "X_lr_2 = transactions[[\"oldbalanceOrg\",\"newbalanceOrig\"]]\n",
    "y_lr_2 = transactions[[\"isFraud\"]]\n",
    "\n",
    "X_train_lr_2, X_val_lr_2, y_train_lr_2, y_val_lr_2 = train_test_split(X_lr_2, y_lr_2, test_size=1/3, random_state=43)\n",
    "\n",
    "model_lr_2 = Pipeline([\n",
    "    (\"preproc\", StandardScaler()),\n",
    "    (\"LogisticRegression\", LogisticRegression(solver=\"saga\", random_state=43, class_weight={1:45}, max_iter=100000))\n",
    "])\n",
    "\n",
    "model_lr_2.fit(X_train_lr_2, y_train_lr_2.values.ravel())\n",
    "\n",
    "print_eval_regressor_tree(X_val_lr_2, y_val_lr_2.values.ravel(), model_lr_2, False)\n",
    "print_eval_classify(X_val_lr_2, y_val_lr_2.values.ravel(), model_lr_2, classes, True)\n",
    "\n",
    "plot_separator_on_data(X_val_lr_2, y_val_lr_2, model_lr_2.named_steps[\"LogisticRegression\"]);"
   ]
  },
  {
   "cell_type": "markdown",
   "id": "472b3fd6",
   "metadata": {},
   "source": [
    "## 4.2 - Modelli di Classificazione"
   ]
  },
  {
   "cell_type": "markdown",
   "id": "49ad10ae",
   "metadata": {},
   "source": [
    "Vediamo se i modelli di classificazione possono dare risultati migliori dei modelli precedentemente implementati. Di seguito sono implementati i seguenti algoritmi:\n",
    "- Alberi Decisionali\n",
    "- XGBClassifier\n",
    "- Support Vector Machine"
   ]
  },
  {
   "cell_type": "markdown",
   "id": "a296dc7e",
   "metadata": {},
   "source": [
    "### 4.2.1 - Alberi Decisionali"
   ]
  },
  {
   "cell_type": "code",
   "execution_count": 25,
   "id": "9d4984b5",
   "metadata": {},
   "outputs": [
    {
     "name": "stdout",
     "output_type": "stream",
     "text": [
      "Confusion Matrix : \n",
      "              isFraud     Honest \n",
      "   isFraud      33298          2 \n",
      "    Honest         31          3 \n",
      "\n",
      "PRECISION  :       0.6000\n",
      "RECALL     :       0.0882\n",
      "F1-MEASURE :       0.5767\n",
      "R^2        :       0.9990\n"
     ]
    }
   ],
   "source": [
    "from sklearn.tree import DecisionTreeClassifier\n",
    "from sklearn.tree import plot_tree\n",
    "\n",
    "model_dt = Pipeline([\n",
    "    (\"preproc\", preproc),\n",
    "    (\"DecisionTreeClassifier\", DecisionTreeClassifier(max_depth=5,random_state=43))\n",
    "])\n",
    "\n",
    "model_dt.fit(X_train, y_train)\n",
    "print_eval_classify(X_val, y_val, model_dt, classes)"
   ]
  },
  {
   "cell_type": "markdown",
   "id": "c2684557",
   "metadata": {},
   "source": [
    "Gli alberi decisionali funzionano tendenzialmente molto meglio di qualsiasi albero di regressione e hanno la fantastica caratteristica di essere semplici da capire (in gerco \"white box\") al contrario, ad esempio, di una rete neurale che si dice essere una \"black box\". Grazie al metodo *plot_tree* possiamo visualizzare l'albero graficamente ..."
   ]
  },
  {
   "cell_type": "code",
   "execution_count": 26,
   "id": "6b7b966c",
   "metadata": {},
   "outputs": [
    {
     "data": {
      "image/png": "[encoded data removed]",
      "text/plain": [
       "<Figure size 1584x432 with 1 Axes>"
      ]
     },
     "metadata": {
      "needs_background": "light"
     },
     "output_type": "display_data"
    }
   ],
   "source": [
    "plt.figure(figsize=(22, 6))\n",
    "plot_tree(model_dt.named_steps[\"DecisionTreeClassifier\"], max_depth=5, filled=True, fontsize=8);"
   ]
  },
  {
   "cell_type": "markdown",
   "id": "7552fc56",
   "metadata": {},
   "source": [
    "... e con il metodo *export_text* testualmente."
   ]
  },
  {
   "cell_type": "code",
   "execution_count": 27,
   "id": "8c5cb9e8",
   "metadata": {},
   "outputs": [
    {
     "name": "stdout",
     "output_type": "stream",
     "text": [
      "|--- amount <= 14.83\n",
      "|   |--- x0_TRANSFER <= 0.50\n",
      "|   |   |--- amount <= 2.68\n",
      "|   |   |   |--- amount <= 2.25\n",
      "|   |   |   |   |--- x0_CASH_OUT <= 0.50\n",
      "|   |   |   |   |   |--- class: 0\n",
      "|   |   |   |   |--- x0_CASH_OUT >  0.50\n",
      "|   |   |   |   |   |--- class: 0\n",
      "|   |   |   |--- amount >  2.25\n",
      "|   |   |   |   |--- amount <= 2.30\n",
      "|   |   |   |   |   |--- class: 1\n",
      "|   |   |   |   |--- amount >  2.30\n",
      "|   |   |   |   |   |--- class: 0\n",
      "|   |   |--- amount >  2.68\n",
      "|   |   |   |--- x0_CASH_OUT <= 0.50\n",
      "|   |   |   |   |--- class: 0\n",
      "|   |   |   |--- x0_CASH_OUT >  0.50\n",
      "|   |   |   |   |--- oldbalanceOrg <= -0.12\n",
      "|   |   |   |   |   |--- class: 0\n",
      "|   |   |   |   |--- oldbalanceOrg >  -0.12\n",
      "|   |   |   |   |   |--- class: 1\n",
      "|   |--- x0_TRANSFER >  0.50\n",
      "|   |   |--- amount <= -0.50\n",
      "|   |   |   |--- class: 1\n",
      "|   |   |--- amount >  -0.50\n",
      "|   |   |   |--- amount <= -0.42\n",
      "|   |   |   |   |--- oldbalanceOrg <= -0.33\n",
      "|   |   |   |   |   |--- class: 0\n",
      "|   |   |   |   |--- oldbalanceOrg >  -0.33\n",
      "|   |   |   |   |   |--- class: 0\n",
      "|   |   |   |--- amount >  -0.42\n",
      "|   |   |   |   |--- oldbalanceOrg <= -0.30\n",
      "|   |   |   |   |   |--- class: 0\n",
      "|   |   |   |   |--- oldbalanceOrg >  -0.30\n",
      "|   |   |   |   |   |--- class: 0\n",
      "|--- amount >  14.83\n",
      "|   |--- oldbalanceOrg <= 0.69\n",
      "|   |   |--- class: 0\n",
      "|   |--- oldbalanceOrg >  0.69\n",
      "|   |   |--- class: 1\n",
      "\n"
     ]
    }
   ],
   "source": [
    "from sklearn.tree import export_text\n",
    "print(export_text(model_dt.named_steps[\"DecisionTreeClassifier\"], feature_names=f_names))"
   ]
  },
  {
   "cell_type": "markdown",
   "id": "2834ecdd",
   "metadata": {},
   "source": [
    "### 4.2.2 - XGBClassifier"
   ]
  },
  {
   "cell_type": "code",
   "execution_count": 84,
   "id": "26e3f176",
   "metadata": {},
   "outputs": [
    {
     "name": "stdout",
     "output_type": "stream",
     "text": [
      "Confusion Matrix : \n",
      "              isFraud     Honest \n",
      "   isFraud      66609          8 \n",
      "    Honest         45          5 \n",
      "\n",
      "PRECISION  :       0.3846\n",
      "RECALL     :       0.1000\n",
      "F1-MEASURE :       0.5792\n",
      "R^2        :       0.9992\n"
     ]
    }
   ],
   "source": [
    "from xgboost import XGBClassifier \n",
    "\n",
    "model_xgb = Pipeline([\n",
    "    (\"preproc\", preproc),\n",
    "    (\"XGBClassifier\",\n",
    "         XGBClassifier(objective='reg:squarederror', \n",
    "                        learning_rate = 0.01577, \n",
    "                        reg_lambda=0.008, \n",
    "                        reg_alpha=0.0001, \n",
    "                        n_estimators=50,\n",
    "                        use_label_encoder = False, \n",
    "                        random_state=43))\n",
    "])\n",
    "\n",
    "model_xgb.fit(X_train, y_train.values.ravel())\n",
    "print_eval_classify(X_val, y_val, model_xgb, classes)"
   ]
  },
  {
   "cell_type": "markdown",
   "id": "81d120d9",
   "metadata": {},
   "source": [
    "### 4.2.3 - Support Vector Machines (SVM)"
   ]
  },
  {
   "cell_type": "code",
   "execution_count": 29,
   "id": "0d69b20c",
   "metadata": {},
   "outputs": [
    {
     "name": "stdout",
     "output_type": "stream",
     "text": [
      "R^2   :       0.9990\n"
     ]
    }
   ],
   "source": [
    "from sklearn.svm import SVC\n",
    "\n",
    "model = Pipeline([\n",
    "    (\"preproc\", preproc),\n",
    "    (\"SVM\", SVC(random_state=43, C=0.1, degree=3, random_state=43))\n",
    "])\n",
    "\n",
    "model.fit(X_train, y_train.values.ravel())\n",
    "#print_eval_classify(X_val, y_val, model, classes)\n",
    "print_eval_base(X_val, y_val, model)"
   ]
  },
  {
   "cell_type": "markdown",
   "id": "90a70ceb",
   "metadata": {},
   "source": [
    "## 4.3 - Neural Network"
   ]
  },
  {
   "cell_type": "markdown",
   "id": "a58fa22e",
   "metadata": {},
   "source": [
    "A scopo puramente didattico ho implementato anche una rete neurale per vedere se può risolvere anch'essa il problema di classificazione."
   ]
  },
  {
   "cell_type": "markdown",
   "id": "b2512430",
   "metadata": {},
   "source": [
    "Prima di procedere bisogna aver installato la libreria TensorFlow."
   ]
  },
  {
   "cell_type": "code",
   "execution_count": 27,
   "id": "6338f45b",
   "metadata": {},
   "outputs": [],
   "source": [
    "#%conda install TensorFlow"
   ]
  },
  {
   "cell_type": "code",
   "execution_count": null,
   "id": "671a1621",
   "metadata": {
    "scrolled": true
   },
   "outputs": [],
   "source": [
    "from tensorflow.keras.models import Sequential\n",
    "from tensorflow.keras.layers import Dense\n",
    "from tensorflow.keras.metrics import Precision\n",
    "from tensorflow.keras.metrics import Recall\n",
    "from sklearn.metrics import r2_score\n",
    "from tensorflow.keras.layers import Dropout\n",
    "\n",
    "X_train_nn = preproc.fit_transform(X_train)\n",
    "X_val_nn = preproc.transform(X_val)\n",
    "\n",
    "model_nn = Sequential([\n",
    "    Dense(32, activation=\"relu\", input_dim=len(f_names)),\n",
    "    Dense(8, activation=\"relu\"),\n",
    "    Dense(1)\n",
    "],random_state=43)\n",
    "model_nn.summary()\n",
    "model_nn.compile(optimizer=\"adam\", loss=\"mse\",  metrics=[\"accuracy\"])\n",
    "fit_history = model_nn.fit(X_train_nn, y_train, batch_size=100, epochs=10)"
   ]
  },
  {
   "cell_type": "code",
   "execution_count": 53,
   "id": "a3423a3f",
   "metadata": {},
   "outputs": [
    {
     "name": "stdout",
     "output_type": "stream",
     "text": [
      "2084/2084 [==============================] - 2s 1ms/step - loss: 7.0438e-04 - accuracy: 0.9993\n",
      "Loss (MSE) : 0.0007\n",
      "Accurancy  : 0.9993\n"
     ]
    }
   ],
   "source": [
    "loss, acc = model_nn.evaluate(X_val_nn, y_val)\n",
    "print(f\"Loss (MSE) : {loss:5.4f}\")\n",
    "print(f\"Accurancy  : {acc:5.4f}\")"
   ]
  },
  {
   "cell_type": "markdown",
   "id": "0d2aa43d",
   "metadata": {},
   "source": [
    "Vediamo, in due grafici separati, come varia la loss e l'accuracy in funzione dell'epoca."
   ]
  },
  {
   "cell_type": "code",
   "execution_count": 54,
   "id": "16926ffd",
   "metadata": {},
   "outputs": [
    {
     "data": {
      "image/png": "[encoded data removed]",
      "text/plain": [
       "<Figure size 432x288 with 1 Axes>"
      ]
     },
     "metadata": {
      "needs_background": "light"
     },
     "output_type": "display_data"
    }
   ],
   "source": [
    "plt.plot(fit_history.history[\"loss\"], \"ro-\")\n",
    "plt.legend([\"Loss (MSE)\"])\n",
    "plt.xlabel(\"Epochs\");\n",
    "plt.show();"
   ]
  },
  {
   "cell_type": "code",
   "execution_count": 57,
   "id": "163b3285",
   "metadata": {},
   "outputs": [
    {
     "data": {
      "image/png": "[encoded data removed]",
      "text/plain": [
       "<Figure size 432x288 with 1 Axes>"
      ]
     },
     "metadata": {
      "needs_background": "light"
     },
     "output_type": "display_data"
    }
   ],
   "source": [
    "plt.plot(fit_history.history[\"accuracy\"], \"bo-\")\n",
    "plt.legend([\"Accuracy\"])\n",
    "plt.xlabel(\"Epochs\");\n",
    "plt.show();"
   ]
  },
  {
   "cell_type": "markdown",
   "id": "517dde04",
   "metadata": {},
   "source": [
    "Con la classe di *scikit_learn*, *KerasRegressor*, possiamo usare le potenzialità di Kerar all'interno di una *Pipeline*. Questo ci permette, con qualche accorgimento, di utilizzare *GridSearchCV* e *KFold* per fare *fine-tuning* degli iperparametri di una rete neurali (i.e numero di nodi, batch size, epoche, ecc...)."
   ]
  },
  {
   "cell_type": "code",
   "execution_count": 32,
   "id": "9938bd9c",
   "metadata": {},
   "outputs": [],
   "source": [
    "def build_nn(firstLayerNodes, inpDim):\n",
    "    model = Sequential([\n",
    "        Dense(firstLayerNodes, activation=\"relu\", input_dim=len(f_names)),\n",
    "        Dense(8, activation=\"relu\"),\n",
    "        Dense(1)\n",
    "    ])\n",
    "    model.summary()\n",
    "    model.compile(optimizer=\"adam\", loss=\"mse\",  metrics=[\"accuracy\"])\n",
    "    return model"
   ]
  },
  {
   "cell_type": "code",
   "execution_count": 33,
   "id": "e3134f34",
   "metadata": {
    "scrolled": true
   },
   "outputs": [
    {
     "name": "stdout",
     "output_type": "stream",
     "text": [
      "Model: \"sequential_1\"\n",
      "_________________________________________________________________\n",
      " Layer (type)                Output Shape              Param #   \n",
      "=================================================================\n",
      " dense_3 (Dense)             (None, 8)                 72        \n",
      "                                                                 \n",
      " dense_4 (Dense)             (None, 8)                 72        \n",
      "                                                                 \n",
      " dense_5 (Dense)             (None, 1)                 9         \n",
      "                                                                 \n",
      "=================================================================\n",
      "Total params: 153\n",
      "Trainable params: 153\n",
      "Non-trainable params: 0\n",
      "_________________________________________________________________\n",
      "Epoch 1/10\n"
     ]
    },
    {
     "name": "stderr",
     "output_type": "stream",
     "text": [
      "C:\\Users\\Federico\\AppData\\Local\\Temp/ipykernel_6344/2291108071.py:8: DeprecationWarning: KerasRegressor is deprecated, use Sci-Keras (https://github.com/adriangb/scikeras) instead. See https://www.adriangb.com/scikeras/stable/migration.html for help migrating.\n",
      "  (\"KerasRegressor\", KerasRegressor(build_fn=build_nn,\n"
     ]
    },
    {
     "name": "stdout",
     "output_type": "stream",
     "text": [
      "445/445 [==============================] - 1s 1ms/step - loss: 0.0102 - accuracy: 0.9923\n",
      "Epoch 2/10\n",
      "445/445 [==============================] - 0s 1ms/step - loss: 0.0013 - accuracy: 0.9988\n",
      "Epoch 3/10\n",
      "445/445 [==============================] - 1s 1ms/step - loss: 0.0012 - accuracy: 0.9989\n",
      "Epoch 4/10\n",
      "445/445 [==============================] - 1s 1ms/step - loss: 0.0012 - accuracy: 0.9989\n",
      "Epoch 5/10\n",
      "445/445 [==============================] - 0s 1ms/step - loss: 0.0012 - accuracy: 0.9989\n",
      "Epoch 6/10\n",
      "445/445 [==============================] - 1s 1ms/step - loss: 0.0012 - accuracy: 0.9989\n",
      "Epoch 7/10\n",
      "445/445 [==============================] - 1s 1ms/step - loss: 0.0012 - accuracy: 0.9989\n",
      "Epoch 8/10\n",
      "445/445 [==============================] - 0s 1ms/step - loss: 0.0011 - accuracy: 0.9989\n",
      "Epoch 9/10\n",
      "445/445 [==============================] - 1s 1ms/step - loss: 0.0011 - accuracy: 0.9989\n",
      "Epoch 10/10\n",
      "445/445 [==============================] - 1s 1ms/step - loss: 0.0011 - accuracy: 0.9989\n",
      "223/223 [==============================] - 0s 1ms/step - loss: 0.0013 - accuracy: 0.9987\n",
      "Model: \"sequential_2\"\n",
      "_________________________________________________________________\n",
      " Layer (type)                Output Shape              Param #   \n",
      "=================================================================\n",
      " dense_6 (Dense)             (None, 8)                 72        \n",
      "                                                                 \n",
      " dense_7 (Dense)             (None, 8)                 72        \n",
      "                                                                 \n",
      " dense_8 (Dense)             (None, 1)                 9         \n",
      "                                                                 \n",
      "=================================================================\n",
      "Total params: 153\n",
      "Trainable params: 153\n",
      "Non-trainable params: 0\n",
      "_________________________________________________________________\n",
      "Epoch 1/10\n",
      "445/445 [==============================] - 1s 1ms/step - loss: 0.0241 - accuracy: 0.9989\n",
      "Epoch 2/10\n",
      "445/445 [==============================] - 1s 1ms/step - loss: 0.0019 - accuracy: 0.9989\n",
      "Epoch 3/10\n",
      "445/445 [==============================] - 0s 1ms/step - loss: 0.0014 - accuracy: 0.9989\n",
      "Epoch 4/10\n",
      "445/445 [==============================] - 0s 1ms/step - loss: 0.0013 - accuracy: 0.9989\n",
      "Epoch 5/10\n",
      "445/445 [==============================] - 1s 1ms/step - loss: 0.0012 - accuracy: 0.9989\n",
      "Epoch 6/10\n",
      "445/445 [==============================] - 1s 1ms/step - loss: 0.0012 - accuracy: 0.9989\n",
      "Epoch 7/10\n",
      "445/445 [==============================] - 1s 1ms/step - loss: 0.0012 - accuracy: 0.9989\n",
      "Epoch 8/10\n",
      "445/445 [==============================] - 0s 1ms/step - loss: 0.0012 - accuracy: 0.9989\n",
      "Epoch 9/10\n",
      "445/445 [==============================] - 1s 1ms/step - loss: 0.0012 - accuracy: 0.9989\n",
      "Epoch 10/10\n",
      "445/445 [==============================] - 1s 1ms/step - loss: 0.0012 - accuracy: 0.9989\n",
      "223/223 [==============================] - 0s 1ms/step - loss: 0.0014 - accuracy: 0.9986\n",
      "Model: \"sequential_3\"\n",
      "_________________________________________________________________\n",
      " Layer (type)                Output Shape              Param #   \n",
      "=================================================================\n",
      " dense_9 (Dense)             (None, 8)                 72        \n",
      "                                                                 \n",
      " dense_10 (Dense)            (None, 8)                 72        \n",
      "                                                                 \n",
      " dense_11 (Dense)            (None, 1)                 9         \n",
      "                                                                 \n",
      "=================================================================\n",
      "Total params: 153\n",
      "Trainable params: 153\n",
      "Non-trainable params: 0\n",
      "_________________________________________________________________\n",
      "Epoch 1/10\n",
      "445/445 [==============================] - 1s 1ms/step - loss: 0.0216 - accuracy: 0.9986\n",
      "Epoch 2/10\n",
      "445/445 [==============================] - 0s 1ms/step - loss: 0.0020 - accuracy: 0.9986\n",
      "Epoch 3/10\n",
      "445/445 [==============================] - 1s 1ms/step - loss: 0.0016 - accuracy: 0.9986\n",
      "Epoch 4/10\n",
      "445/445 [==============================] - 1s 1ms/step - loss: 0.0015 - accuracy: 0.9986\n",
      "Epoch 5/10\n",
      "445/445 [==============================] - 1s 1ms/step - loss: 0.0014 - accuracy: 0.9986\n",
      "Epoch 6/10\n",
      "445/445 [==============================] - 1s 1ms/step - loss: 0.0014 - accuracy: 0.9986\n",
      "Epoch 7/10\n",
      "445/445 [==============================] - 1s 1ms/step - loss: 0.0014 - accuracy: 0.9986\n",
      "Epoch 8/10\n",
      "445/445 [==============================] - 1s 1ms/step - loss: 0.0013 - accuracy: 0.9986\n",
      "Epoch 9/10\n",
      "445/445 [==============================] - 1s 1ms/step - loss: 0.0013 - accuracy: 0.9986\n",
      "Epoch 10/10\n",
      "445/445 [==============================] - 1s 1ms/step - loss: 0.0013 - accuracy: 0.9987\n",
      "223/223 [==============================] - 0s 1ms/step - loss: 9.3429e-04 - accuracy: 0.9991\n",
      "Model: \"sequential_4\"\n",
      "_________________________________________________________________\n",
      " Layer (type)                Output Shape              Param #   \n",
      "=================================================================\n",
      " dense_12 (Dense)            (None, 16)                144       \n",
      "                                                                 \n",
      " dense_13 (Dense)            (None, 8)                 136       \n",
      "                                                                 \n",
      " dense_14 (Dense)            (None, 1)                 9         \n",
      "                                                                 \n",
      "=================================================================\n",
      "Total params: 289\n",
      "Trainable params: 289\n",
      "Non-trainable params: 0\n",
      "_________________________________________________________________\n",
      "Epoch 1/10\n",
      "445/445 [==============================] - 1s 1ms/step - loss: 0.0039 - accuracy: 0.9967\n",
      "Epoch 2/10\n",
      "445/445 [==============================] - 1s 1ms/step - loss: 0.0012 - accuracy: 0.9989\n",
      "Epoch 3/10\n",
      "445/445 [==============================] - 0s 1ms/step - loss: 0.0012 - accuracy: 0.9989\n",
      "Epoch 4/10\n",
      "445/445 [==============================] - 1s 1ms/step - loss: 0.0011 - accuracy: 0.9989\n",
      "Epoch 5/10\n",
      "445/445 [==============================] - 0s 1ms/step - loss: 0.0011 - accuracy: 0.9989\n",
      "Epoch 6/10\n",
      "445/445 [==============================] - 0s 1ms/step - loss: 0.0011 - accuracy: 0.9989\n",
      "Epoch 7/10\n",
      "445/445 [==============================] - 0s 1ms/step - loss: 0.0011 - accuracy: 0.9989\n",
      "Epoch 8/10\n",
      "445/445 [==============================] - 1s 1ms/step - loss: 0.0011 - accuracy: 0.9989\n",
      "Epoch 9/10\n",
      "445/445 [==============================] - 0s 1ms/step - loss: 0.0011 - accuracy: 0.9989\n",
      "Epoch 10/10\n",
      "445/445 [==============================] - 0s 1ms/step - loss: 0.0011 - accuracy: 0.9989\n",
      "223/223 [==============================] - 0s 1ms/step - loss: 0.0013 - accuracy: 0.9987\n",
      "Model: \"sequential_5\"\n",
      "_________________________________________________________________\n",
      " Layer (type)                Output Shape              Param #   \n",
      "=================================================================\n",
      " dense_15 (Dense)            (None, 16)                144       \n",
      "                                                                 \n",
      " dense_16 (Dense)            (None, 8)                 136       \n",
      "                                                                 \n",
      " dense_17 (Dense)            (None, 1)                 9         \n",
      "                                                                 \n",
      "=================================================================\n",
      "Total params: 289\n",
      "Trainable params: 289\n",
      "Non-trainable params: 0\n",
      "_________________________________________________________________\n",
      "Epoch 1/10\n",
      "445/445 [==============================] - 1s 1ms/step - loss: 0.0026 - accuracy: 0.9985\n",
      "Epoch 2/10\n",
      "445/445 [==============================] - 1s 1ms/step - loss: 0.0012 - accuracy: 0.9988\n",
      "Epoch 3/10\n",
      "445/445 [==============================] - 1s 1ms/step - loss: 0.0012 - accuracy: 0.9989\n",
      "Epoch 4/10\n",
      "445/445 [==============================] - 0s 1ms/step - loss: 0.0011 - accuracy: 0.9989\n",
      "Epoch 5/10\n",
      "445/445 [==============================] - 1s 1ms/step - loss: 0.0011 - accuracy: 0.9989\n",
      "Epoch 6/10\n",
      "445/445 [==============================] - 1s 1ms/step - loss: 0.0011 - accuracy: 0.9989\n",
      "Epoch 7/10\n",
      "445/445 [==============================] - 0s 1ms/step - loss: 0.0011 - accuracy: 0.9989\n",
      "Epoch 8/10\n",
      "445/445 [==============================] - 0s 1ms/step - loss: 0.0011 - accuracy: 0.9989\n",
      "Epoch 9/10\n",
      "445/445 [==============================] - 1s 1ms/step - loss: 0.0011 - accuracy: 0.9989\n",
      "Epoch 10/10\n",
      "445/445 [==============================] - 1s 1ms/step - loss: 0.0011 - accuracy: 0.9989\n",
      "223/223 [==============================] - 0s 1ms/step - loss: 0.0014 - accuracy: 0.9987\n",
      "Model: \"sequential_6\"\n",
      "_________________________________________________________________\n",
      " Layer (type)                Output Shape              Param #   \n",
      "=================================================================\n",
      " dense_18 (Dense)            (None, 16)                144       \n",
      "                                                                 \n",
      " dense_19 (Dense)            (None, 8)                 136       \n",
      "                                                                 \n",
      " dense_20 (Dense)            (None, 1)                 9         \n",
      "                                                                 \n",
      "=================================================================\n",
      "Total params: 289\n",
      "Trainable params: 289\n",
      "Non-trainable params: 0\n",
      "_________________________________________________________________\n",
      "Epoch 1/10\n",
      "445/445 [==============================] - 1s 1ms/step - loss: 0.0300 - accuracy: 0.9986\n",
      "Epoch 2/10\n",
      "445/445 [==============================] - 0s 1ms/step - loss: 0.0014 - accuracy: 0.9986\n",
      "Epoch 3/10\n",
      "445/445 [==============================] - 1s 1ms/step - loss: 0.0014 - accuracy: 0.9986\n",
      "Epoch 4/10\n",
      "445/445 [==============================] - 1s 1ms/step - loss: 0.0014 - accuracy: 0.9986\n",
      "Epoch 5/10\n",
      "445/445 [==============================] - 1s 1ms/step - loss: 0.0013 - accuracy: 0.9987\n",
      "Epoch 6/10\n",
      "445/445 [==============================] - 0s 1ms/step - loss: 0.0013 - accuracy: 0.9987\n",
      "Epoch 7/10\n",
      "445/445 [==============================] - 1s 1ms/step - loss: 0.0013 - accuracy: 0.9987\n",
      "Epoch 8/10\n",
      "445/445 [==============================] - 0s 1ms/step - loss: 0.0013 - accuracy: 0.9987\n",
      "Epoch 9/10\n",
      "445/445 [==============================] - 1s 1ms/step - loss: 0.0013 - accuracy: 0.9987\n",
      "Epoch 10/10\n",
      "445/445 [==============================] - 1s 1ms/step - loss: 0.0013 - accuracy: 0.9987\n",
      "223/223 [==============================] - 0s 890us/step - loss: 9.3873e-04 - accuracy: 0.9991\n",
      "Model: \"sequential_7\"\n",
      "_________________________________________________________________\n",
      " Layer (type)                Output Shape              Param #   \n",
      "=================================================================\n",
      " dense_21 (Dense)            (None, 64)                576       \n",
      "                                                                 \n",
      " dense_22 (Dense)            (None, 8)                 520       \n",
      "                                                                 \n",
      " dense_23 (Dense)            (None, 1)                 9         \n",
      "                                                                 \n",
      "=================================================================\n",
      "Total params: 1,105\n",
      "Trainable params: 1,105\n",
      "Non-trainable params: 0\n",
      "_________________________________________________________________\n",
      "Epoch 1/10\n",
      "445/445 [==============================] - 1s 1ms/step - loss: 0.0014 - accuracy: 0.9988\n",
      "Epoch 2/10\n",
      "445/445 [==============================] - 1s 1ms/step - loss: 0.0012 - accuracy: 0.9989\n",
      "Epoch 3/10\n",
      "445/445 [==============================] - 1s 1ms/step - loss: 0.0011 - accuracy: 0.9989\n",
      "Epoch 4/10\n",
      "445/445 [==============================] - 1s 1ms/step - loss: 0.0011 - accuracy: 0.9989\n",
      "Epoch 5/10\n",
      "445/445 [==============================] - 1s 1ms/step - loss: 0.0011 - accuracy: 0.9989\n",
      "Epoch 6/10\n",
      "445/445 [==============================] - 1s 1ms/step - loss: 0.0011 - accuracy: 0.9989\n",
      "Epoch 7/10\n",
      "445/445 [==============================] - 1s 1ms/step - loss: 0.0011 - accuracy: 0.9989\n",
      "Epoch 8/10\n",
      "445/445 [==============================] - 1s 1ms/step - loss: 0.0011 - accuracy: 0.9989\n",
      "Epoch 9/10\n",
      "445/445 [==============================] - 1s 2ms/step - loss: 0.0011 - accuracy: 0.9989\n",
      "Epoch 10/10\n",
      "445/445 [==============================] - 1s 2ms/step - loss: 0.0011 - accuracy: 0.9989\n",
      "223/223 [==============================] - 0s 1ms/step - loss: 0.0013 - accuracy: 0.9987\n",
      "Model: \"sequential_8\"\n",
      "_________________________________________________________________\n",
      " Layer (type)                Output Shape              Param #   \n",
      "=================================================================\n",
      " dense_24 (Dense)            (None, 64)                576       \n",
      "                                                                 \n",
      " dense_25 (Dense)            (None, 8)                 520       \n",
      "                                                                 \n",
      " dense_26 (Dense)            (None, 1)                 9         \n",
      "                                                                 \n",
      "=================================================================\n",
      "Total params: 1,105\n",
      "Trainable params: 1,105\n",
      "Non-trainable params: 0\n",
      "_________________________________________________________________\n",
      "Epoch 1/10\n",
      "445/445 [==============================] - 1s 2ms/step - loss: 0.0023 - accuracy: 0.9984\n",
      "Epoch 2/10\n",
      "445/445 [==============================] - 1s 2ms/step - loss: 0.0012 - accuracy: 0.9989\n",
      "Epoch 3/10\n",
      "445/445 [==============================] - 1s 2ms/step - loss: 0.0011 - accuracy: 0.9989\n",
      "Epoch 4/10\n",
      "445/445 [==============================] - 1s 2ms/step - loss: 0.0011 - accuracy: 0.9989\n",
      "Epoch 5/10\n",
      "445/445 [==============================] - 1s 2ms/step - loss: 0.0011 - accuracy: 0.9989\n",
      "Epoch 6/10\n",
      "445/445 [==============================] - 1s 2ms/step - loss: 0.0011 - accuracy: 0.9989\n",
      "Epoch 7/10\n",
      "445/445 [==============================] - 1s 2ms/step - loss: 0.0011 - accuracy: 0.9989\n",
      "Epoch 8/10\n",
      "445/445 [==============================] - 1s 2ms/step - loss: 0.0011 - accuracy: 0.9989\n",
      "Epoch 9/10\n",
      "445/445 [==============================] - 1s 2ms/step - loss: 0.0011 - accuracy: 0.9989\n",
      "Epoch 10/10\n",
      "445/445 [==============================] - 1s 2ms/step - loss: 0.0011 - accuracy: 0.9989\n",
      "223/223 [==============================] - 0s 1ms/step - loss: 0.0013 - accuracy: 0.9987\n",
      "Model: \"sequential_9\"\n",
      "_________________________________________________________________\n",
      " Layer (type)                Output Shape              Param #   \n",
      "=================================================================\n",
      " dense_27 (Dense)            (None, 64)                576       \n",
      "                                                                 \n",
      " dense_28 (Dense)            (None, 8)                 520       \n",
      "                                                                 \n",
      " dense_29 (Dense)            (None, 1)                 9         \n",
      "                                                                 \n",
      "=================================================================\n",
      "Total params: 1,105\n",
      "Trainable params: 1,105\n",
      "Non-trainable params: 0\n",
      "_________________________________________________________________\n",
      "Epoch 1/10\n",
      "445/445 [==============================] - 1s 1ms/step - loss: 0.0016 - accuracy: 0.9986\n",
      "Epoch 2/10\n",
      "445/445 [==============================] - 1s 2ms/step - loss: 0.0014 - accuracy: 0.9986\n",
      "Epoch 3/10\n",
      "445/445 [==============================] - 1s 2ms/step - loss: 0.0014 - accuracy: 0.9986\n",
      "Epoch 4/10\n",
      "445/445 [==============================] - 1s 1ms/step - loss: 0.0014 - accuracy: 0.9986\n",
      "Epoch 5/10\n",
      "445/445 [==============================] - 1s 2ms/step - loss: 0.0014 - accuracy: 0.9986\n",
      "Epoch 6/10\n",
      "445/445 [==============================] - 1s 2ms/step - loss: 0.0014 - accuracy: 0.9986\n",
      "Epoch 7/10\n",
      "445/445 [==============================] - 1s 2ms/step - loss: 0.0014 - accuracy: 0.9986\n",
      "Epoch 8/10\n",
      "445/445 [==============================] - 1s 2ms/step - loss: 0.0014 - accuracy: 0.9986\n",
      "Epoch 9/10\n",
      "445/445 [==============================] - 1s 2ms/step - loss: 0.0014 - accuracy: 0.9986\n",
      "Epoch 10/10\n",
      "445/445 [==============================] - 1s 2ms/step - loss: 0.0014 - accuracy: 0.9986\n"
     ]
    },
    {
     "name": "stdout",
     "output_type": "stream",
     "text": [
      "223/223 [==============================] - 0s 1ms/step - loss: 9.3613e-04 - accuracy: 0.9991\n",
      "Model: \"sequential_10\"\n",
      "_________________________________________________________________\n",
      " Layer (type)                Output Shape              Param #   \n",
      "=================================================================\n",
      " dense_30 (Dense)            (None, 128)               1152      \n",
      "                                                                 \n",
      " dense_31 (Dense)            (None, 8)                 1032      \n",
      "                                                                 \n",
      " dense_32 (Dense)            (None, 1)                 9         \n",
      "                                                                 \n",
      "=================================================================\n",
      "Total params: 2,193\n",
      "Trainable params: 2,193\n",
      "Non-trainable params: 0\n",
      "_________________________________________________________________\n",
      "Epoch 1/10\n",
      "445/445 [==============================] - 1s 2ms/step - loss: 0.0019 - accuracy: 0.9988\n",
      "Epoch 2/10\n",
      "445/445 [==============================] - 1s 2ms/step - loss: 0.0012 - accuracy: 0.9988\n",
      "Epoch 3/10\n",
      "445/445 [==============================] - 1s 2ms/step - loss: 0.0012 - accuracy: 0.9988\n",
      "Epoch 4/10\n",
      "445/445 [==============================] - 1s 2ms/step - loss: 0.0012 - accuracy: 0.9988\n",
      "Epoch 5/10\n",
      "445/445 [==============================] - 1s 2ms/step - loss: 0.0012 - accuracy: 0.9988\n",
      "Epoch 6/10\n",
      "445/445 [==============================] - 1s 2ms/step - loss: 0.0012 - accuracy: 0.9988\n",
      "Epoch 7/10\n",
      "445/445 [==============================] - 1s 2ms/step - loss: 0.0012 - accuracy: 0.9988\n",
      "Epoch 8/10\n",
      "445/445 [==============================] - 1s 3ms/step - loss: 0.0012 - accuracy: 0.9988\n",
      "Epoch 9/10\n",
      "445/445 [==============================] - 1s 2ms/step - loss: 0.0012 - accuracy: 0.9988\n",
      "Epoch 10/10\n",
      "445/445 [==============================] - 1s 2ms/step - loss: 0.0012 - accuracy: 0.9988\n",
      "223/223 [==============================] - 0s 1ms/step - loss: 0.0013 - accuracy: 0.9987\n",
      "Model: \"sequential_11\"\n",
      "_________________________________________________________________\n",
      " Layer (type)                Output Shape              Param #   \n",
      "=================================================================\n",
      " dense_33 (Dense)            (None, 128)               1152      \n",
      "                                                                 \n",
      " dense_34 (Dense)            (None, 8)                 1032      \n",
      "                                                                 \n",
      " dense_35 (Dense)            (None, 1)                 9         \n",
      "                                                                 \n",
      "=================================================================\n",
      "Total params: 2,193\n",
      "Trainable params: 2,193\n",
      "Non-trainable params: 0\n",
      "_________________________________________________________________\n",
      "Epoch 1/10\n",
      "445/445 [==============================] - 1s 2ms/step - loss: 0.0013 - accuracy: 0.9988\n",
      "Epoch 2/10\n",
      "445/445 [==============================] - 1s 2ms/step - loss: 0.0012 - accuracy: 0.9989\n",
      "Epoch 3/10\n",
      "445/445 [==============================] - 1s 2ms/step - loss: 0.0012 - accuracy: 0.9989\n",
      "Epoch 4/10\n",
      "445/445 [==============================] - 1s 2ms/step - loss: 0.0012 - accuracy: 0.9989\n",
      "Epoch 5/10\n",
      "445/445 [==============================] - 1s 2ms/step - loss: 0.0012 - accuracy: 0.9989\n",
      "Epoch 6/10\n",
      "445/445 [==============================] - 1s 3ms/step - loss: 0.0011 - accuracy: 0.9989\n",
      "Epoch 7/10\n",
      "445/445 [==============================] - 1s 3ms/step - loss: 0.0012 - accuracy: 0.9989\n",
      "Epoch 8/10\n",
      "445/445 [==============================] - 1s 2ms/step - loss: 0.0011 - accuracy: 0.9989\n",
      "Epoch 9/10\n",
      "445/445 [==============================] - 1s 3ms/step - loss: 0.0011 - accuracy: 0.9989\n",
      "Epoch 10/10\n",
      "445/445 [==============================] - 1s 3ms/step - loss: 0.0011 - accuracy: 0.9989\n",
      "223/223 [==============================] - 0s 1ms/step - loss: 0.0014 - accuracy: 0.9987\n",
      "Model: \"sequential_12\"\n",
      "_________________________________________________________________\n",
      " Layer (type)                Output Shape              Param #   \n",
      "=================================================================\n",
      " dense_36 (Dense)            (None, 128)               1152      \n",
      "                                                                 \n",
      " dense_37 (Dense)            (None, 8)                 1032      \n",
      "                                                                 \n",
      " dense_38 (Dense)            (None, 1)                 9         \n",
      "                                                                 \n",
      "=================================================================\n",
      "Total params: 2,193\n",
      "Trainable params: 2,193\n",
      "Non-trainable params: 0\n",
      "_________________________________________________________________\n",
      "Epoch 1/10\n",
      "445/445 [==============================] - 1s 2ms/step - loss: 0.0014 - accuracy: 0.9987\n",
      "Epoch 2/10\n",
      "445/445 [==============================] - 1s 2ms/step - loss: 0.0013 - accuracy: 0.9987\n",
      "Epoch 3/10\n",
      "445/445 [==============================] - 1s 2ms/step - loss: 0.0014 - accuracy: 0.9986\n",
      "Epoch 4/10\n",
      "445/445 [==============================] - 1s 2ms/step - loss: 0.0014 - accuracy: 0.9986\n",
      "Epoch 5/10\n",
      "445/445 [==============================] - 1s 2ms/step - loss: 0.0014 - accuracy: 0.9986\n",
      "Epoch 6/10\n",
      "445/445 [==============================] - 1s 3ms/step - loss: 0.0014 - accuracy: 0.9986\n",
      "Epoch 7/10\n",
      "445/445 [==============================] - 1s 2ms/step - loss: 0.0014 - accuracy: 0.9986\n",
      "Epoch 8/10\n",
      "445/445 [==============================] - 1s 2ms/step - loss: 0.0014 - accuracy: 0.9986\n",
      "Epoch 9/10\n",
      "445/445 [==============================] - 1s 3ms/step - loss: 0.0014 - accuracy: 0.9986\n",
      "Epoch 10/10\n",
      "445/445 [==============================] - 1s 3ms/step - loss: 0.0014 - accuracy: 0.9986\n",
      "223/223 [==============================] - 0s 1ms/step - loss: 9.3987e-04 - accuracy: 0.9991\n",
      "Model: \"sequential_13\"\n",
      "_________________________________________________________________\n",
      " Layer (type)                Output Shape              Param #   \n",
      "=================================================================\n",
      " dense_39 (Dense)            (None, 64)                576       \n",
      "                                                                 \n",
      " dense_40 (Dense)            (None, 8)                 520       \n",
      "                                                                 \n",
      " dense_41 (Dense)            (None, 1)                 9         \n",
      "                                                                 \n",
      "=================================================================\n",
      "Total params: 1,105\n",
      "Trainable params: 1,105\n",
      "Non-trainable params: 0\n",
      "_________________________________________________________________\n",
      "Epoch 1/10\n",
      "667/667 [==============================] - 1s 1ms/step - loss: 0.0027 - accuracy: 0.9980\n",
      "Epoch 2/10\n",
      "667/667 [==============================] - 1s 2ms/step - loss: 0.0012 - accuracy: 0.9988\n",
      "Epoch 3/10\n",
      "667/667 [==============================] - 1s 1ms/step - loss: 0.0012 - accuracy: 0.9988\n",
      "Epoch 4/10\n",
      "667/667 [==============================] - 1s 2ms/step - loss: 0.0012 - accuracy: 0.9988\n",
      "Epoch 5/10\n",
      "667/667 [==============================] - 1s 2ms/step - loss: 0.0012 - accuracy: 0.9988\n",
      "Epoch 6/10\n",
      "667/667 [==============================] - 1s 2ms/step - loss: 0.0012 - accuracy: 0.9988\n",
      "Epoch 7/10\n",
      "667/667 [==============================] - 1s 2ms/step - loss: 0.0012 - accuracy: 0.9988\n",
      "Epoch 8/10\n",
      "667/667 [==============================] - 1s 1ms/step - loss: 0.0012 - accuracy: 0.9988\n",
      "Epoch 9/10\n",
      "667/667 [==============================] - 1s 2ms/step - loss: 0.0012 - accuracy: 0.9988\n",
      "Epoch 10/10\n",
      "667/667 [==============================] - 1s 1ms/step - loss: 0.0012 - accuracy: 0.9988\n"
     ]
    }
   ],
   "source": [
    "from tensorflow.keras.wrappers.scikit_learn import KerasRegressor\n",
    "from sklearn.model_selection import GridSearchCV, KFold\n",
    "\n",
    "kf = KFold(3, shuffle=True, random_state=42)\n",
    "\n",
    "model = Pipeline([\n",
    "    (\"preproc\", preproc),\n",
    "    (\"KerasRegressor\", KerasRegressor(build_fn=build_nn,\n",
    "                                      random_state=43,\n",
    "                                      batch_size=100, \n",
    "                                      epochs=10,\n",
    "                                      firstLayerNodes=128, \n",
    "                                      inpDim=len(f_names),\n",
    "                                     )\n",
    "    )\n",
    "])\n",
    "\n",
    "grid = {\n",
    "    \"KerasRegressor__firstLayerNodes\": [8, 16, 64, 128]\n",
    "}\n",
    "\n",
    "gs = GridSearchCV(model, grid, cv=kf)\n",
    "gs.fit(X_train, y_train);"
   ]
  },
  {
   "cell_type": "code",
   "execution_count": 34,
   "id": "98cd146c",
   "metadata": {},
   "outputs": [
    {
     "data": {
      "text/html": [
       "<div>\n",
       "<style scoped>\n",
       "    .dataframe tbody tr th:only-of-type {\n",
       "        vertical-align: middle;\n",
       "    }\n",
       "\n",
       "    .dataframe tbody tr th {\n",
       "        vertical-align: top;\n",
       "    }\n",
       "\n",
       "    .dataframe thead th {\n",
       "        text-align: right;\n",
       "    }\n",
       "</style>\n",
       "<table border=\"1\" class=\"dataframe\">\n",
       "  <thead>\n",
       "    <tr style=\"text-align: right;\">\n",
       "      <th></th>\n",
       "      <th>mean_fit_time</th>\n",
       "      <th>std_fit_time</th>\n",
       "      <th>mean_score_time</th>\n",
       "      <th>std_score_time</th>\n",
       "      <th>param_KerasRegressor__firstLayerNodes</th>\n",
       "      <th>params</th>\n",
       "      <th>split0_test_score</th>\n",
       "      <th>split1_test_score</th>\n",
       "      <th>split2_test_score</th>\n",
       "      <th>mean_test_score</th>\n",
       "      <th>std_test_score</th>\n",
       "      <th>rank_test_score</th>\n",
       "    </tr>\n",
       "  </thead>\n",
       "  <tbody>\n",
       "    <tr>\n",
       "      <th>2</th>\n",
       "      <td>7.388350</td>\n",
       "      <td>0.685968</td>\n",
       "      <td>0.371902</td>\n",
       "      <td>0.023568</td>\n",
       "      <td>64</td>\n",
       "      <td>{'KerasRegressor__firstLayerNodes': 64}</td>\n",
       "      <td>-0.001262</td>\n",
       "      <td>-0.001349</td>\n",
       "      <td>-0.000936</td>\n",
       "      <td>-0.001182</td>\n",
       "      <td>0.000178</td>\n",
       "      <td>1</td>\n",
       "    </tr>\n",
       "    <tr>\n",
       "      <th>1</th>\n",
       "      <td>5.417880</td>\n",
       "      <td>0.047541</td>\n",
       "      <td>0.327044</td>\n",
       "      <td>0.014063</td>\n",
       "      <td>16</td>\n",
       "      <td>{'KerasRegressor__firstLayerNodes': 16}</td>\n",
       "      <td>-0.001269</td>\n",
       "      <td>-0.001358</td>\n",
       "      <td>-0.000939</td>\n",
       "      <td>-0.001188</td>\n",
       "      <td>0.000180</td>\n",
       "      <td>2</td>\n",
       "    </tr>\n",
       "    <tr>\n",
       "      <th>0</th>\n",
       "      <td>5.470203</td>\n",
       "      <td>0.056767</td>\n",
       "      <td>0.373262</td>\n",
       "      <td>0.011878</td>\n",
       "      <td>8</td>\n",
       "      <td>{'KerasRegressor__firstLayerNodes': 8}</td>\n",
       "      <td>-0.001257</td>\n",
       "      <td>-0.001378</td>\n",
       "      <td>-0.000934</td>\n",
       "      <td>-0.001189</td>\n",
       "      <td>0.000187</td>\n",
       "      <td>3</td>\n",
       "    </tr>\n",
       "    <tr>\n",
       "      <th>3</th>\n",
       "      <td>10.812076</td>\n",
       "      <td>0.239913</td>\n",
       "      <td>0.368791</td>\n",
       "      <td>0.009868</td>\n",
       "      <td>128</td>\n",
       "      <td>{'KerasRegressor__firstLayerNodes': 128}</td>\n",
       "      <td>-0.001336</td>\n",
       "      <td>-0.001370</td>\n",
       "      <td>-0.000940</td>\n",
       "      <td>-0.001215</td>\n",
       "      <td>0.000195</td>\n",
       "      <td>4</td>\n",
       "    </tr>\n",
       "  </tbody>\n",
       "</table>\n",
       "</div>"
      ],
      "text/plain": [
       "   mean_fit_time  std_fit_time  mean_score_time  std_score_time  \\\n",
       "2       7.388350      0.685968         0.371902        0.023568   \n",
       "1       5.417880      0.047541         0.327044        0.014063   \n",
       "0       5.470203      0.056767         0.373262        0.011878   \n",
       "3      10.812076      0.239913         0.368791        0.009868   \n",
       "\n",
       "  param_KerasRegressor__firstLayerNodes  \\\n",
       "2                                    64   \n",
       "1                                    16   \n",
       "0                                     8   \n",
       "3                                   128   \n",
       "\n",
       "                                     params  split0_test_score  \\\n",
       "2   {'KerasRegressor__firstLayerNodes': 64}          -0.001262   \n",
       "1   {'KerasRegressor__firstLayerNodes': 16}          -0.001269   \n",
       "0    {'KerasRegressor__firstLayerNodes': 8}          -0.001257   \n",
       "3  {'KerasRegressor__firstLayerNodes': 128}          -0.001336   \n",
       "\n",
       "   split1_test_score  split2_test_score  mean_test_score  std_test_score  \\\n",
       "2          -0.001349          -0.000936        -0.001182        0.000178   \n",
       "1          -0.001358          -0.000939        -0.001188        0.000180   \n",
       "0          -0.001378          -0.000934        -0.001189        0.000187   \n",
       "3          -0.001370          -0.000940        -0.001215        0.000195   \n",
       "\n",
       "   rank_test_score  \n",
       "2                1  \n",
       "1                2  \n",
       "0                3  \n",
       "3                4  "
      ]
     },
     "execution_count": 34,
     "metadata": {},
     "output_type": "execute_result"
    }
   ],
   "source": [
    "pd.DataFrame(gs.cv_results_).sort_values(\"rank_test_score\")"
   ]
  },
  {
   "cell_type": "markdown",
   "id": "ab5f2193",
   "metadata": {},
   "source": [
    "## 5 - Tuning degli Iperparametri"
   ]
  },
  {
   "cell_type": "markdown",
   "id": "33ff65b3",
   "metadata": {},
   "source": [
    "Per questa parte utilizziamo una porzione più ampia del datataset e andremo a suddividerlo in 3 parti e le useremo nel seguente modo :\n",
    "   - Training Set : Per addestrare i modelli.\n",
    "   - Validation Set : Per vericare l'accuratteza dei modelli su dati mai visti in fase di training.\n",
    "   - Test Set : Per calcolare la confidenza."
   ]
  },
  {
   "cell_type": "code",
   "execution_count": 30,
   "id": "6b28cd10",
   "metadata": {},
   "outputs": [],
   "source": [
    "from sklearn.model_selection import GridSearchCV, KFold\n",
    "kf = KFold(3, shuffle=True, random_state=42)\n",
    "\n",
    "transactions = pd.read_csv(\"../data/data.csv\", nrows=200_000)\n",
    "X = transactions[feature_list]\n",
    "y = transactions[[\"isFraud\"]]\n",
    "\n",
    "X_train, X_val, y_train, y_val = train_test_split(X, y, test_size=1/3, random_state=42)\n",
    "X_train, X_test, y_train, y_test = train_test_split(X_train, y_train, test_size=1/3, random_state=42)"
   ]
  },
  {
   "cell_type": "markdown",
   "id": "1ec12d65",
   "metadata": {},
   "source": [
    "I modelli che meglio si sono comportati per risolvere questo problema sono stati i modelli di classificazione. Tra tutti i modelli implementati ottimizziamo i seguenti: \n",
    " - Logistic Regression\n",
    " - Alberi Decisionali\n",
    " - XGBClassifier"
   ]
  },
  {
   "cell_type": "code",
   "execution_count": 31,
   "id": "de64d883",
   "metadata": {},
   "outputs": [
    {
     "data": {
      "text/html": [
       "<div>\n",
       "<style scoped>\n",
       "    .dataframe tbody tr th:only-of-type {\n",
       "        vertical-align: middle;\n",
       "    }\n",
       "\n",
       "    .dataframe tbody tr th {\n",
       "        vertical-align: top;\n",
       "    }\n",
       "\n",
       "    .dataframe thead th {\n",
       "        text-align: right;\n",
       "    }\n",
       "</style>\n",
       "<table border=\"1\" class=\"dataframe\">\n",
       "  <thead>\n",
       "    <tr style=\"text-align: right;\">\n",
       "      <th></th>\n",
       "      <th>mean_fit_time</th>\n",
       "      <th>std_fit_time</th>\n",
       "      <th>mean_score_time</th>\n",
       "      <th>std_score_time</th>\n",
       "      <th>param_LogisticRegression__penalty</th>\n",
       "      <th>params</th>\n",
       "      <th>split0_test_score</th>\n",
       "      <th>split1_test_score</th>\n",
       "      <th>split2_test_score</th>\n",
       "      <th>mean_test_score</th>\n",
       "      <th>std_test_score</th>\n",
       "      <th>rank_test_score</th>\n",
       "    </tr>\n",
       "  </thead>\n",
       "  <tbody>\n",
       "    <tr>\n",
       "      <th>1</th>\n",
       "      <td>6.833277</td>\n",
       "      <td>1.308793</td>\n",
       "      <td>0.012317</td>\n",
       "      <td>0.001869</td>\n",
       "      <td>l2</td>\n",
       "      <td>{'LogisticRegression__penalty': 'l2'}</td>\n",
       "      <td>0.998076</td>\n",
       "      <td>0.999190</td>\n",
       "      <td>0.998785</td>\n",
       "      <td>0.998684</td>\n",
       "      <td>0.000460</td>\n",
       "      <td>1</td>\n",
       "    </tr>\n",
       "    <tr>\n",
       "      <th>0</th>\n",
       "      <td>45.728422</td>\n",
       "      <td>2.669660</td>\n",
       "      <td>0.011305</td>\n",
       "      <td>0.000471</td>\n",
       "      <td>l1</td>\n",
       "      <td>{'LogisticRegression__penalty': 'l1'}</td>\n",
       "      <td>0.995680</td>\n",
       "      <td>0.996389</td>\n",
       "      <td>0.996929</td>\n",
       "      <td>0.996332</td>\n",
       "      <td>0.000511</td>\n",
       "      <td>2</td>\n",
       "    </tr>\n",
       "  </tbody>\n",
       "</table>\n",
       "</div>"
      ],
      "text/plain": [
       "   mean_fit_time  std_fit_time  mean_score_time  std_score_time  \\\n",
       "1       6.833277      1.308793         0.012317        0.001869   \n",
       "0      45.728422      2.669660         0.011305        0.000471   \n",
       "\n",
       "  param_LogisticRegression__penalty                                 params  \\\n",
       "1                                l2  {'LogisticRegression__penalty': 'l2'}   \n",
       "0                                l1  {'LogisticRegression__penalty': 'l1'}   \n",
       "\n",
       "   split0_test_score  split1_test_score  split2_test_score  mean_test_score  \\\n",
       "1           0.998076           0.999190           0.998785         0.998684   \n",
       "0           0.995680           0.996389           0.996929         0.996332   \n",
       "\n",
       "   std_test_score  rank_test_score  \n",
       "1        0.000460                1  \n",
       "0        0.000511                2  "
      ]
     },
     "execution_count": 31,
     "metadata": {},
     "output_type": "execute_result"
    }
   ],
   "source": [
    "grid = {\n",
    "    \"LogisticRegression__penalty\": ['l1','l2']\n",
    "}\n",
    "gs = GridSearchCV(model_lr, grid, cv=kf)\n",
    "gs.fit(X_train, y_train.values.ravel())\n",
    "pd.DataFrame(gs.cv_results_).sort_values(\"rank_test_score\").head(5)"
   ]
  },
  {
   "cell_type": "code",
   "execution_count": 76,
   "id": "34d0ec6a",
   "metadata": {
    "scrolled": true
   },
   "outputs": [
    {
     "data": {
      "text/html": [
       "<div>\n",
       "<style scoped>\n",
       "    .dataframe tbody tr th:only-of-type {\n",
       "        vertical-align: middle;\n",
       "    }\n",
       "\n",
       "    .dataframe tbody tr th {\n",
       "        vertical-align: top;\n",
       "    }\n",
       "\n",
       "    .dataframe thead th {\n",
       "        text-align: right;\n",
       "    }\n",
       "</style>\n",
       "<table border=\"1\" class=\"dataframe\">\n",
       "  <thead>\n",
       "    <tr style=\"text-align: right;\">\n",
       "      <th></th>\n",
       "      <th>mean_fit_time</th>\n",
       "      <th>std_fit_time</th>\n",
       "      <th>mean_score_time</th>\n",
       "      <th>std_score_time</th>\n",
       "      <th>param_DecisionTreeClassifier__max_depth</th>\n",
       "      <th>params</th>\n",
       "      <th>split0_test_score</th>\n",
       "      <th>split1_test_score</th>\n",
       "      <th>split2_test_score</th>\n",
       "      <th>mean_test_score</th>\n",
       "      <th>std_test_score</th>\n",
       "      <th>rank_test_score</th>\n",
       "    </tr>\n",
       "  </thead>\n",
       "  <tbody>\n",
       "    <tr>\n",
       "      <th>0</th>\n",
       "      <td>0.099540</td>\n",
       "      <td>0.011363</td>\n",
       "      <td>0.069481</td>\n",
       "      <td>8.063099e-02</td>\n",
       "      <td>5</td>\n",
       "      <td>{'DecisionTreeClassifier__max_depth': 5}</td>\n",
       "      <td>0.999393</td>\n",
       "      <td>0.999089</td>\n",
       "      <td>0.999392</td>\n",
       "      <td>0.999291</td>\n",
       "      <td>0.000143</td>\n",
       "      <td>1</td>\n",
       "    </tr>\n",
       "    <tr>\n",
       "      <th>1</th>\n",
       "      <td>0.110704</td>\n",
       "      <td>0.016529</td>\n",
       "      <td>0.011968</td>\n",
       "      <td>1.123916e-07</td>\n",
       "      <td>10</td>\n",
       "      <td>{'DecisionTreeClassifier__max_depth': 10}</td>\n",
       "      <td>0.999224</td>\n",
       "      <td>0.999021</td>\n",
       "      <td>0.999392</td>\n",
       "      <td>0.999212</td>\n",
       "      <td>0.000152</td>\n",
       "      <td>2</td>\n",
       "    </tr>\n",
       "    <tr>\n",
       "      <th>2</th>\n",
       "      <td>0.112366</td>\n",
       "      <td>0.017698</td>\n",
       "      <td>0.011968</td>\n",
       "      <td>2.973602e-07</td>\n",
       "      <td>20</td>\n",
       "      <td>{'DecisionTreeClassifier__max_depth': 20}</td>\n",
       "      <td>0.999224</td>\n",
       "      <td>0.999055</td>\n",
       "      <td>0.999190</td>\n",
       "      <td>0.999156</td>\n",
       "      <td>0.000073</td>\n",
       "      <td>3</td>\n",
       "    </tr>\n",
       "    <tr>\n",
       "      <th>3</th>\n",
       "      <td>0.112033</td>\n",
       "      <td>0.017262</td>\n",
       "      <td>0.011968</td>\n",
       "      <td>3.371748e-07</td>\n",
       "      <td>None</td>\n",
       "      <td>{'DecisionTreeClassifier__max_depth': None}</td>\n",
       "      <td>0.999224</td>\n",
       "      <td>0.999055</td>\n",
       "      <td>0.999190</td>\n",
       "      <td>0.999156</td>\n",
       "      <td>0.000073</td>\n",
       "      <td>3</td>\n",
       "    </tr>\n",
       "  </tbody>\n",
       "</table>\n",
       "</div>"
      ],
      "text/plain": [
       "   mean_fit_time  std_fit_time  mean_score_time  std_score_time  \\\n",
       "0       0.099540      0.011363         0.069481    8.063099e-02   \n",
       "1       0.110704      0.016529         0.011968    1.123916e-07   \n",
       "2       0.112366      0.017698         0.011968    2.973602e-07   \n",
       "3       0.112033      0.017262         0.011968    3.371748e-07   \n",
       "\n",
       "  param_DecisionTreeClassifier__max_depth  \\\n",
       "0                                       5   \n",
       "1                                      10   \n",
       "2                                      20   \n",
       "3                                    None   \n",
       "\n",
       "                                        params  split0_test_score  \\\n",
       "0     {'DecisionTreeClassifier__max_depth': 5}           0.999393   \n",
       "1    {'DecisionTreeClassifier__max_depth': 10}           0.999224   \n",
       "2    {'DecisionTreeClassifier__max_depth': 20}           0.999224   \n",
       "3  {'DecisionTreeClassifier__max_depth': None}           0.999224   \n",
       "\n",
       "   split1_test_score  split2_test_score  mean_test_score  std_test_score  \\\n",
       "0           0.999089           0.999392         0.999291        0.000143   \n",
       "1           0.999021           0.999392         0.999212        0.000152   \n",
       "2           0.999055           0.999190         0.999156        0.000073   \n",
       "3           0.999055           0.999190         0.999156        0.000073   \n",
       "\n",
       "   rank_test_score  \n",
       "0                1  \n",
       "1                2  \n",
       "2                3  \n",
       "3                3  "
      ]
     },
     "execution_count": 76,
     "metadata": {},
     "output_type": "execute_result"
    }
   ],
   "source": [
    "grid = {\n",
    "    \"DecisionTreeClassifier__max_depth\": [5, 10, 20, None]\n",
    "}\n",
    "gs = GridSearchCV(model_dt, grid, cv=kf)\n",
    "gs.fit(X_train, y_train)\n",
    "pd.DataFrame(gs.cv_results_).sort_values(\"rank_test_score\").head(5)"
   ]
  },
  {
   "cell_type": "code",
   "execution_count": 85,
   "id": "6d8bca5a",
   "metadata": {},
   "outputs": [
    {
     "data": {
      "text/html": [
       "<div>\n",
       "<style scoped>\n",
       "    .dataframe tbody tr th:only-of-type {\n",
       "        vertical-align: middle;\n",
       "    }\n",
       "\n",
       "    .dataframe tbody tr th {\n",
       "        vertical-align: top;\n",
       "    }\n",
       "\n",
       "    .dataframe thead th {\n",
       "        text-align: right;\n",
       "    }\n",
       "</style>\n",
       "<table border=\"1\" class=\"dataframe\">\n",
       "  <thead>\n",
       "    <tr style=\"text-align: right;\">\n",
       "      <th></th>\n",
       "      <th>mean_fit_time</th>\n",
       "      <th>std_fit_time</th>\n",
       "      <th>mean_score_time</th>\n",
       "      <th>std_score_time</th>\n",
       "      <th>param_XGBClassifier__reg_alpha</th>\n",
       "      <th>param_XGBClassifier__reg_lambda</th>\n",
       "      <th>params</th>\n",
       "      <th>split0_test_score</th>\n",
       "      <th>split1_test_score</th>\n",
       "      <th>split2_test_score</th>\n",
       "      <th>mean_test_score</th>\n",
       "      <th>std_test_score</th>\n",
       "      <th>rank_test_score</th>\n",
       "    </tr>\n",
       "  </thead>\n",
       "  <tbody>\n",
       "    <tr>\n",
       "      <th>0</th>\n",
       "      <td>1.391612</td>\n",
       "      <td>0.054153</td>\n",
       "      <td>0.032580</td>\n",
       "      <td>4.700217e-04</td>\n",
       "      <td>0.0001</td>\n",
       "      <td>NaN</td>\n",
       "      <td>{'XGBClassifier__reg_alpha': 0.0001}</td>\n",
       "      <td>0.999325</td>\n",
       "      <td>0.999021</td>\n",
       "      <td>0.999392</td>\n",
       "      <td>0.999246</td>\n",
       "      <td>0.000161</td>\n",
       "      <td>1</td>\n",
       "    </tr>\n",
       "    <tr>\n",
       "      <th>1</th>\n",
       "      <td>1.393940</td>\n",
       "      <td>0.058190</td>\n",
       "      <td>0.032912</td>\n",
       "      <td>1.123916e-07</td>\n",
       "      <td>0.0005</td>\n",
       "      <td>NaN</td>\n",
       "      <td>{'XGBClassifier__reg_alpha': 0.0005}</td>\n",
       "      <td>0.999325</td>\n",
       "      <td>0.999021</td>\n",
       "      <td>0.999392</td>\n",
       "      <td>0.999246</td>\n",
       "      <td>0.000161</td>\n",
       "      <td>1</td>\n",
       "    </tr>\n",
       "    <tr>\n",
       "      <th>2</th>\n",
       "      <td>1.388290</td>\n",
       "      <td>0.053899</td>\n",
       "      <td>0.035238</td>\n",
       "      <td>9.391466e-04</td>\n",
       "      <td>0.001</td>\n",
       "      <td>NaN</td>\n",
       "      <td>{'XGBClassifier__reg_alpha': 0.001}</td>\n",
       "      <td>0.999325</td>\n",
       "      <td>0.999021</td>\n",
       "      <td>0.999392</td>\n",
       "      <td>0.999246</td>\n",
       "      <td>0.000161</td>\n",
       "      <td>1</td>\n",
       "    </tr>\n",
       "    <tr>\n",
       "      <th>3</th>\n",
       "      <td>1.394605</td>\n",
       "      <td>0.055286</td>\n",
       "      <td>0.031582</td>\n",
       "      <td>4.697972e-04</td>\n",
       "      <td>NaN</td>\n",
       "      <td>0.008</td>\n",
       "      <td>{'XGBClassifier__reg_lambda': 0.008}</td>\n",
       "      <td>0.999325</td>\n",
       "      <td>0.999021</td>\n",
       "      <td>0.999392</td>\n",
       "      <td>0.999246</td>\n",
       "      <td>0.000161</td>\n",
       "      <td>1</td>\n",
       "    </tr>\n",
       "    <tr>\n",
       "      <th>4</th>\n",
       "      <td>1.390948</td>\n",
       "      <td>0.058361</td>\n",
       "      <td>0.032912</td>\n",
       "      <td>2.973602e-07</td>\n",
       "      <td>NaN</td>\n",
       "      <td>0.01</td>\n",
       "      <td>{'XGBClassifier__reg_lambda': 0.01}</td>\n",
       "      <td>0.999325</td>\n",
       "      <td>0.999021</td>\n",
       "      <td>0.999392</td>\n",
       "      <td>0.999246</td>\n",
       "      <td>0.000161</td>\n",
       "      <td>1</td>\n",
       "    </tr>\n",
       "  </tbody>\n",
       "</table>\n",
       "</div>"
      ],
      "text/plain": [
       "   mean_fit_time  std_fit_time  mean_score_time  std_score_time  \\\n",
       "0       1.391612      0.054153         0.032580    4.700217e-04   \n",
       "1       1.393940      0.058190         0.032912    1.123916e-07   \n",
       "2       1.388290      0.053899         0.035238    9.391466e-04   \n",
       "3       1.394605      0.055286         0.031582    4.697972e-04   \n",
       "4       1.390948      0.058361         0.032912    2.973602e-07   \n",
       "\n",
       "  param_XGBClassifier__reg_alpha param_XGBClassifier__reg_lambda  \\\n",
       "0                         0.0001                             NaN   \n",
       "1                         0.0005                             NaN   \n",
       "2                          0.001                             NaN   \n",
       "3                            NaN                           0.008   \n",
       "4                            NaN                            0.01   \n",
       "\n",
       "                                 params  split0_test_score  split1_test_score  \\\n",
       "0  {'XGBClassifier__reg_alpha': 0.0001}           0.999325           0.999021   \n",
       "1  {'XGBClassifier__reg_alpha': 0.0005}           0.999325           0.999021   \n",
       "2   {'XGBClassifier__reg_alpha': 0.001}           0.999325           0.999021   \n",
       "3  {'XGBClassifier__reg_lambda': 0.008}           0.999325           0.999021   \n",
       "4   {'XGBClassifier__reg_lambda': 0.01}           0.999325           0.999021   \n",
       "\n",
       "   split2_test_score  mean_test_score  std_test_score  rank_test_score  \n",
       "0           0.999392         0.999246        0.000161                1  \n",
       "1           0.999392         0.999246        0.000161                1  \n",
       "2           0.999392         0.999246        0.000161                1  \n",
       "3           0.999392         0.999246        0.000161                1  \n",
       "4           0.999392         0.999246        0.000161                1  "
      ]
     },
     "execution_count": 85,
     "metadata": {},
     "output_type": "execute_result"
    }
   ],
   "source": [
    "grid = [\n",
    "    {\n",
    "        \"XGBClassifier__reg_alpha\": [0.0001, 0.0005, 0.001],\n",
    "    },\n",
    "    {\n",
    "        \"XGBClassifier__reg_lambda\": [0.008, 0.01]\n",
    "    }\n",
    "]\n",
    "gs = GridSearchCV(model_xgb, grid, cv=kf)\n",
    "gs.fit(X_train, y_train.values.ravel())\n",
    "pd.DataFrame(gs.cv_results_).sort_values(\"rank_test_score\").head(5)"
   ]
  },
  {
   "cell_type": "markdown",
   "id": "1c1d4d9a",
   "metadata": {},
   "source": [
    "## 6 -  Valutazione"
   ]
  },
  {
   "cell_type": "markdown",
   "id": "7cfb41b1",
   "metadata": {},
   "source": [
    "Possiamo stimare l'accuratezza sui nuovi dati con il Processo Bernoulliano."
   ]
  },
  {
   "cell_type": "markdown",
   "id": "91c69375",
   "metadata": {},
   "source": [
    "Per trovare $Z_{\\alpha/2}$, data una certa confidenza, inizializziamo una mappa dove la chiave è la confidenza e il valore è l'area sottostante la curva di distribuzione normale standard."
   ]
  },
  {
   "cell_type": "code",
   "execution_count": 86,
   "id": "37a5db1e",
   "metadata": {},
   "outputs": [],
   "source": [
    "Za2_map = {0.99:2.58, 0.98:2.33, 0.95:1.96, 0.90:1.65}"
   ]
  },
  {
   "cell_type": "markdown",
   "id": "6686c264",
   "metadata": {},
   "source": [
    "Implementiamo la funzione per il calcolo del processso Bernoulliano"
   ]
  },
  {
   "cell_type": "code",
   "execution_count": 87,
   "id": "37b339a3",
   "metadata": {},
   "outputs": [],
   "source": [
    "def bernoulli_process(acc, p_value, N) :\n",
    "    '''this method calculate the interval confidence based on Bernoulli Process'''\n",
    "    Za2 = Za2_map[p_value]\n",
    "    \n",
    "    num = 2*N*acc+Za2**2\n",
    "    sqrt = np.sqrt(Za2**2+4*N*acc-4*N*acc**2)\n",
    "    den = 2*(N+Za2**2)\n",
    "    \n",
    "    return (num - Za2*sqrt) / den, (num + Za2*sqrt) / den"
   ]
  },
  {
   "cell_type": "markdown",
   "id": "8f1e047c",
   "metadata": {},
   "source": [
    "Nella prossima cella c'è un test-unit, in particolare si riferisce all'esempio riportato sulla slide 4 del pacco di slide \"ValutazioneModelliDiClassificazione\", per vedere se il metodo implementato funziona correttamente."
   ]
  },
  {
   "cell_type": "code",
   "execution_count": 88,
   "id": "669f6466",
   "metadata": {},
   "outputs": [
    {
     "name": "stdout",
     "output_type": "stream",
     "text": [
      "ASSERT OK\n",
      "ASSERT OK\n",
      "L'accuratezza del modello migliore è :\n",
      "80.00 % ± [71.12 %, 86.66 %]\n"
     ]
    }
   ],
   "source": [
    "accurancy = 0.8\n",
    "N = 100\n",
    "confidence = 0.95\n",
    "p_min, p_max = bernoulli_process(accurancy, confidence, N)\n",
    "verify(p_min, 0.711, 0.01)\n",
    "verify(p_max, 0.866, 0.01)\n",
    "p_min, p_max, accurancy = p_min * 100, p_max * 100, accurancy * 100\n",
    "print(f\"L'accuratezza del modello migliore è :\\n{accurancy:2.2f} % \\u00B1 [{p_min:2.2f} %, {p_max:2.2f} %]\")"
   ]
  },
  {
   "cell_type": "markdown",
   "id": "92ac87aa",
   "metadata": {},
   "source": [
    "Utilizziamo il metodo sopra implementato, e verificato, per calcolare l'intervallo di accuratezza del modello migliore data una confidenza del 95%."
   ]
  },
  {
   "cell_type": "code",
   "execution_count": 89,
   "id": "8fec68cf",
   "metadata": {},
   "outputs": [
    {
     "name": "stdout",
     "output_type": "stream",
     "text": [
      "L'accuratezza del modello migliore è :\n",
      "99.91 % ± [99.88 %, 99.94 %]\n"
     ]
    }
   ],
   "source": [
    "accurancy = gs.best_estimator_.score(X_test, y_test)\n",
    "N = X_test.shape[0]\n",
    "confidence = 0.95\n",
    "p_min, p_max = bernoulli_process(accurancy, confidence, N)\n",
    "p_min, p_max, accurancy = p_min * 100, p_max * 100, accurancy * 100\n",
    "print(f\"L'accuratezza del modello migliore è :\\n{accurancy:2.2f} % \\u00B1 [{p_min:2.2f} %, {p_max:2.2f} %]\")"
   ]
  },
  {
   "cell_type": "markdown",
   "id": "8fb881d5",
   "metadata": {},
   "source": [
    "## 8 - Resources\n",
    "Link al dataset di kaggle : https://www.kaggle.com/datasets/rupakroy/online-payments-fraud-detection-dataset"
   ]
  }
 ],
 "metadata": {
  "kernelspec": {
   "display_name": "Python 3 (ipykernel)",
   "language": "python",
   "name": "python3"
  },
  "language_info": {
   "codemirror_mode": {
    "name": "ipython",
    "version": 3
   },
   "file_extension": ".py",
   "mimetype": "text/x-python",
   "name": "python",
   "nbconvert_exporter": "python",
   "pygments_lexer": "ipython3",
   "version": "3.9.7"
  }
 },
 "nbformat": 4,
 "nbformat_minor": 5
}
