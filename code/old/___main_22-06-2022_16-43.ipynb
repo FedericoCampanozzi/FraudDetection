{
 "cells": [
  {
   "cell_type": "markdown",
   "id": "36fef92c",
   "metadata": {},
   "source": [
    "# Federico Campanozzi - Progetto Data Intensive con Relazione\n",
    "                                                                                                             a.a. 2021/2022"
   ]
  },
  {
   "cell_type": "markdown",
   "id": "1b2f832f",
   "metadata": {},
   "source": [
    "## 1 - Descrizione del problema"
   ]
  },
  {
   "cell_type": "markdown",
   "id": "b35a7db4",
   "metadata": {},
   "source": [
    "Il problema è determinare se una transazione è fraudolenta oppure no."
   ]
  },
  {
   "cell_type": "markdown",
   "id": "1a8e2d07",
   "metadata": {},
   "source": [
    "### 1.1 - Descrizione del Dataset"
   ]
  },
  {
   "cell_type": "markdown",
   "id": "08ac2219",
   "metadata": {},
   "source": [
    "Le colonne del dataset sono così definite : \n",
    "- step: rappresenta un'unita di tempo 1 = 1 ora\n",
    "- type: tipo di transazione\n",
    "- amount: the amount of the transaction\n",
    "- nameOrig: customer starting the transaction\n",
    "- oldbalanceOrg: balance before the transaction\n",
    "- newbalanceOrig: balance after the transaction\n",
    "- nameDest: recipient of the transaction\n",
    "- oldbalanceDest: initial balance of recipient before the transaction\n",
    "- newbalanceDest: the new balance of recipient after the transaction\n",
    "- isFraud: fraud transaction\n",
    "- isFlaggedFraud : il risultato del modello predittivo"
   ]
  },
  {
   "cell_type": "markdown",
   "id": "e1da3f3e",
   "metadata": {},
   "source": [
    "## 2- Analisi esplorativa"
   ]
  },
  {
   "cell_type": "code",
   "execution_count": 3,
   "id": "ca9a2c03",
   "metadata": {},
   "outputs": [],
   "source": [
    "import numpy as np\n",
    "import pandas as pd\n",
    "import matplotlib.pyplot as plt\n",
    "%matplotlib inline"
   ]
  },
  {
   "cell_type": "code",
   "execution_count": 4,
   "id": "0059e4b7",
   "metadata": {},
   "outputs": [
    {
     "data": {
      "text/html": [
       "<div>\n",
       "<style scoped>\n",
       "    .dataframe tbody tr th:only-of-type {\n",
       "        vertical-align: middle;\n",
       "    }\n",
       "\n",
       "    .dataframe tbody tr th {\n",
       "        vertical-align: top;\n",
       "    }\n",
       "\n",
       "    .dataframe thead th {\n",
       "        text-align: right;\n",
       "    }\n",
       "</style>\n",
       "<table border=\"1\" class=\"dataframe\">\n",
       "  <thead>\n",
       "    <tr style=\"text-align: right;\">\n",
       "      <th></th>\n",
       "      <th>step</th>\n",
       "      <th>type</th>\n",
       "      <th>amount</th>\n",
       "      <th>nameOrig</th>\n",
       "      <th>oldbalanceOrg</th>\n",
       "      <th>newbalanceOrig</th>\n",
       "      <th>nameDest</th>\n",
       "      <th>oldbalanceDest</th>\n",
       "      <th>newbalanceDest</th>\n",
       "      <th>isFraud</th>\n",
       "      <th>isFlaggedFraud</th>\n",
       "    </tr>\n",
       "  </thead>\n",
       "  <tbody>\n",
       "    <tr>\n",
       "      <th>0</th>\n",
       "      <td>1</td>\n",
       "      <td>PAYMENT</td>\n",
       "      <td>9839.64</td>\n",
       "      <td>C1231006815</td>\n",
       "      <td>170136.00</td>\n",
       "      <td>160296.36</td>\n",
       "      <td>M1979787155</td>\n",
       "      <td>0.0</td>\n",
       "      <td>0.00</td>\n",
       "      <td>0</td>\n",
       "      <td>0</td>\n",
       "    </tr>\n",
       "    <tr>\n",
       "      <th>1</th>\n",
       "      <td>1</td>\n",
       "      <td>PAYMENT</td>\n",
       "      <td>1864.28</td>\n",
       "      <td>C1666544295</td>\n",
       "      <td>21249.00</td>\n",
       "      <td>19384.72</td>\n",
       "      <td>M2044282225</td>\n",
       "      <td>0.0</td>\n",
       "      <td>0.00</td>\n",
       "      <td>0</td>\n",
       "      <td>0</td>\n",
       "    </tr>\n",
       "    <tr>\n",
       "      <th>2</th>\n",
       "      <td>1</td>\n",
       "      <td>TRANSFER</td>\n",
       "      <td>181.00</td>\n",
       "      <td>C1305486145</td>\n",
       "      <td>181.00</td>\n",
       "      <td>0.00</td>\n",
       "      <td>C553264065</td>\n",
       "      <td>0.0</td>\n",
       "      <td>0.00</td>\n",
       "      <td>1</td>\n",
       "      <td>0</td>\n",
       "    </tr>\n",
       "    <tr>\n",
       "      <th>3</th>\n",
       "      <td>1</td>\n",
       "      <td>CASH_OUT</td>\n",
       "      <td>181.00</td>\n",
       "      <td>C840083671</td>\n",
       "      <td>181.00</td>\n",
       "      <td>0.00</td>\n",
       "      <td>C38997010</td>\n",
       "      <td>21182.0</td>\n",
       "      <td>0.00</td>\n",
       "      <td>1</td>\n",
       "      <td>0</td>\n",
       "    </tr>\n",
       "    <tr>\n",
       "      <th>4</th>\n",
       "      <td>1</td>\n",
       "      <td>PAYMENT</td>\n",
       "      <td>11668.14</td>\n",
       "      <td>C2048537720</td>\n",
       "      <td>41554.00</td>\n",
       "      <td>29885.86</td>\n",
       "      <td>M1230701703</td>\n",
       "      <td>0.0</td>\n",
       "      <td>0.00</td>\n",
       "      <td>0</td>\n",
       "      <td>0</td>\n",
       "    </tr>\n",
       "    <tr>\n",
       "      <th>5</th>\n",
       "      <td>1</td>\n",
       "      <td>PAYMENT</td>\n",
       "      <td>7817.71</td>\n",
       "      <td>C90045638</td>\n",
       "      <td>53860.00</td>\n",
       "      <td>46042.29</td>\n",
       "      <td>M573487274</td>\n",
       "      <td>0.0</td>\n",
       "      <td>0.00</td>\n",
       "      <td>0</td>\n",
       "      <td>0</td>\n",
       "    </tr>\n",
       "    <tr>\n",
       "      <th>6</th>\n",
       "      <td>1</td>\n",
       "      <td>PAYMENT</td>\n",
       "      <td>7107.77</td>\n",
       "      <td>C154988899</td>\n",
       "      <td>183195.00</td>\n",
       "      <td>176087.23</td>\n",
       "      <td>M408069119</td>\n",
       "      <td>0.0</td>\n",
       "      <td>0.00</td>\n",
       "      <td>0</td>\n",
       "      <td>0</td>\n",
       "    </tr>\n",
       "    <tr>\n",
       "      <th>7</th>\n",
       "      <td>1</td>\n",
       "      <td>PAYMENT</td>\n",
       "      <td>7861.64</td>\n",
       "      <td>C1912850431</td>\n",
       "      <td>176087.23</td>\n",
       "      <td>168225.59</td>\n",
       "      <td>M633326333</td>\n",
       "      <td>0.0</td>\n",
       "      <td>0.00</td>\n",
       "      <td>0</td>\n",
       "      <td>0</td>\n",
       "    </tr>\n",
       "    <tr>\n",
       "      <th>8</th>\n",
       "      <td>1</td>\n",
       "      <td>PAYMENT</td>\n",
       "      <td>4024.36</td>\n",
       "      <td>C1265012928</td>\n",
       "      <td>2671.00</td>\n",
       "      <td>0.00</td>\n",
       "      <td>M1176932104</td>\n",
       "      <td>0.0</td>\n",
       "      <td>0.00</td>\n",
       "      <td>0</td>\n",
       "      <td>0</td>\n",
       "    </tr>\n",
       "    <tr>\n",
       "      <th>9</th>\n",
       "      <td>1</td>\n",
       "      <td>DEBIT</td>\n",
       "      <td>5337.77</td>\n",
       "      <td>C712410124</td>\n",
       "      <td>41720.00</td>\n",
       "      <td>36382.23</td>\n",
       "      <td>C195600860</td>\n",
       "      <td>41898.0</td>\n",
       "      <td>40348.79</td>\n",
       "      <td>0</td>\n",
       "      <td>0</td>\n",
       "    </tr>\n",
       "  </tbody>\n",
       "</table>\n",
       "</div>"
      ],
      "text/plain": [
       "   step      type    amount     nameOrig  oldbalanceOrg  newbalanceOrig  \\\n",
       "0     1   PAYMENT   9839.64  C1231006815      170136.00       160296.36   \n",
       "1     1   PAYMENT   1864.28  C1666544295       21249.00        19384.72   \n",
       "2     1  TRANSFER    181.00  C1305486145         181.00            0.00   \n",
       "3     1  CASH_OUT    181.00   C840083671         181.00            0.00   \n",
       "4     1   PAYMENT  11668.14  C2048537720       41554.00        29885.86   \n",
       "5     1   PAYMENT   7817.71    C90045638       53860.00        46042.29   \n",
       "6     1   PAYMENT   7107.77   C154988899      183195.00       176087.23   \n",
       "7     1   PAYMENT   7861.64  C1912850431      176087.23       168225.59   \n",
       "8     1   PAYMENT   4024.36  C1265012928        2671.00            0.00   \n",
       "9     1     DEBIT   5337.77   C712410124       41720.00        36382.23   \n",
       "\n",
       "      nameDest  oldbalanceDest  newbalanceDest  isFraud  isFlaggedFraud  \n",
       "0  M1979787155             0.0            0.00        0               0  \n",
       "1  M2044282225             0.0            0.00        0               0  \n",
       "2   C553264065             0.0            0.00        1               0  \n",
       "3    C38997010         21182.0            0.00        1               0  \n",
       "4  M1230701703             0.0            0.00        0               0  \n",
       "5   M573487274             0.0            0.00        0               0  \n",
       "6   M408069119             0.0            0.00        0               0  \n",
       "7   M633326333             0.0            0.00        0               0  \n",
       "8  M1176932104             0.0            0.00        0               0  \n",
       "9   C195600860         41898.0        40348.79        0               0  "
      ]
     },
     "execution_count": 4,
     "metadata": {},
     "output_type": "execute_result"
    }
   ],
   "source": [
    "transactions = pd.read_csv(\"../data/data.csv\")\n",
    "transactions[:10]"
   ]
  },
  {
   "cell_type": "markdown",
   "id": "eef91c1f",
   "metadata": {},
   "source": [
    "Estraiamo dal dataframe tutte le informazioni statistiche e gli aggiungiamo anche altre due informazione\n",
    "che possono essere utili per capire la distribuzione dei dati, ovvero il numero di valori distinti e il numero\n",
    "di valori nulli."
   ]
  },
  {
   "cell_type": "code",
   "execution_count": 5,
   "id": "7ff765b0",
   "metadata": {},
   "outputs": [
    {
     "data": {
      "text/html": [
       "<div>\n",
       "<style scoped>\n",
       "    .dataframe tbody tr th:only-of-type {\n",
       "        vertical-align: middle;\n",
       "    }\n",
       "\n",
       "    .dataframe tbody tr th {\n",
       "        vertical-align: top;\n",
       "    }\n",
       "\n",
       "    .dataframe thead th {\n",
       "        text-align: right;\n",
       "    }\n",
       "</style>\n",
       "<table border=\"1\" class=\"dataframe\">\n",
       "  <thead>\n",
       "    <tr style=\"text-align: right;\">\n",
       "      <th></th>\n",
       "      <th>step</th>\n",
       "      <th>amount</th>\n",
       "      <th>oldbalanceOrg</th>\n",
       "      <th>newbalanceOrig</th>\n",
       "      <th>oldbalanceDest</th>\n",
       "      <th>newbalanceDest</th>\n",
       "      <th>isFraud</th>\n",
       "      <th>isFlaggedFraud</th>\n",
       "    </tr>\n",
       "  </thead>\n",
       "  <tbody>\n",
       "    <tr>\n",
       "      <th>count</th>\n",
       "      <td>6.362620e+06</td>\n",
       "      <td>6.362620e+06</td>\n",
       "      <td>6.362620e+06</td>\n",
       "      <td>6.362620e+06</td>\n",
       "      <td>6.362620e+06</td>\n",
       "      <td>6.362620e+06</td>\n",
       "      <td>6.362620e+06</td>\n",
       "      <td>6.362620e+06</td>\n",
       "    </tr>\n",
       "    <tr>\n",
       "      <th>mean</th>\n",
       "      <td>2.433972e+02</td>\n",
       "      <td>1.798619e+05</td>\n",
       "      <td>8.338831e+05</td>\n",
       "      <td>8.551137e+05</td>\n",
       "      <td>1.100702e+06</td>\n",
       "      <td>1.224996e+06</td>\n",
       "      <td>1.290820e-03</td>\n",
       "      <td>2.514687e-06</td>\n",
       "    </tr>\n",
       "    <tr>\n",
       "      <th>std</th>\n",
       "      <td>1.423320e+02</td>\n",
       "      <td>6.038582e+05</td>\n",
       "      <td>2.888243e+06</td>\n",
       "      <td>2.924049e+06</td>\n",
       "      <td>3.399180e+06</td>\n",
       "      <td>3.674129e+06</td>\n",
       "      <td>3.590480e-02</td>\n",
       "      <td>1.585775e-03</td>\n",
       "    </tr>\n",
       "    <tr>\n",
       "      <th>min</th>\n",
       "      <td>1.000000e+00</td>\n",
       "      <td>0.000000e+00</td>\n",
       "      <td>0.000000e+00</td>\n",
       "      <td>0.000000e+00</td>\n",
       "      <td>0.000000e+00</td>\n",
       "      <td>0.000000e+00</td>\n",
       "      <td>0.000000e+00</td>\n",
       "      <td>0.000000e+00</td>\n",
       "    </tr>\n",
       "    <tr>\n",
       "      <th>25%</th>\n",
       "      <td>1.560000e+02</td>\n",
       "      <td>1.338957e+04</td>\n",
       "      <td>0.000000e+00</td>\n",
       "      <td>0.000000e+00</td>\n",
       "      <td>0.000000e+00</td>\n",
       "      <td>0.000000e+00</td>\n",
       "      <td>0.000000e+00</td>\n",
       "      <td>0.000000e+00</td>\n",
       "    </tr>\n",
       "    <tr>\n",
       "      <th>50%</th>\n",
       "      <td>2.390000e+02</td>\n",
       "      <td>7.487194e+04</td>\n",
       "      <td>1.420800e+04</td>\n",
       "      <td>0.000000e+00</td>\n",
       "      <td>1.327057e+05</td>\n",
       "      <td>2.146614e+05</td>\n",
       "      <td>0.000000e+00</td>\n",
       "      <td>0.000000e+00</td>\n",
       "    </tr>\n",
       "    <tr>\n",
       "      <th>75%</th>\n",
       "      <td>3.350000e+02</td>\n",
       "      <td>2.087215e+05</td>\n",
       "      <td>1.073152e+05</td>\n",
       "      <td>1.442584e+05</td>\n",
       "      <td>9.430367e+05</td>\n",
       "      <td>1.111909e+06</td>\n",
       "      <td>0.000000e+00</td>\n",
       "      <td>0.000000e+00</td>\n",
       "    </tr>\n",
       "    <tr>\n",
       "      <th>max</th>\n",
       "      <td>7.430000e+02</td>\n",
       "      <td>9.244552e+07</td>\n",
       "      <td>5.958504e+07</td>\n",
       "      <td>4.958504e+07</td>\n",
       "      <td>3.560159e+08</td>\n",
       "      <td>3.561793e+08</td>\n",
       "      <td>1.000000e+00</td>\n",
       "      <td>1.000000e+00</td>\n",
       "    </tr>\n",
       "    <tr>\n",
       "      <th>valori distinti</th>\n",
       "      <td>7.430000e+02</td>\n",
       "      <td>5.316900e+06</td>\n",
       "      <td>1.845844e+06</td>\n",
       "      <td>2.682586e+06</td>\n",
       "      <td>3.614697e+06</td>\n",
       "      <td>3.555499e+06</td>\n",
       "      <td>2.000000e+00</td>\n",
       "      <td>2.000000e+00</td>\n",
       "    </tr>\n",
       "    <tr>\n",
       "      <th>valori nulli</th>\n",
       "      <td>0.000000e+00</td>\n",
       "      <td>0.000000e+00</td>\n",
       "      <td>0.000000e+00</td>\n",
       "      <td>0.000000e+00</td>\n",
       "      <td>0.000000e+00</td>\n",
       "      <td>0.000000e+00</td>\n",
       "      <td>0.000000e+00</td>\n",
       "      <td>0.000000e+00</td>\n",
       "    </tr>\n",
       "  </tbody>\n",
       "</table>\n",
       "</div>"
      ],
      "text/plain": [
       "                         step        amount  oldbalanceOrg  newbalanceOrig  \\\n",
       "count            6.362620e+06  6.362620e+06   6.362620e+06    6.362620e+06   \n",
       "mean             2.433972e+02  1.798619e+05   8.338831e+05    8.551137e+05   \n",
       "std              1.423320e+02  6.038582e+05   2.888243e+06    2.924049e+06   \n",
       "min              1.000000e+00  0.000000e+00   0.000000e+00    0.000000e+00   \n",
       "25%              1.560000e+02  1.338957e+04   0.000000e+00    0.000000e+00   \n",
       "50%              2.390000e+02  7.487194e+04   1.420800e+04    0.000000e+00   \n",
       "75%              3.350000e+02  2.087215e+05   1.073152e+05    1.442584e+05   \n",
       "max              7.430000e+02  9.244552e+07   5.958504e+07    4.958504e+07   \n",
       "valori distinti  7.430000e+02  5.316900e+06   1.845844e+06    2.682586e+06   \n",
       "valori nulli     0.000000e+00  0.000000e+00   0.000000e+00    0.000000e+00   \n",
       "\n",
       "                 oldbalanceDest  newbalanceDest       isFraud  isFlaggedFraud  \n",
       "count              6.362620e+06    6.362620e+06  6.362620e+06    6.362620e+06  \n",
       "mean               1.100702e+06    1.224996e+06  1.290820e-03    2.514687e-06  \n",
       "std                3.399180e+06    3.674129e+06  3.590480e-02    1.585775e-03  \n",
       "min                0.000000e+00    0.000000e+00  0.000000e+00    0.000000e+00  \n",
       "25%                0.000000e+00    0.000000e+00  0.000000e+00    0.000000e+00  \n",
       "50%                1.327057e+05    2.146614e+05  0.000000e+00    0.000000e+00  \n",
       "75%                9.430367e+05    1.111909e+06  0.000000e+00    0.000000e+00  \n",
       "max                3.560159e+08    3.561793e+08  1.000000e+00    1.000000e+00  \n",
       "valori distinti    3.614697e+06    3.555499e+06  2.000000e+00    2.000000e+00  \n",
       "valori nulli       0.000000e+00    0.000000e+00  0.000000e+00    0.000000e+00  "
      ]
     },
     "execution_count": 5,
     "metadata": {},
     "output_type": "execute_result"
    }
   ],
   "source": [
    "vMtx = transactions.describe().values\n",
    "vMtx = np.vstack([vMtx, [len(transactions[c].unique()) for c in [\"step\",\"amount\",\"oldbalanceOrg\",\n",
    "                                                                 \"newbalanceOrig\",\"oldbalanceDest\",\"newbalanceDest\",\n",
    "                                                                 \"isFraud\",\"isFlaggedFraud\"]]])\n",
    "vMtx = np.vstack([vMtx, transactions.describe().isna().sum().values])\n",
    "pd.DataFrame(data=vMtx,\n",
    "             index=['count','mean','std','min','25%','50%','75%','max','valori distinti','valori nulli'],\n",
    "             columns=transactions.describe().columns)"
   ]
  },
  {
   "cell_type": "markdown",
   "id": "a6271be2",
   "metadata": {},
   "source": [
    "### 2.1 - Grafici"
   ]
  },
  {
   "cell_type": "markdown",
   "id": "2bff256c",
   "metadata": {},
   "source": [
    "Ho creato dei grafici per le transazioni fraudolente per far capire (graficamente) quanto il numero di istanze\n",
    "siano differenti e quanto il tipo di transazione (colonna \"type\") incida."
   ]
  },
  {
   "cell_type": "code",
   "execution_count": 6,
   "id": "bdbb25c0",
   "metadata": {},
   "outputs": [
    {
     "data": {
      "image/png": "[encoded data removed]",
      "text/plain": [
       "<Figure size 1152x720 with 3 Axes>"
      ]
     },
     "metadata": {},
     "output_type": "display_data"
    }
   ],
   "source": [
    "plt.figure(figsize=(16, 10))\n",
    "transactions[\"type\"].value_counts().plot.pie(ax=plt.subplot(1, 3, 1));\n",
    "transactions[\"isFraud\"].value_counts().plot.pie(ax=plt.subplot(1, 3, 2));\n",
    "transactions[transactions[\"isFraud\"] == 1][\"type\"].value_counts().plot.pie(ax=plt.subplot(1, 3,3));"
   ]
  },
  {
   "cell_type": "code",
   "execution_count": 7,
   "id": "e5574776",
   "metadata": {},
   "outputs": [],
   "source": [
    "feature_list = [\"type\",\"amount\",\"oldbalanceOrg\",\"newbalanceOrig\"]"
   ]
  },
  {
   "cell_type": "markdown",
   "id": "78628669",
   "metadata": {},
   "source": [
    "Per visualizzare le feauter si può procedere in diversi modi. Quello proposto in questo progetto è la creazione\n",
    "di n grafici che combina 2 feature alla volta. Questo approccio può andare bene se il numero di feature è ridotto (<10)\n",
    "altrimenti bisogna procedere a buon senso creando manualmente i grafici di quelle feature che potrebbero essere\n",
    "in qualche modo dipendente.\n",
    "\n",
    "Per fare questo esperimento usiamo un numero di istanze maggiori per avere una porzione di dataset più significativa."
   ]
  },
  {
   "cell_type": "code",
   "execution_count": 8,
   "id": "7ef03a4f",
   "metadata": {
    "scrolled": false
   },
   "outputs": [
    {
     "data": {
      "image/png": "[encoded data removed]",
      "text/plain": [
       "<Figure size 720x432 with 1 Axes>"
      ]
     },
     "metadata": {
      "needs_background": "light"
     },
     "output_type": "display_data"
    },
    {
     "data": {
      "image/png": "[encoded data removed]",
      "text/plain": [
       "<Figure size 720x432 with 1 Axes>"
      ]
     },
     "metadata": {
      "needs_background": "light"
     },
     "output_type": "display_data"
    },
    {
     "data": {
      "image/png": "[encoded data removed]",
      "text/plain": [
       "<Figure size 720x432 with 1 Axes>"
      ]
     },
     "metadata": {
      "needs_background": "light"
     },
     "output_type": "display_data"
    }
   ],
   "source": [
    "transactions = pd.read_csv(\"../data/data.csv\", nrows=40_000)\n",
    "tfraut_colors = transactions[\"isFraud\"].map({0: \"blue\", 1: \"red\"})\n",
    "for f_i in range(1,len(feature_list)):\n",
    "     for f_j in range(f_i + 1, len(feature_list)) :        \n",
    "        transactions.plot.scatter(feature_list[f_i], feature_list[f_j], c=tfraut_colors, figsize=(10, 6));"
   ]
  },
  {
   "cell_type": "markdown",
   "id": "1d62ab2a",
   "metadata": {},
   "source": [
    "## 3 - Normalizzazione dei dati"
   ]
  },
  {
   "cell_type": "markdown",
   "id": "fce96a1d",
   "metadata": {},
   "source": [
    "In questo progetto non abbiamo molte pre-elaborazioni da fare, dato il numero ridotto di feature.\n",
    "\n",
    "Per prima cosa dividiamo le feature in due categorie (perchè andranno poi trattate diversamente) :\n",
    "   - Feature Numeriche : Possiamo applicare una normalizzazione dei dati per avere la stessa scala\n",
    "   - Feature Categoriche : Applichiamo una categorizzazione. L'unica colonna da trattare in questo caso è \n",
    "       il tipo di transazione. Da questa operazioone de derivano altre 5."
   ]
  },
  {
   "cell_type": "code",
   "execution_count": 9,
   "id": "3f507edf",
   "metadata": {},
   "outputs": [],
   "source": [
    "feature_numeric = [\"amount\",\"oldbalanceOrg\",\"newbalanceOrig\"]\n",
    "feature_categorical = [\"type\"]"
   ]
  },
  {
   "cell_type": "markdown",
   "id": "3d7d6195",
   "metadata": {},
   "source": [
    "Grazie alla classe ColumnTransformer possiamo applica entrambe queste trasformazioni in modo semplice.\n",
    "L'oggeto ColumnTrasn lo memorizziamo in una variabile così lo possiamo riutilizzare anche per la creazione dei modelli nelle fasi successive"
   ]
  },
  {
   "cell_type": "code",
   "execution_count": 10,
   "id": "1366ae03",
   "metadata": {},
   "outputs": [],
   "source": [
    "from sklearn.model_selection import train_test_split\n",
    "from sklearn.compose import ColumnTransformer\n",
    "from sklearn.preprocessing import StandardScaler\n",
    "from sklearn.preprocessing import OneHotEncoder\n",
    "\n",
    "X = transactions[feature_list]\n",
    "y = transactions[[\"isFraud\"]]\n",
    "\n",
    "X_train, X_val, y_train, y_val = train_test_split(X, y, test_size=1/3, random_state=42)\n",
    "\n",
    "preproc = ColumnTransformer(\n",
    "    [\n",
    "        (\"numeric\",StandardScaler(),feature_numeric),\n",
    "        (\"categorical\",OneHotEncoder(),feature_categorical)\n",
    "    ],remainder=\"drop\")"
   ]
  },
  {
   "cell_type": "markdown",
   "id": "64f5a6a3",
   "metadata": {},
   "source": [
    "Il risultato saranno quindi le 3 colonne numeriche (\"amount\", \"oldbalanceOrg\", \"newbalanceOrig\") dove abbiamo applicato una normalizzazione e le 5 colonne derivate dalla trasformazione della variabile categorica type nelle sue n componenti binarie, una per ogni valore distinto di type (in questo dataset sono 5 : CASH_IN, CASH_OUT, DEBIT, PAYMENT, TRANSFER)"
   ]
  },
  {
   "cell_type": "code",
   "execution_count": 11,
   "id": "dd94ed3c",
   "metadata": {},
   "outputs": [
    {
     "data": {
      "text/html": [
       "<div>\n",
       "<style scoped>\n",
       "    .dataframe tbody tr th:only-of-type {\n",
       "        vertical-align: middle;\n",
       "    }\n",
       "\n",
       "    .dataframe tbody tr th {\n",
       "        vertical-align: top;\n",
       "    }\n",
       "\n",
       "    .dataframe thead th {\n",
       "        text-align: right;\n",
       "    }\n",
       "</style>\n",
       "<table border=\"1\" class=\"dataframe\">\n",
       "  <thead>\n",
       "    <tr style=\"text-align: right;\">\n",
       "      <th></th>\n",
       "      <th>amount</th>\n",
       "      <th>oldbalanceOrg</th>\n",
       "      <th>newbalanceOrig</th>\n",
       "      <th>x0_CASH_IN</th>\n",
       "      <th>x0_CASH_OUT</th>\n",
       "      <th>x0_DEBIT</th>\n",
       "      <th>x0_PAYMENT</th>\n",
       "      <th>x0_TRANSFER</th>\n",
       "    </tr>\n",
       "  </thead>\n",
       "  <tbody>\n",
       "    <tr>\n",
       "      <th>0</th>\n",
       "      <td>-0.439241</td>\n",
       "      <td>-0.266896</td>\n",
       "      <td>-0.273043</td>\n",
       "      <td>0.0</td>\n",
       "      <td>0.0</td>\n",
       "      <td>0.0</td>\n",
       "      <td>1.0</td>\n",
       "      <td>0.0</td>\n",
       "    </tr>\n",
       "    <tr>\n",
       "      <th>1</th>\n",
       "      <td>-0.464742</td>\n",
       "      <td>-0.331287</td>\n",
       "      <td>-0.333001</td>\n",
       "      <td>0.0</td>\n",
       "      <td>0.0</td>\n",
       "      <td>0.0</td>\n",
       "      <td>1.0</td>\n",
       "      <td>0.0</td>\n",
       "    </tr>\n",
       "    <tr>\n",
       "      <th>2</th>\n",
       "      <td>-0.470125</td>\n",
       "      <td>-0.340399</td>\n",
       "      <td>-0.341250</td>\n",
       "      <td>0.0</td>\n",
       "      <td>0.0</td>\n",
       "      <td>0.0</td>\n",
       "      <td>0.0</td>\n",
       "      <td>1.0</td>\n",
       "    </tr>\n",
       "    <tr>\n",
       "      <th>3</th>\n",
       "      <td>-0.470125</td>\n",
       "      <td>-0.340399</td>\n",
       "      <td>-0.341250</td>\n",
       "      <td>0.0</td>\n",
       "      <td>1.0</td>\n",
       "      <td>0.0</td>\n",
       "      <td>0.0</td>\n",
       "      <td>0.0</td>\n",
       "    </tr>\n",
       "    <tr>\n",
       "      <th>4</th>\n",
       "      <td>-0.433394</td>\n",
       "      <td>-0.322506</td>\n",
       "      <td>-0.328533</td>\n",
       "      <td>0.0</td>\n",
       "      <td>0.0</td>\n",
       "      <td>0.0</td>\n",
       "      <td>1.0</td>\n",
       "      <td>0.0</td>\n",
       "    </tr>\n",
       "    <tr>\n",
       "      <th>5</th>\n",
       "      <td>-0.445706</td>\n",
       "      <td>-0.317184</td>\n",
       "      <td>-0.321659</td>\n",
       "      <td>0.0</td>\n",
       "      <td>0.0</td>\n",
       "      <td>0.0</td>\n",
       "      <td>1.0</td>\n",
       "      <td>0.0</td>\n",
       "    </tr>\n",
       "    <tr>\n",
       "      <th>6</th>\n",
       "      <td>-0.447976</td>\n",
       "      <td>-0.261248</td>\n",
       "      <td>-0.266324</td>\n",
       "      <td>0.0</td>\n",
       "      <td>0.0</td>\n",
       "      <td>0.0</td>\n",
       "      <td>1.0</td>\n",
       "      <td>0.0</td>\n",
       "    </tr>\n",
       "    <tr>\n",
       "      <th>7</th>\n",
       "      <td>-0.445566</td>\n",
       "      <td>-0.264322</td>\n",
       "      <td>-0.269670</td>\n",
       "      <td>0.0</td>\n",
       "      <td>0.0</td>\n",
       "      <td>0.0</td>\n",
       "      <td>1.0</td>\n",
       "      <td>0.0</td>\n",
       "    </tr>\n",
       "    <tr>\n",
       "      <th>8</th>\n",
       "      <td>-0.457835</td>\n",
       "      <td>-0.339322</td>\n",
       "      <td>-0.341250</td>\n",
       "      <td>0.0</td>\n",
       "      <td>0.0</td>\n",
       "      <td>0.0</td>\n",
       "      <td>1.0</td>\n",
       "      <td>0.0</td>\n",
       "    </tr>\n",
       "    <tr>\n",
       "      <th>9</th>\n",
       "      <td>-0.453636</td>\n",
       "      <td>-0.322434</td>\n",
       "      <td>-0.325769</td>\n",
       "      <td>0.0</td>\n",
       "      <td>0.0</td>\n",
       "      <td>1.0</td>\n",
       "      <td>0.0</td>\n",
       "      <td>0.0</td>\n",
       "    </tr>\n",
       "  </tbody>\n",
       "</table>\n",
       "</div>"
      ],
      "text/plain": [
       "     amount  oldbalanceOrg  newbalanceOrig  x0_CASH_IN  x0_CASH_OUT  x0_DEBIT  \\\n",
       "0 -0.439241      -0.266896       -0.273043         0.0          0.0       0.0   \n",
       "1 -0.464742      -0.331287       -0.333001         0.0          0.0       0.0   \n",
       "2 -0.470125      -0.340399       -0.341250         0.0          0.0       0.0   \n",
       "3 -0.470125      -0.340399       -0.341250         0.0          1.0       0.0   \n",
       "4 -0.433394      -0.322506       -0.328533         0.0          0.0       0.0   \n",
       "5 -0.445706      -0.317184       -0.321659         0.0          0.0       0.0   \n",
       "6 -0.447976      -0.261248       -0.266324         0.0          0.0       0.0   \n",
       "7 -0.445566      -0.264322       -0.269670         0.0          0.0       0.0   \n",
       "8 -0.457835      -0.339322       -0.341250         0.0          0.0       0.0   \n",
       "9 -0.453636      -0.322434       -0.325769         0.0          0.0       1.0   \n",
       "\n",
       "   x0_PAYMENT  x0_TRANSFER  \n",
       "0         1.0          0.0  \n",
       "1         1.0          0.0  \n",
       "2         0.0          1.0  \n",
       "3         0.0          0.0  \n",
       "4         1.0          0.0  \n",
       "5         1.0          0.0  \n",
       "6         1.0          0.0  \n",
       "7         1.0          0.0  \n",
       "8         1.0          0.0  \n",
       "9         0.0          0.0  "
      ]
     },
     "execution_count": 11,
     "metadata": {},
     "output_type": "execute_result"
    }
   ],
   "source": [
    "X_sample = transactions[feature_numeric + feature_categorical]\n",
    "preproc.fit_transform(X_sample)\n",
    "f_names = feature_numeric + list(preproc.named_transformers_[\"categorical\"].get_feature_names())\n",
    "pd.DataFrame(\n",
    "    preproc.transform(X_sample),\n",
    "    columns = f_names\n",
    ").head(10)"
   ]
  },
  {
   "cell_type": "markdown",
   "id": "c86d495b",
   "metadata": {},
   "source": [
    "### 3.1 - PCA"
   ]
  },
  {
   "cell_type": "markdown",
   "id": "fbe85a10",
   "metadata": {},
   "source": [
    "Con la decomposizione SVD (Single Value Decomposition) possiamo riportare una spazio k-dimensionale in uno spazio n-dimensionale. In questo progetto le dimensioni originali sono il numero di feature dopo aver applicato il pre-processing, quindi 8, in uno spazio bidimensionale, per poter visualizzare i dati in un classico grafico cartesiano."
   ]
  },
  {
   "cell_type": "code",
   "execution_count": 12,
   "id": "f2c6c7d7",
   "metadata": {},
   "outputs": [
    {
     "data": {
      "image/png": "[encoded data removed]",
      "text/plain": [
       "<Figure size 432x288 with 1 Axes>"
      ]
     },
     "metadata": {
      "needs_background": "light"
     },
     "output_type": "display_data"
    }
   ],
   "source": [
    "from sklearn.decomposition import PCA\n",
    "\n",
    "pca = PCA(n_components=2)\n",
    "\n",
    "c_map = transactions[:X_train.values.shape[0]][\"isFraud\"].map({0: \"blue\", 1: \"red\"})\n",
    "x_preproc = pca.fit_transform(preproc.fit_transform(X_train))\n",
    "\n",
    "plt.scatter(x_preproc[:,0], x_preproc[:,1], c=c_map)\n",
    "plt.xlabel('Asse latente X')\n",
    "plt.ylabel('Asse latente Y')\n",
    "plt.show()"
   ]
  },
  {
   "cell_type": "markdown",
   "id": "f068d4c5",
   "metadata": {},
   "source": [
    "## 4 - Modelli Predittivi"
   ]
  },
  {
   "cell_type": "markdown",
   "id": "aad23b20",
   "metadata": {},
   "source": [
    "Data il grande numero di istanze in questo dataset alcuni modelli potrebbe crashare. Quindi riduciamo il dataset."
   ]
  },
  {
   "cell_type": "code",
   "execution_count": 13,
   "id": "d0a8aac8",
   "metadata": {},
   "outputs": [],
   "source": [
    "from sklearn.pipeline import Pipeline\n",
    "transactions = pd.read_csv(\"../data/data.csv\", nrows=20_000)\n",
    "X = transactions[feature_list]\n",
    "y = transactions[[\"isFraud\"]]\n",
    "\n",
    "X_train, X_val, y_train, y_val = train_test_split(X, y, test_size=1/3, random_state=42)"
   ]
  },
  {
   "cell_type": "markdown",
   "id": "51381422",
   "metadata": {},
   "source": [
    "Predisponaimo alcune \"Utility Function\" che migliorano la leggibilità del codice e riusabilità. In particolare definiamo alcune funzioni per il calcolo delle accuratezze divise in :\n",
    " - Plotting Functions\n",
    " - Accurancy Functions\n",
    " - Others Functions"
   ]
  },
  {
   "cell_type": "code",
   "execution_count": 14,
   "id": "85be11f4",
   "metadata": {},
   "outputs": [],
   "source": [
    "# Plotting Functions\n",
    "def plot_separator_on_data(X, y, model=None):\n",
    "    '''plot data into 2d space'''\n",
    "    c_map = transactions[:X.values.shape[0]][\"isFraud\"].map({0: \"blue\", 1: \"red\"})\n",
    "    X = np.array(X)\n",
    "    plt.figure(figsize=(8, 6));\n",
    "    plt.scatter(X[:, 0], X[:, 1], c=c_map)\n",
    "    if model is not None:\n",
    "        xlim, ylim = plt.xlim(), plt.ylim()\n",
    "        sep_x = np.linspace(*xlim, 2)\n",
    "        sep_y = separator_2d(model, sep_x)\n",
    "        plt.plot(sep_x, sep_y, c=\"green\", linewidth=2)\n",
    "        plt.xlim(xlim)\n",
    "        plt.ylim(ylim)\n",
    "    return None\n",
    "\n",
    "def separator_2d(model, x1):\n",
    "    '''draw a 2d line based his equation'''\n",
    "    w = model.coef_[0]\n",
    "    b = model.intercept_[0]\n",
    "    return -x1 * w[0] / w[1] - b / w[1]"
   ]
  },
  {
   "cell_type": "code",
   "execution_count": 18,
   "id": "8a907b0b",
   "metadata": {},
   "outputs": [],
   "source": [
    "# Accurancy Functions\n",
    "from sklearn.metrics import precision_score, recall_score, f1_score, r2_score, confusion_matrix, mean_squared_error\n",
    "\n",
    "def rmspe(y_real, y_pred):\n",
    "    '''Root Mean Squared Percentage Error'''\n",
    "    if not y_real.all() > 0 : \n",
    "        print(y_real)\n",
    "        print(y_pred)\n",
    "        return -1\n",
    "    return np.sqrt(np.mean((y_pred /y_real - 1) ** 2))\n",
    "\n",
    "def print_eval_regressor(X, y, model):\n",
    "    '''print eval for regression model'''\n",
    "    y_pred = model.predict(X)\n",
    "    y = y.values.ravel()\n",
    "    print(f\"MSE   : {mean_squared_error(y, y_pred):12.4f}\")    \n",
    "    print(f\"RMSPE : {rmspe(y, y_pred):12.4f}\")\n",
    "    print_eval_base(X, y, model)\n",
    "    return None\n",
    "\n",
    "def print_eval_base(X, y, model, pad = 3):\n",
    "    '''print eval for all model, only R^2 score '''\n",
    "    print(f\"R^2{''.rjust(pad, ' ')}: {model.score(X,y):12.4f}\")\n",
    "    return None\n",
    "\n",
    "def print_eval_classify(X, y, model, classes):\n",
    "    '''print eval for classification model'''\n",
    "    y_pred = model.predict(X)    \n",
    "    cm = confusion_matrix(y, y_pred)\n",
    "    print(\"Confusion Matrix : \")\n",
    "    print_matrix(classes, cm)\n",
    "    print(f\"\\nPRECISION  : {precision_score(y, y_pred):12.4f}\")\n",
    "    print(f\"RECALL     : {recall_score(y, y_pred):12.4f}\")\n",
    "    print(f\"F1-MEASURE : {f1_score(y, y_pred, average='macro'):12.4f}\")\n",
    "    print_eval_base(X, y, model, 8)\n",
    "    return None\n",
    "\n",
    "def print_eval_neural_net(X, y, model, pad = 3):\n",
    "    '''print eval for all model, only R^2 score '''\n",
    "    print(f\"R^2{''.rjust(pad, ' ')}: {model.evaluate(X, y):12.4f}\")\n",
    "    return None"
   ]
  },
  {
   "cell_type": "code",
   "execution_count": 16,
   "id": "3ddd07eb",
   "metadata": {},
   "outputs": [],
   "source": [
    "# Others Functions\n",
    "def print_matrix(classes, matrix, pad = 10):\n",
    "    '''This method prints a matrix with better formatting.\n",
    "    Is used for print n x n confusion matrix'''\n",
    "    for i in range(len(classes)):\n",
    "        if i == 0 : \n",
    "            for c in ([\" \"] + classes):\n",
    "                print(f\"{c.rjust(pad, ' ')}\",end=' ')\n",
    "            print()\n",
    "        for j in range(len(classes)):\n",
    "            if (j == 0) : \n",
    "                print(f\"{classes[i].rjust(pad, ' ')}\",end=' ')\n",
    "            print(f\"{str(matrix[i][j]).rjust(pad, ' ')}\",end=' ')\n",
    "        print()\n",
    "    return None"
   ]
  },
  {
   "cell_type": "markdown",
   "id": "f9cd96ce",
   "metadata": {},
   "source": [
    "## 4.1 - Modelli di Regressione"
   ]
  },
  {
   "cell_type": "markdown",
   "id": "907dc4b2",
   "metadata": {},
   "source": [
    "Modelli di Regressione Implementati :\n",
    "   - Kernel Ridgle Regression\n",
    "   - XGBRegressor\n",
    "   - CatBoost\n",
    "   - LightBoost\n",
    "   - Logistic Regression"
   ]
  },
  {
   "cell_type": "markdown",
   "id": "5b931018",
   "metadata": {},
   "source": [
    "### 4.1.1 - Kernel Ridgle Regression"
   ]
  },
  {
   "cell_type": "code",
   "execution_count": 19,
   "id": "ee8b25db",
   "metadata": {},
   "outputs": [
    {
     "name": "stdout",
     "output_type": "stream",
     "text": [
      "       isFraud\n",
      "10650        0\n",
      "2041         0\n",
      "8668         0\n",
      "1114         0\n",
      "13902        0\n",
      "...        ...\n",
      "2213         0\n",
      "7163         0\n",
      "13130        0\n",
      "3336         0\n",
      "6930         0\n",
      "\n",
      "[6667 rows x 1 columns]\n",
      "[[ 0.00035126]\n",
      " [-0.00027486]\n",
      " [-0.00053878]\n",
      " ...\n",
      " [ 0.01276241]\n",
      " [ 0.02244361]\n",
      " [-0.00060952]]\n",
      "MSE   :       0.0042\n",
      "[0 0 0 ... 0 0 0]\n",
      "[[ 0.00035126]\n",
      " [-0.00027486]\n",
      " [-0.00053878]\n",
      " ...\n",
      " [ 0.01276241]\n",
      " [ 0.02244361]\n",
      " [-0.00060952]]\n",
      "RMSPE :      -1.0000\n",
      "R^2   :       0.0685\n"
     ]
    }
   ],
   "source": [
    "from sklearn.linear_model import Ridge\n",
    "\n",
    "model = Pipeline([\n",
    "    (\"preproc\", preproc),\n",
    "    (\"regRidge\", Ridge(alpha=1))\n",
    "])\n",
    "\n",
    "model.fit(X_train, y_train)\n",
    "print_eval_regressor(X_val, y_val, model)"
   ]
  },
  {
   "cell_type": "markdown",
   "id": "330eba91",
   "metadata": {},
   "source": [
    "### 4.1.2 - XGBRegressor"
   ]
  },
  {
   "cell_type": "code",
   "execution_count": null,
   "id": "276e1b26",
   "metadata": {},
   "outputs": [],
   "source": [
    "from xgboost import XGBRegressor\n",
    "\n",
    "model = Pipeline([\n",
    "    (\"preproc\", preproc),\n",
    "    (\"XGBRegressor\", XGBRegressor(objective='reg:squarederror', \n",
    "                    learning_rate = 0.01577, \n",
    "                    reg_lambda=0.008, \n",
    "                    reg_alpha=0.0001, \n",
    "                    n_estimators=1025))\n",
    "])\n",
    "\n",
    "model.fit(X_train, y_train)\n",
    "print_eval_regressor(X_val, y_val, model)"
   ]
  },
  {
   "cell_type": "markdown",
   "id": "4ee977ac",
   "metadata": {},
   "source": [
    "con XGBoost possiamo anche avere un'idea delle features che sono più o meno importatnti."
   ]
  },
  {
   "cell_type": "code",
   "execution_count": null,
   "id": "30e4d3b7",
   "metadata": {},
   "outputs": [],
   "source": [
    "pd.DataFrame(\n",
    "    pd.Series(model.named_steps[\"XGBRegressor\"].feature_importances_, index=f_names).sort_values(ascending=False),\n",
    "    columns = [\"value\"]\n",
    ").T"
   ]
  },
  {
   "cell_type": "markdown",
   "id": "6a110be6",
   "metadata": {},
   "source": [
    "### 4.1.3 - CatBoost"
   ]
  },
  {
   "cell_type": "code",
   "execution_count": null,
   "id": "04d76d7a",
   "metadata": {},
   "outputs": [],
   "source": [
    "from catboost import CatBoostRegressor\n",
    "\n",
    "model = Pipeline([\n",
    "    (\"preproc\", preproc),\n",
    "    (\"CatBoost\", CatBoostRegressor(n_estimators=500,learning_rate=0.05))\n",
    "])\n",
    "\n",
    "model.fit(X_train, y_train);"
   ]
  },
  {
   "cell_type": "code",
   "execution_count": null,
   "id": "42e0fabb",
   "metadata": {},
   "outputs": [],
   "source": [
    "print_eval_regressor(X_val, y_val, model)"
   ]
  },
  {
   "cell_type": "markdown",
   "id": "7db6230f",
   "metadata": {},
   "source": [
    "### 4.1.4 - LightBoost"
   ]
  },
  {
   "cell_type": "code",
   "execution_count": null,
   "id": "cbee4ea6",
   "metadata": {},
   "outputs": [],
   "source": [
    "from lightgbm import LGBMRegressor\n",
    "\n",
    "model = Pipeline([\n",
    "    (\"preproc\",preproc),\n",
    "    (\"LGBM\", LGBMRegressor(n_estimators=1200, random_state=43))\n",
    "])\n",
    "\n",
    "model.fit(X_train, y_train.values.ravel())\n",
    "print_eval_regressor(X_val, y_val, model)"
   ]
  },
  {
   "cell_type": "markdown",
   "id": "b2504158",
   "metadata": {},
   "source": [
    "### 4.1.5 - Logistic Regression"
   ]
  },
  {
   "cell_type": "code",
   "execution_count": null,
   "id": "131a82eb",
   "metadata": {},
   "outputs": [],
   "source": [
    "from sklearn.linear_model import LogisticRegression\n",
    "from sklearn.preprocessing import PolynomialFeatures\n",
    "\n",
    "model = Pipeline([\n",
    "    (\"preproc\", preproc),\n",
    "    (\"LogisticRegression\", LogisticRegression(solver=\"saga\", random_state=43, max_iter=100000))\n",
    "])\n",
    "\n",
    "model.fit(X_train, y_train.values.ravel())\n",
    "print_eval_regressor(X_val, y_val, model)"
   ]
  },
  {
   "cell_type": "markdown",
   "id": "ae26bcc1",
   "metadata": {},
   "source": [
    "Di seguito voglio creare un modello, uguale al precedente, con solo due feature per cercare di far capire\n",
    "come vengono fatti gli split e come l'algoritmo divide lo spazio.\n",
    "Non posso farlo con tutte le feature perchè sono > 2"
   ]
  },
  {
   "cell_type": "code",
   "execution_count": null,
   "id": "d4d65203",
   "metadata": {},
   "outputs": [],
   "source": [
    "X_lr = transactions[[\"oldbalanceOrg\",\"newbalanceOrig\"]]\n",
    "y_lr = transactions[[\"isFraud\"]]\n",
    "\n",
    "X_train_lr, X_val_lr, y_train_lr, y_val_lr = train_test_split(X_lr, y_lr, test_size=1/3, random_state=43)\n",
    "\n",
    "model_lr = Pipeline([\n",
    "    (\"scale\", StandardScaler()),\n",
    "    (\"LogisticRegression\", LogisticRegression(solver=\"saga\", random_state=43, max_iter=100000))\n",
    "])\n",
    "\n",
    "model_lr.fit(X_train_lr, y_train_lr.values.ravel())\n",
    "print_eval_regressor(X_val_lr, y_val_lr, model_lr)\n",
    "\n",
    "plot_separator_on_data(X_val_lr, y_val_lr, model_lr.named_steps[\"LogisticRegression\"]);"
   ]
  },
  {
   "cell_type": "markdown",
   "id": "3cf5daca",
   "metadata": {},
   "source": [
    "## 4.2 - Modelli di Classificazione"
   ]
  },
  {
   "cell_type": "markdown",
   "id": "49ad10ae",
   "metadata": {},
   "source": [
    "Dato che si tratta di un problema di classificazione binaria, proviamo ad usare per primi i modelli che fanno classificazione per poi passare ad algoritmi più avanzati. In questa sezione ho sviluppato e ottimizzato (senza grid search) i seguenti modelli :\n",
    "- Alberi Decisionali\n",
    "- XGBClassifier\n",
    "- Support Vector Machine"
   ]
  },
  {
   "cell_type": "markdown",
   "id": "a296dc7e",
   "metadata": {},
   "source": [
    "### 4.2.1 - Alberi Decisionali"
   ]
  },
  {
   "cell_type": "code",
   "execution_count": null,
   "id": "9d4984b5",
   "metadata": {},
   "outputs": [],
   "source": [
    "from sklearn.tree import DecisionTreeClassifier\n",
    "from sklearn.tree import plot_tree\n",
    "\n",
    "classes = [\"isFraud\", \"Honest\"]\n",
    "\n",
    "model_dt = Pipeline([\n",
    "    (\"preproc\", preproc),\n",
    "    (\"DecisionTreeClassifier\", DecisionTreeClassifier(max_depth=5,random_state=43))\n",
    "])\n",
    "\n",
    "model_dt.fit(X_train, y_train)\n",
    "print_eval_classify(X_val, y_val, model_dt, classes)\n",
    "\n",
    "plt.figure(figsize=(22, 6))\n",
    "plot_tree(model_dt.named_steps[\"DecisionTreeClassifier\"], max_depth=5, filled=True, fontsize=8);"
   ]
  },
  {
   "cell_type": "markdown",
   "id": "c2684557",
   "metadata": {},
   "source": [
    "I DecisionTree funzionano molto meglio dei modelli di regressione."
   ]
  },
  {
   "cell_type": "code",
   "execution_count": null,
   "id": "39ca3401",
   "metadata": {},
   "outputs": [],
   "source": [
    "mx1, mx2 = np.meshgrid(np.linspace(0, 2700, 100), np.linspace(0, 0.22, 100))\n",
    "my = model.predict_proba(np.c_[mx1.ravel(), mx2.ravel()])[:, 1].reshape(mx1.shape)\n",
    "plt.figure(figsize=(9, 6))\n",
    "plt.contourf(mx1, mx2, my, cmap=\"summer\")\n",
    "plt.scatter(*X2d_train.values.T, c=y_train.map(diagnosis_color_map))\n",
    "plt.colorbar();"
   ]
  },
  {
   "cell_type": "markdown",
   "id": "7552fc56",
   "metadata": {},
   "source": [
    "Vediamo quali spit fa stampando in maniera testuale l'albero di classificazione :"
   ]
  },
  {
   "cell_type": "code",
   "execution_count": null,
   "id": "8c5cb9e8",
   "metadata": {},
   "outputs": [],
   "source": [
    "from sklearn.tree import export_text\n",
    "print(export_text(model.named_steps[\"DecisionTreeClassifier\"], feature_names=f_names))"
   ]
  },
  {
   "cell_type": "markdown",
   "id": "2834ecdd",
   "metadata": {},
   "source": [
    "### 4.2.2 - XGBClassifier"
   ]
  },
  {
   "cell_type": "code",
   "execution_count": null,
   "id": "26e3f176",
   "metadata": {},
   "outputs": [],
   "source": [
    "from xgboost import XGBClassifier \n",
    "\n",
    "model_xgb = Pipeline([\n",
    "    (\"preproc\", preproc),\n",
    "    (\"XGBClassifier\", XGBClassifier(objective='reg:squarederror', \n",
    "                    learning_rate = 0.01577, \n",
    "                    reg_lambda=0.008, \n",
    "                    reg_alpha=0.0001, \n",
    "                    n_estimators=1025))\n",
    "])\n",
    "\n",
    "model_xgb.fit(X_train, y_train)\n",
    "print_eval_classify(X_val, y_val, model_xgb, classes)"
   ]
  },
  {
   "cell_type": "markdown",
   "id": "81d120d9",
   "metadata": {},
   "source": [
    "### 4.2.3 - Support Vector Machines (SVM)"
   ]
  },
  {
   "cell_type": "code",
   "execution_count": null,
   "id": "0d69b20c",
   "metadata": {},
   "outputs": [],
   "source": [
    "from sklearn.svm import SVC\n",
    "\n",
    "model_svm = Pipeline([\n",
    "    (\"preproc\", preproc),\n",
    "    (\"SVM\", SVC(random_state=43,C=0.1,degree=5))\n",
    "])\n",
    "\n",
    "model_svm.fit(X_train, y_train.values.ravel())\n",
    "print_eval_classify(X_val, y_val, model_svm, classes)"
   ]
  },
  {
   "cell_type": "markdown",
   "id": "90a70ceb",
   "metadata": {},
   "source": [
    "## 4.3 - Neural Network"
   ]
  },
  {
   "cell_type": "markdown",
   "id": "a58fa22e",
   "metadata": {},
   "source": [
    "Proviamo ora ad implementare un modello neurale e vedere se può risolvere anche lui il problema"
   ]
  },
  {
   "cell_type": "markdown",
   "id": "b2512430",
   "metadata": {},
   "source": [
    "Prima di procedere assicurarsi di aver installato la libreria TensorFlow."
   ]
  },
  {
   "cell_type": "code",
   "execution_count": null,
   "id": "6338f45b",
   "metadata": {},
   "outputs": [],
   "source": [
    "#%conda install TensorFlow"
   ]
  },
  {
   "cell_type": "code",
   "execution_count": null,
   "id": "671a1621",
   "metadata": {
    "scrolled": true
   },
   "outputs": [],
   "source": [
    "from tensorflow.keras.models import Sequential\n",
    "from tensorflow.keras.layers import Dense\n",
    "from tensorflow.keras.metrics import Precision\n",
    "from tensorflow.keras.metrics import Recall\n",
    "\n",
    "X_train_nn = preproc.fit_transform(X_train)\n",
    "X_val_nn = preproc.transform(X_val)\n",
    "\n",
    "model_nn = Sequential([\n",
    "    Dense(8, activation=\"relu\", input_dim=8),\n",
    "    Dense(1)\n",
    "])\n",
    "model_nn.summary()\n",
    "model_nn.compile(optimizer=\"adam\",loss=\"mse\")\n",
    "fit_history = model_nn.fit(X_train_nn, y_train, batch_size=10, epochs=15)"
   ]
  },
  {
   "cell_type": "code",
   "execution_count": null,
   "id": "a3423a3f",
   "metadata": {},
   "outputs": [],
   "source": [
    "print_eval_neural_net(X_val_nn, y_val, model_nn)"
   ]
  },
  {
   "cell_type": "markdown",
   "id": "0d2aa43d",
   "metadata": {},
   "source": [
    "Vediamo come possiamo grafica le misure d'errore"
   ]
  },
  {
   "cell_type": "code",
   "execution_count": null,
   "id": "16926ffd",
   "metadata": {},
   "outputs": [],
   "source": [
    "plt.plot(fit_history.history[\"loss\"], \"ro-\")\n",
    "plt.legend([\"Loss (Mean Square Error)\"])\n",
    "plt.xlabel(\"Epochs\");"
   ]
  },
  {
   "cell_type": "markdown",
   "id": "517dde04",
   "metadata": {},
   "source": [
    "grazie alla classe KerasRegressor possiamo usare le potenzialità di Kerar unite al concetto di Pipeline, GridSearh ecc..\n",
    "di scikit-lean"
   ]
  },
  {
   "cell_type": "code",
   "execution_count": null,
   "id": "9938bd9c",
   "metadata": {},
   "outputs": [],
   "source": [
    "def build_nn(nodes, inpDim):\n",
    "    model = Sequential([\n",
    "        Dense(nodes, activation=\"relu\", input_dim=inpDim),\n",
    "        Dense(256, activation=\"relu\"),\n",
    "        Dense(256, activation=\"relu\"),\n",
    "        Dense(64, activation=\"relu\"),\n",
    "        Dense(1)\n",
    "    ])\n",
    "    model.compile(optimizer=\"adam\", loss=\"mean_squared_error\")\n",
    "    model.summary()\n",
    "    return model"
   ]
  },
  {
   "cell_type": "code",
   "execution_count": null,
   "id": "e3134f34",
   "metadata": {
    "scrolled": true
   },
   "outputs": [],
   "source": [
    "from tensorflow.keras.wrappers.scikit_learn import KerasRegressor\n",
    "\n",
    "model = Pipeline([\n",
    "    (\"preproc\", preproc),\n",
    "    (\"NN\", KerasRegressor(build_fn=build_nn, nodes=128, inpDim=8, epochs=100, batch_size=10))\n",
    "])\n",
    "model.fit(X_train, y_train);"
   ]
  },
  {
   "cell_type": "code",
   "execution_count": null,
   "id": "5e60f1fa",
   "metadata": {},
   "outputs": [],
   "source": [
    "print_eval_base(X_val, y_val, model)"
   ]
  },
  {
   "cell_type": "markdown",
   "id": "fdc5cfbb",
   "metadata": {},
   "source": [
    "## 5 - Tuning degli Iperparametri"
   ]
  },
  {
   "cell_type": "markdown",
   "id": "60299a06",
   "metadata": {},
   "source": [
    "Per questa parte utilizziamo una porzione più ampia del datataset"
   ]
  },
  {
   "cell_type": "markdown",
   "id": "c5594978",
   "metadata": {},
   "source": [
    "In questa parte andremo ad suddividere il dataset in 3 parti e le useremo nel seguente modo :\n",
    "   - Training Set : Per addestrare i modelli\n",
    "   - Validation Set : Per vericare l'accuratteza dei modelli su dati mai visti in fase di training\n",
    "   - Test Set : Per calcolare la confidenza"
   ]
  },
  {
   "cell_type": "code",
   "execution_count": null,
   "id": "0bfdc59f",
   "metadata": {},
   "outputs": [],
   "source": [
    "from sklearn.model_selection import GridSearchCV, KFold\n",
    "kf = KFold(3, shuffle=True, random_state=42)\n",
    "\n",
    "transactions = pd.read_csv(\"../data/data.csv\", nrows=200_000)\n",
    "X = transactions[feature_list]\n",
    "y = transactions[[\"isFraud\"]]\n",
    "\n",
    "X_train, X_val, y_train, y_val = train_test_split(X, y, test_size=1/3, random_state=42)\n",
    "X_train, X_test, y_train, y_test = train_test_split(X_train, y_train, test_size=1/3, random_state=42)"
   ]
  },
  {
   "cell_type": "markdown",
   "id": "605330c5",
   "metadata": {},
   "source": [
    "I modelli che meglio si sono comportati per questo esperimento sono stati, come ci si poteva aspettare,\n",
    "i modelli di classificazione. Andiamo quindi a cercare i migliori iperparametri per i seguenti modelli : \n",
    " - Alberi Decisionali\n",
    " - Support Vector Machines (SVM)"
   ]
  },
  {
   "cell_type": "code",
   "execution_count": null,
   "id": "91f62688",
   "metadata": {},
   "outputs": [],
   "source": [
    "grid = {\n",
    "    \"DecisionTreeClassifier__max_depth\": [5,10]\n",
    "}\n",
    "\n",
    "gs = GridSearchCV(model_dt, grid, cv=kf)\n",
    "gs.fit(X_train, y_train)\n",
    "pd.DataFrame(gs.cv_results_).sort_values(\"rank_test_score\").head(5)"
   ]
  },
  {
   "cell_type": "code",
   "execution_count": null,
   "id": "2ef548f2",
   "metadata": {},
   "outputs": [],
   "source": [
    "grid = {\n",
    "    \"SVM__degree\": [3, 4],\n",
    "    \"SVM__kernel\": ['linear', 'poly', 'rbf']\n",
    "}\n",
    "\n",
    "gs = GridSearchCV(model_svm, grid, cv=kf)\n",
    "gs.fit(X_train, y_train.values.ravel());\n",
    "pd.DataFrame(gs.cv_results_).sort_values(\"rank_test_score\").head(5)"
   ]
  },
  {
   "cell_type": "markdown",
   "id": "1780b2fe",
   "metadata": {},
   "source": [
    "## 6 - Conclusioni "
   ]
  },
  {
   "cell_type": "markdown",
   "id": "42aee6ef",
   "metadata": {},
   "source": [
    "Possiamo stimare l'accuratezza sui nuovi dati con un processo Bernoulliano :"
   ]
  },
  {
   "cell_type": "code",
   "execution_count": null,
   "id": "d4d380fc",
   "metadata": {},
   "outputs": [],
   "source": [
    "def bernoulli_process(cm, confidence) :\n",
    "    '''given confusion matrix and confidence this method return the two interval value : lower bound and upper bound'''\n",
    "    z = confidence[0][0]\n",
    "    f = S / N\n",
    "    p_ub = (f + z**2/(2*N) + z*np.sqrt(f/N - f**2/N + z**2/4*N**2)) / (1+z**2/N)\n",
    "    p_lb = (f + z**2/(2*N) - z*np.sqrt(f/N - f**2/N + z**2/4*N**2)) / (1+z**2/N)\n",
    "    return p_lb, p_ub"
   ]
  },
  {
   "cell_type": "markdown",
   "id": "9624a38a",
   "metadata": {},
   "source": [
    "## 8- Link alle risorse\n",
    "#### Link al dataset di kaggle\n",
    "https://www.kaggle.com/datasets/rupakroy/online-payments-fraud-detection-dataset"
   ]
  }
 ],
 "metadata": {
  "kernelspec": {
   "display_name": "Python 3 (ipykernel)",
   "language": "python",
   "name": "python3"
  },
  "language_info": {
   "codemirror_mode": {
    "name": "ipython",
    "version": 3
   },
   "file_extension": ".py",
   "mimetype": "text/x-python",
   "name": "python",
   "nbconvert_exporter": "python",
   "pygments_lexer": "ipython3",
   "version": "3.8.8"
  }
 },
 "nbformat": 4,
 "nbformat_minor": 5
}
