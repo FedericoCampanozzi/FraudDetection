{
 "cells": [
  {
   "cell_type": "markdown",
   "id": "36fef92c",
   "metadata": {},
   "source": [
    "# Federico Campanozzi - Progetto Data Intensive con Relazione\n",
    "                                                                                                             a.a. 2021/2022"
   ]
  },
  {
   "cell_type": "markdown",
   "id": "1b2f832f",
   "metadata": {},
   "source": [
    "## 1 - Descrizione del problema"
   ]
  },
  {
   "cell_type": "markdown",
   "id": "b35a7db4",
   "metadata": {},
   "source": [
    "Il problema è determinare se una transazione è fraudolenta oppure no."
   ]
  },
  {
   "cell_type": "markdown",
   "id": "1a8e2d07",
   "metadata": {},
   "source": [
    "### 1.1 - Descrizione del Dataset"
   ]
  },
  {
   "cell_type": "markdown",
   "id": "08ac2219",
   "metadata": {},
   "source": [
    "Le colonne del dataset sono così definite : \n",
    "- step: rappresenta un'unita di tempo 1 = 1 ora\n",
    "- type: tipo di transazione\n",
    "- amount: the amount of the transaction\n",
    "- nameOrig: customer starting the transaction\n",
    "- oldbalanceOrg: balance before the transaction\n",
    "- newbalanceOrig: balance after the transaction\n",
    "- nameDest: recipient of the transaction\n",
    "- oldbalanceDest: initial balance of recipient before the transaction\n",
    "- newbalanceDest: the new balance of recipient after the transaction\n",
    "- isFraud: fraud transaction\n",
    "- isFlaggedFraud : il risultato del modello predittivo"
   ]
  },
  {
   "cell_type": "markdown",
   "id": "e1da3f3e",
   "metadata": {},
   "source": [
    "## 2- Analisi esplorativa"
   ]
  },
  {
   "cell_type": "code",
   "execution_count": 120,
   "id": "ca9a2c03",
   "metadata": {},
   "outputs": [],
   "source": [
    "import numpy as np\n",
    "import pandas as pd\n",
    "import matplotlib.pyplot as plt\n",
    "%matplotlib inline"
   ]
  },
  {
   "cell_type": "code",
   "execution_count": 121,
   "id": "0059e4b7",
   "metadata": {},
   "outputs": [
    {
     "data": {
      "text/html": [
       "<div>\n",
       "<style scoped>\n",
       "    .dataframe tbody tr th:only-of-type {\n",
       "        vertical-align: middle;\n",
       "    }\n",
       "\n",
       "    .dataframe tbody tr th {\n",
       "        vertical-align: top;\n",
       "    }\n",
       "\n",
       "    .dataframe thead th {\n",
       "        text-align: right;\n",
       "    }\n",
       "</style>\n",
       "<table border=\"1\" class=\"dataframe\">\n",
       "  <thead>\n",
       "    <tr style=\"text-align: right;\">\n",
       "      <th></th>\n",
       "      <th>step</th>\n",
       "      <th>type</th>\n",
       "      <th>amount</th>\n",
       "      <th>nameOrig</th>\n",
       "      <th>oldbalanceOrg</th>\n",
       "      <th>newbalanceOrig</th>\n",
       "      <th>nameDest</th>\n",
       "      <th>oldbalanceDest</th>\n",
       "      <th>newbalanceDest</th>\n",
       "      <th>isFraud</th>\n",
       "      <th>isFlaggedFraud</th>\n",
       "    </tr>\n",
       "  </thead>\n",
       "  <tbody>\n",
       "    <tr>\n",
       "      <th>0</th>\n",
       "      <td>1</td>\n",
       "      <td>PAYMENT</td>\n",
       "      <td>9839.64</td>\n",
       "      <td>C1231006815</td>\n",
       "      <td>170136.00</td>\n",
       "      <td>160296.36</td>\n",
       "      <td>M1979787155</td>\n",
       "      <td>0.0</td>\n",
       "      <td>0.00</td>\n",
       "      <td>0</td>\n",
       "      <td>0</td>\n",
       "    </tr>\n",
       "    <tr>\n",
       "      <th>1</th>\n",
       "      <td>1</td>\n",
       "      <td>PAYMENT</td>\n",
       "      <td>1864.28</td>\n",
       "      <td>C1666544295</td>\n",
       "      <td>21249.00</td>\n",
       "      <td>19384.72</td>\n",
       "      <td>M2044282225</td>\n",
       "      <td>0.0</td>\n",
       "      <td>0.00</td>\n",
       "      <td>0</td>\n",
       "      <td>0</td>\n",
       "    </tr>\n",
       "    <tr>\n",
       "      <th>2</th>\n",
       "      <td>1</td>\n",
       "      <td>TRANSFER</td>\n",
       "      <td>181.00</td>\n",
       "      <td>C1305486145</td>\n",
       "      <td>181.00</td>\n",
       "      <td>0.00</td>\n",
       "      <td>C553264065</td>\n",
       "      <td>0.0</td>\n",
       "      <td>0.00</td>\n",
       "      <td>1</td>\n",
       "      <td>0</td>\n",
       "    </tr>\n",
       "    <tr>\n",
       "      <th>3</th>\n",
       "      <td>1</td>\n",
       "      <td>CASH_OUT</td>\n",
       "      <td>181.00</td>\n",
       "      <td>C840083671</td>\n",
       "      <td>181.00</td>\n",
       "      <td>0.00</td>\n",
       "      <td>C38997010</td>\n",
       "      <td>21182.0</td>\n",
       "      <td>0.00</td>\n",
       "      <td>1</td>\n",
       "      <td>0</td>\n",
       "    </tr>\n",
       "    <tr>\n",
       "      <th>4</th>\n",
       "      <td>1</td>\n",
       "      <td>PAYMENT</td>\n",
       "      <td>11668.14</td>\n",
       "      <td>C2048537720</td>\n",
       "      <td>41554.00</td>\n",
       "      <td>29885.86</td>\n",
       "      <td>M1230701703</td>\n",
       "      <td>0.0</td>\n",
       "      <td>0.00</td>\n",
       "      <td>0</td>\n",
       "      <td>0</td>\n",
       "    </tr>\n",
       "    <tr>\n",
       "      <th>5</th>\n",
       "      <td>1</td>\n",
       "      <td>PAYMENT</td>\n",
       "      <td>7817.71</td>\n",
       "      <td>C90045638</td>\n",
       "      <td>53860.00</td>\n",
       "      <td>46042.29</td>\n",
       "      <td>M573487274</td>\n",
       "      <td>0.0</td>\n",
       "      <td>0.00</td>\n",
       "      <td>0</td>\n",
       "      <td>0</td>\n",
       "    </tr>\n",
       "    <tr>\n",
       "      <th>6</th>\n",
       "      <td>1</td>\n",
       "      <td>PAYMENT</td>\n",
       "      <td>7107.77</td>\n",
       "      <td>C154988899</td>\n",
       "      <td>183195.00</td>\n",
       "      <td>176087.23</td>\n",
       "      <td>M408069119</td>\n",
       "      <td>0.0</td>\n",
       "      <td>0.00</td>\n",
       "      <td>0</td>\n",
       "      <td>0</td>\n",
       "    </tr>\n",
       "    <tr>\n",
       "      <th>7</th>\n",
       "      <td>1</td>\n",
       "      <td>PAYMENT</td>\n",
       "      <td>7861.64</td>\n",
       "      <td>C1912850431</td>\n",
       "      <td>176087.23</td>\n",
       "      <td>168225.59</td>\n",
       "      <td>M633326333</td>\n",
       "      <td>0.0</td>\n",
       "      <td>0.00</td>\n",
       "      <td>0</td>\n",
       "      <td>0</td>\n",
       "    </tr>\n",
       "    <tr>\n",
       "      <th>8</th>\n",
       "      <td>1</td>\n",
       "      <td>PAYMENT</td>\n",
       "      <td>4024.36</td>\n",
       "      <td>C1265012928</td>\n",
       "      <td>2671.00</td>\n",
       "      <td>0.00</td>\n",
       "      <td>M1176932104</td>\n",
       "      <td>0.0</td>\n",
       "      <td>0.00</td>\n",
       "      <td>0</td>\n",
       "      <td>0</td>\n",
       "    </tr>\n",
       "    <tr>\n",
       "      <th>9</th>\n",
       "      <td>1</td>\n",
       "      <td>DEBIT</td>\n",
       "      <td>5337.77</td>\n",
       "      <td>C712410124</td>\n",
       "      <td>41720.00</td>\n",
       "      <td>36382.23</td>\n",
       "      <td>C195600860</td>\n",
       "      <td>41898.0</td>\n",
       "      <td>40348.79</td>\n",
       "      <td>0</td>\n",
       "      <td>0</td>\n",
       "    </tr>\n",
       "  </tbody>\n",
       "</table>\n",
       "</div>"
      ],
      "text/plain": [
       "   step      type    amount     nameOrig  oldbalanceOrg  newbalanceOrig  \\\n",
       "0     1   PAYMENT   9839.64  C1231006815      170136.00       160296.36   \n",
       "1     1   PAYMENT   1864.28  C1666544295       21249.00        19384.72   \n",
       "2     1  TRANSFER    181.00  C1305486145         181.00            0.00   \n",
       "3     1  CASH_OUT    181.00   C840083671         181.00            0.00   \n",
       "4     1   PAYMENT  11668.14  C2048537720       41554.00        29885.86   \n",
       "5     1   PAYMENT   7817.71    C90045638       53860.00        46042.29   \n",
       "6     1   PAYMENT   7107.77   C154988899      183195.00       176087.23   \n",
       "7     1   PAYMENT   7861.64  C1912850431      176087.23       168225.59   \n",
       "8     1   PAYMENT   4024.36  C1265012928        2671.00            0.00   \n",
       "9     1     DEBIT   5337.77   C712410124       41720.00        36382.23   \n",
       "\n",
       "      nameDest  oldbalanceDest  newbalanceDest  isFraud  isFlaggedFraud  \n",
       "0  M1979787155             0.0            0.00        0               0  \n",
       "1  M2044282225             0.0            0.00        0               0  \n",
       "2   C553264065             0.0            0.00        1               0  \n",
       "3    C38997010         21182.0            0.00        1               0  \n",
       "4  M1230701703             0.0            0.00        0               0  \n",
       "5   M573487274             0.0            0.00        0               0  \n",
       "6   M408069119             0.0            0.00        0               0  \n",
       "7   M633326333             0.0            0.00        0               0  \n",
       "8  M1176932104             0.0            0.00        0               0  \n",
       "9   C195600860         41898.0        40348.79        0               0  "
      ]
     },
     "execution_count": 121,
     "metadata": {},
     "output_type": "execute_result"
    }
   ],
   "source": [
    "transactions = pd.read_csv(\"../data/data.csv\")\n",
    "transactions[:10]"
   ]
  },
  {
   "cell_type": "markdown",
   "id": "eef91c1f",
   "metadata": {},
   "source": [
    "Estraiamo dal dataframe tutte le informazioni statistiche e gli aggiungiamo anche altre due informazione\n",
    "che possono essere utili per capire la distribuzione dei dati, ovvero il numero di valori distinti e il numero\n",
    "di valori nulli."
   ]
  },
  {
   "cell_type": "code",
   "execution_count": 122,
   "id": "7ff765b0",
   "metadata": {},
   "outputs": [
    {
     "data": {
      "text/html": [
       "<div>\n",
       "<style scoped>\n",
       "    .dataframe tbody tr th:only-of-type {\n",
       "        vertical-align: middle;\n",
       "    }\n",
       "\n",
       "    .dataframe tbody tr th {\n",
       "        vertical-align: top;\n",
       "    }\n",
       "\n",
       "    .dataframe thead th {\n",
       "        text-align: right;\n",
       "    }\n",
       "</style>\n",
       "<table border=\"1\" class=\"dataframe\">\n",
       "  <thead>\n",
       "    <tr style=\"text-align: right;\">\n",
       "      <th></th>\n",
       "      <th>step</th>\n",
       "      <th>amount</th>\n",
       "      <th>oldbalanceOrg</th>\n",
       "      <th>newbalanceOrig</th>\n",
       "      <th>oldbalanceDest</th>\n",
       "      <th>newbalanceDest</th>\n",
       "      <th>isFraud</th>\n",
       "      <th>isFlaggedFraud</th>\n",
       "    </tr>\n",
       "  </thead>\n",
       "  <tbody>\n",
       "    <tr>\n",
       "      <th>count</th>\n",
       "      <td>6.362620e+06</td>\n",
       "      <td>6.362620e+06</td>\n",
       "      <td>6.362620e+06</td>\n",
       "      <td>6.362620e+06</td>\n",
       "      <td>6.362620e+06</td>\n",
       "      <td>6.362620e+06</td>\n",
       "      <td>6.362620e+06</td>\n",
       "      <td>6.362620e+06</td>\n",
       "    </tr>\n",
       "    <tr>\n",
       "      <th>mean</th>\n",
       "      <td>2.433972e+02</td>\n",
       "      <td>1.798619e+05</td>\n",
       "      <td>8.338831e+05</td>\n",
       "      <td>8.551137e+05</td>\n",
       "      <td>1.100702e+06</td>\n",
       "      <td>1.224996e+06</td>\n",
       "      <td>1.290820e-03</td>\n",
       "      <td>2.514687e-06</td>\n",
       "    </tr>\n",
       "    <tr>\n",
       "      <th>std</th>\n",
       "      <td>1.423320e+02</td>\n",
       "      <td>6.038582e+05</td>\n",
       "      <td>2.888243e+06</td>\n",
       "      <td>2.924049e+06</td>\n",
       "      <td>3.399180e+06</td>\n",
       "      <td>3.674129e+06</td>\n",
       "      <td>3.590480e-02</td>\n",
       "      <td>1.585775e-03</td>\n",
       "    </tr>\n",
       "    <tr>\n",
       "      <th>min</th>\n",
       "      <td>1.000000e+00</td>\n",
       "      <td>0.000000e+00</td>\n",
       "      <td>0.000000e+00</td>\n",
       "      <td>0.000000e+00</td>\n",
       "      <td>0.000000e+00</td>\n",
       "      <td>0.000000e+00</td>\n",
       "      <td>0.000000e+00</td>\n",
       "      <td>0.000000e+00</td>\n",
       "    </tr>\n",
       "    <tr>\n",
       "      <th>25%</th>\n",
       "      <td>1.560000e+02</td>\n",
       "      <td>1.338957e+04</td>\n",
       "      <td>0.000000e+00</td>\n",
       "      <td>0.000000e+00</td>\n",
       "      <td>0.000000e+00</td>\n",
       "      <td>0.000000e+00</td>\n",
       "      <td>0.000000e+00</td>\n",
       "      <td>0.000000e+00</td>\n",
       "    </tr>\n",
       "    <tr>\n",
       "      <th>50%</th>\n",
       "      <td>2.390000e+02</td>\n",
       "      <td>7.487194e+04</td>\n",
       "      <td>1.420800e+04</td>\n",
       "      <td>0.000000e+00</td>\n",
       "      <td>1.327057e+05</td>\n",
       "      <td>2.146614e+05</td>\n",
       "      <td>0.000000e+00</td>\n",
       "      <td>0.000000e+00</td>\n",
       "    </tr>\n",
       "    <tr>\n",
       "      <th>75%</th>\n",
       "      <td>3.350000e+02</td>\n",
       "      <td>2.087215e+05</td>\n",
       "      <td>1.073152e+05</td>\n",
       "      <td>1.442584e+05</td>\n",
       "      <td>9.430367e+05</td>\n",
       "      <td>1.111909e+06</td>\n",
       "      <td>0.000000e+00</td>\n",
       "      <td>0.000000e+00</td>\n",
       "    </tr>\n",
       "    <tr>\n",
       "      <th>max</th>\n",
       "      <td>7.430000e+02</td>\n",
       "      <td>9.244552e+07</td>\n",
       "      <td>5.958504e+07</td>\n",
       "      <td>4.958504e+07</td>\n",
       "      <td>3.560159e+08</td>\n",
       "      <td>3.561793e+08</td>\n",
       "      <td>1.000000e+00</td>\n",
       "      <td>1.000000e+00</td>\n",
       "    </tr>\n",
       "    <tr>\n",
       "      <th>valori distinti</th>\n",
       "      <td>7.430000e+02</td>\n",
       "      <td>5.316900e+06</td>\n",
       "      <td>1.845844e+06</td>\n",
       "      <td>2.682586e+06</td>\n",
       "      <td>3.614697e+06</td>\n",
       "      <td>3.555499e+06</td>\n",
       "      <td>2.000000e+00</td>\n",
       "      <td>2.000000e+00</td>\n",
       "    </tr>\n",
       "    <tr>\n",
       "      <th>valori nulli</th>\n",
       "      <td>0.000000e+00</td>\n",
       "      <td>0.000000e+00</td>\n",
       "      <td>0.000000e+00</td>\n",
       "      <td>0.000000e+00</td>\n",
       "      <td>0.000000e+00</td>\n",
       "      <td>0.000000e+00</td>\n",
       "      <td>0.000000e+00</td>\n",
       "      <td>0.000000e+00</td>\n",
       "    </tr>\n",
       "  </tbody>\n",
       "</table>\n",
       "</div>"
      ],
      "text/plain": [
       "                         step        amount  oldbalanceOrg  newbalanceOrig  \\\n",
       "count            6.362620e+06  6.362620e+06   6.362620e+06    6.362620e+06   \n",
       "mean             2.433972e+02  1.798619e+05   8.338831e+05    8.551137e+05   \n",
       "std              1.423320e+02  6.038582e+05   2.888243e+06    2.924049e+06   \n",
       "min              1.000000e+00  0.000000e+00   0.000000e+00    0.000000e+00   \n",
       "25%              1.560000e+02  1.338957e+04   0.000000e+00    0.000000e+00   \n",
       "50%              2.390000e+02  7.487194e+04   1.420800e+04    0.000000e+00   \n",
       "75%              3.350000e+02  2.087215e+05   1.073152e+05    1.442584e+05   \n",
       "max              7.430000e+02  9.244552e+07   5.958504e+07    4.958504e+07   \n",
       "valori distinti  7.430000e+02  5.316900e+06   1.845844e+06    2.682586e+06   \n",
       "valori nulli     0.000000e+00  0.000000e+00   0.000000e+00    0.000000e+00   \n",
       "\n",
       "                 oldbalanceDest  newbalanceDest       isFraud  isFlaggedFraud  \n",
       "count              6.362620e+06    6.362620e+06  6.362620e+06    6.362620e+06  \n",
       "mean               1.100702e+06    1.224996e+06  1.290820e-03    2.514687e-06  \n",
       "std                3.399180e+06    3.674129e+06  3.590480e-02    1.585775e-03  \n",
       "min                0.000000e+00    0.000000e+00  0.000000e+00    0.000000e+00  \n",
       "25%                0.000000e+00    0.000000e+00  0.000000e+00    0.000000e+00  \n",
       "50%                1.327057e+05    2.146614e+05  0.000000e+00    0.000000e+00  \n",
       "75%                9.430367e+05    1.111909e+06  0.000000e+00    0.000000e+00  \n",
       "max                3.560159e+08    3.561793e+08  1.000000e+00    1.000000e+00  \n",
       "valori distinti    3.614697e+06    3.555499e+06  2.000000e+00    2.000000e+00  \n",
       "valori nulli       0.000000e+00    0.000000e+00  0.000000e+00    0.000000e+00  "
      ]
     },
     "execution_count": 122,
     "metadata": {},
     "output_type": "execute_result"
    }
   ],
   "source": [
    "vMtx = transactions.describe().values\n",
    "vMtx = np.vstack([vMtx, [len(transactions[c].unique()) for c in [\"step\",\"amount\",\"oldbalanceOrg\",\n",
    "                                                                 \"newbalanceOrig\",\"oldbalanceDest\",\"newbalanceDest\",\n",
    "                                                                 \"isFraud\", \"isFlaggedFraud\"]]])\n",
    "vMtx = np.vstack([vMtx, transactions.describe().isna().sum().values])\n",
    "pd.DataFrame(data=vMtx,\n",
    "             index=['count','mean','std','min','25%','50%','75%','max','valori distinti','valori nulli'],\n",
    "             columns=transactions.describe().columns)"
   ]
  },
  {
   "cell_type": "markdown",
   "id": "a6271be2",
   "metadata": {},
   "source": [
    "### 2.1 - Grafici"
   ]
  },
  {
   "cell_type": "markdown",
   "id": "2bff256c",
   "metadata": {},
   "source": [
    "Ho creato dei grafici per le transazioni fraudolente per far capire (graficamente) quanto il numero di istanze\n",
    "siano differenti e quanto il tipo di transazione (colonna \"type\") incida."
   ]
  },
  {
   "cell_type": "code",
   "execution_count": 123,
   "id": "bdbb25c0",
   "metadata": {},
   "outputs": [
    {
     "data": {
      "image/png": "[encoded data removed]",
      "text/plain": [
       "<Figure size 1152x720 with 3 Axes>"
      ]
     },
     "metadata": {},
     "output_type": "display_data"
    }
   ],
   "source": [
    "plt.figure(figsize=(16, 10))\n",
    "transactions[\"type\"].value_counts().plot.pie(ax=plt.subplot(1, 3, 1));\n",
    "transactions[\"isFraud\"].value_counts().plot.pie(ax=plt.subplot(1, 3, 2));\n",
    "transactions[transactions[\"isFraud\"] == 1][\"type\"].value_counts().plot.pie(ax=plt.subplot(1, 3,3));"
   ]
  },
  {
   "cell_type": "code",
   "execution_count": 124,
   "id": "e5574776",
   "metadata": {},
   "outputs": [],
   "source": [
    "feature_list = [\"type\",\"amount\",\"oldbalanceOrg\",\"newbalanceOrig\"] ##### ????"
   ]
  },
  {
   "cell_type": "markdown",
   "id": "78628669",
   "metadata": {},
   "source": [
    "Per visualizzare le feauter si può procedere in diversi modi. Quello proposto in questo progetto è la creazione\n",
    "di n grafici che combina 2 feature alla volta. Questo approccio può andare bene se il numero di feature è ridotto (<10)\n",
    "altrimenti bisogna procedere a buon senso creando manualmente i grafici di quelle feature che potrebbero essere\n",
    "in qualche modo dipendente.\n",
    "\n",
    "Per fare questo esperimento usiamo un numero di istanze maggiori per avere una porzione di dataset più significativa."
   ]
  },
  {
   "cell_type": "code",
   "execution_count": 125,
   "id": "7ef03a4f",
   "metadata": {
    "scrolled": false
   },
   "outputs": [
    {
     "data": {
      "image/png": "[encoded data removed]",
      "text/plain": [
       "<Figure size 720x432 with 1 Axes>"
      ]
     },
     "metadata": {
      "needs_background": "light"
     },
     "output_type": "display_data"
    },
    {
     "data": {
      "image/png": "[encoded data removed]",
      "text/plain": [
       "<Figure size 720x432 with 1 Axes>"
      ]
     },
     "metadata": {
      "needs_background": "light"
     },
     "output_type": "display_data"
    },
    {
     "data": {
      "image/png": "[encoded data removed]",
      "text/plain": [
       "<Figure size 720x432 with 1 Axes>"
      ]
     },
     "metadata": {
      "needs_background": "light"
     },
     "output_type": "display_data"
    }
   ],
   "source": [
    "transactions = pd.read_csv(\"../data/data.csv\", nrows=40_000)\n",
    "tfraut_colors = transactions[\"isFraud\"].map({0: \"blue\", 1: \"red\"})\n",
    "for f_i in range(1,len(feature_list)):\n",
    "     for f_j in range(f_i + 1, len(feature_list)) :        \n",
    "        transactions.plot.scatter(feature_list[f_i], feature_list[f_j], c=tfraut_colors, figsize=(10, 6));"
   ]
  },
  {
   "cell_type": "markdown",
   "id": "1d62ab2a",
   "metadata": {},
   "source": [
    "## 3 - Normalizzazione dei dati"
   ]
  },
  {
   "cell_type": "markdown",
   "id": "fce96a1d",
   "metadata": {},
   "source": [
    "In questo progetto non abbiamo molte pre-elaborazioni da fare, dato il numero ridotto di feature.\n",
    "\n",
    "Per prima cosa dividiamo le feature in due categorie (perchè andranno poi trattate diversamente) :\n",
    "   - Feature Numeriche : Possiamo applicare una normalizzazione dei dati per avere la stessa scala\n",
    "   - Feature Categoriche : Applichiamo una categorizzazione. L'unica colonna da trattare in questo caso è \n",
    "       il tipo di transazione. Da questa operazioone de derivano altre 5."
   ]
  },
  {
   "cell_type": "code",
   "execution_count": 126,
   "id": "3f507edf",
   "metadata": {},
   "outputs": [],
   "source": [
    "feature_numeric = [\"amount\",\"oldbalanceOrg\",\"newbalanceOrig\"]\n",
    "feature_categorical = [\"type\"]"
   ]
  },
  {
   "cell_type": "markdown",
   "id": "3d7d6195",
   "metadata": {},
   "source": [
    "Grazie alla classe ColumnTransformer possiamo applica entrambe queste trasformazioni in modo semplice.\n",
    "L'oggeto ColumnTrasn lo memorizziamo in una variabile così lo possiamo riutilizzare anche per la creazione dei modelli nelle fasi successive"
   ]
  },
  {
   "cell_type": "code",
   "execution_count": 127,
   "id": "1366ae03",
   "metadata": {},
   "outputs": [],
   "source": [
    "from sklearn.model_selection import train_test_split\n",
    "from sklearn.compose import ColumnTransformer\n",
    "from sklearn.preprocessing import StandardScaler\n",
    "from sklearn.preprocessing import OneHotEncoder\n",
    "\n",
    "X = transactions[feature_list]\n",
    "y = transactions[[\"isFraud\"]]\n",
    "\n",
    "X_train, X_val, y_train, y_val = train_test_split(X, y, test_size=1/3, random_state=42)\n",
    "\n",
    "preproc = ColumnTransformer([\n",
    "    (\"numeric\",StandardScaler(),feature_numeric),\n",
    "        (\"categorical\",OneHotEncoder(),feature_categorical)\n",
    "    ],remainder=\"drop\")"
   ]
  },
  {
   "cell_type": "markdown",
   "id": "64f5a6a3",
   "metadata": {},
   "source": [
    "Il risultato saranno quindi le 3 colonne numeriche (\"amount\", \"oldbalanceOrg\", \"newbalanceOrig\") dove abbiamo applicato una normalizzazione e le 5 colonne derivate dalla trasformazione della variabile categorica type nelle sue n componenti binarie, una per ogni valore distinto di type (in questo dataset sono 5 : CASH_IN, CASH_OUT, DEBIT, PAYMENT, TRANSFER)"
   ]
  },
  {
   "cell_type": "code",
   "execution_count": 128,
   "id": "dd94ed3c",
   "metadata": {},
   "outputs": [
    {
     "data": {
      "text/html": [
       "<div>\n",
       "<style scoped>\n",
       "    .dataframe tbody tr th:only-of-type {\n",
       "        vertical-align: middle;\n",
       "    }\n",
       "\n",
       "    .dataframe tbody tr th {\n",
       "        vertical-align: top;\n",
       "    }\n",
       "\n",
       "    .dataframe thead th {\n",
       "        text-align: right;\n",
       "    }\n",
       "</style>\n",
       "<table border=\"1\" class=\"dataframe\">\n",
       "  <thead>\n",
       "    <tr style=\"text-align: right;\">\n",
       "      <th></th>\n",
       "      <th>amount</th>\n",
       "      <th>oldbalanceOrg</th>\n",
       "      <th>newbalanceOrig</th>\n",
       "      <th>x0_CASH_IN</th>\n",
       "      <th>x0_CASH_OUT</th>\n",
       "      <th>x0_DEBIT</th>\n",
       "      <th>x0_PAYMENT</th>\n",
       "      <th>x0_TRANSFER</th>\n",
       "    </tr>\n",
       "  </thead>\n",
       "  <tbody>\n",
       "    <tr>\n",
       "      <th>0</th>\n",
       "      <td>-0.439241</td>\n",
       "      <td>-0.266896</td>\n",
       "      <td>-0.273043</td>\n",
       "      <td>0.0</td>\n",
       "      <td>0.0</td>\n",
       "      <td>0.0</td>\n",
       "      <td>1.0</td>\n",
       "      <td>0.0</td>\n",
       "    </tr>\n",
       "    <tr>\n",
       "      <th>1</th>\n",
       "      <td>-0.464742</td>\n",
       "      <td>-0.331287</td>\n",
       "      <td>-0.333001</td>\n",
       "      <td>0.0</td>\n",
       "      <td>0.0</td>\n",
       "      <td>0.0</td>\n",
       "      <td>1.0</td>\n",
       "      <td>0.0</td>\n",
       "    </tr>\n",
       "    <tr>\n",
       "      <th>2</th>\n",
       "      <td>-0.470125</td>\n",
       "      <td>-0.340399</td>\n",
       "      <td>-0.341250</td>\n",
       "      <td>0.0</td>\n",
       "      <td>0.0</td>\n",
       "      <td>0.0</td>\n",
       "      <td>0.0</td>\n",
       "      <td>1.0</td>\n",
       "    </tr>\n",
       "    <tr>\n",
       "      <th>3</th>\n",
       "      <td>-0.470125</td>\n",
       "      <td>-0.340399</td>\n",
       "      <td>-0.341250</td>\n",
       "      <td>0.0</td>\n",
       "      <td>1.0</td>\n",
       "      <td>0.0</td>\n",
       "      <td>0.0</td>\n",
       "      <td>0.0</td>\n",
       "    </tr>\n",
       "    <tr>\n",
       "      <th>4</th>\n",
       "      <td>-0.433394</td>\n",
       "      <td>-0.322506</td>\n",
       "      <td>-0.328533</td>\n",
       "      <td>0.0</td>\n",
       "      <td>0.0</td>\n",
       "      <td>0.0</td>\n",
       "      <td>1.0</td>\n",
       "      <td>0.0</td>\n",
       "    </tr>\n",
       "    <tr>\n",
       "      <th>5</th>\n",
       "      <td>-0.445706</td>\n",
       "      <td>-0.317184</td>\n",
       "      <td>-0.321659</td>\n",
       "      <td>0.0</td>\n",
       "      <td>0.0</td>\n",
       "      <td>0.0</td>\n",
       "      <td>1.0</td>\n",
       "      <td>0.0</td>\n",
       "    </tr>\n",
       "    <tr>\n",
       "      <th>6</th>\n",
       "      <td>-0.447976</td>\n",
       "      <td>-0.261248</td>\n",
       "      <td>-0.266324</td>\n",
       "      <td>0.0</td>\n",
       "      <td>0.0</td>\n",
       "      <td>0.0</td>\n",
       "      <td>1.0</td>\n",
       "      <td>0.0</td>\n",
       "    </tr>\n",
       "    <tr>\n",
       "      <th>7</th>\n",
       "      <td>-0.445566</td>\n",
       "      <td>-0.264322</td>\n",
       "      <td>-0.269670</td>\n",
       "      <td>0.0</td>\n",
       "      <td>0.0</td>\n",
       "      <td>0.0</td>\n",
       "      <td>1.0</td>\n",
       "      <td>0.0</td>\n",
       "    </tr>\n",
       "    <tr>\n",
       "      <th>8</th>\n",
       "      <td>-0.457835</td>\n",
       "      <td>-0.339322</td>\n",
       "      <td>-0.341250</td>\n",
       "      <td>0.0</td>\n",
       "      <td>0.0</td>\n",
       "      <td>0.0</td>\n",
       "      <td>1.0</td>\n",
       "      <td>0.0</td>\n",
       "    </tr>\n",
       "    <tr>\n",
       "      <th>9</th>\n",
       "      <td>-0.453636</td>\n",
       "      <td>-0.322434</td>\n",
       "      <td>-0.325769</td>\n",
       "      <td>0.0</td>\n",
       "      <td>0.0</td>\n",
       "      <td>1.0</td>\n",
       "      <td>0.0</td>\n",
       "      <td>0.0</td>\n",
       "    </tr>\n",
       "  </tbody>\n",
       "</table>\n",
       "</div>"
      ],
      "text/plain": [
       "     amount  oldbalanceOrg  newbalanceOrig  x0_CASH_IN  x0_CASH_OUT  x0_DEBIT  \\\n",
       "0 -0.439241      -0.266896       -0.273043         0.0          0.0       0.0   \n",
       "1 -0.464742      -0.331287       -0.333001         0.0          0.0       0.0   \n",
       "2 -0.470125      -0.340399       -0.341250         0.0          0.0       0.0   \n",
       "3 -0.470125      -0.340399       -0.341250         0.0          1.0       0.0   \n",
       "4 -0.433394      -0.322506       -0.328533         0.0          0.0       0.0   \n",
       "5 -0.445706      -0.317184       -0.321659         0.0          0.0       0.0   \n",
       "6 -0.447976      -0.261248       -0.266324         0.0          0.0       0.0   \n",
       "7 -0.445566      -0.264322       -0.269670         0.0          0.0       0.0   \n",
       "8 -0.457835      -0.339322       -0.341250         0.0          0.0       0.0   \n",
       "9 -0.453636      -0.322434       -0.325769         0.0          0.0       1.0   \n",
       "\n",
       "   x0_PAYMENT  x0_TRANSFER  \n",
       "0         1.0          0.0  \n",
       "1         1.0          0.0  \n",
       "2         0.0          1.0  \n",
       "3         0.0          0.0  \n",
       "4         1.0          0.0  \n",
       "5         1.0          0.0  \n",
       "6         1.0          0.0  \n",
       "7         1.0          0.0  \n",
       "8         1.0          0.0  \n",
       "9         0.0          0.0  "
      ]
     },
     "execution_count": 128,
     "metadata": {},
     "output_type": "execute_result"
    }
   ],
   "source": [
    "X_sample = transactions[feature_numeric + feature_categorical]\n",
    "preproc.fit_transform(X_sample)\n",
    "f_names = feature_numeric + list(preproc.named_transformers_[\"categorical\"].get_feature_names())\n",
    "pd.DataFrame(\n",
    "    preproc.transform(X_sample),\n",
    "    columns = f_names\n",
    ").head(10)"
   ]
  },
  {
   "cell_type": "markdown",
   "id": "c86d495b",
   "metadata": {},
   "source": [
    "### 3.1 - PCA"
   ]
  },
  {
   "cell_type": "markdown",
   "id": "fbe85a10",
   "metadata": {},
   "source": [
    "Con la decomposizione SVD (Single Value Decomposition) possiamo riportare una spazio k-dimensionale in uno spazio n-dimensionale. In questo progetto le dimensioni originali sono il numero di feature dopo aver applicato il pre-processing, quindi 8, in uno spazio bidimensionale, per poter visualizzare i dati in un classico grafico cartesiano."
   ]
  },
  {
   "cell_type": "code",
   "execution_count": 152,
   "id": "f2c6c7d7",
   "metadata": {},
   "outputs": [
    {
     "data": {
      "image/png": "[encoded data removed]",
      "text/plain": [
       "<Figure size 432x288 with 1 Axes>"
      ]
     },
     "metadata": {
      "needs_background": "light"
     },
     "output_type": "display_data"
    }
   ],
   "source": [
    "from sklearn.decomposition import PCA\n",
    "\n",
    "pca = PCA(n_components=2)\n",
    "\n",
    "color_map = transactions[:X_train.values.shape[0]][\"isFraud\"].map({0: \"blue\", 1: \"red\"})\n",
    "size_map = transactions[:X_train.values.shape[0]][\"isFraud\"].map({0: 0.25, 1:5.0})\n",
    "alpha_blend_map = transactions[:X_train.values.shape[0]][\"isFraud\"].map({0: 0.1, 1:1})\n",
    "x_preproc = pca.fit_transform(preproc.fit_transform(X_train))\n",
    "\n",
    "plt.scatter(x_preproc[:,0], x_preproc[:,1], c=color_map, s=size_map, alpha=alpha_blend_map)\n",
    "plt.xlabel('Asse latente X')\n",
    "plt.ylabel('Asse latente Y')\n",
    "plt.show()"
   ]
  },
  {
   "cell_type": "markdown",
   "id": "f068d4c5",
   "metadata": {},
   "source": [
    "## 4 - Modelli Predittivi"
   ]
  },
  {
   "cell_type": "markdown",
   "id": "aad23b20",
   "metadata": {},
   "source": [
    "Data il grande numero di istanze in questo dataset alcuni modelli potrebbe crashare. Quindi riduciamo il dataset."
   ]
  },
  {
   "cell_type": "code",
   "execution_count": 188,
   "id": "d0a8aac8",
   "metadata": {},
   "outputs": [],
   "source": [
    "from sklearn.pipeline import Pipeline\n",
    "\n",
    "transactions = pd.read_csv(\"../data/data.csv\", nrows=100_000)\n",
    "classes = [\"isFraud\", \"Honest\"]\n",
    "\n",
    "X = transactions[feature_list]\n",
    "y = transactions[[\"isFraud\"]]\n",
    "\n",
    "X_train, X_val, y_train, y_val = train_test_split(X, y, test_size=1/3, random_state=42)"
   ]
  },
  {
   "cell_type": "markdown",
   "id": "51381422",
   "metadata": {},
   "source": [
    "Predisponaimo alcune \"Utility Function\" che migliorano la leggibilità del codice e riusabilità. In particolare definiamo alcune funzioni per il calcolo delle accuratezze divise in :\n",
    " - Plotting Functions\n",
    " - Accurancy Functions\n",
    " - Others Functions"
   ]
  },
  {
   "cell_type": "code",
   "execution_count": 168,
   "id": "85be11f4",
   "metadata": {},
   "outputs": [],
   "source": [
    "# Plotting Functions\n",
    "def plot_separator_on_data(X, y, model=None):\n",
    "    '''plot data into 2d space'''\n",
    "    c_map = transactions[:X.values.shape[0]][\"isFraud\"].map({0: \"blue\", 1: \"red\"})\n",
    "    X = np.array(X)\n",
    "    plt.figure(figsize=(8, 6));\n",
    "    plt.scatter(X[:, 0], X[:, 1], c=c_map)\n",
    "    if model is not None:\n",
    "        xlim, ylim = plt.xlim(), plt.ylim()\n",
    "        sep_x = np.linspace(*xlim, 2)\n",
    "        sep_y = separator_2d(model, sep_x)\n",
    "        plt.plot(sep_x, sep_y, c=\"green\", linewidth=2)\n",
    "        plt.xlim(xlim)\n",
    "        plt.ylim(ylim)\n",
    "    return None\n",
    "\n",
    "def separator_2d(model, x1):\n",
    "    '''draw a 2d line based his equation'''\n",
    "    w = model.coef_[0]\n",
    "    b = model.intercept_[0]\n",
    "    return -x1 * w[0] / w[1] - b / w[1]"
   ]
  },
  {
   "cell_type": "code",
   "execution_count": 237,
   "id": "8a907b0b",
   "metadata": {},
   "outputs": [],
   "source": [
    "# Accurancy Functions\n",
    "from sklearn.metrics import precision_score, recall_score, f1_score, confusion_matrix, mean_squared_error\n",
    "\n",
    "def rmspe(y_real, y_pred):\n",
    "    '''Root Mean Squared Percentage Error'''\n",
    "    return np.sqrt(np.mean((y_pred / y_real - 1)**2))\n",
    "\n",
    "def print_eval_regressor_tree(X, y, model, print_base=True):\n",
    "    '''print eval for all regression tree model'''\n",
    "    y_pred = model.predict(X)\n",
    "    print(f\"MSE   : {mean_squared_error(y, y_pred):12.4f}\")\n",
    "    print(f\"RMSPE : {rmspe(y, y_pred):12.4f}\")\n",
    "    if print_base : print_eval_base(X,y,model)\n",
    "    return None\n",
    "\n",
    "def print_eval_base(X, y, model, pad = 3):\n",
    "    '''print eval for all model, only R^2 score '''\n",
    "    print(f\"R^2{''.rjust(pad, ' ')}: {model.score(X,y):12.4f}\")\n",
    "    return None\n",
    "\n",
    "def print_eval_classify(X, y, model, classes, print_base=True):\n",
    "    '''print eval for classification model'''\n",
    "    y_pred = model.predict(X)    \n",
    "    cm = confusion_matrix(y, y_pred)\n",
    "    print(\"Confusion Matrix : \")\n",
    "    print_matrix(classes, cm)\n",
    "    print(f\"\\nPRECISION  : {precision_score(y, y_pred):12.4f}\")\n",
    "    print(f\"RECALL     : {recall_score(y, y_pred):12.4f}\")\n",
    "    print(f\"F1-MEASURE : {f1_score(y, y_pred, average='macro'):12.4f}\")\n",
    "    if print_base : print_eval_base(X, y, model, 8)\n",
    "    return None\n",
    "\n",
    "def verify(value, const, delta=0):\n",
    "    if (value >= const-delta and value <= const-delta):\n",
    "        print(\"ASSERT OK\")\n",
    "    else:\n",
    "        print(\"ASSERT FAIL\")"
   ]
  },
  {
   "cell_type": "code",
   "execution_count": 227,
   "id": "3ddd07eb",
   "metadata": {},
   "outputs": [],
   "source": [
    "# Others Functions\n",
    "def print_matrix(classes, matrix, pad = 10):\n",
    "    '''This method prints a matrix with better formatting.\n",
    "    Is used for print n x n confusion matrix'''\n",
    "    for i in range(len(classes)):\n",
    "        if i == 0 : \n",
    "            for c in ([\" \"] + classes):\n",
    "                print(f\"{c.rjust(pad, ' ')}\",end=' ')\n",
    "            print()\n",
    "        for j in range(len(classes)):\n",
    "            if (j == 0) : \n",
    "                print(f\"{classes[i].rjust(pad, ' ')}\",end=' ')\n",
    "            print(f\"{str(matrix[i][j]).rjust(pad, ' ')}\",end=' ')\n",
    "        print()\n",
    "    return None"
   ]
  },
  {
   "cell_type": "markdown",
   "id": "d58911ed",
   "metadata": {},
   "source": [
    "## 4.1 - Modelli di Regressione"
   ]
  },
  {
   "cell_type": "markdown",
   "id": "2e68312c",
   "metadata": {},
   "source": [
    "Per usare questa parte biusogna aver intallato le seguenti librerie :"
   ]
  },
  {
   "cell_type": "code",
   "execution_count": 159,
   "id": "04bf9803",
   "metadata": {},
   "outputs": [],
   "source": [
    "#%conda install XGBoost\n",
    "#%conda install Lightgbm\n",
    "#%conda install Catboost"
   ]
  },
  {
   "cell_type": "markdown",
   "id": "d6596caf",
   "metadata": {},
   "source": [
    "Tenteremo di usare i seguenti modelli di previsione :\n",
    "   - Random Forest\n",
    "   - XGBRegressor\n",
    "   - LightGBM\n",
    "   - Logistic Loss"
   ]
  },
  {
   "cell_type": "markdown",
   "id": "ea23e1d7",
   "metadata": {},
   "source": [
    "### 4.1.1 - Random Forest"
   ]
  },
  {
   "cell_type": "code",
   "execution_count": 160,
   "id": "1ec1a411",
   "metadata": {},
   "outputs": [
    {
     "name": "stdout",
     "output_type": "stream",
     "text": [
      "MSE   :       0.0007\n",
      "RMSPE :          nan\n",
      "R^2   :       0.2796\n"
     ]
    },
    {
     "name": "stderr",
     "output_type": "stream",
     "text": [
      "C:\\Users\\Federico\\AppData\\Local\\Temp/ipykernel_10564/2793296492.py:6: RuntimeWarning: divide by zero encountered in true_divide\n",
      "  return np.sqrt(np.mean((y_pred / y_real - 1)**2))\n",
      "C:\\Users\\Federico\\AppData\\Local\\Temp/ipykernel_10564/2793296492.py:6: RuntimeWarning: invalid value encountered in true_divide\n",
      "  return np.sqrt(np.mean((y_pred / y_real - 1)**2))\n"
     ]
    }
   ],
   "source": [
    "from sklearn.ensemble import RandomForestRegressor\n",
    "\n",
    "model = Pipeline([\n",
    "    (\"preproc\", preproc),\n",
    "    (\"RandomForestRegressor\", RandomForestRegressor(max_samples=0.2, \n",
    "                                                    max_features=\"sqrt\", \n",
    "                                                    n_estimators=200, \n",
    "                                                    max_depth=None, \n",
    "                                                    n_jobs=-1))\n",
    "])\n",
    "model.fit(X_train, y_train.values.ravel())\n",
    "print_eval_regressor_tree(X_val, y_val.values.ravel(), model)"
   ]
  },
  {
   "cell_type": "markdown",
   "id": "0b841061",
   "metadata": {},
   "source": [
    "Possiamo vedere l'importanza delle feature"
   ]
  },
  {
   "cell_type": "code",
   "execution_count": 161,
   "id": "800439ac",
   "metadata": {},
   "outputs": [
    {
     "data": {
      "text/html": [
       "<div>\n",
       "<style scoped>\n",
       "    .dataframe tbody tr th:only-of-type {\n",
       "        vertical-align: middle;\n",
       "    }\n",
       "\n",
       "    .dataframe tbody tr th {\n",
       "        vertical-align: top;\n",
       "    }\n",
       "\n",
       "    .dataframe thead th {\n",
       "        text-align: right;\n",
       "    }\n",
       "</style>\n",
       "<table border=\"1\" class=\"dataframe\">\n",
       "  <thead>\n",
       "    <tr style=\"text-align: right;\">\n",
       "      <th></th>\n",
       "      <th>amount</th>\n",
       "      <th>oldbalanceOrg</th>\n",
       "      <th>newbalanceOrig</th>\n",
       "      <th>x0_CASH_IN</th>\n",
       "      <th>x0_CASH_OUT</th>\n",
       "      <th>x0_DEBIT</th>\n",
       "      <th>x0_PAYMENT</th>\n",
       "      <th>x0_TRANSFER</th>\n",
       "    </tr>\n",
       "  </thead>\n",
       "  <tbody>\n",
       "    <tr>\n",
       "      <th>value</th>\n",
       "      <td>0.509763</td>\n",
       "      <td>0.431428</td>\n",
       "      <td>0.031299</td>\n",
       "      <td>0.000239</td>\n",
       "      <td>0.010742</td>\n",
       "      <td>0.000922</td>\n",
       "      <td>0.002285</td>\n",
       "      <td>0.013322</td>\n",
       "    </tr>\n",
       "  </tbody>\n",
       "</table>\n",
       "</div>"
      ],
      "text/plain": [
       "         amount  oldbalanceOrg  newbalanceOrig  x0_CASH_IN  x0_CASH_OUT  \\\n",
       "value  0.509763       0.431428        0.031299    0.000239     0.010742   \n",
       "\n",
       "       x0_DEBIT  x0_PAYMENT  x0_TRANSFER  \n",
       "value  0.000922    0.002285     0.013322  "
      ]
     },
     "execution_count": 161,
     "metadata": {},
     "output_type": "execute_result"
    }
   ],
   "source": [
    "pd.DataFrame(model.named_steps[\"RandomForestRegressor\"].feature_importances_,index=f_names,columns=[\"value\"]).T"
   ]
  },
  {
   "cell_type": "markdown",
   "id": "940c58f3",
   "metadata": {},
   "source": [
    "### 4.1.2 - XGBoost"
   ]
  },
  {
   "cell_type": "code",
   "execution_count": 162,
   "id": "d0643d55",
   "metadata": {},
   "outputs": [
    {
     "name": "stdout",
     "output_type": "stream",
     "text": [
      "MSE   :       0.0005\n",
      "RMSPE :          inf\n",
      "R^2   :       0.5159\n"
     ]
    },
    {
     "name": "stderr",
     "output_type": "stream",
     "text": [
      "C:\\Users\\Federico\\AppData\\Local\\Temp/ipykernel_10564/2793296492.py:6: RuntimeWarning: divide by zero encountered in true_divide\n",
      "  return np.sqrt(np.mean((y_pred / y_real - 1)**2))\n"
     ]
    },
    {
     "data": {
      "text/html": [
       "<div>\n",
       "<style scoped>\n",
       "    .dataframe tbody tr th:only-of-type {\n",
       "        vertical-align: middle;\n",
       "    }\n",
       "\n",
       "    .dataframe tbody tr th {\n",
       "        vertical-align: top;\n",
       "    }\n",
       "\n",
       "    .dataframe thead th {\n",
       "        text-align: right;\n",
       "    }\n",
       "</style>\n",
       "<table border=\"1\" class=\"dataframe\">\n",
       "  <thead>\n",
       "    <tr style=\"text-align: right;\">\n",
       "      <th></th>\n",
       "      <th>amount</th>\n",
       "      <th>oldbalanceOrg</th>\n",
       "      <th>newbalanceOrig</th>\n",
       "      <th>x0_CASH_IN</th>\n",
       "      <th>x0_CASH_OUT</th>\n",
       "      <th>x0_DEBIT</th>\n",
       "      <th>x0_PAYMENT</th>\n",
       "      <th>x0_TRANSFER</th>\n",
       "    </tr>\n",
       "  </thead>\n",
       "  <tbody>\n",
       "    <tr>\n",
       "      <th>value</th>\n",
       "      <td>0.271632</td>\n",
       "      <td>0.269099</td>\n",
       "      <td>0.144768</td>\n",
       "      <td>0.000508</td>\n",
       "      <td>0.083357</td>\n",
       "      <td>0.065975</td>\n",
       "      <td>0.133163</td>\n",
       "      <td>0.031499</td>\n",
       "    </tr>\n",
       "  </tbody>\n",
       "</table>\n",
       "</div>"
      ],
      "text/plain": [
       "         amount  oldbalanceOrg  newbalanceOrig  x0_CASH_IN  x0_CASH_OUT  \\\n",
       "value  0.271632       0.269099        0.144768    0.000508     0.083357   \n",
       "\n",
       "       x0_DEBIT  x0_PAYMENT  x0_TRANSFER  \n",
       "value  0.065975    0.133163     0.031499  "
      ]
     },
     "execution_count": 162,
     "metadata": {},
     "output_type": "execute_result"
    }
   ],
   "source": [
    "from xgboost import XGBRegressor\n",
    "\n",
    "xgbm = XGBRegressor(objective='reg:squarederror', \n",
    "                    learning_rate = 0.01577, \n",
    "                    reg_lambda=0.008, \n",
    "                    reg_alpha=0.0001, \n",
    "                    n_estimators=1025)\n",
    "model = Pipeline([\n",
    "    (\"preproc\", preproc),\n",
    "    (\"XGBRegressor\", xgbm)\n",
    "])\n",
    "model.fit(X_train, y_train)\n",
    "print_eval_regressor_tree(X_val, y_val.values.ravel(), model)\n",
    "pd.DataFrame(model.named_steps[\"XGBRegressor\"].feature_importances_,index=f_names,columns=[\"value\"]).T"
   ]
  },
  {
   "cell_type": "markdown",
   "id": "d7a21154",
   "metadata": {},
   "source": [
    "### 4.1.3 - LightGBM"
   ]
  },
  {
   "cell_type": "code",
   "execution_count": 186,
   "id": "62ef7c1f",
   "metadata": {},
   "outputs": [
    {
     "name": "stdout",
     "output_type": "stream",
     "text": [
      "MSE   :       0.0006\n",
      "RMSPE :          inf\n"
     ]
    },
    {
     "name": "stderr",
     "output_type": "stream",
     "text": [
      "C:\\Users\\Federico\\AppData\\Local\\Temp/ipykernel_10564/2793296492.py:6: RuntimeWarning: divide by zero encountered in true_divide\n",
      "  return np.sqrt(np.mean((y_pred / y_real - 1)**2))\n"
     ]
    },
    {
     "name": "stdout",
     "output_type": "stream",
     "text": [
      "R^2   :       0.4526\n"
     ]
    }
   ],
   "source": [
    "from lightgbm import LGBMRegressor\n",
    "\n",
    "model = Pipeline([\n",
    "    (\"preproc\",preproc),\n",
    "    (\"LGBM\", LGBMRegressor(n_estimators=1200))\n",
    "])\n",
    "\n",
    "model.fit(X_train, y_train.values.ravel())\n",
    "print_eval_regressor_tree(X_val, y_val.values.ravel(), model)"
   ]
  },
  {
   "cell_type": "markdown",
   "id": "3377d662",
   "metadata": {},
   "source": [
    "### 4.1.4 - Logistic Regression"
   ]
  },
  {
   "cell_type": "code",
   "execution_count": 196,
   "id": "26be6a1d",
   "metadata": {
    "scrolled": true
   },
   "outputs": [
    {
     "name": "stdout",
     "output_type": "stream",
     "text": [
      "MSE   :       0.0028\n",
      "RMSPE :          nan\n",
      "Confusion Matrix : \n",
      "              isFraud     Honest \n",
      "   isFraud      33231         69 \n",
      "    Honest         24         10 \n",
      "\n",
      "PRECISION  :       0.1266\n",
      "RECALL     :       0.2941\n",
      "F1-MEASURE :       0.5878\n",
      "R^2        :       0.9972\n"
     ]
    },
    {
     "name": "stderr",
     "output_type": "stream",
     "text": [
      "C:\\Users\\Federico\\AppData\\Local\\Temp/ipykernel_10564/4018745772.py:6: RuntimeWarning: divide by zero encountered in true_divide\n",
      "  return np.sqrt(np.mean((y_pred / y_real - 1)**2))\n",
      "C:\\Users\\Federico\\AppData\\Local\\Temp/ipykernel_10564/4018745772.py:6: RuntimeWarning: invalid value encountered in true_divide\n",
      "  return np.sqrt(np.mean((y_pred / y_real - 1)**2))\n"
     ]
    }
   ],
   "source": [
    "from sklearn.linear_model import LogisticRegression\n",
    "\n",
    "model_lr = Pipeline([\n",
    "    (\"preproc\", preproc),\n",
    "    (\"LogisticRegression\", LogisticRegression(solver=\"saga\", random_state=43, class_weight={1:45}, max_iter=100000))\n",
    "])\n",
    "\n",
    "model_lr.fit(X_train, y_train.values.ravel())\n",
    "\n",
    "print_eval_regressor_tree(X_val, y_val.values.ravel(), model_lr, False)\n",
    "print_eval_classify(X_val, y_val.values.ravel(), model_lr, classes, True)"
   ]
  },
  {
   "cell_type": "markdown",
   "id": "51bfc43d",
   "metadata": {},
   "source": [
    "Vediamo come la regressione logistica divide i dati"
   ]
  },
  {
   "cell_type": "code",
   "execution_count": 190,
   "id": "378e9551",
   "metadata": {},
   "outputs": [
    {
     "name": "stdout",
     "output_type": "stream",
     "text": [
      "MSE   :       0.0023\n",
      "RMSPE :          nan\n",
      "R^2   :       0.9977\n",
      "Confusion Matrix : \n",
      "              isFraud     Honest \n",
      "   isFraud      33250         38 \n",
      "    Honest         38          8 \n",
      "\n",
      "PRECISION  :       0.1739\n",
      "RECALL     :       0.1739\n",
      "F1-MEASURE :       0.5864\n",
      "R^2        :       0.9977\n"
     ]
    },
    {
     "name": "stderr",
     "output_type": "stream",
     "text": [
      "C:\\Users\\Federico\\AppData\\Local\\Temp/ipykernel_10564/2793296492.py:6: RuntimeWarning: divide by zero encountered in true_divide\n",
      "  return np.sqrt(np.mean((y_pred / y_real - 1)**2))\n",
      "C:\\Users\\Federico\\AppData\\Local\\Temp/ipykernel_10564/2793296492.py:6: RuntimeWarning: invalid value encountered in true_divide\n",
      "  return np.sqrt(np.mean((y_pred / y_real - 1)**2))\n"
     ]
    },
    {
     "data": {
      "image/png": "[encoded data removed]",
      "text/plain": [
       "<Figure size 576x432 with 1 Axes>"
      ]
     },
     "metadata": {
      "needs_background": "light"
     },
     "output_type": "display_data"
    }
   ],
   "source": [
    "X_lr_2 = transactions[[\"oldbalanceOrg\",\"newbalanceOrig\"]]\n",
    "y_lr_2 = transactions[[\"isFraud\"]]\n",
    "\n",
    "X_train_lr_2, X_val_lr_2, y_train_lr_2, y_val_lr_2 = train_test_split(X_lr_2, y_lr_2, test_size=1/3, random_state=43)\n",
    "\n",
    "model_lr_2 = Pipeline([\n",
    "    (\"preproc\", StandardScaler()),\n",
    "    (\"LogisticRegression\", LogisticRegression(solver=\"saga\", random_state=42, class_weight={1:45}, max_iter=100000))\n",
    "])\n",
    "\n",
    "model_lr_2.fit(X_train_lr_2, y_train_lr_2.values.ravel())\n",
    "\n",
    "print_eval_regressor_tree(X_val_lr_2, y_val_lr_2.values.ravel(), model_lr_2, False)\n",
    "print_eval_classify(X_val_lr_2, y_val_lr_2.values.ravel(), model_lr_2, classes; True)\n",
    "\n",
    "plot_separator_on_data(X_val_lr_2, y_val_lr_2, model_lr_2.named_steps[\"LogisticRegression\"]);"
   ]
  },
  {
   "cell_type": "markdown",
   "id": "472b3fd6",
   "metadata": {},
   "source": [
    "## 4.2 - Modelli di Classificazione"
   ]
  },
  {
   "cell_type": "markdown",
   "id": "49ad10ae",
   "metadata": {},
   "source": [
    "Dato che si tratta di un problema di classificazione binaria, proviamo ad usare per primi i modelli che fanno classificazione per poi passare ad algoritmi più avanzati. In questa sezione ho sviluppato e ottimizzato (senza grid search) i seguenti modelli :\n",
    "- Alberi Decisionali\n",
    "- XGBClassifier\n",
    "- Support Vector Machine"
   ]
  },
  {
   "cell_type": "markdown",
   "id": "a296dc7e",
   "metadata": {},
   "source": [
    "### 4.2.1 - Alberi Decisionali"
   ]
  },
  {
   "cell_type": "code",
   "execution_count": 169,
   "id": "9d4984b5",
   "metadata": {},
   "outputs": [
    {
     "name": "stdout",
     "output_type": "stream",
     "text": [
      "Confusion Matrix : \n",
      "              isFraud     Honest \n",
      "   isFraud      33298          2 \n",
      "    Honest         31          3 \n",
      "\n",
      "PRECISION  :       0.6000\n",
      "RECALL     :       0.0882\n",
      "F1-MEASURE :       0.5767\n",
      "R^2        :       0.9990\n"
     ]
    },
    {
     "data": {
      "image/png": "[encoded data removed]",
      "text/plain": [
       "<Figure size 1584x432 with 1 Axes>"
      ]
     },
     "metadata": {
      "needs_background": "light"
     },
     "output_type": "display_data"
    }
   ],
   "source": [
    "from sklearn.tree import DecisionTreeClassifier\n",
    "from sklearn.tree import plot_tree\n",
    "\n",
    "model_dt = Pipeline([\n",
    "    (\"preproc\", preproc),\n",
    "    (\"DecisionTreeClassifier\", DecisionTreeClassifier(max_depth=5,random_state=43))\n",
    "])\n",
    "\n",
    "model_dt.fit(X_train, y_train)\n",
    "print_eval_classify(X_val, y_val, model_dt, classes)\n",
    "\n",
    "plt.figure(figsize=(22, 6))\n",
    "plot_tree(model_dt.named_steps[\"DecisionTreeClassifier\"], max_depth=5, filled=True, fontsize=8);"
   ]
  },
  {
   "cell_type": "markdown",
   "id": "c2684557",
   "metadata": {},
   "source": [
    "I DecisionTree funzionano molto meglio dei modelli di regressione."
   ]
  },
  {
   "cell_type": "markdown",
   "id": "7552fc56",
   "metadata": {},
   "source": [
    "Vediamo quali spit fa stampando in maniera testuale l'albero di classificazione :"
   ]
  },
  {
   "cell_type": "code",
   "execution_count": 170,
   "id": "8c5cb9e8",
   "metadata": {},
   "outputs": [
    {
     "name": "stdout",
     "output_type": "stream",
     "text": [
      "|--- amount <= 14.83\n",
      "|   |--- x0_TRANSFER <= 0.50\n",
      "|   |   |--- amount <= 2.68\n",
      "|   |   |   |--- amount <= 2.25\n",
      "|   |   |   |   |--- x0_CASH_OUT <= 0.50\n",
      "|   |   |   |   |   |--- class: 0\n",
      "|   |   |   |   |--- x0_CASH_OUT >  0.50\n",
      "|   |   |   |   |   |--- class: 0\n",
      "|   |   |   |--- amount >  2.25\n",
      "|   |   |   |   |--- amount <= 2.30\n",
      "|   |   |   |   |   |--- class: 1\n",
      "|   |   |   |   |--- amount >  2.30\n",
      "|   |   |   |   |   |--- class: 0\n",
      "|   |   |--- amount >  2.68\n",
      "|   |   |   |--- x0_CASH_OUT <= 0.50\n",
      "|   |   |   |   |--- class: 0\n",
      "|   |   |   |--- x0_CASH_OUT >  0.50\n",
      "|   |   |   |   |--- oldbalanceOrg <= -0.12\n",
      "|   |   |   |   |   |--- class: 0\n",
      "|   |   |   |   |--- oldbalanceOrg >  -0.12\n",
      "|   |   |   |   |   |--- class: 1\n",
      "|   |--- x0_TRANSFER >  0.50\n",
      "|   |   |--- amount <= -0.50\n",
      "|   |   |   |--- class: 1\n",
      "|   |   |--- amount >  -0.50\n",
      "|   |   |   |--- amount <= -0.42\n",
      "|   |   |   |   |--- oldbalanceOrg <= -0.33\n",
      "|   |   |   |   |   |--- class: 0\n",
      "|   |   |   |   |--- oldbalanceOrg >  -0.33\n",
      "|   |   |   |   |   |--- class: 0\n",
      "|   |   |   |--- amount >  -0.42\n",
      "|   |   |   |   |--- oldbalanceOrg <= -0.30\n",
      "|   |   |   |   |   |--- class: 0\n",
      "|   |   |   |   |--- oldbalanceOrg >  -0.30\n",
      "|   |   |   |   |   |--- class: 0\n",
      "|--- amount >  14.83\n",
      "|   |--- oldbalanceOrg <= 0.69\n",
      "|   |   |--- class: 0\n",
      "|   |--- oldbalanceOrg >  0.69\n",
      "|   |   |--- class: 1\n",
      "\n"
     ]
    }
   ],
   "source": [
    "from sklearn.tree import export_text\n",
    "print(export_text(model_dt.named_steps[\"DecisionTreeClassifier\"], feature_names=f_names))"
   ]
  },
  {
   "cell_type": "markdown",
   "id": "2834ecdd",
   "metadata": {},
   "source": [
    "### 4.2.2 - XGBClassifier"
   ]
  },
  {
   "cell_type": "code",
   "execution_count": 171,
   "id": "26e3f176",
   "metadata": {},
   "outputs": [
    {
     "name": "stdout",
     "output_type": "stream",
     "text": [
      "Confusion Matrix : \n",
      "              isFraud     Honest \n",
      "   isFraud      33297          3 \n",
      "    Honest         17         17 \n",
      "\n",
      "PRECISION  :       0.8500\n",
      "RECALL     :       0.5000\n",
      "F1-MEASURE :       0.8147\n",
      "R^2        :       0.9994\n"
     ]
    }
   ],
   "source": [
    "from xgboost import XGBClassifier \n",
    "\n",
    "model_xgb = Pipeline([\n",
    "    (\"preproc\", preproc),\n",
    "    (\"XGBClassifier\",\n",
    "         XGBClassifier(objective='reg:squarederror', \n",
    "            learning_rate = 0.01577, reg_lambda=0.008, reg_alpha=0.0001, n_estimators=1025, use_label_encoder =False))\n",
    "])\n",
    "\n",
    "model_xgb.fit(X_train, y_train.values.ravel())\n",
    "print_eval_classify(X_val, y_val, model_xgb, classes)"
   ]
  },
  {
   "cell_type": "markdown",
   "id": "81d120d9",
   "metadata": {},
   "source": [
    "### 4.2.3 - Support Vector Machines (SVM)"
   ]
  },
  {
   "cell_type": "code",
   "execution_count": 173,
   "id": "0d69b20c",
   "metadata": {},
   "outputs": [
    {
     "name": "stdout",
     "output_type": "stream",
     "text": [
      "Confusion Matrix : \n",
      "              isFraud     Honest \n",
      "   isFraud      33300          0 \n",
      "    Honest         34          0 \n",
      "\n",
      "PRECISION  :       0.0000\n",
      "RECALL     :       0.0000\n",
      "F1-MEASURE :       0.4997\n"
     ]
    },
    {
     "name": "stderr",
     "output_type": "stream",
     "text": [
      "C:\\Users\\Federico\\anaconda3\\lib\\site-packages\\sklearn\\metrics\\_classification.py:1248: UndefinedMetricWarning: Precision is ill-defined and being set to 0.0 due to no predicted samples. Use `zero_division` parameter to control this behavior.\n",
      "  _warn_prf(average, modifier, msg_start, len(result))\n"
     ]
    },
    {
     "name": "stdout",
     "output_type": "stream",
     "text": [
      "R^2        :       0.9990\n"
     ]
    }
   ],
   "source": [
    "from sklearn.svm import SVC\n",
    "\n",
    "model = Pipeline([\n",
    "    (\"preproc\", preproc),\n",
    "    (\"SVM\", SVC(random_state=43, C=0.1, degree=3))\n",
    "])\n",
    "\n",
    "model.fit(X_train, y_train.values.ravel())\n",
    "print_eval_classify(X_val, y_val, model, classes)"
   ]
  },
  {
   "cell_type": "markdown",
   "id": "90a70ceb",
   "metadata": {},
   "source": [
    "## 4.3 - Neural Network"
   ]
  },
  {
   "cell_type": "markdown",
   "id": "a58fa22e",
   "metadata": {},
   "source": [
    "Proviamo ora ad implementare un modello neurale e vedere se può risolvere anche lui il problema"
   ]
  },
  {
   "cell_type": "markdown",
   "id": "b2512430",
   "metadata": {},
   "source": [
    "Prima di procedere assicurarsi di aver installato la libreria TensorFlow."
   ]
  },
  {
   "cell_type": "code",
   "execution_count": 174,
   "id": "6338f45b",
   "metadata": {},
   "outputs": [],
   "source": [
    "#%conda install TensorFlow"
   ]
  },
  {
   "cell_type": "code",
   "execution_count": 210,
   "id": "671a1621",
   "metadata": {
    "scrolled": true
   },
   "outputs": [
    {
     "name": "stdout",
     "output_type": "stream",
     "text": [
      "Model: \"sequential_43\"\n",
      "_________________________________________________________________\n",
      " Layer (type)                Output Shape              Param #   \n",
      "=================================================================\n",
      " dense_144 (Dense)           (None, 32)                288       \n",
      "                                                                 \n",
      " dense_145 (Dense)           (None, 8)                 264       \n",
      "                                                                 \n",
      " dense_146 (Dense)           (None, 1)                 9         \n",
      "                                                                 \n",
      "=================================================================\n",
      "Total params: 561\n",
      "Trainable params: 561\n",
      "Non-trainable params: 0\n",
      "_________________________________________________________________\n",
      "Epoch 1/50\n",
      "667/667 [==============================] - 1s 1ms/step - loss: 0.0031 - accuracy: 0.9977\n",
      "Epoch 2/50\n",
      "667/667 [==============================] - 1s 1ms/step - loss: 0.0012 - accuracy: 0.9988\n",
      "Epoch 3/50\n",
      "667/667 [==============================] - 1s 1ms/step - loss: 0.0012 - accuracy: 0.9988\n",
      "Epoch 4/50\n",
      "667/667 [==============================] - 1s 1ms/step - loss: 0.0012 - accuracy: 0.9988\n",
      "Epoch 5/50\n",
      "667/667 [==============================] - 1s 1ms/step - loss: 0.0012 - accuracy: 0.9988\n",
      "Epoch 6/50\n",
      "667/667 [==============================] - 1s 1ms/step - loss: 0.0012 - accuracy: 0.9988\n",
      "Epoch 7/50\n",
      "667/667 [==============================] - 1s 1ms/step - loss: 0.0012 - accuracy: 0.9988\n",
      "Epoch 8/50\n",
      "667/667 [==============================] - 1s 1ms/step - loss: 0.0012 - accuracy: 0.9988\n",
      "Epoch 9/50\n",
      "667/667 [==============================] - 1s 1ms/step - loss: 0.0012 - accuracy: 0.9988\n",
      "Epoch 10/50\n",
      "667/667 [==============================] - 1s 1ms/step - loss: 0.0012 - accuracy: 0.9988\n",
      "Epoch 11/50\n",
      "667/667 [==============================] - 1s 1ms/step - loss: 0.0012 - accuracy: 0.9988\n",
      "Epoch 12/50\n",
      "667/667 [==============================] - 1s 1ms/step - loss: 0.0012 - accuracy: 0.9988\n",
      "Epoch 13/50\n",
      "667/667 [==============================] - 1s 1ms/step - loss: 0.0012 - accuracy: 0.9988\n",
      "Epoch 14/50\n",
      "667/667 [==============================] - 1s 1ms/step - loss: 0.0012 - accuracy: 0.9988\n",
      "Epoch 15/50\n",
      "667/667 [==============================] - 1s 1ms/step - loss: 0.0012 - accuracy: 0.9988\n",
      "Epoch 16/50\n",
      "667/667 [==============================] - 1s 1ms/step - loss: 0.0012 - accuracy: 0.9988\n",
      "Epoch 17/50\n",
      "667/667 [==============================] - 1s 1ms/step - loss: 0.0012 - accuracy: 0.9988\n",
      "Epoch 18/50\n",
      "667/667 [==============================] - 1s 1ms/step - loss: 0.0012 - accuracy: 0.9988\n",
      "Epoch 19/50\n",
      "667/667 [==============================] - 1s 1ms/step - loss: 0.0012 - accuracy: 0.9988\n",
      "Epoch 20/50\n",
      "667/667 [==============================] - 1s 1ms/step - loss: 0.0012 - accuracy: 0.9988\n",
      "Epoch 21/50\n",
      "667/667 [==============================] - 1s 1ms/step - loss: 0.0012 - accuracy: 0.9988\n",
      "Epoch 22/50\n",
      "667/667 [==============================] - 1s 1ms/step - loss: 0.0012 - accuracy: 0.9988\n",
      "Epoch 23/50\n",
      "667/667 [==============================] - 1s 1ms/step - loss: 0.0012 - accuracy: 0.9988\n",
      "Epoch 24/50\n",
      "667/667 [==============================] - 1s 1ms/step - loss: 0.0012 - accuracy: 0.9988\n",
      "Epoch 25/50\n",
      "667/667 [==============================] - 1s 1ms/step - loss: 0.0012 - accuracy: 0.9988\n",
      "Epoch 26/50\n",
      "667/667 [==============================] - 1s 1ms/step - loss: 0.0012 - accuracy: 0.9988\n",
      "Epoch 27/50\n",
      "667/667 [==============================] - 1s 1ms/step - loss: 0.0012 - accuracy: 0.9988\n",
      "Epoch 28/50\n",
      "667/667 [==============================] - 1s 1ms/step - loss: 0.0012 - accuracy: 0.9988\n",
      "Epoch 29/50\n",
      "667/667 [==============================] - 1s 1ms/step - loss: 0.0012 - accuracy: 0.9988\n",
      "Epoch 30/50\n",
      "667/667 [==============================] - 1s 1ms/step - loss: 0.0012 - accuracy: 0.9988\n",
      "Epoch 31/50\n",
      "667/667 [==============================] - 1s 1ms/step - loss: 0.0012 - accuracy: 0.9988\n",
      "Epoch 32/50\n",
      "667/667 [==============================] - 1s 1ms/step - loss: 0.0012 - accuracy: 0.9988\n",
      "Epoch 33/50\n",
      "667/667 [==============================] - 1s 1ms/step - loss: 0.0012 - accuracy: 0.9988\n",
      "Epoch 34/50\n",
      "667/667 [==============================] - 1s 1ms/step - loss: 0.0012 - accuracy: 0.9988\n",
      "Epoch 35/50\n",
      "667/667 [==============================] - 1s 1ms/step - loss: 0.0012 - accuracy: 0.9988\n",
      "Epoch 36/50\n",
      "667/667 [==============================] - 1s 1ms/step - loss: 0.0012 - accuracy: 0.9988\n",
      "Epoch 37/50\n",
      "667/667 [==============================] - 1s 1ms/step - loss: 0.0012 - accuracy: 0.9988\n",
      "Epoch 38/50\n",
      "667/667 [==============================] - 1s 1ms/step - loss: 0.0012 - accuracy: 0.9988\n",
      "Epoch 39/50\n",
      "667/667 [==============================] - 1s 1ms/step - loss: 0.0012 - accuracy: 0.9988\n",
      "Epoch 40/50\n",
      "667/667 [==============================] - 1s 1ms/step - loss: 0.0012 - accuracy: 0.9988\n",
      "Epoch 41/50\n",
      "667/667 [==============================] - 1s 1ms/step - loss: 0.0012 - accuracy: 0.9988\n",
      "Epoch 42/50\n",
      "667/667 [==============================] - 1s 1ms/step - loss: 0.0012 - accuracy: 0.9988\n",
      "Epoch 43/50\n",
      "667/667 [==============================] - 1s 1ms/step - loss: 0.0012 - accuracy: 0.9988\n",
      "Epoch 44/50\n",
      "667/667 [==============================] - 1s 1ms/step - loss: 0.0012 - accuracy: 0.9988\n",
      "Epoch 45/50\n",
      "667/667 [==============================] - 1s 1ms/step - loss: 0.0012 - accuracy: 0.9988\n",
      "Epoch 46/50\n",
      "667/667 [==============================] - 1s 1ms/step - loss: 0.0012 - accuracy: 0.9988\n",
      "Epoch 47/50\n",
      "667/667 [==============================] - 1s 1ms/step - loss: 0.0012 - accuracy: 0.9988\n",
      "Epoch 48/50\n",
      "667/667 [==============================] - 1s 1ms/step - loss: 0.0011 - accuracy: 0.9988\n",
      "Epoch 49/50\n",
      "667/667 [==============================] - 1s 1ms/step - loss: 0.0012 - accuracy: 0.9988\n",
      "Epoch 50/50\n",
      "667/667 [==============================] - 1s 1ms/step - loss: 0.0012 - accuracy: 0.9988\n"
     ]
    }
   ],
   "source": [
    "from tensorflow.keras.models import Sequential\n",
    "from tensorflow.keras.layers import Dense\n",
    "from tensorflow.keras.metrics import Precision\n",
    "from tensorflow.keras.metrics import Recall\n",
    "from sklearn.metrics import r2_score\n",
    "from tensorflow.keras.layers import Dropout\n",
    "\n",
    "X_train_nn = preproc.fit_transform(X_train)\n",
    "X_val_nn = preproc.transform(X_val)\n",
    "\n",
    "model_nn = Sequential([\n",
    "    Dense(32, activation=\"relu\", input_dim=len(f_names)),\n",
    "    Dense(8, activation=\"relu\"),\n",
    "    Dense(1)\n",
    "])\n",
    "model_nn.summary()\n",
    "model_nn.compile(optimizer=\"adam\", loss=\"mse\",  metrics=[\"accuracy\"])\n",
    "fit_history = model_nn.fit(X_train_nn, y_train, batch_size=100, epochs=50)"
   ]
  },
  {
   "cell_type": "code",
   "execution_count": 211,
   "id": "a3423a3f",
   "metadata": {},
   "outputs": [
    {
     "name": "stdout",
     "output_type": "stream",
     "text": [
      "1042/1042 [==============================] - 1s 1ms/step - loss: 9.5201e-04 - accuracy: 0.9990\n",
      "Loss (MSE) : 0.0010\n",
      "Accurancy  : 0.9990\n"
     ]
    }
   ],
   "source": [
    "loss, acc = model_nn.evaluate(X_val_nn, y_val)\n",
    "print(f\"Loss (MSE) : {loss:5.4f}\")\n",
    "print(f\"Accurancy  : {acc:5.4f}\")"
   ]
  },
  {
   "cell_type": "markdown",
   "id": "0d2aa43d",
   "metadata": {},
   "source": [
    "Vediamo come possiamo grafica le misure d'errore"
   ]
  },
  {
   "cell_type": "code",
   "execution_count": 212,
   "id": "16926ffd",
   "metadata": {},
   "outputs": [
    {
     "data": {
      "image/png": "[encoded data removed]",
      "text/plain": [
       "<Figure size 432x288 with 1 Axes>"
      ]
     },
     "metadata": {
      "needs_background": "light"
     },
     "output_type": "display_data"
    }
   ],
   "source": [
    "plt.plot(fit_history.history[\"loss\"], \"ro-\")\n",
    "plt.legend([\"Loss (MSE)\"])\n",
    "plt.xlabel(\"Epochs\");\n",
    "plt.show();"
   ]
  },
  {
   "cell_type": "code",
   "execution_count": 213,
   "id": "88afea1f",
   "metadata": {},
   "outputs": [
    {
     "data": {
      "image/png": "[encoded data removed]",
      "text/plain": [
       "<Figure size 432x288 with 1 Axes>"
      ]
     },
     "metadata": {
      "needs_background": "light"
     },
     "output_type": "display_data"
    }
   ],
   "source": [
    "plt.plot(fit_history.history[\"accuracy\"], \"bo-\")\n",
    "plt.legend([\"Accuracy\"])\n",
    "plt.xlabel(\"Epochs\");\n",
    "plt.show();"
   ]
  },
  {
   "cell_type": "markdown",
   "id": "517dde04",
   "metadata": {},
   "source": [
    "grazie alla classe KerasRegressor possiamo usare le potenzialità di Kerar unite al concetto di Pipeline, GridSearh ecc..\n",
    "di scikit-lean"
   ]
  },
  {
   "cell_type": "code",
   "execution_count": 178,
   "id": "9938bd9c",
   "metadata": {},
   "outputs": [],
   "source": [
    "def build_nn(firstLayerNodes, inpDim):\n",
    "    model = Sequential([\n",
    "        Dense(firstLayerNodes, activation=\"relu\", input_dim=len(f_names)),\n",
    "        Dense(8, activation=\"relu\"),\n",
    "        Dense(1)\n",
    "    ])\n",
    "    model.summary()\n",
    "    model.compile(optimizer=\"adam\", loss=\"mse\",  metrics=[\"accuracy\"])\n",
    "    return model"
   ]
  },
  {
   "cell_type": "code",
   "execution_count": 214,
   "id": "e3134f34",
   "metadata": {
    "scrolled": true
   },
   "outputs": [
    {
     "name": "stdout",
     "output_type": "stream",
     "text": [
      "Model: \"sequential_44\"\n",
      "_________________________________________________________________\n",
      " Layer (type)                Output Shape              Param #   \n",
      "=================================================================\n",
      " dense_147 (Dense)           (None, 8)                 72        \n",
      "                                                                 \n",
      " dense_148 (Dense)           (None, 8)                 72        \n",
      "                                                                 \n",
      " dense_149 (Dense)           (None, 1)                 9         \n",
      "                                                                 \n",
      "=================================================================\n",
      "Total params: 153\n",
      "Trainable params: 153\n",
      "Non-trainable params: 0\n",
      "_________________________________________________________________\n",
      "Epoch 1/10\n"
     ]
    },
    {
     "name": "stderr",
     "output_type": "stream",
     "text": [
      "C:\\Users\\Federico\\AppData\\Local\\Temp/ipykernel_10564/3490373790.py:8: DeprecationWarning: KerasRegressor is deprecated, use Sci-Keras (https://github.com/adriangb/scikeras) instead. See https://www.adriangb.com/scikeras/stable/migration.html for help migrating.\n",
      "  (\"KerasRegressor\", KerasRegressor(build_fn=build_nn,\n"
     ]
    },
    {
     "name": "stdout",
     "output_type": "stream",
     "text": [
      "445/445 [==============================] - 1s 1ms/step - loss: 0.0035 - accuracy: 0.9988\n",
      "Epoch 2/10\n",
      "445/445 [==============================] - 1s 1ms/step - loss: 0.0012 - accuracy: 0.9988\n",
      "Epoch 3/10\n",
      "445/445 [==============================] - 1s 1ms/step - loss: 0.0012 - accuracy: 0.9988\n",
      "Epoch 4/10\n",
      "445/445 [==============================] - 1s 1ms/step - loss: 0.0012 - accuracy: 0.9988\n",
      "Epoch 5/10\n",
      "445/445 [==============================] - 1s 1ms/step - loss: 0.0012 - accuracy: 0.9988\n",
      "Epoch 6/10\n",
      "445/445 [==============================] - 1s 1ms/step - loss: 0.0012 - accuracy: 0.9988\n",
      "Epoch 7/10\n",
      "445/445 [==============================] - 1s 1ms/step - loss: 0.0012 - accuracy: 0.9988\n",
      "Epoch 8/10\n",
      "445/445 [==============================] - 1s 1ms/step - loss: 0.0012 - accuracy: 0.9988\n",
      "Epoch 9/10\n",
      "445/445 [==============================] - 1s 1ms/step - loss: 0.0012 - accuracy: 0.9988\n",
      "Epoch 10/10\n",
      "445/445 [==============================] - 1s 1ms/step - loss: 0.0011 - accuracy: 0.9988\n",
      "223/223 [==============================] - 0s 1ms/step - loss: 0.0013 - accuracy: 0.9987\n",
      "Model: \"sequential_45\"\n",
      "_________________________________________________________________\n",
      " Layer (type)                Output Shape              Param #   \n",
      "=================================================================\n",
      " dense_150 (Dense)           (None, 8)                 72        \n",
      "                                                                 \n",
      " dense_151 (Dense)           (None, 8)                 72        \n",
      "                                                                 \n",
      " dense_152 (Dense)           (None, 1)                 9         \n",
      "                                                                 \n",
      "=================================================================\n",
      "Total params: 153\n",
      "Trainable params: 153\n",
      "Non-trainable params: 0\n",
      "_________________________________________________________________\n",
      "Epoch 1/10\n",
      "445/445 [==============================] - 1s 1ms/step - loss: 0.0036 - accuracy: 0.9983\n",
      "Epoch 2/10\n",
      "445/445 [==============================] - 0s 1ms/step - loss: 0.0012 - accuracy: 0.9989\n",
      "Epoch 3/10\n",
      "445/445 [==============================] - 0s 1ms/step - loss: 0.0011 - accuracy: 0.9989\n",
      "Epoch 4/10\n",
      "445/445 [==============================] - 1s 1ms/step - loss: 0.0011 - accuracy: 0.9989\n",
      "Epoch 5/10\n",
      "445/445 [==============================] - 0s 1ms/step - loss: 0.0011 - accuracy: 0.9989\n",
      "Epoch 6/10\n",
      "445/445 [==============================] - 1s 1ms/step - loss: 0.0011 - accuracy: 0.9989\n",
      "Epoch 7/10\n",
      "445/445 [==============================] - 1s 1ms/step - loss: 0.0011 - accuracy: 0.9989\n",
      "Epoch 8/10\n",
      "445/445 [==============================] - 1s 1ms/step - loss: 0.0011 - accuracy: 0.9989\n",
      "Epoch 9/10\n",
      "445/445 [==============================] - 1s 1ms/step - loss: 0.0011 - accuracy: 0.9989\n",
      "Epoch 10/10\n",
      "445/445 [==============================] - 1s 1ms/step - loss: 0.0011 - accuracy: 0.9989\n",
      "223/223 [==============================] - 0s 1ms/step - loss: 0.0014 - accuracy: 0.9987\n",
      "Model: \"sequential_46\"\n",
      "_________________________________________________________________\n",
      " Layer (type)                Output Shape              Param #   \n",
      "=================================================================\n",
      " dense_153 (Dense)           (None, 8)                 72        \n",
      "                                                                 \n",
      " dense_154 (Dense)           (None, 8)                 72        \n",
      "                                                                 \n",
      " dense_155 (Dense)           (None, 1)                 9         \n",
      "                                                                 \n",
      "=================================================================\n",
      "Total params: 153\n",
      "Trainable params: 153\n",
      "Non-trainable params: 0\n",
      "_________________________________________________________________\n",
      "Epoch 1/10\n",
      "445/445 [==============================] - 1s 1ms/step - loss: 0.0344 - accuracy: 0.9775\n",
      "Epoch 2/10\n",
      "445/445 [==============================] - 1s 1ms/step - loss: 0.0018 - accuracy: 0.9986\n",
      "Epoch 3/10\n",
      "445/445 [==============================] - 1s 1ms/step - loss: 0.0015 - accuracy: 0.9987\n",
      "Epoch 4/10\n",
      "445/445 [==============================] - 1s 1ms/step - loss: 0.0014 - accuracy: 0.9987\n",
      "Epoch 5/10\n",
      "445/445 [==============================] - 1s 1ms/step - loss: 0.0014 - accuracy: 0.9987\n",
      "Epoch 6/10\n",
      "445/445 [==============================] - 1s 1ms/step - loss: 0.0014 - accuracy: 0.9987\n",
      "Epoch 7/10\n",
      "445/445 [==============================] - 1s 1ms/step - loss: 0.0013 - accuracy: 0.9987\n",
      "Epoch 8/10\n",
      "445/445 [==============================] - 1s 1ms/step - loss: 0.0013 - accuracy: 0.9987\n",
      "Epoch 9/10\n",
      "445/445 [==============================] - 1s 1ms/step - loss: 0.0013 - accuracy: 0.9987\n",
      "Epoch 10/10\n",
      "445/445 [==============================] - 1s 1ms/step - loss: 0.0013 - accuracy: 0.9987\n",
      "223/223 [==============================] - 0s 1ms/step - loss: 9.3021e-04 - accuracy: 0.9991\n",
      "Model: \"sequential_47\"\n",
      "_________________________________________________________________\n",
      " Layer (type)                Output Shape              Param #   \n",
      "=================================================================\n",
      " dense_156 (Dense)           (None, 16)                144       \n",
      "                                                                 \n",
      " dense_157 (Dense)           (None, 8)                 136       \n",
      "                                                                 \n",
      " dense_158 (Dense)           (None, 1)                 9         \n",
      "                                                                 \n",
      "=================================================================\n",
      "Total params: 289\n",
      "Trainable params: 289\n",
      "Non-trainable params: 0\n",
      "_________________________________________________________________\n",
      "Epoch 1/10\n",
      "445/445 [==============================] - 1s 1ms/step - loss: 0.0102 - accuracy: 0.9941\n",
      "Epoch 2/10\n",
      "445/445 [==============================] - 1s 1ms/step - loss: 0.0012 - accuracy: 0.9988\n",
      "Epoch 3/10\n",
      "445/445 [==============================] - 1s 1ms/step - loss: 0.0012 - accuracy: 0.9988\n",
      "Epoch 4/10\n",
      "445/445 [==============================] - 1s 1ms/step - loss: 0.0012 - accuracy: 0.9988\n",
      "Epoch 5/10\n",
      "445/445 [==============================] - 1s 1ms/step - loss: 0.0012 - accuracy: 0.9988\n",
      "Epoch 6/10\n",
      "445/445 [==============================] - 1s 1ms/step - loss: 0.0012 - accuracy: 0.9988\n",
      "Epoch 7/10\n",
      "445/445 [==============================] - 1s 1ms/step - loss: 0.0012 - accuracy: 0.9989\n",
      "Epoch 8/10\n",
      "445/445 [==============================] - 1s 1ms/step - loss: 0.0011 - accuracy: 0.9988\n",
      "Epoch 9/10\n",
      "445/445 [==============================] - 1s 1ms/step - loss: 0.0011 - accuracy: 0.9989\n",
      "Epoch 10/10\n",
      "445/445 [==============================] - 1s 1ms/step - loss: 0.0011 - accuracy: 0.9989\n",
      "223/223 [==============================] - 0s 1ms/step - loss: 0.0013 - accuracy: 0.9987\n",
      "Model: \"sequential_48\"\n",
      "_________________________________________________________________\n",
      " Layer (type)                Output Shape              Param #   \n",
      "=================================================================\n",
      " dense_159 (Dense)           (None, 16)                144       \n",
      "                                                                 \n",
      " dense_160 (Dense)           (None, 8)                 136       \n",
      "                                                                 \n",
      " dense_161 (Dense)           (None, 1)                 9         \n",
      "                                                                 \n",
      "=================================================================\n",
      "Total params: 289\n",
      "Trainable params: 289\n",
      "Non-trainable params: 0\n",
      "_________________________________________________________________\n",
      "Epoch 1/10\n",
      "445/445 [==============================] - 1s 1ms/step - loss: 0.0104 - accuracy: 0.9932\n",
      "Epoch 2/10\n",
      "445/445 [==============================] - 1s 1ms/step - loss: 0.0012 - accuracy: 0.9989\n",
      "Epoch 3/10\n",
      "445/445 [==============================] - 1s 1ms/step - loss: 0.0011 - accuracy: 0.9989\n",
      "Epoch 4/10\n",
      "445/445 [==============================] - 1s 1ms/step - loss: 0.0011 - accuracy: 0.9989\n",
      "Epoch 5/10\n",
      "445/445 [==============================] - 1s 1ms/step - loss: 0.0011 - accuracy: 0.9989\n",
      "Epoch 6/10\n"
     ]
    },
    {
     "name": "stdout",
     "output_type": "stream",
     "text": [
      "445/445 [==============================] - 1s 1ms/step - loss: 0.0011 - accuracy: 0.9989\n",
      "Epoch 7/10\n",
      "445/445 [==============================] - 1s 1ms/step - loss: 0.0011 - accuracy: 0.9989\n",
      "Epoch 8/10\n",
      "445/445 [==============================] - 1s 1ms/step - loss: 0.0011 - accuracy: 0.9989\n",
      "Epoch 9/10\n",
      "445/445 [==============================] - 1s 1ms/step - loss: 0.0011 - accuracy: 0.9989\n",
      "Epoch 10/10\n",
      "445/445 [==============================] - 1s 1ms/step - loss: 0.0011 - accuracy: 0.9989\n",
      "223/223 [==============================] - 0s 1ms/step - loss: 0.0013 - accuracy: 0.9987\n",
      "Model: \"sequential_49\"\n",
      "_________________________________________________________________\n",
      " Layer (type)                Output Shape              Param #   \n",
      "=================================================================\n",
      " dense_162 (Dense)           (None, 16)                144       \n",
      "                                                                 \n",
      " dense_163 (Dense)           (None, 8)                 136       \n",
      "                                                                 \n",
      " dense_164 (Dense)           (None, 1)                 9         \n",
      "                                                                 \n",
      "=================================================================\n",
      "Total params: 289\n",
      "Trainable params: 289\n",
      "Non-trainable params: 0\n",
      "_________________________________________________________________\n",
      "Epoch 1/10\n",
      "445/445 [==============================] - 1s 1ms/step - loss: 0.0164 - accuracy: 0.9905\n",
      "Epoch 2/10\n",
      "445/445 [==============================] - 1s 1ms/step - loss: 0.0013 - accuracy: 0.9987\n",
      "Epoch 3/10\n",
      "445/445 [==============================] - 1s 1ms/step - loss: 0.0013 - accuracy: 0.9987\n",
      "Epoch 4/10\n",
      "445/445 [==============================] - 1s 1ms/step - loss: 0.0013 - accuracy: 0.9987\n",
      "Epoch 5/10\n",
      "445/445 [==============================] - 1s 1ms/step - loss: 0.0013 - accuracy: 0.9987\n",
      "Epoch 6/10\n",
      "445/445 [==============================] - 0s 1ms/step - loss: 0.0013 - accuracy: 0.9987\n",
      "Epoch 7/10\n",
      "445/445 [==============================] - 1s 1ms/step - loss: 0.0013 - accuracy: 0.9987\n",
      "Epoch 8/10\n",
      "445/445 [==============================] - 0s 1ms/step - loss: 0.0013 - accuracy: 0.9987\n",
      "Epoch 9/10\n",
      "445/445 [==============================] - 0s 1ms/step - loss: 0.0013 - accuracy: 0.9987\n",
      "Epoch 10/10\n",
      "445/445 [==============================] - 1s 1ms/step - loss: 0.0013 - accuracy: 0.9987\n",
      "223/223 [==============================] - 0s 1ms/step - loss: 9.6360e-04 - accuracy: 0.9991\n",
      "Model: \"sequential_50\"\n",
      "_________________________________________________________________\n",
      " Layer (type)                Output Shape              Param #   \n",
      "=================================================================\n",
      " dense_165 (Dense)           (None, 64)                576       \n",
      "                                                                 \n",
      " dense_166 (Dense)           (None, 8)                 520       \n",
      "                                                                 \n",
      " dense_167 (Dense)           (None, 1)                 9         \n",
      "                                                                 \n",
      "=================================================================\n",
      "Total params: 1,105\n",
      "Trainable params: 1,105\n",
      "Non-trainable params: 0\n",
      "_________________________________________________________________\n",
      "Epoch 1/10\n",
      "445/445 [==============================] - 1s 1ms/step - loss: 0.0019 - accuracy: 0.9985\n",
      "Epoch 2/10\n",
      "445/445 [==============================] - 1s 1ms/step - loss: 0.0012 - accuracy: 0.9988\n",
      "Epoch 3/10\n",
      "445/445 [==============================] - 1s 1ms/step - loss: 0.0012 - accuracy: 0.9989\n",
      "Epoch 4/10\n",
      "445/445 [==============================] - 1s 1ms/step - loss: 0.0011 - accuracy: 0.9989\n",
      "Epoch 5/10\n",
      "445/445 [==============================] - 1s 1ms/step - loss: 0.0011 - accuracy: 0.9989\n",
      "Epoch 6/10\n",
      "445/445 [==============================] - 1s 1ms/step - loss: 0.0012 - accuracy: 0.9989\n",
      "Epoch 7/10\n",
      "445/445 [==============================] - 1s 1ms/step - loss: 0.0012 - accuracy: 0.9989\n",
      "Epoch 8/10\n",
      "445/445 [==============================] - 1s 1ms/step - loss: 0.0012 - accuracy: 0.9989\n",
      "Epoch 9/10\n",
      "445/445 [==============================] - 1s 1ms/step - loss: 0.0012 - accuracy: 0.9989\n",
      "Epoch 10/10\n",
      "445/445 [==============================] - 1s 1ms/step - loss: 0.0011 - accuracy: 0.9989\n",
      "223/223 [==============================] - 0s 1ms/step - loss: 0.0013 - accuracy: 0.9987\n",
      "Model: \"sequential_51\"\n",
      "_________________________________________________________________\n",
      " Layer (type)                Output Shape              Param #   \n",
      "=================================================================\n",
      " dense_168 (Dense)           (None, 64)                576       \n",
      "                                                                 \n",
      " dense_169 (Dense)           (None, 8)                 520       \n",
      "                                                                 \n",
      " dense_170 (Dense)           (None, 1)                 9         \n",
      "                                                                 \n",
      "=================================================================\n",
      "Total params: 1,105\n",
      "Trainable params: 1,105\n",
      "Non-trainable params: 0\n",
      "_________________________________________________________________\n",
      "Epoch 1/10\n",
      "445/445 [==============================] - 1s 2ms/step - loss: 0.0015 - accuracy: 0.9989\n",
      "Epoch 2/10\n",
      "445/445 [==============================] - 1s 1ms/step - loss: 0.0012 - accuracy: 0.9989\n",
      "Epoch 3/10\n",
      "445/445 [==============================] - 1s 1ms/step - loss: 0.0011 - accuracy: 0.9989\n",
      "Epoch 4/10\n",
      "445/445 [==============================] - 1s 1ms/step - loss: 0.0011 - accuracy: 0.9989\n",
      "Epoch 5/10\n",
      "445/445 [==============================] - 1s 1ms/step - loss: 0.0011 - accuracy: 0.9989\n",
      "Epoch 6/10\n",
      "445/445 [==============================] - 1s 1ms/step - loss: 0.0011 - accuracy: 0.9989\n",
      "Epoch 7/10\n",
      "445/445 [==============================] - 1s 2ms/step - loss: 0.0011 - accuracy: 0.9989\n",
      "Epoch 8/10\n",
      "445/445 [==============================] - 1s 1ms/step - loss: 0.0011 - accuracy: 0.9989\n",
      "Epoch 9/10\n",
      "445/445 [==============================] - 1s 2ms/step - loss: 0.0011 - accuracy: 0.9989\n",
      "Epoch 10/10\n",
      "445/445 [==============================] - 1s 2ms/step - loss: 0.0011 - accuracy: 0.9989\n",
      "223/223 [==============================] - 0s 1ms/step - loss: 0.0013 - accuracy: 0.9987\n",
      "Model: \"sequential_52\"\n",
      "_________________________________________________________________\n",
      " Layer (type)                Output Shape              Param #   \n",
      "=================================================================\n",
      " dense_171 (Dense)           (None, 64)                576       \n",
      "                                                                 \n",
      " dense_172 (Dense)           (None, 8)                 520       \n",
      "                                                                 \n",
      " dense_173 (Dense)           (None, 1)                 9         \n",
      "                                                                 \n",
      "=================================================================\n",
      "Total params: 1,105\n",
      "Trainable params: 1,105\n",
      "Non-trainable params: 0\n",
      "_________________________________________________________________\n",
      "Epoch 1/10\n",
      "445/445 [==============================] - 1s 1ms/step - loss: 0.0019 - accuracy: 0.9987\n",
      "Epoch 2/10\n",
      "445/445 [==============================] - 1s 2ms/step - loss: 0.0013 - accuracy: 0.9987\n",
      "Epoch 3/10\n",
      "445/445 [==============================] - 1s 1ms/step - loss: 0.0013 - accuracy: 0.9987\n",
      "Epoch 4/10\n",
      "445/445 [==============================] - 1s 2ms/step - loss: 0.0013 - accuracy: 0.9987\n",
      "Epoch 5/10\n",
      "445/445 [==============================] - 1s 1ms/step - loss: 0.0013 - accuracy: 0.9987\n",
      "Epoch 6/10\n",
      "445/445 [==============================] - 1s 1ms/step - loss: 0.0013 - accuracy: 0.9987\n",
      "Epoch 7/10\n",
      "445/445 [==============================] - 1s 1ms/step - loss: 0.0014 - accuracy: 0.9987\n",
      "Epoch 8/10\n",
      "445/445 [==============================] - 1s 1ms/step - loss: 0.0013 - accuracy: 0.9987\n",
      "Epoch 9/10\n",
      "445/445 [==============================] - 1s 1ms/step - loss: 0.0013 - accuracy: 0.9987\n",
      "Epoch 10/10\n",
      "445/445 [==============================] - 1s 1ms/step - loss: 0.0013 - accuracy: 0.9987\n"
     ]
    },
    {
     "name": "stdout",
     "output_type": "stream",
     "text": [
      "223/223 [==============================] - 0s 1ms/step - loss: 9.9562e-04 - accuracy: 0.9991\n",
      "Model: \"sequential_53\"\n",
      "_________________________________________________________________\n",
      " Layer (type)                Output Shape              Param #   \n",
      "=================================================================\n",
      " dense_174 (Dense)           (None, 128)               1152      \n",
      "                                                                 \n",
      " dense_175 (Dense)           (None, 8)                 1032      \n",
      "                                                                 \n",
      " dense_176 (Dense)           (None, 1)                 9         \n",
      "                                                                 \n",
      "=================================================================\n",
      "Total params: 2,193\n",
      "Trainable params: 2,193\n",
      "Non-trainable params: 0\n",
      "_________________________________________________________________\n",
      "Epoch 1/10\n",
      "445/445 [==============================] - 1s 2ms/step - loss: 0.0033 - accuracy: 0.9987\n",
      "Epoch 2/10\n",
      "445/445 [==============================] - 1s 2ms/step - loss: 0.0012 - accuracy: 0.9989\n",
      "Epoch 3/10\n",
      "445/445 [==============================] - 1s 2ms/step - loss: 0.0012 - accuracy: 0.9989\n",
      "Epoch 4/10\n",
      "445/445 [==============================] - 1s 2ms/step - loss: 0.0012 - accuracy: 0.9989\n",
      "Epoch 5/10\n",
      "445/445 [==============================] - 1s 2ms/step - loss: 0.0012 - accuracy: 0.9989\n",
      "Epoch 6/10\n",
      "445/445 [==============================] - 1s 2ms/step - loss: 0.0012 - accuracy: 0.9989\n",
      "Epoch 7/10\n",
      "445/445 [==============================] - 1s 2ms/step - loss: 0.0012 - accuracy: 0.9989\n",
      "Epoch 8/10\n",
      "445/445 [==============================] - 1s 2ms/step - loss: 0.0012 - accuracy: 0.9989\n",
      "Epoch 9/10\n",
      "445/445 [==============================] - 1s 2ms/step - loss: 0.0012 - accuracy: 0.9988\n",
      "Epoch 10/10\n",
      "445/445 [==============================] - 1s 3ms/step - loss: 0.0012 - accuracy: 0.9989\n",
      "223/223 [==============================] - 0s 1ms/step - loss: 0.0013 - accuracy: 0.9987\n",
      "Model: \"sequential_54\"\n",
      "_________________________________________________________________\n",
      " Layer (type)                Output Shape              Param #   \n",
      "=================================================================\n",
      " dense_177 (Dense)           (None, 128)               1152      \n",
      "                                                                 \n",
      " dense_178 (Dense)           (None, 8)                 1032      \n",
      "                                                                 \n",
      " dense_179 (Dense)           (None, 1)                 9         \n",
      "                                                                 \n",
      "=================================================================\n",
      "Total params: 2,193\n",
      "Trainable params: 2,193\n",
      "Non-trainable params: 0\n",
      "_________________________________________________________________\n",
      "Epoch 1/10\n",
      "445/445 [==============================] - 1s 3ms/step - loss: 0.0017 - accuracy: 0.9984\n",
      "Epoch 2/10\n",
      "445/445 [==============================] - 1s 2ms/step - loss: 0.0011 - accuracy: 0.9989\n",
      "Epoch 3/10\n",
      "445/445 [==============================] - 1s 2ms/step - loss: 0.0012 - accuracy: 0.9989\n",
      "Epoch 4/10\n",
      "445/445 [==============================] - 1s 2ms/step - loss: 0.0011 - accuracy: 0.9989\n",
      "Epoch 5/10\n",
      "445/445 [==============================] - 1s 3ms/step - loss: 0.0011 - accuracy: 0.9989\n",
      "Epoch 6/10\n",
      "445/445 [==============================] - 1s 2ms/step - loss: 0.0011 - accuracy: 0.9989\n",
      "Epoch 7/10\n",
      "445/445 [==============================] - 1s 2ms/step - loss: 0.0011 - accuracy: 0.9989\n",
      "Epoch 8/10\n",
      "445/445 [==============================] - 1s 3ms/step - loss: 0.0011 - accuracy: 0.9989\n",
      "Epoch 9/10\n",
      "445/445 [==============================] - 1s 2ms/step - loss: 0.0011 - accuracy: 0.9989\n",
      "Epoch 10/10\n",
      "445/445 [==============================] - 1s 2ms/step - loss: 0.0011 - accuracy: 0.9989\n",
      "223/223 [==============================] - 0s 1ms/step - loss: 0.0015 - accuracy: 0.9987\n",
      "Model: \"sequential_55\"\n",
      "_________________________________________________________________\n",
      " Layer (type)                Output Shape              Param #   \n",
      "=================================================================\n",
      " dense_180 (Dense)           (None, 128)               1152      \n",
      "                                                                 \n",
      " dense_181 (Dense)           (None, 8)                 1032      \n",
      "                                                                 \n",
      " dense_182 (Dense)           (None, 1)                 9         \n",
      "                                                                 \n",
      "=================================================================\n",
      "Total params: 2,193\n",
      "Trainable params: 2,193\n",
      "Non-trainable params: 0\n",
      "_________________________________________________________________\n",
      "Epoch 1/10\n",
      "445/445 [==============================] - 1s 2ms/step - loss: 0.0015 - accuracy: 0.9987\n",
      "Epoch 2/10\n",
      "445/445 [==============================] - 1s 2ms/step - loss: 0.0014 - accuracy: 0.9987\n",
      "Epoch 3/10\n",
      "445/445 [==============================] - 1s 2ms/step - loss: 0.0013 - accuracy: 0.9987\n",
      "Epoch 4/10\n",
      "445/445 [==============================] - 1s 2ms/step - loss: 0.0014 - accuracy: 0.9987\n",
      "Epoch 5/10\n",
      "445/445 [==============================] - 1s 2ms/step - loss: 0.0013 - accuracy: 0.9987\n",
      "Epoch 6/10\n",
      "445/445 [==============================] - 1s 1ms/step - loss: 0.0013 - accuracy: 0.9987\n",
      "Epoch 7/10\n",
      "445/445 [==============================] - 1s 1ms/step - loss: 0.0013 - accuracy: 0.9987\n",
      "Epoch 8/10\n",
      "445/445 [==============================] - 1s 2ms/step - loss: 0.0014 - accuracy: 0.9987\n",
      "Epoch 9/10\n",
      "445/445 [==============================] - 1s 2ms/step - loss: 0.0013 - accuracy: 0.9987\n",
      "Epoch 10/10\n",
      "445/445 [==============================] - 1s 1ms/step - loss: 0.0013 - accuracy: 0.9987\n",
      "223/223 [==============================] - 0s 1ms/step - loss: 9.4765e-04 - accuracy: 0.9991\n",
      "Model: \"sequential_56\"\n",
      "_________________________________________________________________\n",
      " Layer (type)                Output Shape              Param #   \n",
      "=================================================================\n",
      " dense_183 (Dense)           (None, 16)                144       \n",
      "                                                                 \n",
      " dense_184 (Dense)           (None, 8)                 136       \n",
      "                                                                 \n",
      " dense_185 (Dense)           (None, 1)                 9         \n",
      "                                                                 \n",
      "=================================================================\n",
      "Total params: 289\n",
      "Trainable params: 289\n",
      "Non-trainable params: 0\n",
      "_________________________________________________________________\n",
      "Epoch 1/10\n",
      "667/667 [==============================] - 1s 1ms/step - loss: 0.0327 - accuracy: 0.9737\n",
      "Epoch 2/10\n",
      "667/667 [==============================] - 1s 1ms/step - loss: 0.0014 - accuracy: 0.9988\n",
      "Epoch 3/10\n",
      "667/667 [==============================] - 1s 1ms/step - loss: 0.0013 - accuracy: 0.9988\n",
      "Epoch 4/10\n",
      "667/667 [==============================] - 1s 1ms/step - loss: 0.0012 - accuracy: 0.9988\n",
      "Epoch 5/10\n",
      "667/667 [==============================] - 1s 1ms/step - loss: 0.0012 - accuracy: 0.9988\n",
      "Epoch 6/10\n",
      "667/667 [==============================] - 1s 1ms/step - loss: 0.0012 - accuracy: 0.9988\n",
      "Epoch 7/10\n",
      "667/667 [==============================] - 1s 1ms/step - loss: 0.0012 - accuracy: 0.9988\n",
      "Epoch 8/10\n",
      "667/667 [==============================] - 1s 1ms/step - loss: 0.0012 - accuracy: 0.9988\n",
      "Epoch 9/10\n",
      "667/667 [==============================] - 1s 1ms/step - loss: 0.0012 - accuracy: 0.9988\n",
      "Epoch 10/10\n",
      "667/667 [==============================] - 1s 1ms/step - loss: 0.0012 - accuracy: 0.9988\n"
     ]
    }
   ],
   "source": [
    "from tensorflow.keras.wrappers.scikit_learn import KerasRegressor\n",
    "from sklearn.model_selection import GridSearchCV, KFold\n",
    "\n",
    "kf = KFold(3, shuffle=True, random_state=42)\n",
    "\n",
    "model = Pipeline([\n",
    "    (\"preproc\", preproc),\n",
    "    (\"KerasRegressor\", KerasRegressor(build_fn=build_nn, \n",
    "                                      batch_size=100, \n",
    "                                      epochs=10,\n",
    "                                      firstLayerNodes=128, \n",
    "                                      inpDim=len(f_names) \n",
    "                                     )\n",
    "    )\n",
    "])\n",
    "\n",
    "grid = {\n",
    "    \"KerasRegressor__firstLayerNodes\": [8, 16, 64, 128]\n",
    "}\n",
    "\n",
    "gs = GridSearchCV(model, grid, cv=kf)\n",
    "gs.fit(X_train, y_train);"
   ]
  },
  {
   "cell_type": "code",
   "execution_count": 215,
   "id": "98cd146c",
   "metadata": {},
   "outputs": [
    {
     "data": {
      "text/html": [
       "<div>\n",
       "<style scoped>\n",
       "    .dataframe tbody tr th:only-of-type {\n",
       "        vertical-align: middle;\n",
       "    }\n",
       "\n",
       "    .dataframe tbody tr th {\n",
       "        vertical-align: top;\n",
       "    }\n",
       "\n",
       "    .dataframe thead th {\n",
       "        text-align: right;\n",
       "    }\n",
       "</style>\n",
       "<table border=\"1\" class=\"dataframe\">\n",
       "  <thead>\n",
       "    <tr style=\"text-align: right;\">\n",
       "      <th></th>\n",
       "      <th>mean_fit_time</th>\n",
       "      <th>std_fit_time</th>\n",
       "      <th>mean_score_time</th>\n",
       "      <th>std_score_time</th>\n",
       "      <th>param_KerasRegressor__firstLayerNodes</th>\n",
       "      <th>params</th>\n",
       "      <th>split0_test_score</th>\n",
       "      <th>split1_test_score</th>\n",
       "      <th>split2_test_score</th>\n",
       "      <th>mean_test_score</th>\n",
       "      <th>std_test_score</th>\n",
       "      <th>rank_test_score</th>\n",
       "    </tr>\n",
       "  </thead>\n",
       "  <tbody>\n",
       "    <tr>\n",
       "      <th>1</th>\n",
       "      <td>5.642624</td>\n",
       "      <td>0.054596</td>\n",
       "      <td>0.374997</td>\n",
       "      <td>0.027534</td>\n",
       "      <td>16</td>\n",
       "      <td>{'KerasRegressor__firstLayerNodes': 16}</td>\n",
       "      <td>-0.001253</td>\n",
       "      <td>-0.001345</td>\n",
       "      <td>-0.000964</td>\n",
       "      <td>-0.001187</td>\n",
       "      <td>0.000162</td>\n",
       "      <td>1</td>\n",
       "    </tr>\n",
       "    <tr>\n",
       "      <th>2</th>\n",
       "      <td>6.731754</td>\n",
       "      <td>0.487607</td>\n",
       "      <td>0.365691</td>\n",
       "      <td>0.011866</td>\n",
       "      <td>64</td>\n",
       "      <td>{'KerasRegressor__firstLayerNodes': 64}</td>\n",
       "      <td>-0.001251</td>\n",
       "      <td>-0.001345</td>\n",
       "      <td>-0.000996</td>\n",
       "      <td>-0.001197</td>\n",
       "      <td>0.000148</td>\n",
       "      <td>2</td>\n",
       "    </tr>\n",
       "    <tr>\n",
       "      <th>0</th>\n",
       "      <td>5.720038</td>\n",
       "      <td>0.165898</td>\n",
       "      <td>0.362030</td>\n",
       "      <td>0.011399</td>\n",
       "      <td>8</td>\n",
       "      <td>{'KerasRegressor__firstLayerNodes': 8}</td>\n",
       "      <td>-0.001310</td>\n",
       "      <td>-0.001377</td>\n",
       "      <td>-0.000930</td>\n",
       "      <td>-0.001206</td>\n",
       "      <td>0.000197</td>\n",
       "      <td>3</td>\n",
       "    </tr>\n",
       "    <tr>\n",
       "      <th>3</th>\n",
       "      <td>9.836353</td>\n",
       "      <td>0.847367</td>\n",
       "      <td>0.434250</td>\n",
       "      <td>0.007841</td>\n",
       "      <td>128</td>\n",
       "      <td>{'KerasRegressor__firstLayerNodes': 128}</td>\n",
       "      <td>-0.001296</td>\n",
       "      <td>-0.001496</td>\n",
       "      <td>-0.000948</td>\n",
       "      <td>-0.001247</td>\n",
       "      <td>0.000226</td>\n",
       "      <td>4</td>\n",
       "    </tr>\n",
       "  </tbody>\n",
       "</table>\n",
       "</div>"
      ],
      "text/plain": [
       "   mean_fit_time  std_fit_time  mean_score_time  std_score_time  \\\n",
       "1       5.642624      0.054596         0.374997        0.027534   \n",
       "2       6.731754      0.487607         0.365691        0.011866   \n",
       "0       5.720038      0.165898         0.362030        0.011399   \n",
       "3       9.836353      0.847367         0.434250        0.007841   \n",
       "\n",
       "  param_KerasRegressor__firstLayerNodes  \\\n",
       "1                                    16   \n",
       "2                                    64   \n",
       "0                                     8   \n",
       "3                                   128   \n",
       "\n",
       "                                     params  split0_test_score  \\\n",
       "1   {'KerasRegressor__firstLayerNodes': 16}          -0.001253   \n",
       "2   {'KerasRegressor__firstLayerNodes': 64}          -0.001251   \n",
       "0    {'KerasRegressor__firstLayerNodes': 8}          -0.001310   \n",
       "3  {'KerasRegressor__firstLayerNodes': 128}          -0.001296   \n",
       "\n",
       "   split1_test_score  split2_test_score  mean_test_score  std_test_score  \\\n",
       "1          -0.001345          -0.000964        -0.001187        0.000162   \n",
       "2          -0.001345          -0.000996        -0.001197        0.000148   \n",
       "0          -0.001377          -0.000930        -0.001206        0.000197   \n",
       "3          -0.001496          -0.000948        -0.001247        0.000226   \n",
       "\n",
       "   rank_test_score  \n",
       "1                1  \n",
       "2                2  \n",
       "0                3  \n",
       "3                4  "
      ]
     },
     "execution_count": 215,
     "metadata": {},
     "output_type": "execute_result"
    }
   ],
   "source": [
    "pd.DataFrame(gs.cv_results_).sort_values(\"rank_test_score\")"
   ]
  },
  {
   "cell_type": "markdown",
   "id": "968d271f",
   "metadata": {},
   "source": [
    "Si poteva anche sviluppare una rete neurale ricorrente, ottimo per sequenze temporali, ma in questo caso il lavoro richiesto\n",
    "per tale elaborazione è troppo ampio per la prima colonna step."
   ]
  },
  {
   "cell_type": "markdown",
   "id": "0579f83d",
   "metadata": {},
   "source": [
    "## 5 - Tuning degli Iperparametri"
   ]
  },
  {
   "cell_type": "markdown",
   "id": "e51c6beb",
   "metadata": {},
   "source": [
    "Per questa parte utilizziamo una porzione più ampia del datataset"
   ]
  },
  {
   "cell_type": "markdown",
   "id": "f60b9790",
   "metadata": {},
   "source": [
    "In questa parte andremo ad suddividere il dataset in 3 parti e le useremo nel seguente modo :\n",
    "   - Training Set : Per addestrare i modelli\n",
    "   - Validation Set : Per vericare l'accuratteza dei modelli su dati mai visti in fase di training\n",
    "   - Test Set : Per calcolare la confidenza"
   ]
  },
  {
   "cell_type": "code",
   "execution_count": 219,
   "id": "d4a531b2",
   "metadata": {},
   "outputs": [],
   "source": [
    "from sklearn.model_selection import GridSearchCV, KFold\n",
    "kf = KFold(3, shuffle=True, random_state=42)\n",
    "\n",
    "transactions = pd.read_csv(\"../data/data.csv\", nrows=200_000)\n",
    "X = transactions[feature_list]\n",
    "y = transactions[[\"isFraud\"]]\n",
    "\n",
    "X_train, X_val, y_train, y_val = train_test_split(X, y, test_size=1/3, random_state=42)\n",
    "X_train, X_test, y_train, y_test = train_test_split(X_train, y_train, test_size=1/3, random_state=42)"
   ]
  },
  {
   "cell_type": "markdown",
   "id": "c0e72b77",
   "metadata": {},
   "source": [
    "I modelli che meglio si sono comportati per questo esperimento sono stati, come ci si poteva aspettare,\n",
    "i modelli di classificazione. Andiamo quindi a cercare i migliori iperparametri per i seguenti modelli : \n",
    " - Logistic Regression\n",
    " - Alberi Decisionali\n",
    " - XGBClassifier"
   ]
  },
  {
   "cell_type": "code",
   "execution_count": 216,
   "id": "9c05d883",
   "metadata": {},
   "outputs": [
    {
     "data": {
      "text/html": [
       "<div>\n",
       "<style scoped>\n",
       "    .dataframe tbody tr th:only-of-type {\n",
       "        vertical-align: middle;\n",
       "    }\n",
       "\n",
       "    .dataframe tbody tr th {\n",
       "        vertical-align: top;\n",
       "    }\n",
       "\n",
       "    .dataframe thead th {\n",
       "        text-align: right;\n",
       "    }\n",
       "</style>\n",
       "<table border=\"1\" class=\"dataframe\">\n",
       "  <thead>\n",
       "    <tr style=\"text-align: right;\">\n",
       "      <th></th>\n",
       "      <th>mean_fit_time</th>\n",
       "      <th>std_fit_time</th>\n",
       "      <th>mean_score_time</th>\n",
       "      <th>std_score_time</th>\n",
       "      <th>param_LogisticRegression__penalty</th>\n",
       "      <th>params</th>\n",
       "      <th>split0_test_score</th>\n",
       "      <th>split1_test_score</th>\n",
       "      <th>split2_test_score</th>\n",
       "      <th>mean_test_score</th>\n",
       "      <th>std_test_score</th>\n",
       "      <th>rank_test_score</th>\n",
       "    </tr>\n",
       "  </thead>\n",
       "  <tbody>\n",
       "    <tr>\n",
       "      <th>1</th>\n",
       "      <td>3.931819</td>\n",
       "      <td>1.286041</td>\n",
       "      <td>0.009975</td>\n",
       "      <td>0.000001</td>\n",
       "      <td>l2</td>\n",
       "      <td>{'LogisticRegression__penalty': 'l2'}</td>\n",
       "      <td>0.997435</td>\n",
       "      <td>0.996850</td>\n",
       "      <td>0.99775</td>\n",
       "      <td>0.997345</td>\n",
       "      <td>0.000373</td>\n",
       "      <td>1</td>\n",
       "    </tr>\n",
       "    <tr>\n",
       "      <th>0</th>\n",
       "      <td>24.617508</td>\n",
       "      <td>6.512549</td>\n",
       "      <td>0.010306</td>\n",
       "      <td>0.000469</td>\n",
       "      <td>l1</td>\n",
       "      <td>{'LogisticRegression__penalty': 'l1'}</td>\n",
       "      <td>0.995095</td>\n",
       "      <td>0.993655</td>\n",
       "      <td>0.99442</td>\n",
       "      <td>0.994390</td>\n",
       "      <td>0.000588</td>\n",
       "      <td>2</td>\n",
       "    </tr>\n",
       "  </tbody>\n",
       "</table>\n",
       "</div>"
      ],
      "text/plain": [
       "   mean_fit_time  std_fit_time  mean_score_time  std_score_time  \\\n",
       "1       3.931819      1.286041         0.009975        0.000001   \n",
       "0      24.617508      6.512549         0.010306        0.000469   \n",
       "\n",
       "  param_LogisticRegression__penalty                                 params  \\\n",
       "1                                l2  {'LogisticRegression__penalty': 'l2'}   \n",
       "0                                l1  {'LogisticRegression__penalty': 'l1'}   \n",
       "\n",
       "   split0_test_score  split1_test_score  split2_test_score  mean_test_score  \\\n",
       "1           0.997435           0.996850            0.99775         0.997345   \n",
       "0           0.995095           0.993655            0.99442         0.994390   \n",
       "\n",
       "   std_test_score  rank_test_score  \n",
       "1        0.000373                1  \n",
       "0        0.000588                2  "
      ]
     },
     "execution_count": 216,
     "metadata": {},
     "output_type": "execute_result"
    }
   ],
   "source": [
    "grid = {\n",
    "    \"LogisticRegression__penalty\": ['l1','l2']\n",
    "}\n",
    "\n",
    "gs = GridSearchCV(model_lr, grid, cv=kf)\n",
    "gs.fit(X_train, y_train.values.ravel())\n",
    "pd.DataFrame(gs.cv_results_).sort_values(\"rank_test_score\").head(5)"
   ]
  },
  {
   "cell_type": "code",
   "execution_count": 217,
   "id": "0c47935f",
   "metadata": {},
   "outputs": [
    {
     "data": {
      "text/html": [
       "<div>\n",
       "<style scoped>\n",
       "    .dataframe tbody tr th:only-of-type {\n",
       "        vertical-align: middle;\n",
       "    }\n",
       "\n",
       "    .dataframe tbody tr th {\n",
       "        vertical-align: top;\n",
       "    }\n",
       "\n",
       "    .dataframe thead th {\n",
       "        text-align: right;\n",
       "    }\n",
       "</style>\n",
       "<table border=\"1\" class=\"dataframe\">\n",
       "  <thead>\n",
       "    <tr style=\"text-align: right;\">\n",
       "      <th></th>\n",
       "      <th>mean_fit_time</th>\n",
       "      <th>std_fit_time</th>\n",
       "      <th>mean_score_time</th>\n",
       "      <th>std_score_time</th>\n",
       "      <th>param_DecisionTreeClassifier__max_depth</th>\n",
       "      <th>params</th>\n",
       "      <th>split0_test_score</th>\n",
       "      <th>split1_test_score</th>\n",
       "      <th>split2_test_score</th>\n",
       "      <th>mean_test_score</th>\n",
       "      <th>std_test_score</th>\n",
       "      <th>rank_test_score</th>\n",
       "    </tr>\n",
       "  </thead>\n",
       "  <tbody>\n",
       "    <tr>\n",
       "      <th>0</th>\n",
       "      <td>0.084774</td>\n",
       "      <td>0.003733</td>\n",
       "      <td>0.010306</td>\n",
       "      <td>0.000470</td>\n",
       "      <td>5</td>\n",
       "      <td>{'DecisionTreeClassifier__max_depth': 5}</td>\n",
       "      <td>0.998695</td>\n",
       "      <td>0.998515</td>\n",
       "      <td>0.998965</td>\n",
       "      <td>0.998725</td>\n",
       "      <td>0.000185</td>\n",
       "      <td>1</td>\n",
       "    </tr>\n",
       "    <tr>\n",
       "      <th>1</th>\n",
       "      <td>0.095079</td>\n",
       "      <td>0.007523</td>\n",
       "      <td>0.010306</td>\n",
       "      <td>0.000471</td>\n",
       "      <td>10</td>\n",
       "      <td>{'DecisionTreeClassifier__max_depth': 10}</td>\n",
       "      <td>0.998695</td>\n",
       "      <td>0.998425</td>\n",
       "      <td>0.998560</td>\n",
       "      <td>0.998560</td>\n",
       "      <td>0.000110</td>\n",
       "      <td>2</td>\n",
       "    </tr>\n",
       "  </tbody>\n",
       "</table>\n",
       "</div>"
      ],
      "text/plain": [
       "   mean_fit_time  std_fit_time  mean_score_time  std_score_time  \\\n",
       "0       0.084774      0.003733         0.010306        0.000470   \n",
       "1       0.095079      0.007523         0.010306        0.000471   \n",
       "\n",
       "  param_DecisionTreeClassifier__max_depth  \\\n",
       "0                                       5   \n",
       "1                                      10   \n",
       "\n",
       "                                      params  split0_test_score  \\\n",
       "0   {'DecisionTreeClassifier__max_depth': 5}           0.998695   \n",
       "1  {'DecisionTreeClassifier__max_depth': 10}           0.998695   \n",
       "\n",
       "   split1_test_score  split2_test_score  mean_test_score  std_test_score  \\\n",
       "0           0.998515           0.998965         0.998725        0.000185   \n",
       "1           0.998425           0.998560         0.998560        0.000110   \n",
       "\n",
       "   rank_test_score  \n",
       "0                1  \n",
       "1                2  "
      ]
     },
     "execution_count": 217,
     "metadata": {},
     "output_type": "execute_result"
    }
   ],
   "source": [
    "grid = {\n",
    "    \"DecisionTreeClassifier__max_depth\": [5,10]\n",
    "}\n",
    "\n",
    "gs = GridSearchCV(model_dt, grid, cv=kf)\n",
    "gs.fit(X_train, y_train)\n",
    "pd.DataFrame(gs.cv_results_).sort_values(\"rank_test_score\").head(5)"
   ]
  },
  {
   "cell_type": "code",
   "execution_count": 218,
   "id": "36cecd68",
   "metadata": {},
   "outputs": [
    {
     "data": {
      "text/html": [
       "<div>\n",
       "<style scoped>\n",
       "    .dataframe tbody tr th:only-of-type {\n",
       "        vertical-align: middle;\n",
       "    }\n",
       "\n",
       "    .dataframe tbody tr th {\n",
       "        vertical-align: top;\n",
       "    }\n",
       "\n",
       "    .dataframe thead th {\n",
       "        text-align: right;\n",
       "    }\n",
       "</style>\n",
       "<table border=\"1\" class=\"dataframe\">\n",
       "  <thead>\n",
       "    <tr style=\"text-align: right;\">\n",
       "      <th></th>\n",
       "      <th>mean_fit_time</th>\n",
       "      <th>std_fit_time</th>\n",
       "      <th>mean_score_time</th>\n",
       "      <th>std_score_time</th>\n",
       "      <th>param_XGBClassifier__n_estimators</th>\n",
       "      <th>params</th>\n",
       "      <th>split0_test_score</th>\n",
       "      <th>split1_test_score</th>\n",
       "      <th>split2_test_score</th>\n",
       "      <th>mean_test_score</th>\n",
       "      <th>std_test_score</th>\n",
       "      <th>rank_test_score</th>\n",
       "    </tr>\n",
       "  </thead>\n",
       "  <tbody>\n",
       "    <tr>\n",
       "      <th>1</th>\n",
       "      <td>0.489363</td>\n",
       "      <td>0.004021</td>\n",
       "      <td>0.025926</td>\n",
       "      <td>7.025149e-06</td>\n",
       "      <td>20</td>\n",
       "      <td>{'XGBClassifier__n_estimators': 20}</td>\n",
       "      <td>0.998695</td>\n",
       "      <td>0.998515</td>\n",
       "      <td>0.998875</td>\n",
       "      <td>0.998695</td>\n",
       "      <td>0.000147</td>\n",
       "      <td>1</td>\n",
       "    </tr>\n",
       "    <tr>\n",
       "      <th>0</th>\n",
       "      <td>0.275928</td>\n",
       "      <td>0.006166</td>\n",
       "      <td>0.025599</td>\n",
       "      <td>4.701903e-04</td>\n",
       "      <td>10</td>\n",
       "      <td>{'XGBClassifier__n_estimators': 10}</td>\n",
       "      <td>0.998695</td>\n",
       "      <td>0.998515</td>\n",
       "      <td>0.998830</td>\n",
       "      <td>0.998680</td>\n",
       "      <td>0.000129</td>\n",
       "      <td>2</td>\n",
       "    </tr>\n",
       "    <tr>\n",
       "      <th>2</th>\n",
       "      <td>0.695141</td>\n",
       "      <td>0.005642</td>\n",
       "      <td>0.025931</td>\n",
       "      <td>2.247832e-07</td>\n",
       "      <td>30</td>\n",
       "      <td>{'XGBClassifier__n_estimators': 30}</td>\n",
       "      <td>0.998695</td>\n",
       "      <td>0.998470</td>\n",
       "      <td>0.998875</td>\n",
       "      <td>0.998680</td>\n",
       "      <td>0.000166</td>\n",
       "      <td>2</td>\n",
       "    </tr>\n",
       "  </tbody>\n",
       "</table>\n",
       "</div>"
      ],
      "text/plain": [
       "   mean_fit_time  std_fit_time  mean_score_time  std_score_time  \\\n",
       "1       0.489363      0.004021         0.025926    7.025149e-06   \n",
       "0       0.275928      0.006166         0.025599    4.701903e-04   \n",
       "2       0.695141      0.005642         0.025931    2.247832e-07   \n",
       "\n",
       "  param_XGBClassifier__n_estimators                               params  \\\n",
       "1                                20  {'XGBClassifier__n_estimators': 20}   \n",
       "0                                10  {'XGBClassifier__n_estimators': 10}   \n",
       "2                                30  {'XGBClassifier__n_estimators': 30}   \n",
       "\n",
       "   split0_test_score  split1_test_score  split2_test_score  mean_test_score  \\\n",
       "1           0.998695           0.998515           0.998875         0.998695   \n",
       "0           0.998695           0.998515           0.998830         0.998680   \n",
       "2           0.998695           0.998470           0.998875         0.998680   \n",
       "\n",
       "   std_test_score  rank_test_score  \n",
       "1        0.000147                1  \n",
       "0        0.000129                2  \n",
       "2        0.000166                2  "
      ]
     },
     "execution_count": 218,
     "metadata": {},
     "output_type": "execute_result"
    }
   ],
   "source": [
    "grid = {\n",
    "    \"XGBClassifier__n_estimators\": [10,20,30]\n",
    "}\n",
    "\n",
    "gs = GridSearchCV(model_xgb, grid, cv=kf)\n",
    "gs.fit(X_train, y_train.values.ravel())\n",
    "pd.DataFrame(gs.cv_results_).sort_values(\"rank_test_score\").head(5)"
   ]
  },
  {
   "cell_type": "markdown",
   "id": "18165683",
   "metadata": {},
   "source": [
    "## 6 -  Valutazione"
   ]
  },
  {
   "cell_type": "code",
   "execution_count": 224,
   "id": "218ac8aa",
   "metadata": {},
   "outputs": [
    {
     "data": {
      "image/png": "[encoded data removed]",
      "text/plain": [
       "<Figure size 720x432 with 1 Axes>"
      ]
     },
     "metadata": {
      "needs_background": "light"
     },
     "output_type": "display_data"
    }
   ],
   "source": [
    "# da mettere nella funzione bernoulli_process\n",
    "from scipy.stats import norm\n",
    "confidence = 0.95\n",
    "x = np.linspace(norm.ppf(0.01),norm.ppf(0.99), 100)\n",
    "y = norm.pdf(x)\n",
    "plt.figure(figsize=(10,6))\n",
    "plt.plot(x, y, 'r-', lw=1, alpha=0.6, label='Dist. Normale Standard')\n",
    "x = [confidence]*100\n",
    "y = np.linspace(0.0,0.4,100)\n",
    "plt.plot(x, y, 'g-', lw=1, alpha=0.6, label='Z_(alpha/2)')\n",
    "x = [-confidence]*100\n",
    "plt.plot(x, y, 'b-', lw=1, alpha=0.6, label='Z_(1-alpha/2)');\n",
    "plt.legend(loc='upper left')\n",
    "plt.show()"
   ]
  },
  {
   "cell_type": "markdown",
   "id": "689e92f2",
   "metadata": {},
   "source": [
    "Possiamo stimare l'accuratezza sui nuovi dati con un processo Bernoulliano, per prima cosa ci creiamo una mappa che mi permete di calcolare, data una certa confidenza, il valore di $$Z_{\\alpha/2}$$ "
   ]
  },
  {
   "cell_type": "code",
   "execution_count": 221,
   "id": "04e695cc",
   "metadata": {},
   "outputs": [],
   "source": [
    "Za2_map = {0.99:2.58,0.98:2.33,0.95:1.96,0.90:1.65}"
   ]
  },
  {
   "cell_type": "markdown",
   "id": "4d2cb9a3",
   "metadata": {},
   "source": [
    "Implementiamo la funzione per il calcolo del processso Bernoulliano"
   ]
  },
  {
   "cell_type": "code",
   "execution_count": 222,
   "id": "c3ef9d2f",
   "metadata": {},
   "outputs": [],
   "source": [
    "def bernoulli_process(acc, p_value, N) :\n",
    "    '''this method calculate the interval confidence based on Bernoulli Process'''\n",
    "    Za2 = Za2_map[p_value]\n",
    "    \n",
    "    num = 2*N*acc+Za2**2\n",
    "    sqrt = np.sqrt(Za2**2+4*N*acc-4*N*acc**2)\n",
    "    den = 2*(N+Za2**2)\n",
    "    \n",
    "    return (num - Za2*sqrt) / den, (num + Za2*sqrt) / den"
   ]
  },
  {
   "cell_type": "markdown",
   "id": "3b146aca",
   "metadata": {},
   "source": [
    "Questa sottostante è una cella di test, in particolare si riferisce all'esempio riportato sulla slide 4 del pacco di slide \"ValutazioneModelliDiClassificazione\", per vedere se il metodo implementato funziona correttamente"
   ]
  },
  {
   "cell_type": "code",
   "execution_count": 245,
   "id": "b5274c82",
   "metadata": {},
   "outputs": [
    {
     "name": "stdout",
     "output_type": "stream",
     "text": [
      "0.7111690380734977 0.711 0.01\n",
      "ASSERT OK\n",
      "0.8666340774409012 0.866 0.01\n",
      "ASSERT OK\n",
      "L'accuratezza del modello migliore è :\n",
      "80.00 % ± [71.12 %, 86.66 %]\n"
     ]
    }
   ],
   "source": [
    "accurancy = 0.8\n",
    "N = 100\n",
    "confidence = 0.95\n",
    "p_min, p_max = bernoulli_process(accurancy, confidence, N)\n",
    "verify(p_min, 0.711, 0.01)\n",
    "verify(p_max, 0.866, 0.01)\n",
    "p_min, p_max, accurancy = p_min * 100, p_max * 100, accurancy * 100\n",
    "print(f\"L'accuratezza del modello migliore è :\\n{accurancy:2.2f} % \\u00B1 [{p_min:2.2f} %, {p_max:2.2f} %]\")"
   ]
  },
  {
   "cell_type": "markdown",
   "id": "6b2f5363",
   "metadata": {},
   "source": [
    "Verifichiamo quanto il modello è preciso su dati mai visti "
   ]
  },
  {
   "cell_type": "code",
   "execution_count": 225,
   "id": "388893b6",
   "metadata": {},
   "outputs": [
    {
     "name": "stdout",
     "output_type": "stream",
     "text": [
      "L'accuratezza del modello migliore è :\n",
      "99.93 % ± [99.90 %, 99.95 %]\n"
     ]
    }
   ],
   "source": [
    "accurancy = gs.best_estimator_.score(X_test, y_test)\n",
    "N = X_test.shape[0]\n",
    "confidence = 0.95\n",
    "p_min, p_max = bernoulli_process(accurancy, confidence, N)\n",
    "p_min, p_max, accurancy = p_min * 100, p_max * 100, accurancy * 100\n",
    "print(f\"L'accuratezza del modello migliore è :\\n{accurancy:2.2f} % \\u00B1 [{p_min:2.2f} %, {p_max:2.2f} %]\")"
   ]
  },
  {
   "cell_type": "markdown",
   "id": "a722cced",
   "metadata": {},
   "source": [
    "## 7 - Conclusioni"
   ]
  },
  {
   "cell_type": "markdown",
   "id": "87543b2b",
   "metadata": {},
   "source": [
    "## 8 - Resources\n",
    "Le risorse che ho utilizzato sono le seguenti :\n",
    "i notebook dei laboratori della BBBBB, CC,eee. Tutte le slide di teoria in merito anche per la determinazione dasa\n",
    "Link al dataset di kaggle : https://www.kaggle.com/datasets/rupakroy/online-payments-fraud-detection-dataset"
   ]
  }
 ],
 "metadata": {
  "kernelspec": {
   "display_name": "Python 3 (ipykernel)",
   "language": "python",
   "name": "python3"
  },
  "language_info": {
   "codemirror_mode": {
    "name": "ipython",
    "version": 3
   },
   "file_extension": ".py",
   "mimetype": "text/x-python",
   "name": "python",
   "nbconvert_exporter": "python",
   "pygments_lexer": "ipython3",
   "version": "3.9.7"
  }
 },
 "nbformat": 4,
 "nbformat_minor": 5
}
